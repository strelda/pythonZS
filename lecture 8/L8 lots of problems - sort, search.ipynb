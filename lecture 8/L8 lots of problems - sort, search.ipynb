{
 "cells": [
  {
   "cell_type": "markdown",
   "metadata": {},
   "source": [
    "# Problems"
   ]
  },
  {
   "cell_type": "markdown",
   "metadata": {},
   "source": [
    "---\n",
    "### Find all occurences using binary search\n",
    "Use the binary search from the lecture notes to find all occurences of the number. Here is the docstring:\n",
    "```python\n",
    "def find_all_occurrences(lst: list, searched_num: int) -> list:\n",
    "    \"\"\"Finds all occurrences of the number and returns them as a list.\n",
    "    \n",
    "    Examples:\n",
    "        >>> find_all_occurrences([2,3,5,7,7,8,8,9], 7)\n",
    "        [3, 4]\n",
    "        >>> find_all_occurrences([1,2,3,4,5], 6)\n",
    "        []\n",
    "    \"\"\"\n",
    "```\n",
    "*Hint: You can use the binary search to find the first occurence, and then search the rest of the list from that point to the end.*"
   ]
  },
  {
   "cell_type": "code",
   "execution_count": null,
   "metadata": {},
   "outputs": [
    {
     "data": {
      "text/plain": [
       "TestResults(failed=0, attempted=2)"
      ]
     },
     "metadata": {},
     "output_type": "display_data"
    }
   ],
   "source": [
    "def find_all_occurrences(lst: list, searched_num: int) -> list:\n",
    "    \"\"\"Finds all occurrences of the number and returns them as a list.\n",
    "    \n",
    "    Examples:\n",
    "        >>> find_all_occurrences([2,3,5,7,7,8,8,9], 7)\n",
    "        [3, 4]\n",
    "        >>> find_all_occurrences([1,2,3,4,5], 6)\n",
    "        []\n",
    "    \"\"\"\n",
    "    positions = []\n",
    "    start = 0\n",
    "    while start<len(lst):\n",
    "        # find the leftmost occurence\n",
    "        found = binary_search(lst[start:], searched_num)\n",
    "        # binary search returns None if number is not found\n",
    "        if found is None:\n",
    "            break\n",
    "        # calculate and save the position in the list\n",
    "        position = start + found\n",
    "        positions.append(position)\n",
    "        start = position + 1\n",
    "\n",
    "    return positions"
   ]
  },
  {
   "cell_type": "markdown",
   "metadata": {},
   "source": [
    "---\n",
    "### Bubble sort\n",
    "Sort the list of numbers using the bubble sort algorithm. This means, \"until exists `x[i]>x[i+1]` swap `x[i]` and `x[i+1]`\"."
   ]
  },
  {
   "cell_type": "code",
   "execution_count": null,
   "metadata": {},
   "outputs": [],
   "source": [
    "def bubbleSort(x: list)->list:\n",
    "    \"\"\"Uses bubble sort to sort a list of numbers of a list in ascending order.\n",
    "\n",
    "    Examples:\n",
    "        >>> bubbleSort([31, 41, 59, 26, 53, 58, 97])\n",
    "        [26, 31, 41, 53, 58, 59, 97]\n",
    "        >>> bubbleSort([5, 1, 4, 2, 8])\n",
    "        [1, 2, 4, 5, 8]\n",
    "        >>> bubbleSort([])\n",
    "        []\n",
    "        >>> bubbleSort([9])\n",
    "        [9]\n",
    "    \"\"\"\n",
    "    n = len(x)\n",
    "\n",
    "    for i in range(n):\n",
    "        for j in range(n-1):\n",
    "            if x[j] > x[j+1]:\n",
    "                x[j], x[j+1] = x[j+1], x[j]\n",
    "\n",
    "    return x"
   ]
  },
  {
   "cell_type": "markdown",
   "metadata": {},
   "source": [
    "---\n",
    "### Square root\n",
    "1. Write a function calculating the square root of a number. Assume that it is an integer.\n",
    "*Divide the interval between `0` and the `number` by 2, and check if that is the square root. If not, search in the new interval between the `number//2` and `number`, or `0` and `number//2`.*\n",
    "\n",
    "2. Take care of the problems, such as:\n",
    "- what if the output is not an integer?\n",
    "- what if the input is a negative number? \n",
    "- What if the input is not a number? \n",
    "\n",
    "You can just use print() to show the error message, or if you want to be fancy, you can use the [raise](https://docs.python.org/3/tutorial/errors.html) keyword to raise an error. But that is not needed for now.\n",
    "\n",
    "Here is an outline of the function:\n",
    "```python\n",
    "def sqrt_whole(n: int) -> int | None:\n",
    "    \"\"\"\n",
    "    Calculates the integer square root of a number if it exists.\n",
    "\n",
    "    Returns:\n",
    "        >>> sqrt_whole(100)\n",
    "        10\n",
    "        >>> sqrt_whole(121)\n",
    "        11\n",
    "        >>> sqrt_whole(56)\n",
    "        >>> sqrt_whole(0)\n",
    "        0\n",
    "        >>> sqrt_whole(2**30)   \n",
    "        32768\n",
    "        >>> sqrt_whole(-1)  \n",
    "    \"\"\"\n",
    "```"
   ]
  },
  {
   "cell_type": "code",
   "execution_count": 5,
   "metadata": {},
   "outputs": [],
   "source": [
    "def sqrt_whole(n: int) -> int | None:\n",
    "    \"\"\"\n",
    "    Calculates the integer square root of a number if it exists.\n",
    "\n",
    "    Returns:\n",
    "        >>> sqrt_whole(100)\n",
    "        10\n",
    "        >>> sqrt_whole(121)\n",
    "        11\n",
    "        >>> sqrt_whole(56)\n",
    "        >>> sqrt_whole(0)\n",
    "        0\n",
    "        >>> sqrt_whole(2**30)   \n",
    "        32768\n",
    "        >>> sqrt_whole(-1)  \n",
    "    \"\"\"\n",
    "\n",
    "    if not isinstance(n, int) or n < 0:\n",
    "        return None\n",
    "\n",
    "    # Optimized Binary Search\n",
    "    low, high = 0, n\n",
    "    while low <= high:\n",
    "        mid = (low + high) // 2  \n",
    "        guess_squared = mid * mid       # More efficient than mid**2\n",
    "\n",
    "        if guess_squared == n:\n",
    "            return mid\n",
    "        elif guess_squared < n:\n",
    "            low = mid + 1\n",
    "        else:\n",
    "            high = mid - 1\n",
    "    \n",
    "    # No perfect square root found\n",
    "    return None\n",
    "\n"
   ]
  },
  {
   "cell_type": "markdown",
   "metadata": {},
   "source": [
    "---\n",
    "### Solving non-linear equation\n",
    "Similar algorithm as above can be used for finding the solution to $x=\\cos(x)$ using the binary search.\n",
    "\n",
    "*Function $\\cos$ can be imported as `from math import cos`*"
   ]
  },
  {
   "cell_type": "code",
   "execution_count": 2,
   "metadata": {},
   "outputs": [],
   "source": [
    "from math import cos\n",
    "\n",
    "def solveCos(x: float) -> float:\n",
    "    \"\"\"\n",
    "    Finds an approximate solution to the equation x - cos(x) = 0 using the bisection method.\n",
    "    The solution lies within the interval [0, 1].\n",
    "\n",
    "    Args:\n",
    "        x (float): An initial guess within the interval [0, 1].\n",
    "\n",
    "    Returns:\n",
    "        float: An approximate solution to the equation.\n",
    "\n",
    "    Raises:\n",
    "        ValueError: If the input `x` is not within the interval [0, 1].\n",
    "\n",
    "    Examples:\n",
    "        >>> solveCos(0.5) # doctest: +ELLIPSIS\n",
    "        0.739...\n",
    "        >>> solveCos(0.2) # doctest: +ELLIPSIS\n",
    "        0.739...\n",
    "    \"\"\"\n",
    "    # left and right boundaries of the search interval\n",
    "    l = 0\n",
    "    r = 1\n",
    "\n",
    "    # until the interval is small enough, we search for the root of \n",
    "    while r-l > 1e-10:\n",
    "        mid = (l+r) / 2\n",
    "        if mid-cos(mid) < 0:\n",
    "            l = mid\n",
    "        else:\n",
    "            r = mid\n",
    "    return mid"
   ]
  }
 ],
 "metadata": {
  "kernelspec": {
   "display_name": "Python 3",
   "language": "python",
   "name": "python3"
  },
  "language_info": {
   "codemirror_mode": {
    "name": "ipython",
    "version": 3
   },
   "file_extension": ".py",
   "mimetype": "text/x-python",
   "name": "python",
   "nbconvert_exporter": "python",
   "pygments_lexer": "ipython3",
   "version": "3.11.9"
  }
 },
 "nbformat": 4,
 "nbformat_minor": 2
}
