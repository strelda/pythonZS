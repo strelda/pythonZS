{
 "cells": [
  {
   "cell_type": "markdown",
   "metadata": {},
   "source": [
    "# Sort and search\n",
    "\n",
    "<div class=\"alert alert-info\">\n",
    "Searching of a list has a linear complexity, but sorting is numerically more difficult. Even though when we know the list will be searched repeatedly, it is worth sorting it first. The complexities are as follows:\n",
    "</div>\n",
    "\n",
    "<table>\n",
    "  <tr>\n",
    "    <th>Operation</th> <th>Complexity</th>\n",
    "  </tr>\n",
    "  <tr>\n",
    "    <td>Searching a list</td> <td>O(n)</td>\n",
    "  </tr>\n",
    "  <tr>\n",
    "    <td>Sorting a list</td> <td>O(n log n)</td>\n",
    "  </tr>\n",
    "  <tr>\n",
    "    <td>Searching a sorted list</td> <td>O(log n)</td>\n",
    "  </tr>\n",
    "</table>\n",
    "\n",
    "\n",
    "Python has a build-in function `sorted()` that can sort a list of strings in lexicographical order."
   ]
  },
  {
   "cell_type": "code",
   "execution_count": 8,
   "metadata": {},
   "outputs": [
    {
     "data": {
      "text/plain": [
       "[-12, -4, 2.3, 5]"
      ]
     },
     "execution_count": 8,
     "metadata": {},
     "output_type": "execute_result"
    }
   ],
   "source": [
    "sorted([-4,-12,2.3,5])"
   ]
  },
  {
   "cell_type": "code",
   "execution_count": 6,
   "metadata": {},
   "outputs": [
    {
     "data": {
      "text/plain": [
       "['apple', 'banana', 'mango']"
      ]
     },
     "execution_count": 6,
     "metadata": {},
     "output_type": "execute_result"
    }
   ],
   "source": [
    "sorted([\"banana\", \"apple\", \"mango\"])"
   ]
  },
  {
   "cell_type": "markdown",
   "metadata": {},
   "source": [
    "# Algorithms"
   ]
  },
  {
   "cell_type": "markdown",
   "metadata": {},
   "source": [
    "---\n",
    "### Sort with repeated selection of the minimum\n",
    "Selection sort works by repeatedly selecting the minimum element from the unsorted portion and placing it at the beginning of the list."
   ]
  },
  {
   "cell_type": "code",
   "execution_count": 2,
   "metadata": {},
   "outputs": [],
   "source": [
    "def selection_sort(lst: list) -> list:\n",
    "    \"\"\"\n",
    "    Sorts a list of numbers using the selection sort algorithm.\n",
    "\n",
    "    Returns:\n",
    "        The sorted list of numbers.\n",
    "    \"\"\"\n",
    "    length = len(lst)\n",
    "    for i in range(length):\n",
    "        pmin = i\n",
    "        # find the minimum between i-th index to the end\n",
    "        for j in range(i + 1, length):\n",
    "            if lst[j] < lst[pmin]:\n",
    "                pmin = j\n",
    "        # put the minimum to the i-th position\n",
    "        lst[i], lst[pmin] = lst[pmin], lst[i]\n",
    "\n",
    "    return lst"
   ]
  },
  {
   "cell_type": "code",
   "execution_count": 9,
   "metadata": {},
   "outputs": [
    {
     "data": {
      "text/plain": [
       "[-5, 1, 4, 4, 7, 21]"
      ]
     },
     "execution_count": 9,
     "metadata": {},
     "output_type": "execute_result"
    }
   ],
   "source": [
    "selection_sort([4, 7, 21, 1, 4, -5])"
   ]
  },
  {
   "cell_type": "markdown",
   "metadata": {},
   "source": [
    "---\n",
    "### Binary search\n",
    "\n",
    "Binary search is an algorithm used for effitient localization of a target value within a **sorted** collection of elements. It works by repeatedly dividing the search interval in half until the target value is found or the interval is empty."
   ]
  },
  {
   "cell_type": "code",
   "execution_count": 2,
   "metadata": {},
   "outputs": [],
   "source": [
    "def binary_search(sorted_list: list, target: int):\n",
    "    \"\"\"\n",
    "    Perform binary search to find the position of the target number in a sorted list.\n",
    "\n",
    "    Args:\n",
    "        sorted_list: A sorted list of integers to search within.\n",
    "        target: The number to search for within the list.\n",
    "\n",
    "    Returns:\n",
    "        The position of the target number in the list, if found. None if the target is not in the list.\n",
    "    \"\"\"\n",
    "    l = 0\n",
    "    r = len(sorted_list) - 1\n",
    "\n",
    "    while l <= r:\n",
    "        mid = (l + r) // 2\n",
    "        if sorted_list[mid] == target:\n",
    "            return mid\n",
    "        elif sorted_list[mid] < target:\n",
    "            l = mid + 1\n",
    "        else:\n",
    "            r = mid - 1\n",
    "\n",
    "    return None"
   ]
  },
  {
   "cell_type": "code",
   "execution_count": 3,
   "metadata": {},
   "outputs": [
    {
     "name": "stdout",
     "output_type": "stream",
     "text": [
      "Found at position 3.\n"
     ]
    }
   ],
   "source": [
    "# run the function with some sauce around\n",
    "sorted_list = [2,3,5,7,7,8,8,9]\n",
    "searched_num = 7\n",
    "\n",
    "result = binary_search(sorted_list, searched_num)\n",
    "if result is not None:\n",
    "    print(f\"Found at position {result}.\")\n",
    "else:\n",
    "    print(\"Nothing found in the list.\")"
   ]
  }
 ],
 "metadata": {
  "kernelspec": {
   "display_name": "Python 3",
   "language": "python",
   "name": "python3"
  },
  "language_info": {
   "codemirror_mode": {
    "name": "ipython",
    "version": 3
   },
   "file_extension": ".py",
   "mimetype": "text/x-python",
   "name": "python",
   "nbconvert_exporter": "python",
   "pygments_lexer": "ipython3",
   "version": "3.11.9"
  }
 },
 "nbformat": 4,
 "nbformat_minor": 2
}
