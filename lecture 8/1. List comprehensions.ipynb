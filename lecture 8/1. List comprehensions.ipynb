{
 "cells": [
  {
   "cell_type": "markdown",
   "metadata": {},
   "source": [
    "# List comprehensions\n",
    "List comprehensions are a more compact way of iterating over lists, resembling mathematical notation $\\{x|x\\in \\N \\wedge x<5<44\\}$. The basic syntax is \n",
    "```python\n",
    "[expression for item in iterable]\n",
    "```"
   ]
  },
  {
   "cell_type": "code",
   "execution_count": 13,
   "metadata": {},
   "outputs": [
    {
     "data": {
      "text/plain": [
       "[5, 7, 9, 11, 13]"
      ]
     },
     "execution_count": 13,
     "metadata": {},
     "output_type": "execute_result"
    }
   ],
   "source": [
    "iters = [1,3,5,7,9]\n",
    "[i+4 for i in iters]"
   ]
  },
  {
   "cell_type": "markdown",
   "metadata": {},
   "source": [
    "This can be extended by an optional condition:\n",
    "```python\n",
    "[expression for item in iterable if condition]\n",
    "```\n"
   ]
  },
  {
   "cell_type": "code",
   "execution_count": 14,
   "metadata": {},
   "outputs": [
    {
     "data": {
      "text/plain": [
       "[3, 9]"
      ]
     },
     "execution_count": 14,
     "metadata": {},
     "output_type": "execute_result"
    }
   ],
   "source": [
    "[i for i in iters if i%3==0]"
   ]
  },
  {
   "cell_type": "markdown",
   "metadata": {},
   "source": [
    "Both iteration and condition can be nested:\n",
    "```python\n",
    "[expression for item1 in iterable1 for item2 in iterable2 ... if condition1 if condition2 ...]\n",
    "```"
   ]
  },
  {
   "cell_type": "code",
   "execution_count": 23,
   "metadata": {},
   "outputs": [
    {
     "data": {
      "text/plain": [
       "['01', '03', '21', '23', '41', '43']"
      ]
     },
     "execution_count": 23,
     "metadata": {},
     "output_type": "execute_result"
    }
   ],
   "source": [
    "[str(a)+str(b) for a in range(5) for b in range(5) if a%2==0 if b%2==1] # second list is iterated over the first element of iters, then over its second element, etc."
   ]
  },
  {
   "cell_type": "markdown",
   "metadata": {},
   "source": [
    "Here, most programmers would rather write `if a%2==0 and b%2==1`.\n",
    "\n",
    "We can even have a list comprehension inside another one. This creates a matrix."
   ]
  },
  {
   "cell_type": "code",
   "execution_count": 18,
   "metadata": {},
   "outputs": [
    {
     "data": {
      "text/plain": [
       "[[0, 0, 0, 0, 0], [0, 1, 2, 3, 4], [0, 2, 4, 6, 8]]"
      ]
     },
     "execution_count": 18,
     "metadata": {},
     "output_type": "execute_result"
    }
   ],
   "source": [
    "[[a*b for a in range(5)] for b in range(3)]"
   ]
  },
  {
   "cell_type": "markdown",
   "metadata": {},
   "source": [
    "<div class=\"alert alert-block alert-warning\">\n",
    "Python first generates all elements and then removes those which do not satisfy the condition. This is called <b>filtering</b> and can get really inefficient if the list is long and the number of elements removed is small.\n",
    "</div>"
   ]
  },
  {
   "cell_type": "markdown",
   "metadata": {},
   "source": [
    "---\n",
    "### Examples"
   ]
  },
  {
   "cell_type": "code",
   "execution_count": null,
   "metadata": {},
   "outputs": [],
   "source": [
    "nums = [int(n) for n in input().split()] # fast way to input numbers as 3 4 5 6 and make a list of integers [3,4,5,6]\n",
    "print(nums)"
   ]
  },
  {
   "cell_type": "markdown",
   "metadata": {},
   "source": [
    "Remember the problematic example `matrix = [[1]*5]*3` creating 3 references to the same list of 5 ones. Changing one row of such a matrix resulted in changing all other rows. This can be easily avoided using list comprehensions:"
   ]
  },
  {
   "cell_type": "code",
   "execution_count": null,
   "metadata": {},
   "outputs": [],
   "source": [
    "matrix = [[1]*5 for _ in range(3)] # creates a matrix of 3 rows and 5 columns\n",
    "matrix[0][1] = 55\n",
    "print(matrix)"
   ]
  },
  {
   "cell_type": "markdown",
   "metadata": {},
   "source": [
    "#### Matrix transposition"
   ]
  },
  {
   "cell_type": "code",
   "execution_count": null,
   "metadata": {},
   "outputs": [],
   "source": [
    "[[row[col] for row in matrix] for col in range(len(matrix[0]))] # iterate the inner number over the "
   ]
  },
  {
   "cell_type": "markdown",
   "metadata": {},
   "source": [
    "---\n",
    "### Aggregation functions"
   ]
  },
  {
   "cell_type": "code",
   "execution_count": 26,
   "metadata": {},
   "outputs": [
    {
     "name": "stdout",
     "output_type": "stream",
     "text": [
      "True\n",
      "True\n",
      "['a', 'b', 'c', 'd', 'e', 'q']\n",
      "True\n",
      "True\n"
     ]
    }
   ],
   "source": [
    "print(all([True, True, True])) # returns True if all elements are True\n",
    "print(any([False, False, True])) # returns True if any elements is True\n",
    "\n",
    "letters = [\"d\", \"a\", \"b\", \"c\", \"q\", \"e\"]\n",
    "print(sorted(letters))\n",
    "print(all([i < \"z\" for i in letters]))\n",
    "print(any([i == \"e\" for i in letters]))"
   ]
  },
  {
   "cell_type": "code",
   "execution_count": 27,
   "metadata": {},
   "outputs": [
    {
     "name": "stdout",
     "output_type": "stream",
     "text": [
      "32.46269143881017\n",
      "213.12892042754385\n",
      "47630.35533460199\n",
      "119.07588833650493\n",
      "120.63842729567482\n",
      "126.05633449262474\n"
     ]
    }
   ],
   "source": [
    "from random import randint\n",
    "# random gaussian\n",
    "from statistics import mean, median, mode\n",
    "from random import gauss\n",
    "\n",
    "data = [gauss(120,30) for a in range(400)]\n",
    "print(min(data))\n",
    "print(max(data))\n",
    "print(sum(data))\n",
    "\n",
    "print(mean(data))\n",
    "print(median(data))\n",
    "print(mode(data))"
   ]
  },
  {
   "cell_type": "code",
   "execution_count": 29,
   "metadata": {},
   "outputs": [
    {
     "name": "stdout",
     "output_type": "stream",
     "text": [
      "\n",
      "\n",
      "\n",
      "#\n",
      "#\n",
      "#########\n",
      "##\n",
      "##############\n",
      "##########################\n",
      "################################\n",
      "##########################################\n",
      "##########################################\n",
      "#######################################################\n",
      "#################################################\n",
      "##########################################################\n",
      "################################\n",
      "#################\n",
      "########\n",
      "######\n",
      "###\n",
      "#\n",
      "##\n",
      "\n"
     ]
    }
   ],
   "source": [
    "# function round(n,k) rounds n to k decimal places, using k=-1 to nearest 10, k=-2 to the nearest 100, etc.\n",
    "data_rounded = [None]*len(data)\n",
    "\n",
    "for d in range(len(data)):\n",
    "    data_rounded[d] = round(data[d],-1)\n",
    "\n",
    "for i in range(0,230,10):\n",
    "    print('#' * data_rounded.count(i))"
   ]
  },
  {
   "cell_type": "markdown",
   "metadata": {},
   "source": [
    "This can be equivalently written as:"
   ]
  },
  {
   "cell_type": "code",
   "execution_count": 30,
   "metadata": {},
   "outputs": [
    {
     "name": "stdout",
     "output_type": "stream",
     "text": [
      "\n",
      "\n",
      "\n",
      "#\n",
      "#\n",
      "#########\n",
      "##\n",
      "##############\n",
      "##########################\n",
      "################################\n",
      "##########################################\n",
      "##########################################\n",
      "#######################################################\n",
      "#################################################\n",
      "##########################################################\n",
      "################################\n",
      "#################\n",
      "########\n",
      "######\n",
      "###\n",
      "#\n",
      "##\n",
      "\n"
     ]
    }
   ],
   "source": [
    "data_rounded = [round(n,-1) for n in data] \n",
    "hist = [print('#' * data_rounded.count(i)) for i in range(0,230,10)]  # hist now contains list of None, because print() returns None"
   ]
  },
  {
   "cell_type": "markdown",
   "metadata": {},
   "source": [
    "---\n",
    "## Controlling memory usage\n",
    "\n",
    "List comprehension generate the whole list at once. This can be a problem if the list is very long."
   ]
  },
  {
   "cell_type": "code",
   "execution_count": 79,
   "metadata": {},
   "outputs": [],
   "source": [
    "from random import randint\n",
    "\n",
    "numbers = [randint(1,100) for _ in range(int(1e6))]"
   ]
  },
  {
   "cell_type": "markdown",
   "metadata": {},
   "source": [
    "List comprehension vs generator expression:"
   ]
  },
  {
   "cell_type": "code",
   "execution_count": 132,
   "metadata": {},
   "outputs": [
    {
     "name": "stdout",
     "output_type": "stream",
     "text": [
      "39.4 ms ± 556 µs per loop (mean ± std. dev. of 7 runs, 10 loops each)\n",
      "257 ns ± 6.06 ns per loop (mean ± std. dev. of 7 runs, 1,000,000 loops each)\n"
     ]
    }
   ],
   "source": [
    "%timeit [x*x for x in numbers]\n",
    "%timeit (x*x for x in numbers)"
   ]
  },
  {
   "cell_type": "code",
   "execution_count": 133,
   "metadata": {},
   "outputs": [],
   "source": [
    "squares = [x*x for x in numbers]\n",
    "squares_gen = (x*x for x in numbers)\n"
   ]
  },
  {
   "cell_type": "code",
   "execution_count": 134,
   "metadata": {},
   "outputs": [
    {
     "name": "stdout",
     "output_type": "stream",
     "text": [
      "4.33 ms ± 98.2 µs per loop (mean ± std. dev. of 7 runs, 100 loops each)\n",
      "33.8 ns ± 0.0931 ns per loop (mean ± std. dev. of 7 runs, 10,000,000 loops each)\n"
     ]
    }
   ],
   "source": [
    "%timeit sum(squares)\n",
    "%timeit sum(squares_gen)"
   ]
  },
  {
   "cell_type": "code",
   "execution_count": 139,
   "metadata": {},
   "outputs": [],
   "source": [
    "import tracemalloc\n",
    "from typing import Generator\n",
    "\n",
    "def calculate_squares(generator: bool) -> list[int]|Generator[int, None, None]:\n",
    "    \"\"\"Generates either a list of squares of random numbers, or generator expression.\"\"\"\n",
    "    max = int(1e6)\n",
    "\n",
    "    if generator:\n",
    "        numbers = (randint(1, 100) for _ in range(max))\n",
    "        return (x*x for x in numbers)\n",
    "    else:\n",
    "        numbers = [randint(1, 100) for _ in range(max)]\n",
    "        return [x*x for x in numbers]\n",
    "\n",
    "def measure(generator: bool) -> str:\n",
    "    \"\"\"Measure the used memory and timing to compare list comprehension and generator.\"\"\"\n",
    "    tracemalloc.start()\n",
    "    calculate_squares(generator)\n",
    "\n",
    "    current, peak = tracemalloc.get_traced_memory()\n",
    "    tracemalloc.stop()\n",
    "\n",
    "    print(f\"Generator: {generator}\")\n",
    "    print(f\"Current memory usage: {current / 10**6:.4f} MB\")\n",
    "    print(f\"Peak memory usage: {peak / 10**6:.4f} MB\")\n",
    "    print(\"-\" * 40)"
   ]
  },
  {
   "cell_type": "code",
   "execution_count": 140,
   "metadata": {},
   "outputs": [
    {
     "name": "stdout",
     "output_type": "stream",
     "text": [
      "Generator: True\n",
      "Current memory usage: 0.0000 MB\n",
      "Peak memory usage: 0.0011 MB\n",
      "----------------------------------------\n",
      "Generator: False\n",
      "Current memory usage: 0.0022 MB\n",
      "Peak memory usage: 43.7936 MB\n",
      "----------------------------------------\n"
     ]
    }
   ],
   "source": [
    "measure(True)\n",
    "measure(False)"
   ]
  }
 ],
 "metadata": {
  "kernelspec": {
   "display_name": "Python 3",
   "language": "python",
   "name": "python3"
  },
  "language_info": {
   "codemirror_mode": {
    "name": "ipython",
    "version": 3
   },
   "file_extension": ".py",
   "mimetype": "text/x-python",
   "name": "python",
   "nbconvert_exporter": "python",
   "pygments_lexer": "ipython3",
   "version": "3.11.9"
  }
 },
 "nbformat": 4,
 "nbformat_minor": 2
}
