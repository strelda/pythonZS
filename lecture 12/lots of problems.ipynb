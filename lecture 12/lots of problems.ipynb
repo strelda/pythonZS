{
 "cells": [
  {
   "cell_type": "markdown",
   "metadata": {},
   "source": [
    "# Problems"
   ]
  },
  {
   "cell_type": "markdown",
   "metadata": {},
   "source": [
    "<div class=\"alert alert-block alert-info\"> Can you solve the previous problems effectively, if you have some upper bound for the numbers in the list? Lets say, the numbers are between 0 and 100. </div>\n",
    "\n",
    "\n"
   ]
  },
  {
   "cell_type": "markdown",
   "metadata": {},
   "source": [
    "---\n",
    "### Matrix multiplication\n",
    "1. Design a function that takes two matrices as input and returns the product of the two matrices.\n",
    "2. Handle the case when the matrices are not compatible for multiplication.\n",
    "\n",
    "Here is the docstring:\n",
    "```python\n",
    "def matrix_multiplication(matrix1: list, matrix2: list)->list:\n",
    "    \"\"\"Multiplies two matrices.\n",
    "\n",
    "    Args:\n",
    "      matrix1: The first matrix.\n",
    "      matrix2: The second matrix.\n",
    "  \n",
    "    Returns:\n",
    "      The product of the two matrices, or None if the matrices are not compatible.\n",
    "  \n",
    "      Examples:\n",
    "      >>> matrix1 = [[1, 2], [3, 4]]\n",
    "      >>> matrix2 = [[5, 6], [7, 8]]\n",
    "      >>> matrix_multiplication(matrix1, matrix2)\n",
    "      [[19, 22], [43, 50]]\n",
    "      >>> matrix1 = [[1, 2]]\n",
    "      >>> matrix2 = [[3], [4]]\n",
    "      >>> matrix_multiplication(matrix1, matrix2)\n",
    "      [[11]]\n",
    "      >>> matrix1 = [[1, 2]]\n",
    "      >>> matrix2 = [[3, 4, 5]]\n",
    "      >>> matrix_multiplication(matrix1, matrix2) is None\n",
    "      True\n",
    "      \"\"\"\n",
    "```"
   ]
  },
  {
   "cell_type": "code",
   "execution_count": null,
   "metadata": {},
   "outputs": [
    {
     "data": {
      "text/plain": [
       "TestResults(failed=0, attempted=12)"
      ]
     },
     "metadata": {},
     "output_type": "display_data"
    }
   ],
   "source": [
    "def matrix_multiplication(matrix1: list, matrix2: list)->list:\n",
    "    \"\"\"Multiplies two matrices.\n",
    "\n",
    "    Args:\n",
    "        matrix1: The first matrix.\n",
    "        matrix2: The second matrix.\n",
    "\n",
    "    Returns:\n",
    "        The product of the two matrices, or None if the matrices are not compatible.\n",
    "\n",
    "    Examples:\n",
    "        >>> matrix1 = [[1, 2], [3, 4]]\n",
    "        >>> matrix2 = [[5, 6], [7, 8]]\n",
    "        >>> matrix_multiplication(matrix1, matrix2)\n",
    "        [[19, 22], [43, 50]]\n",
    "        >>> matrix1 = [[1, 2]]\n",
    "        >>> matrix2 = [[3], [4]]\n",
    "        >>> matrix_multiplication(matrix1, matrix2)\n",
    "        [[11]]\n",
    "        >>> matrix1 = [[1, 2]]\n",
    "        >>> matrix2 = [[3, 4, 5]]\n",
    "        >>> matrix_multiplication(matrix1, matrix2) is None\n",
    "        True\n",
    "    \"\"\"\n",
    "\n",
    "    rows1 = len(matrix1)\n",
    "    cols1 = len(matrix1[0])\n",
    "    rows2 = len(matrix2)\n",
    "    cols2 = len(matrix2[0])\n",
    "\n",
    "    if cols1 != rows2:\n",
    "        return None\n",
    "\n",
    "    result = []\n",
    "    for i in range(rows1):\n",
    "        row = []\n",
    "        for j in range(cols2):\n",
    "            row.append(0)\n",
    "        result.append(row)\n",
    "\n",
    "    for i in range(rows1):\n",
    "        for j in range(cols2):\n",
    "            for k in range(cols1):\n",
    "                result[i][j] += matrix1[i][k] * matrix2[k][j]\n",
    "\n",
    "    return result\n",
    "\n",
    "import doctest\n",
    "doctest.testmod()"
   ]
  },
  {
   "cell_type": "markdown",
   "metadata": {},
   "source": [
    "---\n",
    "### Intersection of two lines\n",
    "You have one line defined by `(x,y)` coordinates\n",
    "```python\n",
    "x = [1., 1.4, 1.8, 2.2, 2.6, 3., 3.4, 3.8, 4.2, 4.6, 5., 5.4, 5.8, 6.2, 6.6, 7., 7.4, 7.8, 8.2, 8.6, 9., 9.4, 9.8]\n",
    "y = [-0.841471, -0.665617, -0.34862, 0.0936319, 0.634574, 1.2311, 1.82778, 2.36535, 2.79036, 3.06415, 3.16933, 3.11296, 2.92571, 2.65732, \\\n",
    "2.3689, 2.12352, 1.97637, 1.96615, 2.10909, 2.3965, 2.79614, 3.25744, 3.71954]\n",
    "```\n",
    "find all approximate intersections of this function with a some line, lets say $y = 0.2x$."
   ]
  }
 ],
 "metadata": {
  "kernelspec": {
   "display_name": "Python 3",
   "language": "python",
   "name": "python3"
  },
  "language_info": {
   "codemirror_mode": {
    "name": "ipython",
    "version": 3
   },
   "file_extension": ".py",
   "mimetype": "text/x-python",
   "name": "python",
   "nbconvert_exporter": "python",
   "pygments_lexer": "ipython3",
   "version": "3.11.6"
  }
 },
 "nbformat": 4,
 "nbformat_minor": 2
}
