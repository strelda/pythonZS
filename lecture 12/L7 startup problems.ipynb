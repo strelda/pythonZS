{
 "cells": [
  {
   "cell_type": "code",
   "execution_count": 2,
   "metadata": {},
   "outputs": [
    {
     "name": "stdout",
     "output_type": "stream",
     "text": [
      "6\n"
     ]
    }
   ],
   "source": [
    "l = ['2','+','3',\"+\",\"5\",\"-\",\"4\"]\n",
    "\n",
    "total = int(l[0])\n",
    "\n",
    "for i in range(1,len(l),2):\n",
    "    if l[i]=='+':\n",
    "        total+=int(l[i+1])\n",
    "    else:\n",
    "        total-=int(l[i+1])\n",
    "print(total)"
   ]
  },
  {
   "cell_type": "code",
   "execution_count": 3,
   "metadata": {},
   "outputs": [
    {
     "data": {
      "text/plain": [
       "126"
      ]
     },
     "execution_count": 3,
     "metadata": {},
     "output_type": "execute_result"
    }
   ],
   "source": [
    "def evaluate_minus(s: str) -> int:\n",
    "    \"\"\"Returns result of expression with minuses.\"\"\"\n",
    "    arr = s.split('-')\n",
    "\n",
    "    subtracted = int(arr[0])\n",
    "    for i in range(1,len(arr)):\n",
    "        subtracted -= int(arr[i])\n",
    "\n",
    "    return subtracted\n",
    "\n",
    "def evaluate(s: str) -> int:\n",
    "    \"\"\"Returns result of expression.\"\"\"\n",
    "    arr = s.split('+')\n",
    "    \n",
    "    sum = 0\n",
    "    for i in arr:\n",
    "        sum += evaluate_minus(i)\n",
    "    \n",
    "    return sum\n",
    "\n",
    "evaluate('2+3+5-4-1+5-6-1+12+111')"
   ]
  }
 ],
 "metadata": {
  "kernelspec": {
   "display_name": "base",
   "language": "python",
   "name": "python3"
  },
  "language_info": {
   "codemirror_mode": {
    "name": "ipython",
    "version": 3
   },
   "file_extension": ".py",
   "mimetype": "text/x-python",
   "name": "python",
   "nbconvert_exporter": "python",
   "pygments_lexer": "ipython3",
   "version": "3.11.4"
  }
 },
 "nbformat": 4,
 "nbformat_minor": 2
}
