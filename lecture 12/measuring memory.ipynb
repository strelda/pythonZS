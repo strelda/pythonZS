{
 "cells": [
  {
   "cell_type": "markdown",
   "metadata": {},
   "source": [
    "---\n",
    "## Controlling memory usage\n",
    "\n",
    "List comprehension generate the whole list at once. This can be a problem if the list is very long."
   ]
  },
  {
   "cell_type": "code",
   "execution_count": 1,
   "metadata": {},
   "outputs": [],
   "source": [
    "from random import randint\n",
    "numbers = [randint(1,100) for _ in range(int(1e6))]"
   ]
  },
  {
   "cell_type": "markdown",
   "metadata": {},
   "source": [
    "List comprehension vs generator expression:"
   ]
  },
  {
   "cell_type": "code",
   "execution_count": 2,
   "metadata": {},
   "outputs": [
    {
     "name": "stdout",
     "output_type": "stream",
     "text": [
      "45.4 ms ± 1.47 ms per loop (mean ± std. dev. of 7 runs, 10 loops each)\n",
      "255 ns ± 6.59 ns per loop (mean ± std. dev. of 7 runs, 1,000,000 loops each)\n"
     ]
    }
   ],
   "source": [
    "%timeit [x*x for x in numbers]\n",
    "%timeit (x*x for x in numbers)"
   ]
  },
  {
   "cell_type": "code",
   "execution_count": 3,
   "metadata": {},
   "outputs": [
    {
     "name": "stdout",
     "output_type": "stream",
     "text": [
      "5.68 ms ± 188 µs per loop (mean ± std. dev. of 7 runs, 100 loops each)\n",
      "42.8 ns ± 0.939 ns per loop (mean ± std. dev. of 7 runs, 10,000,000 loops each)\n"
     ]
    }
   ],
   "source": [
    "squares = [x*x for x in numbers]\n",
    "squares_gen = (x*x for x in numbers)\n",
    "\n",
    "%timeit sum(squares)\n",
    "%timeit sum(squares_gen)"
   ]
  },
  {
   "cell_type": "code",
   "execution_count": 4,
   "metadata": {},
   "outputs": [
    {
     "name": "stdout",
     "output_type": "stream",
     "text": [
      "Generator: True\n",
      "Current memory usage: 0.0000 MB\n",
      "Peak memory usage: 0.0011 MB\n",
      "----------------------------------------\n",
      "Generator: False\n",
      "Current memory usage: 0.0011 MB\n",
      "Peak memory usage: 43.7922 MB\n",
      "----------------------------------------\n"
     ]
    }
   ],
   "source": [
    "import tracemalloc\n",
    "from typing import Generator\n",
    "\n",
    "def calculate_squares(generator: bool) -> list[int]|Generator[int, None, None]:\n",
    "    \"\"\"Generates either a list of squares of random numbers, or generator expression.\"\"\"\n",
    "    max = int(1e6)\n",
    "\n",
    "    if generator:\n",
    "        numbers = (randint(1, 100) for _ in range(max))\n",
    "        return (x*x for x in numbers)\n",
    "    else:\n",
    "        numbers = [randint(1, 100) for _ in range(max)]\n",
    "        return [x*x for x in numbers]\n",
    "\n",
    "def measure(generator: bool) -> str:\n",
    "    \"\"\"Measure the used memory and timing to compare list comprehension and generator.\"\"\"\n",
    "    tracemalloc.start()\n",
    "    calculate_squares(generator)\n",
    "\n",
    "    current, peak = tracemalloc.get_traced_memory()\n",
    "    tracemalloc.stop()\n",
    "\n",
    "    print(f\"Generator: {generator}\")\n",
    "    print(f\"Current memory usage: {current / 10**6:.4f} MB\")\n",
    "    print(f\"Peak memory usage: {peak / 10**6:.4f} MB\")\n",
    "    print(\"-\" * 40)\n",
    "measure(True)\n",
    "measure(False)"
   ]
  }
 ],
 "metadata": {
  "kernelspec": {
   "display_name": "base",
   "language": "python",
   "name": "python3"
  },
  "language_info": {
   "codemirror_mode": {
    "name": "ipython",
    "version": 3
   },
   "file_extension": ".py",
   "mimetype": "text/x-python",
   "name": "python",
   "nbconvert_exporter": "python",
   "pygments_lexer": "ipython3",
   "version": "3.11.4"
  }
 },
 "nbformat": 4,
 "nbformat_minor": 2
}
