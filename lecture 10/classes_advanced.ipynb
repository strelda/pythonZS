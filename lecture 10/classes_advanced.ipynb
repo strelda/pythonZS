{
 "cells": [
  {
   "attachments": {},
   "cell_type": "markdown",
   "metadata": {},
   "source": [
    "# Class vs. class instance\n",
    "In the further code, we define the `class` *Lizard* and a `class instance` liz1.\n",
    "The class *lizard* has \n",
    "- two **attributes**: *kingdom, phylum*,\n",
    "- one **special (magical) method** `__init__()`,\n",
    "- one **method**: `show()`."
   ]
  },
  {
   "cell_type": "code",
   "execution_count": 19,
   "metadata": {},
   "outputs": [
    {
     "name": "stdout",
     "output_type": "stream",
     "text": [
      "kingdom: Animalia\n",
      "phylum:  Chordata\n",
      "name:    Tad Cooper\n",
      "length:  0.5 m\n",
      "\n"
     ]
    }
   ],
   "source": [
    "class Lizard():\n",
    "    kingdom = \"Animalia\"\n",
    "    phylum = \"Chordata\"\n",
    "\n",
    "    def __init__(self, name: str, length: float):\n",
    "        self.name = name\n",
    "        self.length = length\n",
    "\n",
    "    def __repr__(self):\n",
    "        return (\n",
    "            f\"{'kingdom:':8} {self.kingdom}\\n\"\n",
    "            f\"{'phylum:':8} {self.phylum}\\n\"\n",
    "            f\"{'name:':8} {self.name}\\n\"\n",
    "            f\"{'length:':8} {self.length} m\\n\"\n",
    "        )\n",
    "\n",
    "liz1 = Lizard(\"Tad Cooper\", 0.5)\n",
    "print(liz1)"
   ]
  },
  {
   "attachments": {},
   "cell_type": "markdown",
   "metadata": {},
   "source": [
    "The difference between `class` and `class instance` is important here:\n",
    "- `Lizard` has attributes: **Animalia, Chordata**\n",
    "- `liz1` inherits attributes: **Animalia, Chordata** + has its own attributes: **name, length**"
   ]
  },
  {
   "cell_type": "code",
   "execution_count": 20,
   "metadata": {},
   "outputs": [
    {
     "name": "stdout",
     "output_type": "stream",
     "text": [
      "True\n",
      "False\n",
      "True\n",
      "True\n"
     ]
    }
   ],
   "source": [
    "# class attributes\n",
    "print(hasattr(Lizard, 'kingdom'))\n",
    "print(hasattr(Lizard, 'length'))\n",
    "\n",
    "# class instance attributes\n",
    "print(hasattr(liz1, 'kingdom')) \n",
    "print(hasattr(liz1, 'length')) "
   ]
  },
  {
   "attachments": {},
   "cell_type": "markdown",
   "metadata": {},
   "source": [
    "If something has attribute, we can access it using `getattr()` function. That is equivalent to `liz1.length`."
   ]
  },
  {
   "cell_type": "code",
   "execution_count": 21,
   "metadata": {},
   "outputs": [
    {
     "name": "stdout",
     "output_type": "stream",
     "text": [
      "0.5\n",
      "Animalia\n"
     ]
    }
   ],
   "source": [
    "print(getattr(liz1, 'length'))\n",
    "print(getattr(Lizard, 'kingdom'))"
   ]
  },
  {
   "cell_type": "markdown",
   "metadata": {},
   "source": [
    "Analogically we can set attribute using `setattr()` function. That is equivalent to `liz1.length = 10`."
   ]
  },
  {
   "cell_type": "code",
   "execution_count": 22,
   "metadata": {},
   "outputs": [
    {
     "name": "stdout",
     "output_type": "stream",
     "text": [
      "kingdom: Animalia\n",
      "phylum:  Chordata\n",
      "name:    Tad Cooper\n",
      "length:  0.5 m\n",
      "\n",
      "kingdom: 0.7\n",
      "phylum:  Chordata\n",
      "name:    Tad Cooper\n",
      "length:  0.5 m\n",
      "\n"
     ]
    }
   ],
   "source": [
    "print(liz1)\n",
    "setattr(Lizard, 'kingdom', 0.7)\n",
    "print(liz1)"
   ]
  },
  {
   "attachments": {},
   "cell_type": "markdown",
   "metadata": {},
   "source": [
    "Now we can delete the *name attribute* of the `liz1` instance, but notice the error when deleting the *kingdom attribute*. The reason is above: the class instance has no attribute of *kingdom*. It belongs to the class only."
   ]
  },
  {
   "cell_type": "code",
   "execution_count": 23,
   "metadata": {},
   "outputs": [
    {
     "name": "stdout",
     "output_type": "stream",
     "text": [
      "True\n",
      "False\n"
     ]
    }
   ],
   "source": [
    "print(hasattr(liz1, 'name'))\n",
    "delattr(liz1, 'name')\n",
    "print(hasattr(liz1, 'name'))"
   ]
  },
  {
   "cell_type": "code",
   "execution_count": 24,
   "metadata": {},
   "outputs": [
    {
     "name": "stdout",
     "output_type": "stream",
     "text": [
      "hasattr(liz1, 'kingdom') = True\n"
     ]
    },
    {
     "ename": "AttributeError",
     "evalue": "'Lizard' object has no attribute 'kingdom'",
     "output_type": "error",
     "traceback": [
      "\u001b[0;31m---------------------------------------------------------------------------\u001b[0m",
      "\u001b[0;31mAttributeError\u001b[0m                            Traceback (most recent call last)",
      "Cell \u001b[0;32mIn[24], line 2\u001b[0m\n\u001b[1;32m      1\u001b[0m \u001b[38;5;28mprint\u001b[39m(\u001b[38;5;124m\"\u001b[39m\u001b[38;5;124mhasattr(liz1, \u001b[39m\u001b[38;5;124m'\u001b[39m\u001b[38;5;124mkingdom\u001b[39m\u001b[38;5;124m'\u001b[39m\u001b[38;5;124m) =\u001b[39m\u001b[38;5;124m\"\u001b[39m, \u001b[38;5;28mhasattr\u001b[39m(liz1, \u001b[38;5;124m'\u001b[39m\u001b[38;5;124mkingdom\u001b[39m\u001b[38;5;124m'\u001b[39m))\n\u001b[0;32m----> 2\u001b[0m \u001b[38;5;28;43mdelattr\u001b[39;49m\u001b[43m(\u001b[49m\u001b[43mliz1\u001b[49m\u001b[43m,\u001b[49m\u001b[43m \u001b[49m\u001b[38;5;124;43m'\u001b[39;49m\u001b[38;5;124;43mkingdom\u001b[39;49m\u001b[38;5;124;43m'\u001b[39;49m\u001b[43m)\u001b[49m\n",
      "\u001b[0;31mAttributeError\u001b[0m: 'Lizard' object has no attribute 'kingdom'"
     ]
    }
   ],
   "source": [
    "print(\"hasattr(liz1, 'kingdom') =\", hasattr(liz1, 'kingdom'))\n",
    "delattr(liz1, 'kingdom')"
   ]
  },
  {
   "cell_type": "markdown",
   "metadata": {},
   "source": [
    "You get similar error, if you try to set `setattr(liz1, 'kingdom', 0.7)`."
   ]
  },
  {
   "attachments": {},
   "cell_type": "markdown",
   "metadata": {},
   "source": [
    "# Inheritance (dědičnost) \n",
    "An ability to create a *child* or *derived* class from an existing *parent* class. The child gets from birth all the attributes and methods of the parent and can add its own, or override them."
   ]
  },
  {
   "cell_type": "code",
   "execution_count": 25,
   "metadata": {},
   "outputs": [
    {
     "name": "stdout",
     "output_type": "stream",
     "text": [
      "kingdom: Animalia\n",
      "phylum:  Chordata\n",
      "name:    underwater Tad Cooper\n",
      "length:  1.5 m\n",
      "\n"
     ]
    }
   ],
   "source": [
    "class Lizard():\n",
    "    kingdom = \"Animalia\"\n",
    "    phylum = \"Chordata\"\n",
    "\n",
    "    def __init__(self, name: str, length: float):\n",
    "        self.name = name\n",
    "        self.length = length\n",
    "\n",
    "    def __repr__(self):\n",
    "        return (\n",
    "            f\"{'kingdom:':<8} {self.kingdom}\\n\"\n",
    "            f\"{'phylum:':<8} {self.phylum}\\n\"\n",
    "            f\"{'name:':<8} {self.name}\\n\"\n",
    "            f\"{'length:':<8} {self.length} m\\n\"\n",
    "        )\n",
    "class UnderwaterLizard(Lizard):\n",
    "    pass\n",
    "\n",
    "\n",
    "liz2 = UnderwaterLizard(\"underwater Tad Cooper\", 1.5)\n",
    "print(liz2)"
   ]
  },
  {
   "cell_type": "code",
   "execution_count": 26,
   "metadata": {},
   "outputs": [
    {
     "name": "stdout",
     "output_type": "stream",
     "text": [
      "kingdom: Animalia\n",
      "phylum:  Chordata\n",
      "name:    underwater Tad Cooper\n",
      "length:  1.5 m\n",
      "color:   red\n"
     ]
    }
   ],
   "source": [
    "class UnderwaterLizard(Lizard):\n",
    "    # VS code can help you here, just start writing __init__ and hit enter, when the popup shows\n",
    "    def __init__(self, name: str, length: float, color: str):\n",
    "        super().__init__(name, length) # either super(), or Lizard.__init__(self, name, length)\n",
    "        self.color = color\n",
    "\n",
    "    def __repr__(self):\n",
    "        return (\n",
    "            f\"{'kingdom:':<8} {self.kingdom}\\n\"\n",
    "            f\"{'phylum:':<8} {self.phylum}\\n\"\n",
    "            f\"{'name:':<8} {self.name}\\n\"\n",
    "            f\"{'length:':<8} {self.length} m\\n\"\n",
    "            f\"{'color:':<8} {self.color}\"\n",
    "        )\n",
    "\n",
    "\n",
    "\n",
    "\n",
    "liz3 = UnderwaterLizard(\"underwater Tad Cooper\", 1.5,\"red\")\n",
    "print(liz3)"
   ]
  },
  {
   "attachments": {},
   "cell_type": "markdown",
   "metadata": {},
   "source": [
    "# Extending python well known classes"
   ]
  },
  {
   "cell_type": "code",
   "execution_count": 27,
   "metadata": {},
   "outputs": [
    {
     "data": {
      "text/plain": [
       "['__abs__',\n",
       " '__add__',\n",
       " '__bool__',\n",
       " '__ceil__',\n",
       " '__class__',\n",
       " '__delattr__',\n",
       " '__dir__',\n",
       " '__divmod__',\n",
       " '__doc__',\n",
       " '__eq__',\n",
       " '__float__',\n",
       " '__floor__',\n",
       " '__floordiv__',\n",
       " '__format__',\n",
       " '__ge__',\n",
       " '__getattribute__',\n",
       " '__getformat__',\n",
       " '__getnewargs__',\n",
       " '__getstate__',\n",
       " '__gt__',\n",
       " '__hash__',\n",
       " '__init__',\n",
       " '__init_subclass__',\n",
       " '__int__',\n",
       " '__le__',\n",
       " '__lt__',\n",
       " '__mod__',\n",
       " '__mul__',\n",
       " '__ne__',\n",
       " '__neg__',\n",
       " '__new__',\n",
       " '__pos__',\n",
       " '__pow__',\n",
       " '__radd__',\n",
       " '__rdivmod__',\n",
       " '__reduce__',\n",
       " '__reduce_ex__',\n",
       " '__repr__',\n",
       " '__rfloordiv__',\n",
       " '__rmod__',\n",
       " '__rmul__',\n",
       " '__round__',\n",
       " '__rpow__',\n",
       " '__rsub__',\n",
       " '__rtruediv__',\n",
       " '__setattr__',\n",
       " '__sizeof__',\n",
       " '__str__',\n",
       " '__sub__',\n",
       " '__subclasshook__',\n",
       " '__truediv__',\n",
       " '__trunc__',\n",
       " 'as_integer_ratio',\n",
       " 'conjugate',\n",
       " 'fromhex',\n",
       " 'hex',\n",
       " 'imag',\n",
       " 'is_integer',\n",
       " 'real']"
      ]
     },
     "execution_count": 27,
     "metadata": {},
     "output_type": "execute_result"
    }
   ],
   "source": [
    "a = float(3)\n",
    "dir(float)"
   ]
  },
  {
   "cell_type": "code",
   "execution_count": 28,
   "metadata": {},
   "outputs": [
    {
     "name": "stdout",
     "output_type": "stream",
     "text": [
      "4.0\n"
     ]
    }
   ],
   "source": [
    "class MyFloat(float):\n",
    "    pass\n",
    "\n",
    "a = MyFloat(3)\n",
    "print(a+1) # but there is no a.boast()"
   ]
  },
  {
   "cell_type": "code",
   "execution_count": 31,
   "metadata": {},
   "outputs": [
    {
     "name": "stdout",
     "output_type": "stream",
     "text": [
      "I'am a mighty 3.0\n",
      "I'am a mighty 10.0\n"
     ]
    }
   ],
   "source": [
    "class MyFloat(float):\n",
    "    def boast(self):\n",
    "        print(\"I'am a mighty\", self)\n",
    "    def __add__(self, other):\n",
    "        return MyFloat(self.real + other.real)\n",
    "\n",
    "a = MyFloat(3)\n",
    "b = MyFloat(7)\n",
    "a.boast()\n",
    "(a+b).boast()"
   ]
  },
  {
   "cell_type": "markdown",
   "metadata": {},
   "source": [
    "# Hash\n",
    "Hash is a function that takes an object and returns a number. The hash is used to compare objects. If two objects have the same hash, they are considered equal. The hash is used in dictionaries, sets, etc. To be able to use sets and dictionaries in our class, we need to implement the `__hash__()` and `__eq__()` methods."
   ]
  },
  {
   "cell_type": "code",
   "execution_count": 32,
   "metadata": {},
   "outputs": [
    {
     "name": "stdout",
     "output_type": "stream",
     "text": [
      "RGB(255, 0, 0)\n"
     ]
    }
   ],
   "source": [
    "class RGBColor:\n",
    "    def __init__(self, r: int, g: int, b: int):\n",
    "        self.red = r\n",
    "        self.green = g\n",
    "        self.blue = b\n",
    "    def __repr__(self):\n",
    "        return f\"RGB({self.red}, {self.green}, {self.blue})\"\n",
    "\n",
    "colors = RGBColor(255, 0, 0)\n",
    "print(colors)"
   ]
  },
  {
   "cell_type": "code",
   "execution_count": 38,
   "metadata": {},
   "outputs": [
    {
     "data": {
      "text/plain": [
       "{RGB(0, 0, 255), RGB(255, 0, 0), RGB(50, 255, 0)}"
      ]
     },
     "execution_count": 38,
     "metadata": {},
     "output_type": "execute_result"
    }
   ],
   "source": [
    "from __future__ import annotations\n",
    "class RGBColor:\n",
    "    def __init__(self, r: int, g: int, b: int):\n",
    "        self.red = r\n",
    "        self.green = g\n",
    "        self.blue = b\n",
    "\n",
    "    def __repr__(self):\n",
    "        return f\"RGB({self.red}, {self.green}, {self.blue})\"\n",
    "\n",
    "    def __hash__(self) -> int:\n",
    "        return hash((self.red, self.green, self.blue))\n",
    "\n",
    "    def __eq__(self, other: \"RGBColor\"):\n",
    "        if isinstance(other, RGBColor):\n",
    "            return (self.red, self.green, self.blue) == (other.red, other.green, other.blue)\n",
    "        return NotImplemented\n",
    "\n",
    "colors = [RGBColor(255, 0, 0), RGBColor(50, 255, 0), RGBColor(0, 0, 255), RGBColor(0, 0, 255)]\n",
    "set(colors)\n"
   ]
  },
  {
   "cell_type": "markdown",
   "metadata": {},
   "source": [
    "We can sort them using lambda function as below, but that is often impractical. If our problem determines which color is bigger, we can implement the `__lt__(), __gt__(), __eq__()` methods in a way that fits to our needs and just use sorted. See problems for similar task."
   ]
  },
  {
   "cell_type": "code",
   "execution_count": 36,
   "metadata": {},
   "outputs": [
    {
     "data": {
      "text/plain": [
       "[RGB(0, 0, 255), RGB(0, 0, 255), RGB(50, 255, 0), RGB(255, 0, 0)]"
      ]
     },
     "execution_count": 36,
     "metadata": {},
     "output_type": "execute_result"
    }
   ],
   "source": [
    "sorted(colors, key=lambda c: c.red) # this we will learn in the following lecture"
   ]
  },
  {
   "cell_type": "markdown",
   "metadata": {},
   "source": [
    "# Private attributes and methods\n",
    "- private attributes can be seen from outside, it is more like a convention to not change them.\n",
    "- It is **not** a way to store passwords, but it is a way to tell the user which data should not be changed. "
   ]
  },
  {
   "cell_type": "code",
   "execution_count": null,
   "metadata": {},
   "outputs": [
    {
     "name": "stdout",
     "output_type": "stream",
     "text": [
      "name\n",
      "age\n",
      "_height\n"
     ]
    },
    {
     "data": {
      "text/plain": [
       "[None, None, None]"
      ]
     },
     "metadata": {},
     "output_type": "display_data"
    }
   ],
   "source": [
    "class Human:\n",
    "    def __init__(self, name, age):\n",
    "        self.name = name\n",
    "        self.age = age\n",
    "        self._height = 194 # can be accessed from outside, but should not be\n",
    "    def __increase_weight(self, weight):\n",
    "        self.__weight += weight\n",
    "\n",
    "human = Human(\"Anthon\", 21)\n",
    "[print(k) for k in human.__dict__]"
   ]
  },
  {
   "cell_type": "code",
   "execution_count": null,
   "metadata": {},
   "outputs": [
    {
     "name": "stdout",
     "output_type": "stream",
     "text": [
      "194\n"
     ]
    }
   ],
   "source": [
    "# accessing private attributes\n",
    "print(human._height)"
   ]
  }
 ],
 "metadata": {
  "kernelspec": {
   "display_name": "Python 3",
   "language": "python",
   "name": "python3"
  },
  "language_info": {
   "codemirror_mode": {
    "name": "ipython",
    "version": 3
   },
   "file_extension": ".py",
   "mimetype": "text/x-python",
   "name": "python",
   "nbconvert_exporter": "python",
   "pygments_lexer": "ipython3",
   "version": "3.11.5"
  },
  "orig_nbformat": 4,
  "vscode": {
   "interpreter": {
    "hash": "e7370f93d1d0cde622a1f8e1c04877d8463912d04d973331ad4851f04de6915a"
   }
  }
 },
 "nbformat": 4,
 "nbformat_minor": 2
}
