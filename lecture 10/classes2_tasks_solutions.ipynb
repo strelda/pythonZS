{
 "cells": [
  {
   "cell_type": "markdown",
   "metadata": {},
   "source": [
    "# Problems\n",
    "\n",
    "### Sorting cards\n",
    "Create a class `Cards()` with its value as an attribute. \n",
    "- implement __repr__ method,\n",
    "- Card values are `2,3,...,10, J, Q, K, A`. You can write a dictionary with `keys` as a **string card value**, and `values` as the **integer value of the card** ($J=11$ etc).\n",
    "- implement methods for comparing cards $<, >, ==$, with `__lt__`, `__gt__`, `__eq__` resp.\n",
    "\n",
    "Now you can use the `sorted` function to sort a list of cards.\n",
    "\n",
    "- implement a `__hash__` method, so you can use the `set()` function to create a set from the list of cards. This will remove duplicates.\n"
   ]
  },
  {
   "cell_type": "code",
   "execution_count": 1,
   "metadata": {},
   "outputs": [
    {
     "name": "stdout",
     "output_type": "stream",
     "text": [
      "{2, 3, 8, 9, J, A}\n",
      "[2, 3, 3, 8, 9, J, A]\n"
     ]
    }
   ],
   "source": [
    "card_values = {'A': 14, 'K': 13, 'Q': 12, 'J': 11, 'T': 10, '9': 9, \n",
    "            '8': 8, '7': 7, '6': 6, '5': 5, '4': 4, '3': 3, '2': 2}\n",
    "\n",
    "class Card:\n",
    "    def __init__(self, rank: str):\n",
    "        self.rank = rank\n",
    "    def __repr__(self):\n",
    "        return self.rank\n",
    "    def __eq__(self, other: \"Card\") -> bool:\n",
    "        return card_values[self.rank] == card_values[other.rank]\n",
    "    def __lt__(self, __value: object) -> bool:\n",
    "        return card_values[self.rank] < card_values[__value.rank]\n",
    "    def __gt__(self, __value: object) -> bool:\n",
    "        return card_values[self.rank] > card_values[__value.rank]\n",
    "    def __hash__(self) -> int:\n",
    "        return hash(card_values[self.rank])\n",
    "\n",
    "c = [Card('A'), Card('3'),Card('3'), Card('9'), Card('8'), Card('J'), Card('2')]\n",
    "print(set(c))\n",
    "print(sorted(c))"
   ]
  },
  {
   "cell_type": "markdown",
   "metadata": {},
   "source": [
    "### Cards with suits\n",
    "Create a new class `CardsWithSuits()` that inherits from `Card()`. The comparison goes as follows:\n",
    "- first compare the suits, then the values\n",
    "- from lowest to highest value, suits are `♠, ♣, ♥, ♦` (spades S, clubs C, hearts H, diamonds D).\n",
    "\n",
    "Now the attribute is not just a value `2,... A`, but number with suit, saved as tuples, e.g. `(2,S), (A, H)`.\n",
    "\n",
    "Do not modify the `Cards()` class, but use what you have already implemented."
   ]
  },
  {
   "cell_type": "code",
   "execution_count": 3,
   "metadata": {},
   "outputs": [
    {
     "name": "stdout",
     "output_type": "stream",
     "text": [
      "{3S, 3H}\n",
      "[3S, 3S, 3H]\n"
     ]
    }
   ],
   "source": [
    "class CardWithSuits(Card):\n",
    "    suits_order = {'S': 0, 'C': 1, 'H': 2, 'D': 3}\n",
    "\n",
    "    def __init__(self, rank_suit_tuple: tuple):\n",
    "        rank, suit = rank_suit_tuple\n",
    "        super().__init__(rank)\n",
    "        self.suit = suit\n",
    "\n",
    "    def __repr__(self):\n",
    "        return f\"{self.rank}{self.suit}\"\n",
    "\n",
    "    def __eq__(self, other):\n",
    "        # we can utilize previous comparison from cards, or compare tuples as for lt, gt\n",
    "        if self.suits_order[self.suit] == self.suits_order[other.suit]:\n",
    "            return Card(self.rank) == Card(other.rank)\n",
    "        else:\n",
    "            return False\n",
    "\n",
    "    def __lt__(self, other):\n",
    "        # we use the lexicographic comparison for tuples to our advantage\n",
    "        return (self.suits_order[self.suit], card_values[self.rank]) < (self.suits_order[other.suit], card_values[other.rank])\n",
    "\n",
    "    def __gt__(self, other):\n",
    "        return (self.suits_order[self.suit], card_values[self.rank]) > (self.suits_order[other.suit], card_values[other.rank])\n",
    "\n",
    "    def __hash__(self):\n",
    "        return hash((self.suit, self.rank))\n",
    "\n",
    "c = [CardWithSuits(('3', 'H')), CardWithSuits(('3', 'S')), CardWithSuits(('3', 'S'))]\n",
    "print(set(c))\n",
    "print(sorted(c))"
   ]
  },
  {
   "cell_type": "markdown",
   "metadata": {},
   "source": [
    "# Problematic problems\n",
    "\n",
    "### Simplified poker\n",
    "Look at this task https://adventofcode.com/2023/day/7.\n",
    "Advice: \n",
    "- create a dictionary of cards and their values, \n",
    "- create a class `Card`, and teach it how to compare cards, introduce hashing,\n",
    "- write a function assigning a value to the hand (ignoring their individual values),\n",
    "- create a class `Hand`, with methods for comparing hands and hashing them.\n",
    "\n",
    "Now you can use all the python power for sorting etc."
   ]
  }
 ],
 "metadata": {
  "kernelspec": {
   "display_name": "Python 3",
   "language": "python",
   "name": "python3"
  },
  "language_info": {
   "codemirror_mode": {
    "name": "ipython",
    "version": 3
   },
   "file_extension": ".py",
   "mimetype": "text/x-python",
   "name": "python",
   "nbconvert_exporter": "python",
   "pygments_lexer": "ipython3",
   "version": "3.11.5"
  }
 },
 "nbformat": 4,
 "nbformat_minor": 2
}
