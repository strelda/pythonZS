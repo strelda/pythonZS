{
 "cells": [
  {
   "cell_type": "markdown",
   "metadata": {},
   "source": [
    "# More on functions\n",
    "\n",
    "General syntax for function arguments:\n",
    "```python\n",
    "def f(positional_only, /, positional_or_keyword, *, keyword_only):\n",
    "    ...\n",
    "```\n",
    "Positional are used as `f(something)`, keyword is used as `f(variable=something)`"
   ]
  },
  {
   "cell_type": "markdown",
   "metadata": {},
   "source": [
    "We can combine positional with keyword arguments, but the keyword arguments must come after the positional arguments."
   ]
  },
  {
   "cell_type": "code",
   "execution_count": 1,
   "metadata": {},
   "outputs": [],
   "source": [
    "def f_positional(a, b, c='a', d=2):\n",
    "    return (a,b)"
   ]
  },
  {
   "cell_type": "code",
   "execution_count": 6,
   "metadata": {},
   "outputs": [
    {
     "data": {
      "text/plain": [
       "(1, 2)"
      ]
     },
     "execution_count": 6,
     "metadata": {},
     "output_type": "execute_result"
    }
   ],
   "source": [
    "f_positional(a=1,b=2,d=4)"
   ]
  },
  {
   "cell_type": "code",
   "execution_count": 1,
   "metadata": {},
   "outputs": [
    {
     "ename": "TypeError",
     "evalue": "f_only_positional() got some positional-only arguments passed as keyword arguments: 'b'",
     "output_type": "error",
     "traceback": [
      "\u001b[0;31m---------------------------------------------------------------------------\u001b[0m",
      "\u001b[0;31mTypeError\u001b[0m                                 Traceback (most recent call last)",
      "\u001b[1;32m/Users/strelda/Library/Mobile Documents/com~apple~CloudDocs/Files/synced Documents/lecturing/python_23ZS/lecture 4/advanced_functions.ipynb Cell 5\u001b[0m line \u001b[0;36m3\n\u001b[1;32m      <a href='vscode-notebook-cell:/Users/strelda/Library/Mobile%20Documents/com~apple~CloudDocs/Files/synced%20Documents/lecturing/python_23ZS/lecture%204/advanced_functions.ipynb#W4sZmlsZQ%3D%3D?line=0'>1</a>\u001b[0m \u001b[39mdef\u001b[39;00m \u001b[39mf_only_positional\u001b[39m(a,b,\u001b[39m/\u001b[39m):\n\u001b[1;32m      <a href='vscode-notebook-cell:/Users/strelda/Library/Mobile%20Documents/com~apple~CloudDocs/Files/synced%20Documents/lecturing/python_23ZS/lecture%204/advanced_functions.ipynb#W4sZmlsZQ%3D%3D?line=1'>2</a>\u001b[0m     \u001b[39mreturn\u001b[39;00m (a,b)\n\u001b[0;32m----> <a href='vscode-notebook-cell:/Users/strelda/Library/Mobile%20Documents/com~apple~CloudDocs/Files/synced%20Documents/lecturing/python_23ZS/lecture%204/advanced_functions.ipynb#W4sZmlsZQ%3D%3D?line=2'>3</a>\u001b[0m f_only_positional(\u001b[39m3\u001b[39;49m,b\u001b[39m=\u001b[39;49m\u001b[39m6\u001b[39;49m)\n",
      "\u001b[0;31mTypeError\u001b[0m: f_only_positional() got some positional-only arguments passed as keyword arguments: 'b'"
     ]
    }
   ],
   "source": [
    "def f_only_positional(a,b,/):\n",
    "    return (a,b)\n",
    "f_only_positional(3,b=6)"
   ]
  },
  {
   "cell_type": "code",
   "execution_count": 9,
   "metadata": {},
   "outputs": [
    {
     "data": {
      "text/plain": [
       "(3, 6)"
      ]
     },
     "execution_count": 9,
     "metadata": {},
     "output_type": "execute_result"
    }
   ],
   "source": [
    "f_only_positional(3,6)"
   ]
  },
  {
   "cell_type": "markdown",
   "metadata": {},
   "source": [
    "Because they are positional only, this leads to an error:"
   ]
  },
  {
   "cell_type": "code",
   "execution_count": 11,
   "metadata": {},
   "outputs": [
    {
     "ename": "TypeError",
     "evalue": "f_only_positional() got some positional-only arguments passed as keyword arguments: 'a, b'",
     "output_type": "error",
     "traceback": [
      "\u001b[0;31m---------------------------------------------------------------------------\u001b[0m",
      "\u001b[0;31mTypeError\u001b[0m                                 Traceback (most recent call last)",
      "\u001b[1;32m/Users/strelda/Library/Mobile Documents/com~apple~CloudDocs/Files/synced Documents/lecturing/python_23LS/lecture 1/function_arguments.ipynb Cell 6\u001b[0m line \u001b[0;36m1\n\u001b[0;32m----> <a href='vscode-notebook-cell:/Users/strelda/Library/Mobile%20Documents/com~apple~CloudDocs/Files/synced%20Documents/lecturing/python_23LS/lecture%201/function_arguments.ipynb#X13sZmlsZQ%3D%3D?line=0'>1</a>\u001b[0m f_only_positional(a\u001b[39m=\u001b[39;49m\u001b[39m3\u001b[39;49m,b\u001b[39m=\u001b[39;49m\u001b[39m6\u001b[39;49m)\n",
      "\u001b[0;31mTypeError\u001b[0m: f_only_positional() got some positional-only arguments passed as keyword arguments: 'a, b'"
     ]
    }
   ],
   "source": [
    "f_only_positional(a=3,b=6)"
   ]
  },
  {
   "cell_type": "code",
   "execution_count": 10,
   "metadata": {},
   "outputs": [
    {
     "data": {
      "text/plain": [
       "(1, 2, 'default_value')"
      ]
     },
     "execution_count": 10,
     "metadata": {},
     "output_type": "execute_result"
    }
   ],
   "source": [
    "def f_keyward(*,a,b,c='default_value'):\n",
    "    return (a,b,c)\n",
    "f_keyward(a=1,b=2)"
   ]
  },
  {
   "cell_type": "code",
   "execution_count": null,
   "metadata": {},
   "outputs": [],
   "source": [
    "f_keyward(1,b=2)"
   ]
  },
  {
   "cell_type": "code",
   "execution_count": 14,
   "metadata": {},
   "outputs": [
    {
     "name": "stdout",
     "output_type": "stream",
     "text": [
      "1 [1, 2] 3\n",
      "1 [1, 2] 3\n"
     ]
    }
   ],
   "source": [
    "def f_combined(positional_only, /, positional_or_keyword, *, keyword_only):\n",
    "    print(positional_only, positional_or_keyword, keyword_only)\n",
    "\n",
    "f_combined(1, positional_or_keyword=[1,2], keyword_only=3)\n",
    "f_combined(1, [1,2], keyword_only=3)"
   ]
  },
  {
   "cell_type": "markdown",
   "metadata": {},
   "source": [
    "# When you need more functions\n",
    "Sometimes it is better to find what someone created before us, than reinvent the wheel. We have already shown how to import modules. Here we show how it works.\n",
    "\n",
    "<div class=\"alert alert-info\">\n",
    "If you feel like someone could have already solved the problem you are facing, you can search for it in python module library.\n",
    "</div>"
   ]
  },
  {
   "cell_type": "markdown",
   "metadata": {},
   "source": [
    "1. Import the whole module, i.e. every function which is inside it"
   ]
  },
  {
   "cell_type": "code",
   "execution_count": 1,
   "metadata": {},
   "outputs": [
    {
     "data": {
      "text/plain": [
       "0.9092974268256817"
      ]
     },
     "execution_count": 1,
     "metadata": {},
     "output_type": "execute_result"
    }
   ],
   "source": [
    "import math\n",
    "math.sin(2)"
   ]
  },
  {
   "cell_type": "markdown",
   "metadata": {},
   "source": [
    "2. Import specific functions from the module"
   ]
  },
  {
   "cell_type": "code",
   "execution_count": 2,
   "metadata": {},
   "outputs": [
    {
     "data": {
      "text/plain": [
       "0.9092974268256817"
      ]
     },
     "execution_count": 2,
     "metadata": {},
     "output_type": "execute_result"
    }
   ],
   "source": [
    "from math import sin\n",
    "sin(2)"
   ]
  },
  {
   "cell_type": "markdown",
   "metadata": {},
   "source": [
    "3. Import everything from the module. <hrml style=\"color:red\">This is dangerous</html>, as it can rewrite other functions. "
   ]
  },
  {
   "cell_type": "code",
   "execution_count": null,
   "metadata": {},
   "outputs": [],
   "source": [
    "from math import *\n",
    "math.sin(2)"
   ]
  },
  {
   "cell_type": "markdown",
   "metadata": {},
   "source": [
    "Similar syntax can be used, when importing your functions from another file. Look it up if you need it, or read more [here](https://docs.python.org/3/tutorial/modules.html)."
   ]
  }
 ],
 "metadata": {
  "kernelspec": {
   "display_name": "Python 3",
   "language": "python",
   "name": "python3"
  },
  "language_info": {
   "codemirror_mode": {
    "name": "ipython",
    "version": 3
   },
   "file_extension": ".py",
   "mimetype": "text/x-python",
   "name": "python",
   "nbconvert_exporter": "python",
   "pygments_lexer": "ipython3",
   "version": "3.11.9"
  },
  "orig_nbformat": 4,
  "vscode": {
   "interpreter": {
    "hash": "e7370f93d1d0cde622a1f8e1c04877d8463912d04d973331ad4851f04de6915a"
   }
  }
 },
 "nbformat": 4,
 "nbformat_minor": 2
}
