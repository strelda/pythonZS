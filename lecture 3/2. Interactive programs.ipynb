{
 "cells": [
  {
   "cell_type": "code",
   "execution_count": 2,
   "metadata": {},
   "outputs": [
    {
     "name": "stdout",
     "output_type": "stream",
     "text": [
      "You are in a land full of treasures and traps.\n",
      "In front of you, you see two caves.\n",
      "In one cave, the treasure is hidden.\n",
      "In the other, there is a trap waiting to catch you.\n",
      "\n",
      "Which cave will you go into? (1 or 2)\n",
      "You approach the cave...\n",
      "A large shadow jumps out in front of you! It opens its mouth and...\n",
      "\n",
      "Caught you in a trap!\n",
      "Do you want to play again? (yes or no)\n",
      "Which cave will you go into? (1 or 2)\n",
      "Which cave will you go into? (1 or 2)\n",
      "Which cave will you go into? (1 or 2)\n",
      "Which cave will you go into? (1 or 2)\n",
      "You approach the cave...\n",
      "A large shadow jumps out in front of you! It opens its mouth and...\n",
      "\n",
      "Gives you the treasure!\n",
      "Do you want to play again? (yes or no)\n"
     ]
    }
   ],
   "source": [
    "import random\n",
    "\n",
    "def display_intro():\n",
    "    print(\"You are in a land full of treasures and traps.\\n\"\n",
    "          \"In front of you, you see two caves.\\n\"\n",
    "          \"In one cave, the treasure is hidden.\\n\"\n",
    "          \"In the other, there is a trap waiting to catch you.\\n\")\n",
    "\n",
    "def choose_cave():\n",
    "    cave = ''\n",
    "    while cave != '1' and cave != '2':\n",
    "        print(\"Which cave will you go into? (1 or 2)\")\n",
    "        cave = input()\n",
    "    return cave\n",
    "\n",
    "def check_cave(chosen_cave):\n",
    "    print(\"You approach the cave...\\n\"\n",
    "          \"A large shadow jumps out in front of you! It opens its mouth and...\")\n",
    "    print()\n",
    "    treasure_cave = random.randint(1, 2)\n",
    "\n",
    "    if chosen_cave == str(treasure_cave):\n",
    "        print(\"Gives you the treasure!\")\n",
    "    else:\n",
    "        print(\"Caught you in a trap!\")\n",
    "\n",
    "def play_again():\n",
    "    print(\"Do you want to play again? (yes or no)\")\n",
    "    return input().lower().startswith('y')\n",
    "\n",
    "\n",
    "display_intro()\n",
    "while True:\n",
    "    cave_number = choose_cave()\n",
    "    check_cave(cave_number)\n",
    "    if not play_again():\n",
    "        break"
   ]
  },
  {
   "cell_type": "markdown",
   "metadata": {},
   "source": [
    "---\n",
    "# Turtle\n",
    "There are many packages, which allow you to do a lot with a small effort. Right now you are on a track of learning how to create them. This is a simple example of how to make a game using the [turtle package](https://docs.python.org/3/library/turtle.html)."
   ]
  },
  {
   "cell_type": "code",
   "execution_count": 1,
   "metadata": {},
   "outputs": [],
   "source": [
    "import turtle\n",
    "\n",
    "# Set up the screen\n",
    "screen = turtle.Screen()\n",
    "screen.title(\"Interactive Turtle Control\")\n",
    "screen.bgcolor(\"white\")\n",
    "\n",
    "# Create the turtle\n",
    "my_turtle = turtle.Turtle()\n",
    "my_turtle.shape(\"turtle\")\n",
    "my_turtle.color(\"black\")\n",
    "\n",
    "# Define movement functions\n",
    "def move_forward():\n",
    "    my_turtle.forward(10)\n",
    "\n",
    "def move_backward():\n",
    "    my_turtle.backward(10)\n",
    "\n",
    "def turn_left():\n",
    "    my_turtle.left(15)\n",
    "\n",
    "def turn_right():\n",
    "    my_turtle.right(15)\n",
    "\n",
    "# Bind keys to functions\n",
    "screen.listen()\n",
    "screen.onkey(move_forward, \"Up\")\n",
    "screen.onkey(move_backward, \"Down\")\n",
    "screen.onkey(turn_left, \"Left\")\n",
    "screen.onkey(turn_right, \"Right\")\n",
    "\n",
    "# Keep the window open\n",
    "screen.mainloop()"
   ]
  }
 ],
 "metadata": {
  "kernelspec": {
   "display_name": "base",
   "language": "python",
   "name": "python3"
  },
  "language_info": {
   "codemirror_mode": {
    "name": "ipython",
    "version": 3
   },
   "file_extension": ".py",
   "mimetype": "text/x-python",
   "name": "python",
   "nbconvert_exporter": "python",
   "pygments_lexer": "ipython3",
   "version": "3.11.4"
  }
 },
 "nbformat": 4,
 "nbformat_minor": 2
}
