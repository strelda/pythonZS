{
 "cells": [
  {
   "cell_type": "markdown",
   "metadata": {},
   "source": [
    "# Text files\n",
    "Coding:\n",
    "- ASCII: English alphabet and usual characters (95 elements)\n",
    "- UTF-8: pretty much all symbols\n",
    "\n",
    "One special symbol is new line \"\\n\" (ASCII 10).\n",
    "\n",
    "Default settings is according to the OS. In Windows, it might be something like \"cp-1250\". 😞"
   ]
  },
  {
   "cell_type": "markdown",
   "metadata": {},
   "source": [
    "# Input and output\n",
    "\n",
    "We can create the file using terminal, file manager or VS Code (top icons in Explorer tab), or using Python."
   ]
  },
  {
   "cell_type": "code",
   "execution_count": 3,
   "metadata": {},
   "outputs": [],
   "source": [
    "print(\"Zdravím vás \\nže šouboru.\", file=open(\"poem.txt\", \"w\"), end=\"\")"
   ]
  },
  {
   "cell_type": "markdown",
   "metadata": {},
   "source": [
    "### How to read and write data from files\n",
    "Now in the same folder as this notebook, we have a file \"poem.txt\" with the following content:\n",
    "```\n",
    "Zdravím vás\n",
    "že šouboru.\n",
    "```"
   ]
  },
  {
   "cell_type": "code",
   "execution_count": 4,
   "metadata": {},
   "outputs": [
    {
     "name": "stdout",
     "output_type": "stream",
     "text": [
      "<_io.TextIOWrapper name='poem.txt' mode='r' encoding='UTF-8'>\n"
     ]
    }
   ],
   "source": [
    "f = open('poem.txt')\n",
    "print(f)"
   ]
  },
  {
   "cell_type": "code",
   "execution_count": 5,
   "metadata": {},
   "outputs": [
    {
     "name": "stdout",
     "output_type": "stream",
     "text": [
      "Zdravím vás \n",
      "že šouboru.\n"
     ]
    }
   ],
   "source": [
    "print(f.read())"
   ]
  },
  {
   "cell_type": "markdown",
   "metadata": {},
   "source": [
    "It is safer to close the file after using it. They should be closed automatically when a file object goes out of scope or is no longer referenced. This is managed by the **garbage collector**, but it is better to do it manually."
   ]
  },
  {
   "cell_type": "code",
   "execution_count": 6,
   "metadata": {},
   "outputs": [],
   "source": [
    "f.close()"
   ]
  },
  {
   "cell_type": "markdown",
   "metadata": {},
   "source": [
    "### Parameters of open()\n",
    "- \"r\": read\n",
    "- \"w\": write\n",
    "- \"a\": append\n",
    "- \"r+\": read and write\n",
    "- \"b\": binary mode\n",
    "and their combinations, such as \"rb\" or \"wb\".\n",
    "\n",
    "Writing into a file can then be done as"
   ]
  },
  {
   "cell_type": "code",
   "execution_count": 7,
   "metadata": {},
   "outputs": [],
   "source": [
    "f = open('poem.txt',\"a\")\n",
    "f.write(\"\\nDobže.\")\n",
    "f.close()"
   ]
  },
  {
   "cell_type": "markdown",
   "metadata": {},
   "source": [
    "<div class=\"alert alert-block alert-info\">\n",
    "    The safest way, avoiding <code>close()</code>, is using <code>with open('name') as f:</code>. The file is opened only in the scope of the block.\n",
    "</div>"
   ]
  },
  {
   "cell_type": "code",
   "execution_count": 8,
   "metadata": {},
   "outputs": [
    {
     "name": "stdout",
     "output_type": "stream",
     "text": [
      "Zdravím vás \n",
      "že šouboru.\n",
      "Dobže.\n"
     ]
    }
   ],
   "source": [
    "with open('poem.txt') as f:\n",
    "    print(f.read())"
   ]
  },
  {
   "cell_type": "markdown",
   "metadata": {},
   "source": [
    "### Methods of open()\n",
    "The functions we call using the dot are called methods. We will understand the difference in the following lecture.\n",
    "- `read()`: reads the whole file\n",
    "- `readline()`: reads one line *(including the '\\n' symbol, which is useful for printing and distinguishing lines from end of file, where there is no newline symbol)*\n",
    "- `readlines()`: reads all lines into a list\n",
    "- `write()`: writes a string into the file\n",
    "- `writelines()`: writes a list of strings into the file\n",
    "- `seek()`: moves the cursor to a given position\n",
    "- `close()`: closes the file\n",
    "\n",
    "Here we find a new datatype `list`. Treat it as a sequence of elements for now, we will introduce them soon.\n",
    "\n",
    "<div class=\"alert alert-block alert-warning\">\n",
    "    Try all of these methods, understand what they are doing.\n",
    "</div>"
   ]
  }
 ],
 "metadata": {
  "kernelspec": {
   "display_name": "Python 3",
   "language": "python",
   "name": "python3"
  },
  "language_info": {
   "codemirror_mode": {
    "name": "ipython",
    "version": 3
   },
   "file_extension": ".py",
   "mimetype": "text/x-python",
   "name": "python",
   "nbconvert_exporter": "python",
   "pygments_lexer": "ipython3",
   "version": "3.11.4"
  }
 },
 "nbformat": 4,
 "nbformat_minor": 2
}
