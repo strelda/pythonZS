{
 "cells": [
  {
   "cell_type": "markdown",
   "metadata": {},
   "source": [
    "# Function within a function\n",
    "Example: check if the number is [perfect](https://en.wikipedia.org/wiki/Perfect_number), meaning it is a positive integer, equal to the sum of its positive proper divisors (excluding the number itself)."
   ]
  },
  {
   "cell_type": "code",
   "execution_count": 3,
   "metadata": {},
   "outputs": [
    {
     "name": "stdout",
     "output_type": "stream",
     "text": [
      "False\n"
     ]
    }
   ],
   "source": [
    "def is_perfect(a: int)->bool:\n",
    "    \"\"\"Checks if the number is perfect, returns True/False.\"\"\"\n",
    "\n",
    "    def find_divisors(x: int)->list:\n",
    "        \"\"\"Find all divisors of x and return them as a list.\"\"\"    \n",
    "        divisors = []\n",
    "        for i in range(1,x):\n",
    "            if x%i==0:\n",
    "                divisors.append(i)\n",
    "        return divisors\n",
    "    ## a list of divisors of a\n",
    "    divisors = find_divisors(a)\n",
    "\n",
    "    ## for debugging you might use the following return instead of the final one\n",
    "    # return divisors\n",
    "\n",
    "    sum_of_divisors = sum(divisors)\n",
    "    return sum_of_divisors==a\n",
    "\n",
    "print(is_perfect(496))"
   ]
  },
  {
   "cell_type": "markdown",
   "metadata": {},
   "source": [
    "# Scope\n",
    "\n",
    "Python differentiates between built-in, global, enclosed and local scope. You can't see the object from outside by default."
   ]
  },
  {
   "cell_type": "code",
   "execution_count": null,
   "metadata": {},
   "outputs": [
    {
     "name": "stdout",
     "output_type": "stream",
     "text": [
      "local global_variable\n",
      "local enclosed_variable\n",
      "local local_variable\n",
      "enclosed global_variable\n"
     ]
    },
    {
     "ename": "NameError",
     "evalue": "name 'local_variable' is not defined",
     "output_type": "error",
     "traceback": [
      "\u001b[0;31m---------------------------------------------------------------------------\u001b[0m\n",
      "\u001b[0;31mNameError\u001b[0m                                 Traceback (most recent call last)\n",
      "Cell \u001b[0;32mIn[19], line 19\u001b[0m\n",
      "\u001b[1;32m     16\u001b[0m     \u001b[38;5;28mprint\u001b[39m(\u001b[38;5;124m\"\u001b[39m\u001b[38;5;124menclosed\u001b[39m\u001b[38;5;124m\"\u001b[39m, global_variable)\n",
      "\u001b[1;32m     17\u001b[0m     \u001b[38;5;28mprint\u001b[39m(\u001b[38;5;124m\"\u001b[39m\u001b[38;5;124menclosed\u001b[39m\u001b[38;5;124m\"\u001b[39m, local_variable) \u001b[38;5;66;03m# local_variable does not exist here\u001b[39;00m\n",
      "\u001b[0;32m---> 19\u001b[0m \u001b[43mouter_function\u001b[49m\u001b[43m(\u001b[49m\u001b[43m)\u001b[49m\n",
      "\n",
      "Cell \u001b[0;32mIn[19], line 17\u001b[0m, in \u001b[0;36mouter_function\u001b[0;34m()\u001b[0m\n",
      "\u001b[1;32m     15\u001b[0m inner_function()\n",
      "\u001b[1;32m     16\u001b[0m \u001b[38;5;28mprint\u001b[39m(\u001b[38;5;124m\"\u001b[39m\u001b[38;5;124menclosed\u001b[39m\u001b[38;5;124m\"\u001b[39m, global_variable)\n",
      "\u001b[0;32m---> 17\u001b[0m \u001b[38;5;28mprint\u001b[39m(\u001b[38;5;124m\"\u001b[39m\u001b[38;5;124menclosed\u001b[39m\u001b[38;5;124m\"\u001b[39m, \u001b[43mlocal_variable\u001b[49m)\n",
      "\n",
      "\u001b[0;31mNameError\u001b[0m: name 'local_variable' is not defined"
     ]
    }
   ],
   "source": [
    "# global scope\n",
    "global_variable = \"global_variable\"\n",
    "\n",
    "def outer_function():\n",
    "    # enclosed scope\n",
    "    enclosed_variable = \"enclosed_variable\"\n",
    "\n",
    "    def inner_function():\n",
    "        # local scope\n",
    "        local_variable = \"local_variable\"\n",
    "        print(\"local\", global_variable)\n",
    "        print(\"local\", enclosed_variable)\n",
    "        print(\"local\", local_variable)\n",
    "\n",
    "    inner_function()\n",
    "    print(\"enclosed\", global_variable)\n",
    "    print(\"enclosed\", local_variable) # local_variable does not exist here\n",
    "\n",
    "outer_function()"
   ]
  },
  {
   "cell_type": "code",
   "execution_count": null,
   "metadata": {},
   "outputs": [
    {
     "ename": "NameError",
     "evalue": "name 'inner_function' is not defined",
     "output_type": "error",
     "traceback": [
      "\u001b[0;31m---------------------------------------------------------------------------\u001b[0m\n",
      "\u001b[0;31mNameError\u001b[0m                                 Traceback (most recent call last)\n",
      "Cell \u001b[0;32mIn[20], line 1\u001b[0m\n",
      "\u001b[0;32m----> 1\u001b[0m \u001b[43minner_function\u001b[49m() \u001b[38;5;66;03m# inner_function does not exist here\u001b[39;00m\n",
      "\n",
      "\u001b[0;31mNameError\u001b[0m: name 'inner_function' is not defined"
     ]
    }
   ],
   "source": [
    "inner_function() # inner_function does not exist here"
   ]
  },
  {
   "cell_type": "markdown",
   "metadata": {},
   "source": [
    "---\n",
    "# Changing the global variables\n",
    "To see the inner object from outside, you might use a magical words `global`, or `nonlocal`. Usually this is not needed and using function arguments to pass variables is a safer way to do this."
   ]
  },
  {
   "cell_type": "code",
   "execution_count": null,
   "metadata": {},
   "outputs": [
    {
     "name": "stdout",
     "output_type": "stream",
     "text": [
      "3\n"
     ]
    }
   ],
   "source": [
    "CONST = 3\n",
    "def f():\n",
    "    CONST = 4\n",
    "\n",
    "f()\n",
    "print(CONST)"
   ]
  },
  {
   "cell_type": "code",
   "execution_count": null,
   "metadata": {},
   "outputs": [
    {
     "name": "stdout",
     "output_type": "stream",
     "text": [
      "4\n"
     ]
    }
   ],
   "source": [
    "def f():\n",
    "    global CONST\n",
    "    CONST = 4\n",
    "    \n",
    "f()\n",
    "print(CONST)"
   ]
  },
  {
   "cell_type": "markdown",
   "metadata": {},
   "source": [
    "# More advanced stuff about functions\n",
    "\n",
    "General syntax for function arguments:\n",
    "```python\n",
    "def f(positional_only, /, positional_or_keyword, *, keyword_only):\n",
    "    ...\n",
    "```\n",
    "Positional are used as `f(something)`, keyword is used as `f(variable=something)`"
   ]
  },
  {
   "cell_type": "markdown",
   "metadata": {},
   "source": [
    "We can combine positional with keyword arguments, but the keyword arguments must come after the positional arguments."
   ]
  },
  {
   "cell_type": "code",
   "execution_count": 1,
   "metadata": {},
   "outputs": [],
   "source": [
    "def f_positional(a, b, c='a', d=2):\n",
    "    return (a,b)"
   ]
  },
  {
   "cell_type": "code",
   "execution_count": 6,
   "metadata": {},
   "outputs": [
    {
     "data": {
      "text/plain": [
       "(1, 2)"
      ]
     },
     "execution_count": 6,
     "metadata": {},
     "output_type": "execute_result"
    }
   ],
   "source": [
    "f_positional(a=1,b=2,d=4)"
   ]
  },
  {
   "cell_type": "code",
   "execution_count": 1,
   "metadata": {},
   "outputs": [
    {
     "ename": "TypeError",
     "evalue": "f_only_positional() got some positional-only arguments passed as keyword arguments: 'b'",
     "output_type": "error",
     "traceback": [
      "\u001b[0;31m---------------------------------------------------------------------------\u001b[0m",
      "\u001b[0;31mTypeError\u001b[0m                                 Traceback (most recent call last)",
      "\u001b[1;32m/Users/strelda/Library/Mobile Documents/com~apple~CloudDocs/Files/synced Documents/lecturing/python_23ZS/lecture 4/advanced_functions.ipynb Cell 5\u001b[0m line \u001b[0;36m3\n\u001b[1;32m      <a href='vscode-notebook-cell:/Users/strelda/Library/Mobile%20Documents/com~apple~CloudDocs/Files/synced%20Documents/lecturing/python_23ZS/lecture%204/advanced_functions.ipynb#W4sZmlsZQ%3D%3D?line=0'>1</a>\u001b[0m \u001b[39mdef\u001b[39;00m \u001b[39mf_only_positional\u001b[39m(a,b,\u001b[39m/\u001b[39m):\n\u001b[1;32m      <a href='vscode-notebook-cell:/Users/strelda/Library/Mobile%20Documents/com~apple~CloudDocs/Files/synced%20Documents/lecturing/python_23ZS/lecture%204/advanced_functions.ipynb#W4sZmlsZQ%3D%3D?line=1'>2</a>\u001b[0m     \u001b[39mreturn\u001b[39;00m (a,b)\n\u001b[0;32m----> <a href='vscode-notebook-cell:/Users/strelda/Library/Mobile%20Documents/com~apple~CloudDocs/Files/synced%20Documents/lecturing/python_23ZS/lecture%204/advanced_functions.ipynb#W4sZmlsZQ%3D%3D?line=2'>3</a>\u001b[0m f_only_positional(\u001b[39m3\u001b[39;49m,b\u001b[39m=\u001b[39;49m\u001b[39m6\u001b[39;49m)\n",
      "\u001b[0;31mTypeError\u001b[0m: f_only_positional() got some positional-only arguments passed as keyword arguments: 'b'"
     ]
    }
   ],
   "source": [
    "def f_only_positional(a,b,/):\n",
    "    return (a,b)\n",
    "f_only_positional(3,b==6)"
   ]
  },
  {
   "cell_type": "code",
   "execution_count": 9,
   "metadata": {},
   "outputs": [
    {
     "data": {
      "text/plain": [
       "(3, 6)"
      ]
     },
     "execution_count": 9,
     "metadata": {},
     "output_type": "execute_result"
    }
   ],
   "source": [
    "f_only_positional(3,6)"
   ]
  },
  {
   "cell_type": "markdown",
   "metadata": {},
   "source": [
    "Because they are positional only, this leads to an error:"
   ]
  },
  {
   "cell_type": "code",
   "execution_count": 11,
   "metadata": {},
   "outputs": [
    {
     "ename": "TypeError",
     "evalue": "f_only_positional() got some positional-only arguments passed as keyword arguments: 'a, b'",
     "output_type": "error",
     "traceback": [
      "\u001b[0;31m---------------------------------------------------------------------------\u001b[0m",
      "\u001b[0;31mTypeError\u001b[0m                                 Traceback (most recent call last)",
      "\u001b[1;32m/Users/strelda/Library/Mobile Documents/com~apple~CloudDocs/Files/synced Documents/lecturing/python_23LS/lecture 1/function_arguments.ipynb Cell 6\u001b[0m line \u001b[0;36m1\n\u001b[0;32m----> <a href='vscode-notebook-cell:/Users/strelda/Library/Mobile%20Documents/com~apple~CloudDocs/Files/synced%20Documents/lecturing/python_23LS/lecture%201/function_arguments.ipynb#X13sZmlsZQ%3D%3D?line=0'>1</a>\u001b[0m f_only_positional(a\u001b[39m=\u001b[39;49m\u001b[39m3\u001b[39;49m,b\u001b[39m=\u001b[39;49m\u001b[39m6\u001b[39;49m)\n",
      "\u001b[0;31mTypeError\u001b[0m: f_only_positional() got some positional-only arguments passed as keyword arguments: 'a, b'"
     ]
    }
   ],
   "source": [
    "f_only_positional(a=3,b=6)"
   ]
  },
  {
   "cell_type": "code",
   "execution_count": 5,
   "metadata": {},
   "outputs": [
    {
     "data": {
      "text/plain": [
       "(1, 2, 'default_value')"
      ]
     },
     "execution_count": 5,
     "metadata": {},
     "output_type": "execute_result"
    }
   ],
   "source": [
    "def f_keyward(*,a,b,c='default_value'):\n",
    "    return (a,b,c)\n",
    "f_keyward(a=1,b=2)"
   ]
  },
  {
   "cell_type": "code",
   "execution_count": 6,
   "metadata": {},
   "outputs": [
    {
     "ename": "TypeError",
     "evalue": "f_keyward() takes 0 positional arguments but 1 positional argument (and 1 keyword-only argument) were given",
     "output_type": "error",
     "traceback": [
      "\u001b[0;31m---------------------------------------------------------------------------\u001b[0m",
      "\u001b[0;31mTypeError\u001b[0m                                 Traceback (most recent call last)",
      "Cell \u001b[0;32mIn[6], line 1\u001b[0m\n\u001b[0;32m----> 1\u001b[0m \u001b[43mf_keyward\u001b[49m\u001b[43m(\u001b[49m\u001b[38;5;241;43m1\u001b[39;49m\u001b[43m,\u001b[49m\u001b[43mb\u001b[49m\u001b[38;5;241;43m=\u001b[39;49m\u001b[38;5;241;43m2\u001b[39;49m\u001b[43m)\u001b[49m\n",
      "\u001b[0;31mTypeError\u001b[0m: f_keyward() takes 0 positional arguments but 1 positional argument (and 1 keyword-only argument) were given"
     ]
    }
   ],
   "source": [
    "f_keyward(1,b=2)"
   ]
  },
  {
   "cell_type": "code",
   "execution_count": 7,
   "metadata": {},
   "outputs": [
    {
     "name": "stdout",
     "output_type": "stream",
     "text": [
      "1 [1, 2] 3\n",
      "1 [1, 2] 3\n"
     ]
    }
   ],
   "source": [
    "def f_combined(positional_only, /, positional_or_keyword, *, keyword_only):\n",
    "    print(positional_only, positional_or_keyword, keyword_only)\n",
    "\n",
    "f_combined(1, positional_or_keyword=[1,2], keyword_only=3)\n",
    "f_combined(1, [1,2], keyword_only=3)"
   ]
  },
  {
   "cell_type": "markdown",
   "metadata": {},
   "source": [
    "---\n",
    "# Break and continue\n",
    "These are usually not recommended to use, so think twise about some better way to write the code."
   ]
  },
  {
   "cell_type": "code",
   "execution_count": null,
   "metadata": {},
   "outputs": [
    {
     "name": "stdout",
     "output_type": "stream",
     "text": [
      "wsew\n",
      "344\n"
     ]
    }
   ],
   "source": [
    "while True:   \n",
    "    line = input('> ')\n",
    "    if line == 'done':\n",
    "        break        # ----,  breaks the first outer loop\n",
    "    print(line)      #     |\n",
    "#  <-----------------------'"
   ]
  },
  {
   "cell_type": "code",
   "execution_count": null,
   "metadata": {},
   "outputs": [
    {
     "name": "stdout",
     "output_type": "stream",
     "text": [
      "1\n",
      "2\n",
      "4\n",
      "5\n",
      "7\n",
      "8\n",
      "10\n"
     ]
    }
   ],
   "source": [
    "i = 0\n",
    "while i<10: \n",
    "    i+=1    \n",
    "    if i%3==0:\n",
    "        continue # -,     # jump to the next element in the loop\n",
    "    print(i)     #  |\n",
    "    #  <------------'     # leads to the end of loop"
   ]
  }
 ],
 "metadata": {
  "kernelspec": {
   "display_name": "Python 3",
   "language": "python",
   "name": "python3"
  },
  "language_info": {
   "codemirror_mode": {
    "name": "ipython",
    "version": 3
   },
   "file_extension": ".py",
   "mimetype": "text/x-python",
   "name": "python",
   "nbconvert_exporter": "python",
   "pygments_lexer": "ipython3",
   "version": "3.11.10"
  },
  "orig_nbformat": 4,
  "vscode": {
   "interpreter": {
    "hash": "e7370f93d1d0cde622a1f8e1c04877d8463912d04d973331ad4851f04de6915a"
   }
  }
 },
 "nbformat": 4,
 "nbformat_minor": 2
}
