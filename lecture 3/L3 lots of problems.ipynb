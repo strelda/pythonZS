{
 "cells": [
  {
   "cell_type": "markdown",
   "metadata": {},
   "source": [
    "# Problems"
   ]
  },
  {
   "cell_type": "markdown",
   "metadata": {},
   "source": [
    "---\n",
    "### Converting the temperature\n",
    "Read Fahrenheit temperature from a file and write it in celsius into another.\n",
    "\n",
    "A good practice is to create a wishlist first:\n",
    "- `read_file()` retrieves a content of a file named `in` as a string\n",
    "- `string->number` convert string to number\n",
    "- `f_to_c()` converts a number with a *temperature in Celsius* meaning to Fahrenheit. The formula is $c=(f-32) * 5/9$\n",
    "- `number->string`\n",
    "- `write_file()` writes the string into a file named `out`\n",
    "\n",
    "1. Finish these functions, you don't have to write the doctests.\n",
    "2. Write a function testing if the number is a valid temperature. Where would you test this and print the error, if it is not valid?\n",
    "     \n",
    "     *Note: A temperature in ºC has to be larger than -273.15.*"
   ]
  },
  {
   "cell_type": "code",
   "execution_count": 6,
   "metadata": {},
   "outputs": [
    {
     "data": {
      "text/plain": [
       "'Invalid temperature! written.'"
      ]
     },
     "execution_count": 6,
     "metadata": {},
     "output_type": "execute_result"
    }
   ],
   "source": [
    "def read_file(name:str)->str:\n",
    "    \"\"\"Reads a file called 'name'. Returns a string.\"\"\"\n",
    "    with open(name) as f:\n",
    "        return f.read()\n",
    "\n",
    "def write_file(data:str, name:str)->str:\n",
    "    \"\"\"Write a data into a file called 'name'. Returns success.\"\"\"\n",
    "    with open(name, 'w') as f:\n",
    "        f.write(data)\n",
    "    return str(data)+\" written.\"\n",
    "\n",
    "def f_to_c(f: float)->float:\n",
    "    \"\"\"Convert number representing the temperature in Fahrenheit to Celsius.\"\"\"\n",
    "    c = (f-32) * 5/9\n",
    "    if check_temp(c):\n",
    "        return c\n",
    "    else:\n",
    "        return \"Invalid temperature!\"\n",
    "\n",
    "def check_temp(c: float)->bool:\n",
    "    \"\"\"Check if a number can be interpreted as ºC\"\"\"\n",
    "    return c>-273.15\n",
    "\n",
    "temp_f = float(read_file(\"in\"))\n",
    "temp_c = f_to_c(temp_f)\n",
    "write_file(str(temp_c),\"out\")"
   ]
  },
  {
   "cell_type": "markdown",
   "metadata": {},
   "source": [
    "---\n",
    "### Count odd or even numbers in a list\n",
    "\n",
    "1. write a function which counts number of odd numbers in a list.\n",
    "2. add optional switch with default value `even=False` to count even numbers instead of odd ones, when set to `True`."
   ]
  },
  {
   "cell_type": "code",
   "execution_count": 5,
   "metadata": {},
   "outputs": [
    {
     "data": {
      "text/plain": [
       "TestResults(failed=0, attempted=5)"
      ]
     },
     "execution_count": 5,
     "metadata": {},
     "output_type": "execute_result"
    }
   ],
   "source": [
    "def count_odds(numbers: list) -> int:\n",
    "    \"\"\"\n",
    "    Counts the number of odd numbers in a given list.\n",
    "    Args:\n",
    "        numbers (list): A list of integers.\n",
    "    Examples:\n",
    "        >>> count_odds([1, 2, 3, 4, 5])\n",
    "        3\n",
    "        >>> count_odds([2, 4, 62])\n",
    "        0\n",
    "    \"\"\"\n",
    "    \n",
    "    c = 0\n",
    "    for x in numbers:\n",
    "        if x % 2 != 0:\n",
    "            c += 1\n",
    "    return c\n",
    "\n",
    "def count_odds_or_even(numbers: list, odd=True) -> int:\n",
    "    \"\"\"\n",
    "    Counts the number of odd or even numbers in a given list.\n",
    "    Args:\n",
    "        numbers (list): A list of integers to be checked.\n",
    "        odd (bool, optional): If True (default), count odd numbers; if False, count even numbers.\n",
    "    Examples:\n",
    "        >>> count_odds_or_even([1, 2, 3, 4, 5])\n",
    "        3\n",
    "        >>> count_odds_or_even([1, 2, 3, 4, 5], odd=False)\n",
    "        2\n",
    "        >>> count_odds_or_even([2, 4, 6, 8], odd=True)\n",
    "        0\n",
    "    \"\"\"\n",
    "    c = 0\n",
    "    for x in numbers:\n",
    "        if (x % 2 == 0 and not odd) or (x % 2 != 0 and odd):\n",
    "            c += 1\n",
    "    return c\n",
    "\n",
    "import doctest\n",
    "doctest.testmod()"
   ]
  },
  {
   "cell_type": "markdown",
   "metadata": {},
   "source": [
    "### Return odd or even numbers in a list\n",
    "Edit the code from previous task to return all odd or even numbers as a list, instead of just counting them. Again, make this depend on the switch."
   ]
  },
  {
   "cell_type": "code",
   "execution_count": null,
   "metadata": {},
   "outputs": [
    {
     "data": {
      "text/plain": [
       "[2, 4]"
      ]
     },
     "metadata": {},
     "output_type": "display_data"
    }
   ],
   "source": [
    "def choose_even(numbers: list)->list:\n",
    "    out = []\n",
    "    for x in numbers:\n",
    "        if x % 2 == 0:\n",
    "            out.append(x)\n",
    "    return out"
   ]
  },
  {
   "cell_type": "markdown",
   "metadata": {},
   "source": [
    "---\n",
    "### Text file\n",
    "\n",
    "Write a program that gets a text file and:\n",
    "- calculates the number of lines, words and visible characters (without spaces and line breaks),\n",
    "- copies it to another file, so that the line order is reversed (the first line becomes the last one etc.),\n",
    "- do the same again, but now reverse even the words on the lines,\n",
    "- find all numbers (separated by spaces) on each line and print their sum."
   ]
  },
  {
   "cell_type": "code",
   "execution_count": 47,
   "metadata": {},
   "outputs": [
    {
     "name": "stdout",
     "output_type": "stream",
     "text": [
      "3\n",
      "5\n",
      "28\n"
     ]
    }
   ],
   "source": [
    "def num_of_lines(filename: str)->int:\n",
    "    \"\"\"Returns the number of lines in a file.\"\"\"\n",
    "    n = 0\n",
    "    for line in open(filename):\n",
    "        n += 1\n",
    "    return n\n",
    "\n",
    "def num_of_words(filename: str)->int:\n",
    "    \"\"\"Returns the number of words in a file.\"\"\"\n",
    "    n = 0\n",
    "    for line in open(filename):\n",
    "        n += len(line.split())\n",
    "    return n\n",
    "\n",
    "def num_of_characters(filename: str)->int:\n",
    "    \"\"\"Returns the number of characters in a file.\"\"\"\n",
    "    n = 0\n",
    "    for line in open(filename):\n",
    "        n += len(line.strip().replace(' ', ''))\n",
    "    return n\n",
    "\n",
    "print(num_of_lines('input.txt'))\n",
    "print(num_of_words('input.txt'))\n",
    "print(num_of_characters('input.txt'))"
   ]
  },
  {
   "cell_type": "markdown",
   "metadata": {},
   "source": [
    "---\n",
    "<div class=\"alert alert-warning\" role=\"alert\" style=\"margin: 10px\">\n",
    "Before moving on, continue on problems from the last week if you haven't finished them.\n",
    "</div>"
   ]
  },
  {
   "cell_type": "markdown",
   "metadata": {},
   "source": [
    "---\n",
    "# Problematic problems"
   ]
  },
  {
   "cell_type": "markdown",
   "metadata": {},
   "source": [
    "### Turtle refactoring\n",
    "1. Refactor the Turtle game from `2. Interactive programs.ipynb`, i.e. think about which variables are repeating and define them globally. One of these variables should be the `speed`.\n",
    "2. Bind keys to increase and decrease the speed of the turtle. I reccomend printing the current speed to the console so you can easily test it.\n",
    "\n",
    "Note: Because you will be changing the global variable from within a function, you need to use the `global` keyword. The functions should look like this:\n",
    "    \n",
    "```python\n",
    "def increase_speed():\n",
    "    global speed\n",
    "    ...\n",
    "```"
   ]
  },
  {
   "cell_type": "code",
   "execution_count": null,
   "metadata": {},
   "outputs": [],
   "source": [
    "import turtle\n",
    "\n",
    "# Global variables\n",
    "INITIAL_SPEED = 10\n",
    "TURN_ANGLE = 15\n",
    "SPEED_CHANGE = 2\n",
    "\n",
    "# Set up the screen\n",
    "screen = turtle.Screen()\n",
    "screen.title(\"Interactive Turtle Control\")\n",
    "screen.bgcolor(\"white\")\n",
    "\n",
    "# Create the turtle\n",
    "my_turtle = turtle.Turtle()\n",
    "my_turtle.shape(\"turtle\")\n",
    "my_turtle.color(\"black\")\n",
    "\n",
    "# Global speed variable\n",
    "speed = INITIAL_SPEED\n",
    "\n",
    "# Define movement functions\n",
    "def move_forward():\n",
    "    my_turtle.forward(speed)\n",
    "\n",
    "def move_backward():\n",
    "    my_turtle.backward(speed)\n",
    "\n",
    "def turn_left():\n",
    "    my_turtle.left(TURN_ANGLE)\n",
    "\n",
    "def turn_right():\n",
    "    my_turtle.right(TURN_ANGLE)\n",
    "\n",
    "# Define speed control functions\n",
    "def increase_speed():\n",
    "    global speed\n",
    "    speed += SPEED_CHANGE\n",
    "    print(\"Speed increased to\"+str(speed))\n",
    "\n",
    "def decrease_speed():\n",
    "    global speed\n",
    "    speed = max(1, speed - SPEED_CHANGE)  # Ensure speed doesn't go below 1\n",
    "    print(\"Speed decreased to\"+str(speed))\n",
    "\n",
    "# Bind keys to functions\n",
    "screen.listen()\n",
    "screen.onkey(move_forward, \"Up\")\n",
    "screen.onkey(move_backward, \"Down\")\n",
    "screen.onkey(turn_left, \"Left\")\n",
    "screen.onkey(turn_right, \"Right\")\n",
    "screen.onkey(increase_speed, \"w\")\n",
    "screen.onkey(decrease_speed, \"s\")\n",
    "\n",
    "# Keep the window open\n",
    "screen.mainloop()"
   ]
  },
  {
   "cell_type": "markdown",
   "metadata": {},
   "source": [
    "### Turtle game\n",
    "1. Change the controls of the turtle game so that arrows send the turtle in the direction from your perspective, not from the perspective of the turtle.\n",
    "2. Create obstacles into which the turtle can't enter.\n",
    "3. Create a worm-hole, i.e. when the turtle enters some area, it appears in another area of the screen."
   ]
  }
 ],
 "metadata": {
  "kernelspec": {
   "display_name": "base",
   "language": "python",
   "name": "python3"
  },
  "language_info": {
   "codemirror_mode": {
    "name": "ipython",
    "version": 3
   },
   "file_extension": ".py",
   "mimetype": "text/x-python",
   "name": "python",
   "nbconvert_exporter": "python",
   "pygments_lexer": "ipython3",
   "version": "3.11.4"
  }
 },
 "nbformat": 4,
 "nbformat_minor": 2
}
