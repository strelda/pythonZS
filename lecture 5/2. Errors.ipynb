{
 "cells": [
  {
   "cell_type": "markdown",
   "metadata": {},
   "source": [
    "# Raise\n",
    "Up to now, we were printing a message upon encountering an error. This had some problems in the datatypes, as well in the fact that the program was not guaranteed to stop on error. \n",
    "<div class=\"alert alert-block alert-info\">\n",
    "    We are able to raise an exception, which will stop the program and return a custom error message.\n",
    "</div>\n",
    "\n",
    "### Example for temperature conversion"
   ]
  },
  {
   "cell_type": "code",
   "execution_count": 1,
   "metadata": {},
   "outputs": [
    {
     "ename": "ValueError",
     "evalue": "Invalid temperature!",
     "output_type": "error",
     "traceback": [
      "\u001b[0;31m---------------------------------------------------------------------------\u001b[0m",
      "\u001b[0;31mValueError\u001b[0m                                Traceback (most recent call last)",
      "Cell \u001b[0;32mIn[1], line 15\u001b[0m\n\u001b[1;32m     11\u001b[0m \u001b[38;5;250m    \u001b[39m\u001b[38;5;124;03m\"\"\"Check if a number can be interpreted as ºC\"\"\"\u001b[39;00m\n\u001b[1;32m     12\u001b[0m     \u001b[38;5;28;01mreturn\u001b[39;00m c\u001b[38;5;241m>\u001b[39m\u001b[38;5;241m-\u001b[39m\u001b[38;5;241m273.15\u001b[39m\n\u001b[0;32m---> 15\u001b[0m \u001b[43mf_to_c\u001b[49m\u001b[43m(\u001b[49m\u001b[38;5;241;43m-\u001b[39;49m\u001b[38;5;241;43m2233\u001b[39;49m\u001b[43m)\u001b[49m\n",
      "Cell \u001b[0;32mIn[1], line 8\u001b[0m, in \u001b[0;36mf_to_c\u001b[0;34m(f)\u001b[0m\n\u001b[1;32m      5\u001b[0m     \u001b[38;5;28;01mreturn\u001b[39;00m c\n\u001b[1;32m      6\u001b[0m \u001b[38;5;28;01melse\u001b[39;00m:\n\u001b[1;32m      7\u001b[0m     \u001b[38;5;66;03m# return \"Invalid temperature!\"\u001b[39;00m\n\u001b[0;32m----> 8\u001b[0m     \u001b[38;5;28;01mraise\u001b[39;00m \u001b[38;5;167;01mValueError\u001b[39;00m(\u001b[38;5;124m\"\u001b[39m\u001b[38;5;124mInvalid temperature!\u001b[39m\u001b[38;5;124m\"\u001b[39m)\n",
      "\u001b[0;31mValueError\u001b[0m: Invalid temperature!"
     ]
    }
   ],
   "source": [
    "def f_to_c(f: float)->float:\n",
    "    \"\"\"Convert number representing the temperature in Fahrenheit to Celsius.\"\"\"\n",
    "    c = (f-32) * 5/9\n",
    "    if check_temp(c):\n",
    "        return c\n",
    "    else:\n",
    "        # return \"Invalid temperature!\"\n",
    "        raise ValueError(\"Invalid temperature!\")\n",
    "\n",
    "def check_temp(c: float)->bool:\n",
    "    \"\"\"Check if a number can be interpreted as ºC\"\"\"\n",
    "    return c>-273.15\n",
    "\n",
    "\n",
    "f_to_c(-2233)"
   ]
  },
  {
   "cell_type": "markdown",
   "metadata": {},
   "source": [
    "Here is a [list of python errors](https://docs.python.org/3/library/exceptions.html) you can use. If you don't find what you need, you can define your own errors similarly to defining a class."
   ]
  },
  {
   "cell_type": "markdown",
   "metadata": {},
   "source": [
    "---\n",
    "# Try except\n",
    "When something is not guaranteed to work we can use the `try` `except` statement to handle errors, if it does not work. \n"
   ]
  },
  {
   "cell_type": "code",
   "execution_count": 2,
   "metadata": {},
   "outputs": [
    {
     "ename": "TypeError",
     "evalue": "unsupported operand type(s) for +: 'int' and 'str'",
     "output_type": "error",
     "traceback": [
      "\u001b[0;31m---------------------------------------------------------------------------\u001b[0m",
      "\u001b[0;31mTypeError\u001b[0m                                 Traceback (most recent call last)",
      "Cell \u001b[0;32mIn[2], line 1\u001b[0m\n\u001b[0;32m----> 1\u001b[0m \u001b[38;5;28mprint\u001b[39m(\u001b[38;5;241;43m2\u001b[39;49m\u001b[38;5;241;43m+\u001b[39;49m\u001b[38;5;124;43m\"\u001b[39;49m\u001b[38;5;124;43m4\u001b[39;49m\u001b[38;5;124;43m\"\u001b[39;49m)\n",
      "\u001b[0;31mTypeError\u001b[0m: unsupported operand type(s) for +: 'int' and 'str'"
     ]
    }
   ],
   "source": [
    "print(2+\"4\")"
   ]
  },
  {
   "cell_type": "markdown",
   "metadata": {},
   "source": [
    "<div class=\"alert alert-block alert-info\">\n",
    "We are able to <code>try</code> something, and if the python interpreter encounters an error, it goes to the <code>except</code> scope.\n",
    "</div>"
   ]
  },
  {
   "cell_type": "code",
   "execution_count": 3,
   "metadata": {},
   "outputs": [
    {
     "name": "stdout",
     "output_type": "stream",
     "text": [
      "cant be done\n"
     ]
    }
   ],
   "source": [
    "try:\n",
    "    print(2+\"4\")\n",
    "except:\n",
    "    print(\"cant be done\")"
   ]
  },
  {
   "cell_type": "markdown",
   "metadata": {},
   "source": [
    "In the temperature example, we would like to handle an error if we input a string. This is what we get by default:"
   ]
  },
  {
   "cell_type": "code",
   "execution_count": 4,
   "metadata": {},
   "outputs": [
    {
     "ename": "TypeError",
     "evalue": "unsupported operand type(s) for -: 'str' and 'int'",
     "output_type": "error",
     "traceback": [
      "\u001b[0;31m---------------------------------------------------------------------------\u001b[0m",
      "\u001b[0;31mTypeError\u001b[0m                                 Traceback (most recent call last)",
      "Cell \u001b[0;32mIn[4], line 1\u001b[0m\n\u001b[0;32m----> 1\u001b[0m \u001b[43mf_to_c\u001b[49m\u001b[43m(\u001b[49m\u001b[38;5;124;43m\"\u001b[39;49m\u001b[38;5;124;43mhot\u001b[39;49m\u001b[38;5;124;43m\"\u001b[39;49m\u001b[43m)\u001b[49m\n",
      "Cell \u001b[0;32mIn[1], line 3\u001b[0m, in \u001b[0;36mf_to_c\u001b[0;34m(f)\u001b[0m\n\u001b[1;32m      1\u001b[0m \u001b[38;5;28;01mdef\u001b[39;00m \u001b[38;5;21mf_to_c\u001b[39m(f: \u001b[38;5;28mfloat\u001b[39m)\u001b[38;5;241m-\u001b[39m\u001b[38;5;241m>\u001b[39m\u001b[38;5;28mfloat\u001b[39m:\n\u001b[1;32m      2\u001b[0m \u001b[38;5;250m    \u001b[39m\u001b[38;5;124;03m\"\"\"Convert number representing the temperature in Fahrenheit to Celsius.\"\"\"\u001b[39;00m\n\u001b[0;32m----> 3\u001b[0m     c \u001b[38;5;241m=\u001b[39m (\u001b[43mf\u001b[49m\u001b[38;5;241;43m-\u001b[39;49m\u001b[38;5;241;43m32\u001b[39;49m) \u001b[38;5;241m*\u001b[39m \u001b[38;5;241m5\u001b[39m\u001b[38;5;241m/\u001b[39m\u001b[38;5;241m9\u001b[39m\n\u001b[1;32m      4\u001b[0m     \u001b[38;5;28;01mif\u001b[39;00m check_temp(c):\n\u001b[1;32m      5\u001b[0m         \u001b[38;5;28;01mreturn\u001b[39;00m c\n",
      "\u001b[0;31mTypeError\u001b[0m: unsupported operand type(s) for -: 'str' and 'int'"
     ]
    }
   ],
   "source": [
    "f_to_c(\"hot\")"
   ]
  },
  {
   "cell_type": "code",
   "execution_count": 5,
   "metadata": {},
   "outputs": [
    {
     "ename": "TypeError",
     "evalue": "Temperature has to be a number.",
     "output_type": "error",
     "traceback": [
      "\u001b[0;31m---------------------------------------------------------------------------\u001b[0m",
      "\u001b[0;31mTypeError\u001b[0m                                 Traceback (most recent call last)",
      "Cell \u001b[0;32mIn[5], line 4\u001b[0m, in \u001b[0;36mf_to_c\u001b[0;34m(f)\u001b[0m\n\u001b[1;32m      3\u001b[0m \u001b[38;5;28;01mtry\u001b[39;00m:\n\u001b[0;32m----> 4\u001b[0m     c \u001b[38;5;241m=\u001b[39m (\u001b[43mf\u001b[49m\u001b[38;5;241;43m-\u001b[39;49m\u001b[38;5;241;43m32\u001b[39;49m) \u001b[38;5;241m*\u001b[39m \u001b[38;5;241m5\u001b[39m\u001b[38;5;241m/\u001b[39m\u001b[38;5;241m9\u001b[39m\n\u001b[1;32m      5\u001b[0m \u001b[38;5;28;01mexcept\u001b[39;00m:\n",
      "\u001b[0;31mTypeError\u001b[0m: unsupported operand type(s) for -: 'str' and 'int'",
      "\nDuring handling of the above exception, another exception occurred:\n",
      "\u001b[0;31mTypeError\u001b[0m                                 Traceback (most recent call last)",
      "Cell \u001b[0;32mIn[5], line 11\u001b[0m\n\u001b[1;32m      9\u001b[0m     \u001b[38;5;28;01melse\u001b[39;00m:\n\u001b[1;32m     10\u001b[0m         \u001b[38;5;28;01mraise\u001b[39;00m \u001b[38;5;167;01mValueError\u001b[39;00m(\u001b[38;5;124m\"\u001b[39m\u001b[38;5;124mInvalid temperature!\u001b[39m\u001b[38;5;124m\"\u001b[39m)\n\u001b[0;32m---> 11\u001b[0m \u001b[43mf_to_c\u001b[49m\u001b[43m(\u001b[49m\u001b[38;5;124;43m\"\u001b[39;49m\u001b[38;5;124;43mhot\u001b[39;49m\u001b[38;5;124;43m\"\u001b[39;49m\u001b[43m)\u001b[49m\n",
      "Cell \u001b[0;32mIn[5], line 6\u001b[0m, in \u001b[0;36mf_to_c\u001b[0;34m(f)\u001b[0m\n\u001b[1;32m      4\u001b[0m     c \u001b[38;5;241m=\u001b[39m (f\u001b[38;5;241m-\u001b[39m\u001b[38;5;241m32\u001b[39m) \u001b[38;5;241m*\u001b[39m \u001b[38;5;241m5\u001b[39m\u001b[38;5;241m/\u001b[39m\u001b[38;5;241m9\u001b[39m\n\u001b[1;32m      5\u001b[0m \u001b[38;5;28;01mexcept\u001b[39;00m:\n\u001b[0;32m----> 6\u001b[0m     \u001b[38;5;28;01mraise\u001b[39;00m \u001b[38;5;167;01mTypeError\u001b[39;00m(\u001b[38;5;124m\"\u001b[39m\u001b[38;5;124mTemperature has to be a number.\u001b[39m\u001b[38;5;124m\"\u001b[39m)\n\u001b[1;32m      7\u001b[0m \u001b[38;5;28;01mif\u001b[39;00m check_temp(c):\n\u001b[1;32m      8\u001b[0m     \u001b[38;5;28;01mreturn\u001b[39;00m c\n",
      "\u001b[0;31mTypeError\u001b[0m: Temperature has to be a number."
     ]
    }
   ],
   "source": [
    "def f_to_c(f: float)->float:\n",
    "    \"\"\"Convert number representing the temperature in Fahrenheit to Celsius.\"\"\"\n",
    "    try:\n",
    "        c = (f-32) * 5/9\n",
    "    except:\n",
    "        raise TypeError(\"Temperature has to be a number.\")\n",
    "    if check_temp(c):\n",
    "        return c\n",
    "    else:\n",
    "        raise ValueError(\"Invalid temperature!\")\n",
    "f_to_c(\"hot\")"
   ]
  },
  {
   "cell_type": "markdown",
   "metadata": {},
   "source": [
    "<table style=\"width: 100%; height: 100%; border-collapse: collapse; border: none; table-layout: fixed; position: relative;\">\n",
    "  <tr style=\"height: 100%; border: none;\">\n",
    "    <td style=\"vertical-align: top; border: none; padding: 0; margin: 0; width: 200px;\">\n",
    "      <img src=\"../grug.jpeg\" alt=\"Grug\" style=\"width: 100%; height: auto; display: block;\">\n",
    "    </td>\n",
    "    <td style=\"vertical-align: top; border: none; padding: 0; margin: 0;\">\n",
    "      <blockquote style=\"height: 100%; display: flex; flex-direction: column; justify-content: center; margin: 0;\">\n",
    "        <p>\"Worse is better.\"</p>\n",
    "      </blockquote>\n",
    "    </td>\n",
    "  </tr>\n",
    "</table>\n",
    "<a href=\"https://grugbrain.dev/\" style=\"position: absolute; bottom: 10px; right: 10px;\">GrugBrain.dev</a>"
   ]
  }
 ],
 "metadata": {
  "kernelspec": {
   "display_name": "base",
   "language": "python",
   "name": "python3"
  },
  "language_info": {
   "codemirror_mode": {
    "name": "ipython",
    "version": 3
   },
   "file_extension": ".py",
   "mimetype": "text/x-python",
   "name": "python",
   "nbconvert_exporter": "python",
   "pygments_lexer": "ipython3",
   "version": "3.11.4"
  }
 },
 "nbformat": 4,
 "nbformat_minor": 2
}
