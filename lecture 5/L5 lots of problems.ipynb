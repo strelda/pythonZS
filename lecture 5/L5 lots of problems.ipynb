{
 "cells": [
  {
   "attachments": {},
   "cell_type": "markdown",
   "metadata": {},
   "source": [
    "# Problems\n",
    "---\n",
    "### Traffic light\n",
    "Now we have everything to properly finish the traffic light example. The last stage was"
   ]
  },
  {
   "cell_type": "code",
   "execution_count": 2,
   "metadata": {},
   "outputs": [
    {
     "name": "stdout",
     "output_type": "stream",
     "text": [
      "Light.ORANGE\n"
     ]
    }
   ],
   "source": [
    "from enum import Enum\n",
    "\n",
    "class Light(Enum):\n",
    "    RED = 1\n",
    "    ORANGE = 2\n",
    "    GREEN = 3\n",
    "\n",
    "def next_light(current_light:Light)->Light:\n",
    "    if current_light == Light.RED:\n",
    "        return Light.ORANGE\n",
    "    elif current_light == Light.ORANGE:\n",
    "        return Light.GREEN\n",
    "    else:\n",
    "        return Light.RED\n",
    " \n",
    "current = Light.RED # same as TrafficLight(1)\n",
    "print(next_light(current))"
   ]
  },
  {
   "cell_type": "markdown",
   "metadata": {},
   "source": [
    "This code is safer, but it is not perfect. For example, adding another color requires changes on multiple places. The following code is much cleaner in this sense:"
   ]
  },
  {
   "cell_type": "code",
   "execution_count": 5,
   "metadata": {},
   "outputs": [
    {
     "data": {
      "text/plain": [
       "<Light.RED: 1>"
      ]
     },
     "execution_count": 5,
     "metadata": {},
     "output_type": "execute_result"
    }
   ],
   "source": [
    "def next_light(current_light:Light)->Light:\n",
    "    next_value = (current_light.value % len(Light)) + 1\n",
    "    return Light(next_value)"
   ]
  },
  {
   "cell_type": "markdown",
   "metadata": {},
   "source": [
    "1. Design a `TrafficLight` class, which initializes to some color contained in `Light`:\n",
    "```python\n",
    "class TrafficLight:\n",
    "    def __init__(self, color: Light):\n",
    "        ...\n",
    "```\n",
    "2. Reimplement the function `next_light` as a method:\n",
    "```python\n",
    "class TrafficLight:\n",
    "    ...\n",
    "    def next_light(self):\n",
    "        if self.color == Light.RED:\n",
    "            self.color = ...\n",
    "        elif self.color == Light.ORANGE:\n",
    "            self.color = ...\n",
    "        else:\n",
    "            self.color = ...\n",
    "        return self.color\n",
    "```\n",
    "3. Implement the `__repr__` method to return the color of the traffic light:\n",
    "4. Add an ability to add an integer $n$ to the traffic light, which calls $n\\times$ the `next_light` method.\n",
    "```python\n",
    "class TrafficLight:\n",
    "    ...\n",
    "    def __add__(self, n: int):\n",
    "        ...\n",
    "```\n",
    "Desired functionality:\n",
    "```python\n",
    "t1 = TrafficLight(Light.RED)\n",
    "print(t1) # RED\n",
    "t1+2\n",
    "print(t1) # GREEN\n",
    "```\n",
    "5. Take care of the case when $n$ is negative. You might need to implement the `prev_color` method.\n",
    "6. Take care of the error, of someone does not enter an integer into the `__add__` method.\n"
   ]
  },
  {
   "cell_type": "code",
   "execution_count": 21,
   "metadata": {},
   "outputs": [
    {
     "name": "stdout",
     "output_type": "stream",
     "text": [
      "RED\n",
      "ORANGE\n",
      "ORANGE\n",
      "RED\n"
     ]
    }
   ],
   "source": [
    "from enum import Enum\n",
    "\n",
    "class Light(Enum):\n",
    "    RED = 1\n",
    "    ORANGE = 2\n",
    "    GREEN = 3\n",
    "\n",
    "class TrafficLight:\n",
    "    def __init__(self, color: Light):\n",
    "        self.color = color\n",
    "\n",
    "    def next_light(self):\n",
    "        next_value = (self.color.value % len(Light)) + 1\n",
    "        return Light(next_value)\n",
    "\n",
    "    def prev_light(self):\n",
    "        prev_value = ((self.color.value - 2) % len(Light)) + 1\n",
    "        return Light(prev_value)\n",
    "\n",
    "    def __repr__(self):\n",
    "        return self.color.name\n",
    "\n",
    "    def __add__(self, other: int):\n",
    "        if not isinstance(other, int):\n",
    "            raise TypeError(\"Can only add integer to TrafficLight\")\n",
    "        \n",
    "        new_color = self.color\n",
    "        if other > 0:\n",
    "            for _ in range(other):\n",
    "                new_color = self.next_light()\n",
    "        else:\n",
    "            for _ in range(-other):\n",
    "                new_color = self.prev_light()\n",
    "        \n",
    "        return TrafficLight(new_color)\n",
    "\n",
    "# Usage\n",
    "t1 = TrafficLight(Light.RED)\n",
    "print(t1)        # RED\n",
    "print(t1 + 1)    # ORANGE\n",
    "print(t1 + 2)    # GREEN\n",
    "print(t1)        # RED (original t1 is unchanged)"
   ]
  },
  {
   "cell_type": "markdown",
   "metadata": {},
   "source": [
    "---\n",
    "### RGB colors\n",
    "Create a class called RGBColor, which can be used as\n",
    "```python\n",
    "color = RGBColor(166, 0, 255)\n",
    "\n",
    "# return True if the sum of the three values is less than 100, False otherwise\n",
    "color.is_dark()\n",
    "\n",
    "# iterate over R,G,B colors\n",
    "for i in color:\n",
    "    print(i)\n",
    "```\n",
    "In other words, \n",
    "1. create class `RGBColor` with 3 attributes: red, green, blue. \n",
    "2. Implement the method `is_dark()` which returns True if the sum of the three values is less than 100, False otherwise. \n",
    "3. Implement the method `__iter__()` which returns an iterator over the three values."
   ]
  },
  {
   "cell_type": "code",
   "execution_count": 15,
   "metadata": {},
   "outputs": [
    {
     "name": "stdout",
     "output_type": "stream",
     "text": [
      "is it dark? False\n",
      "111\n",
      "11\n",
      "10\n"
     ]
    }
   ],
   "source": [
    "class RGBColor:\n",
    "    def __init__(self, r: int, g: int, b: int):\n",
    "        self.red = r\n",
    "        self.green = g\n",
    "        self.blue = b\n",
    "    \n",
    "    def __iter__(self):\n",
    "        return iter([self.red, self.green, self.blue]) # or [self.red, self.green, self.blue].__iter__()\n",
    "\n",
    "    def is_dark(self):\n",
    "        return self.red + self.green + self.blue < 100\n",
    "        \n",
    "\n",
    "col = RGBColor(111,11,10)\n",
    "print(\"is it dark?\", col.is_dark())\n",
    "for i in col:\n",
    "    print(i)"
   ]
  },
  {
   "cell_type": "markdown",
   "metadata": {},
   "source": [
    "---\n",
    "### Weather station\n",
    "Create a class called WeatherStation, with the following attributes:\n",
    "- name\n",
    "- location (a tuple of latitude and longitude)\n",
    "- temperature (a float)\n",
    "- wind speed (a float)\n",
    "\n",
    "and the following methods:\n",
    "- `__init__` which takes the name, location, temperature and wind speed as arguments\n",
    "- `get_temperature` which returns the temperature\n",
    "- `get_wind_speed` which returns the wind speed\n",
    "- implement addition (`__add__(self, other)` method) of two WeatherStation objects, with a meaning of two stations average. It should return a new WeatherStation object with the \n",
    "    - name in a format `name1+name2`, \n",
    "    - sum of locations, \n",
    "    - added temperature and wind speed of the two objects. \n",
    "- implement the `<` operator (`__lt__` method). It should return a tuple `(temperature1<temperature2, wind_speed1<wind_speed2)`.\n",
    "- implement the `__repr__` method which returns a string in the format `name: temperature, wind speed`\n",
    "- create a method `add_historical_data(self, date: datetime.date, temperature: float, wind_speed: float)`, you can use the `datetime` package (`import datetime`). You will also need to create a new attribute `historical_data = {}`, empty by default, which will be a dictionary with the date as a key and a tuple of temperature and wind speed as a value.\n",
    "- create a method `get_historical_data(self, date: datetime.date)`, which returns the temperature and wind speed for the given date. If the date is not in the dictionary, return `None`.\n",
    "- create a method `get_all_historical_data(self)`, which returns the whole dictionary `self.historical_data`."
   ]
  },
  {
   "cell_type": "code",
   "execution_count": 16,
   "metadata": {},
   "outputs": [
    {
     "name": "stdout",
     "output_type": "stream",
     "text": [
      "Combined Station Name: Olomouc+Plzeň\n",
      "Averaged Location: (37.3825, -96.12485000000001)\n",
      "Averaged Temperature: 23.0°C\n",
      "Averaged Wind Speed: 12.8 km/h\n",
      "(True, False)\n",
      "WeatherStation(Olomouc, (40.7128, -74.006), 20, 15.2)\n",
      "(20, 15.2)\n",
      "{datetime.date(2020, 1, 1): (20, 15.2), datetime.date(2020, 1, 2): (20, 15.2)}\n"
     ]
    }
   ],
   "source": [
    "import datetime\n",
    "\n",
    "class WeatherStation:\n",
    "    def __init__(self, name, location, temperature, wind_speed, historical_data = {}):\n",
    "        self.name = name\n",
    "        self.location = location\n",
    "        self.temperature = temperature\n",
    "        self.wind_speed = wind_speed\n",
    "        self.historical_data = {}\n",
    "\n",
    "    def get_temperature(self):\n",
    "        return self.temperature\n",
    "\n",
    "    def get_wind_speed(self):\n",
    "        return self.wind_speed\n",
    "\n",
    "    def __add__(self, other):\n",
    "        \"\"\"Returns a new WeatherStation object with the average of the two stations.\"\"\"\n",
    "        new_name = self.name + \"+\" + other.name\n",
    "        new_location = ((self.location[0] + other.location[0])/2, (self.location[1] + other.location[1])/2)\n",
    "        new_temperature = (self.temperature + other.temperature)/2\n",
    "        new_wind_speed = (self.wind_speed + other.wind_speed)/2\n",
    "        return WeatherStation(new_name, new_location, new_temperature, new_wind_speed)\n",
    "    def __lt__(self, other: \"WeatherStation\"):\n",
    "        return (self.temperature < other.temperature, self.wind_speed < other.wind_speed)\n",
    "    def __repr__(self):\n",
    "        return f\"WeatherStation({self.name}, {self.location}, {self.temperature}, {self.wind_speed})\"\n",
    "    def add_historical_data(self, date: datetime.date, temperature: float, wind_speed: float):\n",
    "        self.historical_data[date] = (temperature, wind_speed)\n",
    "    def get_historical_data(self, date: datetime.date):\n",
    "        return self.historical_data[date]\n",
    "    def get_all_historical_data(self):\n",
    "        return self.historical_data\n",
    "\n",
    "        \n",
    "\n",
    "# Example Usage\n",
    "station1 = WeatherStation(\"Olomouc\", (40.7128, -74.0060), 20, 15.2)\n",
    "station2 = WeatherStation(\"Plzeň\", (34.0522, -118.2437), 26, 10.4)\n",
    "\n",
    "combined_station = station1 + station2\n",
    "\n",
    "print(f\"Combined Station Name: {combined_station.name}\")\n",
    "print(f\"Averaged Location: {combined_station.location}\")\n",
    "print(f\"Averaged Temperature: {combined_station.get_temperature()}°C\")\n",
    "print(f\"Averaged Wind Speed: {combined_station.get_wind_speed()} km/h\")\n",
    "\n",
    "print(station1 < station2)\n",
    "print(station1)\n",
    "station1.add_historical_data(datetime.date(2020, 1, 1), 20, 15.2)\n",
    "station1.add_historical_data(datetime.date(2020, 1, 2), 20, 15.2)\n",
    "print(station1.get_historical_data(datetime.date(2020, 1, 1)))\n",
    "print(station1.get_all_historical_data())"
   ]
  },
  {
   "cell_type": "markdown",
   "metadata": {},
   "source": [
    "# Problematic problems\n",
    "\n",
    "---\n",
    "### Weather station\n",
    "- Add a plotter of historical data to the weather station above. \n",
    "- scrape some webpage with weather data and save values into `historical_data`.\n",
    "\n",
    "\n",
    "### Automatic differentiation\n",
    "Study how automatic differentiation works, for example [on wikipedia](https://en.wikipedia.org/wiki/Automatic_differentiation). Use it for finding the derivative of the function, for example $f(x) = \\sin(x^2)$ at $x=3$."
   ]
  }
 ],
 "metadata": {
  "kernelspec": {
   "display_name": "Python 3",
   "language": "python",
   "name": "python3"
  },
  "language_info": {
   "codemirror_mode": {
    "name": "ipython",
    "version": 3
   },
   "file_extension": ".py",
   "mimetype": "text/x-python",
   "name": "python",
   "nbconvert_exporter": "python",
   "pygments_lexer": "ipython3",
   "version": "3.11.10"
  },
  "orig_nbformat": 4,
  "vscode": {
   "interpreter": {
    "hash": "e7370f93d1d0cde622a1f8e1c04877d8463912d04d973331ad4851f04de6915a"
   }
  }
 },
 "nbformat": 4,
 "nbformat_minor": 2
}
