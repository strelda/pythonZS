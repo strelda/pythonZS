{
 "cells": [
  {
   "attachments": {},
   "cell_type": "markdown",
   "metadata": {},
   "source": [
    "# Classes, beyond init \n",
    "\n",
    "<div class=\"alert alert-block alert-info\">\n",
    "Each class can have its own functions called <b>methods</b>. The methods with underscores are called <b>magical methods</b> and have some predefined usage. For example <i>__init__</i> is called when the object is created.\n",
    "</div>\n",
    "\n",
    "We already understand the following code. Remember that all methods should have `self` as the first argument."
   ]
  },
  {
   "cell_type": "code",
   "execution_count": 3,
   "metadata": {},
   "outputs": [],
   "source": [
    "class Lizard:\n",
    "    def __init__(self, name: str, length: float):\n",
    "        self.name = name\n",
    "        self.length = length\n",
    "\n",
    "l1 = Lizard(\"Ted Cooper\", 12.)"
   ]
  },
  {
   "cell_type": "markdown",
   "metadata": {},
   "source": [
    "We know that only Lizards can say \"Ehhh\". It would be weird if, for example, the traffic light said it. \n"
   ]
  },
  {
   "cell_type": "code",
   "execution_count": 14,
   "metadata": {},
   "outputs": [
    {
     "name": "stdout",
     "output_type": "stream",
     "text": [
      "Ehhh\n"
     ]
    }
   ],
   "source": [
    "class Lizard:\n",
    "    def __init__(self, name: str, length: float):\n",
    "        self.name = name\n",
    "        self.length = length\n",
    "\n",
    "    def sayeh(self):\n",
    "        print(\"Ehhh\")\n",
    "\n",
    "l1 = Lizard(\"Ted Cooper\", 12.)\n",
    "l1.sayeh()"
   ]
  },
  {
   "attachments": {},
   "cell_type": "markdown",
   "metadata": {},
   "source": [
    "If you forget about the self argument, you get \n",
    "```python\n",
    "TypeError: Human.sayeh() takes 0 positional arguments but 1 was given\n",
    "```"
   ]
  },
  {
   "attachments": {},
   "cell_type": "markdown",
   "metadata": {},
   "source": [
    "---\n",
    "### Magical methods\n",
    "\n",
    "There are many more magical methods. For example the __repr__ method is called when the object is printed.\n",
    "\n",
    "The default functionality for `print()` is:"
   ]
  },
  {
   "cell_type": "code",
   "execution_count": 4,
   "metadata": {},
   "outputs": [
    {
     "name": "stdout",
     "output_type": "stream",
     "text": [
      "<__main__.Lizard object at 0x113845190>\n"
     ]
    }
   ],
   "source": [
    "print(l1)"
   ]
  },
  {
   "cell_type": "code",
   "execution_count": 8,
   "metadata": {},
   "outputs": [
    {
     "name": "stdout",
     "output_type": "stream",
     "text": [
      "Lizard is called Ted Cooper and has a length of 12.0 cm.\n"
     ]
    }
   ],
   "source": [
    "class Lizard:\n",
    "    def __init__(self, name: str, length: float):\n",
    "        self.name = name\n",
    "        self.length = length\n",
    "\n",
    "    def __repr__(self):\n",
    "        return f\"Lizard is called {self.name} and has a length of {self.length} cm.\"\n",
    "\n",
    "\n",
    "l1 = Lizard(\"Ted Cooper\", 12.)\n",
    "print(l1)"
   ]
  },
  {
   "attachments": {},
   "cell_type": "markdown",
   "metadata": {},
   "source": [
    "---\n",
    "### Teaching the lizard to do more\n",
    "What else can we do? I recommend reading this in your free time: https://docs.python.org/3.12/tutorial/classes.html.\n",
    "\n",
    "The following code is explained below."
   ]
  },
  {
   "cell_type": "code",
   "execution_count": 2,
   "metadata": {},
   "outputs": [],
   "source": [
    "class Lizard:\n",
    "    def __init__(self, name: str, length: float):\n",
    "        self.name = name\n",
    "        self.length = length\n",
    "\n",
    "    def __repr__(self):\n",
    "        return f\"Lizard is called {self.name} and has a length of {self.length} cm.\"\n",
    "\n",
    "    def sayeh(self):\n",
    "        print(\"Ehhh\")\n",
    "\n",
    "    def __iter__(self):\n",
    "        return self.name.__iter__()\n",
    "\n",
    "    def gets_longer(self, length_dif=0.1):\n",
    "        self.length += length_dif\n",
    "        return f\"Lizard length changed to {self.length}.\"\n",
    "\n",
    "    def __eq__(self, other):\n",
    "        return self.name==other.name\n",
    "\n",
    "    def add_field(self, field_name, value):\n",
    "        setattr(self, field_name, value)\n",
    "\n",
    "    def remove_field(self, field_name):\n",
    "        delattr(self, field_name)"
   ]
  },
  {
   "cell_type": "markdown",
   "metadata": {},
   "source": [
    "#### \\_\\_iter\\_\\_()"
   ]
  },
  {
   "attachments": {},
   "cell_type": "markdown",
   "metadata": {},
   "source": [
    "Look on the method __iter__ and what it does with a string. This happens, because strings are iterable in a same way as lists."
   ]
  },
  {
   "cell_type": "code",
   "execution_count": 3,
   "metadata": {},
   "outputs": [
    {
     "name": "stdout",
     "output_type": "stream",
     "text": [
      "n\n",
      "a\n",
      "m\n",
      "e\n"
     ]
    }
   ],
   "source": [
    "for i in 'name'.__iter__():\n",
    "    print(i)"
   ]
  },
  {
   "attachments": {},
   "cell_type": "markdown",
   "metadata": {},
   "source": [
    "#### gets_longer()\n",
    "Now we can play with the new human class:"
   ]
  },
  {
   "cell_type": "code",
   "execution_count": 5,
   "metadata": {},
   "outputs": [
    {
     "name": "stdout",
     "output_type": "stream",
     "text": [
      "Lizard is called Ted and has a length of 6.5 cm.\n",
      "Lizard is called Ted and has a length of 8.5 cm.\n"
     ]
    }
   ],
   "source": [
    "l1 = Lizard(\"Ted\", 6.4)\n",
    "l1.gets_longer()\n",
    "print(l1)\n",
    "l1.gets_longer(2.)\n",
    "print(l1)"
   ]
  },
  {
   "cell_type": "code",
   "execution_count": 6,
   "metadata": {},
   "outputs": [
    {
     "name": "stdout",
     "output_type": "stream",
     "text": [
      "T\n",
      "e\n",
      "d\n"
     ]
    }
   ],
   "source": [
    "for value in l1:\n",
    "    print(value)"
   ]
  },
  {
   "cell_type": "markdown",
   "metadata": {},
   "source": [
    "#### \\_\\_eq\\_\\_()\n",
    "\n",
    "If we define two different Lizards with exactly the same values, python still thinks they are different, because they are different objects.\n",
    "\n",
    "To design our wanted functionality for `==` we use `__eq__` method and python compares only the memory addresses. In our case the method can look like this:\n",
    "\n",
    "```python\n",
    "def __eq__(self, other):\n",
    "    return self.name == other.name and self.length == other.length\n",
    "```"
   ]
  },
  {
   "cell_type": "code",
   "execution_count": 16,
   "metadata": {},
   "outputs": [
    {
     "name": "stdout",
     "output_type": "stream",
     "text": [
      "True\n"
     ]
    }
   ],
   "source": [
    "l1 = Lizard(\"Ted\", 6.4)\n",
    "l2 = Lizard(\"Ted\", 6.4)\n",
    "print(l1==l2)"
   ]
  },
  {
   "cell_type": "markdown",
   "metadata": {},
   "source": [
    "#### add_field(), remove_field()"
   ]
  },
  {
   "cell_type": "code",
   "execution_count": 9,
   "metadata": {},
   "outputs": [
    {
     "name": "stdout",
     "output_type": "stream",
     "text": [
      "180\n"
     ]
    }
   ],
   "source": [
    "l1.add_field(\"weight\", 180)\n",
    "print(l1.weight)"
   ]
  },
  {
   "cell_type": "code",
   "execution_count": 17,
   "metadata": {},
   "outputs": [
    {
     "name": "stdout",
     "output_type": "stream",
     "text": [
      "Ted\n"
     ]
    },
    {
     "ename": "AttributeError",
     "evalue": "'Lizard' object has no attribute 'name'",
     "output_type": "error",
     "traceback": [
      "\u001b[0;31m---------------------------------------------------------------------------\u001b[0m",
      "\u001b[0;31mAttributeError\u001b[0m                            Traceback (most recent call last)",
      "Cell \u001b[0;32mIn[17], line 3\u001b[0m\n\u001b[1;32m      1\u001b[0m \u001b[38;5;28mprint\u001b[39m(l1\u001b[38;5;241m.\u001b[39mname)\n\u001b[1;32m      2\u001b[0m l1\u001b[38;5;241m.\u001b[39mremove_field(\u001b[38;5;124m'\u001b[39m\u001b[38;5;124mname\u001b[39m\u001b[38;5;124m'\u001b[39m)\n\u001b[0;32m----> 3\u001b[0m \u001b[38;5;28mprint\u001b[39m(\u001b[43ml1\u001b[49m\u001b[38;5;241;43m.\u001b[39;49m\u001b[43mname\u001b[49m)\n",
      "\u001b[0;31mAttributeError\u001b[0m: 'Lizard' object has no attribute 'name'"
     ]
    }
   ],
   "source": [
    "print(l1.name)\n",
    "l1.remove_field('name')\n",
    "print(l1.name)"
   ]
  },
  {
   "cell_type": "markdown",
   "metadata": {},
   "source": [
    "#### What can be implemented in a class?\n",
    "- conversion between `bool`, `str`, `int`, `float`...\n",
    "- indexing (how to access the elements of a class) \n",
    "    - `lizard1[0]` can give the same as `lizard1[\"name\"]`\n",
    "    - implement `len(lizard1)` etc.\n",
    "- function call `lizard1()`\n",
    "- arithmetic operations `lizard1 + lizard1`\n",
    "- ..."
   ]
  },
  {
   "cell_type": "markdown",
   "metadata": {},
   "source": [
    "# Back to the list example\n",
    "We started today with an example from the list. Look into its documentation. You now should understand it much more.\n"
   ]
  },
  {
   "cell_type": "code",
   "execution_count": 20,
   "metadata": {},
   "outputs": [
    {
     "name": "stdout",
     "output_type": "stream",
     "text": [
      "Help on class list in module builtins:\n",
      "\n",
      "class list(object)\n",
      " |  list(iterable=(), /)\n",
      " |  \n",
      " |  Built-in mutable sequence.\n",
      " |  \n",
      " |  If no argument is given, the constructor creates a new empty list.\n",
      " |  The argument must be an iterable if specified.\n",
      " |  \n",
      " |  Methods defined here:\n",
      " |  \n",
      " |  __add__(self, value, /)\n",
      " |      Return self+value.\n",
      " |  \n",
      " |  __contains__(self, key, /)\n",
      " |      Return key in self.\n",
      " |  \n",
      " |  __delitem__(self, key, /)\n",
      " |      Delete self[key].\n",
      " |  \n",
      " |  __eq__(self, value, /)\n",
      " |      Return self==value.\n",
      " |  \n",
      " |  __ge__(self, value, /)\n",
      " |      Return self>=value.\n",
      " |  \n",
      " |  __getattribute__(self, name, /)\n",
      " |      Return getattr(self, name).\n",
      " |  \n",
      " |  __getitem__(...)\n",
      " |      x.__getitem__(y) <==> x[y]\n",
      " |  \n",
      " |  __gt__(self, value, /)\n",
      " |      Return self>value.\n",
      " |  \n",
      " |  __iadd__(self, value, /)\n",
      " |      Implement self+=value.\n",
      " |  \n",
      " |  __imul__(self, value, /)\n",
      " |      Implement self*=value.\n",
      " |  \n",
      " |  __init__(self, /, *args, **kwargs)\n",
      " |      Initialize self.  See help(type(self)) for accurate signature.\n",
      " |  \n",
      " |  __iter__(self, /)\n",
      " |      Implement iter(self).\n",
      " |  \n",
      " |  __le__(self, value, /)\n",
      " |      Return self<=value.\n",
      " |  \n",
      " |  __len__(self, /)\n",
      " |      Return len(self).\n",
      " |  \n",
      " |  __lt__(self, value, /)\n",
      " |      Return self<value.\n",
      " |  \n",
      " |  __mul__(self, value, /)\n",
      " |      Return self*value.\n",
      " |  \n",
      " |  __ne__(self, value, /)\n",
      " |      Return self!=value.\n",
      " |  \n",
      " |  __repr__(self, /)\n",
      " |      Return repr(self).\n",
      " |  \n",
      " |  __reversed__(self, /)\n",
      " |      Return a reverse iterator over the list.\n",
      " |  \n",
      " |  __rmul__(self, value, /)\n",
      " |      Return value*self.\n",
      " |  \n",
      " |  __setitem__(self, key, value, /)\n",
      " |      Set self[key] to value.\n",
      " |  \n",
      " |  __sizeof__(self, /)\n",
      " |      Return the size of the list in memory, in bytes.\n",
      " |  \n",
      " |  append(self, object, /)\n",
      " |      Append object to the end of the list.\n",
      " |  \n",
      " |  clear(self, /)\n",
      " |      Remove all items from list.\n",
      " |  \n",
      " |  copy(self, /)\n",
      " |      Return a shallow copy of the list.\n",
      " |  \n",
      " |  count(self, value, /)\n",
      " |      Return number of occurrences of value.\n",
      " |  \n",
      " |  extend(self, iterable, /)\n",
      " |      Extend list by appending elements from the iterable.\n",
      " |  \n",
      " |  index(self, value, start=0, stop=9223372036854775807, /)\n",
      " |      Return first index of value.\n",
      " |      \n",
      " |      Raises ValueError if the value is not present.\n",
      " |  \n",
      " |  insert(self, index, object, /)\n",
      " |      Insert object before index.\n",
      " |  \n",
      " |  pop(self, index=-1, /)\n",
      " |      Remove and return item at index (default last).\n",
      " |      \n",
      " |      Raises IndexError if list is empty or index is out of range.\n",
      " |  \n",
      " |  remove(self, value, /)\n",
      " |      Remove first occurrence of value.\n",
      " |      \n",
      " |      Raises ValueError if the value is not present.\n",
      " |  \n",
      " |  reverse(self, /)\n",
      " |      Reverse *IN PLACE*.\n",
      " |  \n",
      " |  sort(self, /, *, key=None, reverse=False)\n",
      " |      Sort the list in ascending order and return None.\n",
      " |      \n",
      " |      The sort is in-place (i.e. the list itself is modified) and stable (i.e. the\n",
      " |      order of two equal elements is maintained).\n",
      " |      \n",
      " |      If a key function is given, apply it once to each list item and sort them,\n",
      " |      ascending or descending, according to their function values.\n",
      " |      \n",
      " |      The reverse flag can be set to sort in descending order.\n",
      " |  \n",
      " |  ----------------------------------------------------------------------\n",
      " |  Class methods defined here:\n",
      " |  \n",
      " |  __class_getitem__(...) from builtins.type\n",
      " |      See PEP 585\n",
      " |  \n",
      " |  ----------------------------------------------------------------------\n",
      " |  Static methods defined here:\n",
      " |  \n",
      " |  __new__(*args, **kwargs) from builtins.type\n",
      " |      Create and return a new object.  See help(type) for accurate signature.\n",
      " |  \n",
      " |  ----------------------------------------------------------------------\n",
      " |  Data and other attributes defined here:\n",
      " |  \n",
      " |  __hash__ = None\n",
      "\n"
     ]
    }
   ],
   "source": [
    "help(list)"
   ]
  },
  {
   "cell_type": "markdown",
   "metadata": {},
   "source": [
    "---\n",
    "# Doctest for Classes"
   ]
  },
  {
   "cell_type": "code",
   "execution_count": 23,
   "metadata": {},
   "outputs": [
    {
     "data": {
      "text/plain": [
       "TestResults(failed=0, attempted=3)"
      ]
     },
     "execution_count": 23,
     "metadata": {},
     "output_type": "execute_result"
    }
   ],
   "source": [
    "class MyClass:\n",
    "    \"\"\"\n",
    "    A simple class for demonstration.\n",
    "\n",
    "    >>> obj = MyClass()\n",
    "    >>> obj.my_method(3)\n",
    "    9\n",
    "    >>> obj.my_method(-2)\n",
    "    4\n",
    "    \"\"\"\n",
    "\n",
    "    def my_method(self, x):\n",
    "        \"\"\"\n",
    "        Squares the given number.\n",
    "\n",
    "        Args:\n",
    "            x: The number to square.\n",
    "\n",
    "        Returns:\n",
    "            The square of x.\n",
    "        \"\"\"\n",
    "        return x * x\n",
    "import doctest\n",
    "doctest.testmod()"
   ]
  }
 ],
 "metadata": {
  "kernelspec": {
   "display_name": "base",
   "language": "python",
   "name": "python3"
  },
  "language_info": {
   "codemirror_mode": {
    "name": "ipython",
    "version": 3
   },
   "file_extension": ".py",
   "mimetype": "text/x-python",
   "name": "python",
   "nbconvert_exporter": "python",
   "pygments_lexer": "ipython3",
   "version": "3.11.4"
  },
  "orig_nbformat": 4
 },
 "nbformat": 4,
 "nbformat_minor": 2
}
