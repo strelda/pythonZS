{
 "cells": [
  {
   "cell_type": "markdown",
   "metadata": {},
   "source": [
    "# How are objects stored in memory\n",
    "---\n",
    "### Numbers\n",
    "Integers are stored as binary numbers, but floating point numbers are stored in a different way. Python uses the IEEE 754 standard to store floating point numbers. This standard represents floating point numbers as\n",
    "$ \\mathrm{number} = \\mathrm{sign} \\cdot \\mathrm{mantissa} \\cdot 2^{exponent}$, where each part is stored in a different part of the memory as follows:\n",
    "\n",
    "<svg width=\"600\" height=\"100\" xmlns=\"http://www.w3.org/2000/svg\">\n",
    "  <rect x=\"10\" y=\"5\" width=\"590\" height=\"60\" rx=\"10\" ry=\"10\" fill=\"none\" stroke=\"white\" stroke-width=\"2\"/>\n",
    "  <text x=\"555\" y=\"25\" font-family=\"Arial\" font-size=\"16\" fill=\"white\" font-weight=\"bold\">float</text>\n",
    "\n",
    "  <rect x=\"20\" y=\"35\" width=\"40\" height=\"20\" rx=\"5\" ry=\"5\" fill=\"none\" stroke=\"red\" stroke-width=\"2\"/>\n",
    "  <text x=\"25\" y=\"50\" font-family=\"Arial\" font-size=\"12\" fill=\"white\">Sign</text>\n",
    "  <text x=\"25\" y=\"25\" font-family=\"Arial\" font-size=\"12\" fill=\"red\">1 bit</text>\n",
    "\n",
    "  <rect x=\"65\" y=\"35\" width=\"135\" height=\"20\" rx=\"5\" ry=\"5\" fill=\"none\" stroke=\"cyan\" stroke-width=\"2\"/>\n",
    "  <text x=\"70\" y=\"50\" font-family=\"Arial\" font-size=\"12\" fill=\"white\">Exponent</text>\n",
    "  <text x=\"70\" y=\"25\" font-family=\"Arial\" font-size=\"12\" fill=\"cyan\">8 bits</text>\n",
    "\n",
    "  <rect x=\"205\" y=\"35\" width=\"385\" height=\"20\" rx=\"5\" ry=\"5\" fill=\"none\" stroke=\"yellow\" stroke-width=\"2\"/>\n",
    "  <text x=\"210\" y=\"50\" font-family=\"Arial\" font-size=\"12\" fill=\"white\">Mantissa</text>\n",
    "  <text x=\"210\" y=\"25\" font-family=\"Arial\" font-size=\"12\" fill=\"yellow\">23 bits</text>\n",
    "</svg>\n",
    "\n",
    "You can read more here: [Floating-Point Arithmetic: Issues and Limitations](https://docs.python.org/3/tutorial/floatingpoint.html). Here we show just some basics."
   ]
  },
  {
   "cell_type": "code",
   "execution_count": 16,
   "metadata": {},
   "outputs": [
    {
     "data": {
      "text/plain": [
       "0.1"
      ]
     },
     "execution_count": 16,
     "metadata": {},
     "output_type": "execute_result"
    }
   ],
   "source": [
    "0.1"
   ]
  },
  {
   "cell_type": "code",
   "execution_count": 25,
   "metadata": {},
   "outputs": [
    {
     "name": "stdout",
     "output_type": "stream",
     "text": [
      "0.10000000000000000555\n"
     ]
    }
   ],
   "source": [
    "print(f\"{0.1:.20f}\")"
   ]
  },
  {
   "cell_type": "markdown",
   "metadata": {},
   "source": [
    "This can lead to rounding errors when performing operations with floating point numbers. For example"
   ]
  },
  {
   "cell_type": "code",
   "execution_count": 5,
   "metadata": {},
   "outputs": [
    {
     "name": "stdout",
     "output_type": "stream",
     "text": [
      "1.0\n",
      "0.9999999999999999\n"
     ]
    }
   ],
   "source": [
    "print(6*1/6)\n",
    "print(1/6+1/6+1/6+1/6+1/6+1/6)"
   ]
  },
  {
   "cell_type": "code",
   "execution_count": 9,
   "metadata": {},
   "outputs": [
    {
     "data": {
      "text/plain": [
       "1.2999999999999998"
      ]
     },
     "execution_count": 9,
     "metadata": {},
     "output_type": "execute_result"
    }
   ],
   "source": [
    "0.6 + 0.7"
   ]
  },
  {
   "cell_type": "markdown",
   "metadata": {},
   "source": [
    "For unlimited precision, Python has a module [decimal](https://docs.python.org/3/library/decimal.html) that allows us to work with unlimited precision. This can be useful when we need to perform operations with high precision, like in financial calculations. You can study this in your free time."
   ]
  },
  {
   "cell_type": "markdown",
   "metadata": {},
   "source": [
    "---\n",
    "### Lists\n",
    "Lists are stored as references to the specific part in the memory. This means that when you assign a list to another variable, you are actually assigning the reference to the list, not the list itself. We already encountered the following behavior:"
   ]
  },
  {
   "cell_type": "code",
   "execution_count": 4,
   "metadata": {},
   "outputs": [
    {
     "name": "stdout",
     "output_type": "stream",
     "text": [
      "['a', 2, 3]\n"
     ]
    }
   ],
   "source": [
    "l1 = [1,2,3]\n",
    "l2 = l1\n",
    "l1[0] = 'a'\n",
    "print(l2)"
   ]
  },
  {
   "cell_type": "code",
   "execution_count": 2,
   "metadata": {},
   "outputs": [
    {
     "name": "stdout",
     "output_type": "stream",
     "text": [
      "[[0, 0, 0, 0], [0, 0, 0, 0], [0, 0, 0, 0]]\n"
     ]
    }
   ],
   "source": [
    "matrix = [[0] * 4]*3\n",
    "print(matrix)"
   ]
  },
  {
   "cell_type": "code",
   "execution_count": 3,
   "metadata": {},
   "outputs": [
    {
     "name": "stdout",
     "output_type": "stream",
     "text": [
      "[[4, 0, 0, 0], [4, 0, 0, 0], [4, 0, 0, 0]]\n"
     ]
    }
   ],
   "source": [
    "matrix = [[0] * 4] * 3\n",
    "matrix[1][0]=4\n",
    "print(matrix)"
   ]
  },
  {
   "cell_type": "markdown",
   "metadata": {},
   "source": [
    "---\n",
    "### Value vs. location in memory\n",
    "Equality `==` checks if two objects have the same value. On the contrary `is` checks if two objects are stored at the same location in memory."
   ]
  },
  {
   "cell_type": "code",
   "execution_count": 8,
   "metadata": {},
   "outputs": [
    {
     "name": "stdout",
     "output_type": "stream",
     "text": [
      "True\n",
      "False\n"
     ]
    }
   ],
   "source": [
    "print([1,2] == [1,2])\n",
    "print([1,2] is [1,2])"
   ]
  },
  {
   "cell_type": "markdown",
   "metadata": {},
   "source": [
    "Python can optimize strings to save them into the same location, but it is not guaranteed. Here it works, but read the warning:"
   ]
  },
  {
   "cell_type": "code",
   "execution_count": null,
   "metadata": {},
   "outputs": [
    {
     "name": "stdout",
     "output_type": "stream",
     "text": [
      "True\n"
     ]
    },
    {
     "name": "stderr",
     "output_type": "stream",
     "text": [
      "<>:1: SyntaxWarning: \"is\" with a literal. Did you mean \"==\"?\n",
      "<>:1: SyntaxWarning: \"is\" with a literal. Did you mean \"==\"?\n",
      "/var/folders/jy/cmz4x5wj40z2z8682sjl9ydc0000gn/T/ipykernel_47316/1719247797.py:1: SyntaxWarning: \"is\" with a literal. Did you mean \"==\"?\n",
      "  print(\"hello\" is \"hello\")\n"
     ]
    }
   ],
   "source": [
    "print(\"hello\" is \"hello\")"
   ]
  },
  {
   "cell_type": "markdown",
   "metadata": {},
   "source": [
    "We get similar warning for comparing numbers"
   ]
  },
  {
   "cell_type": "code",
   "execution_count": null,
   "metadata": {},
   "outputs": [
    {
     "name": "stdout",
     "output_type": "stream",
     "text": [
      "True\n"
     ]
    },
    {
     "name": "stderr",
     "output_type": "stream",
     "text": [
      "<>:1: SyntaxWarning: \"is\" with a literal. Did you mean \"==\"?\n",
      "<>:1: SyntaxWarning: \"is\" with a literal. Did you mean \"==\"?\n",
      "/var/folders/jy/cmz4x5wj40z2z8682sjl9ydc0000gn/T/ipykernel_47316/380083254.py:1: SyntaxWarning: \"is\" with a literal. Did you mean \"==\"?\n",
      "  print(3 is 3)\n"
     ]
    }
   ],
   "source": [
    "print(3 is 3)"
   ]
  },
  {
   "cell_type": "markdown",
   "metadata": {},
   "source": [
    "---\n",
    "### Comparing Class instances\n",
    "Comparing classes by default performs `id(lizard1) == id(lizard2)`, if we do not define `__eq__` method."
   ]
  }
 ],
 "metadata": {
  "kernelspec": {
   "display_name": "base",
   "language": "python",
   "name": "python3"
  },
  "language_info": {
   "codemirror_mode": {
    "name": "ipython",
    "version": 3
   },
   "file_extension": ".py",
   "mimetype": "text/x-python",
   "name": "python",
   "nbconvert_exporter": "python",
   "pygments_lexer": "ipython3",
   "version": "3.11.4"
  }
 },
 "nbformat": 4,
 "nbformat_minor": 2
}
