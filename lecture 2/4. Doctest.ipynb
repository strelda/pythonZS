{
 "cells": [
  {
   "cell_type": "markdown",
   "metadata": {},
   "source": [
    "# Doctest\n",
    "Testing can be automated by writing *example input* and *expected output* into a docstring. This is usually written in the section Examples as\n",
    "```python\n",
    "def foo():\n",
    "    \"\"\"...\n",
    "\n",
    "    Examples:\n",
    "        >>> foo()\n",
    "        ...\n",
    "        >>> foo()\n",
    "        ...\n",
    "    \"\"\"\n",
    "```\n",
    "\n",
    "Examples in this format can be automatically evaluated using the package `doctest`. This package can be run from the command line as\n",
    "```bash\n",
    "python -m doctest -v my_script.py\n",
    "```\n",
    "or within a script including the following lines"
   ]
  },
  {
   "cell_type": "code",
   "execution_count": null,
   "metadata": {},
   "outputs": [],
   "source": [
    "import doctest\n",
    "doctest.testmod() # verbose=True for more details"
   ]
  },
  {
   "cell_type": "markdown",
   "metadata": {},
   "source": [
    "---\n",
    "## Reviving our trivial example: concatenation of two strings\n",
    "ad 1)\n",
    "\n",
    "For input and output (see the diagram before) we are working with strings."
   ]
  },
  {
   "cell_type": "markdown",
   "metadata": {},
   "source": [
    "ad 2)"
   ]
  },
  {
   "cell_type": "code",
   "execution_count": null,
   "metadata": {},
   "outputs": [],
   "source": [
    "def concatenate(a: str, b: str)->str:\n",
    "    \"\"\"Concatenate two strings.\"\"\""
   ]
  },
  {
   "cell_type": "markdown",
   "metadata": {},
   "source": [
    "ad 3)"
   ]
  },
  {
   "cell_type": "code",
   "execution_count": 8,
   "metadata": {},
   "outputs": [],
   "source": [
    "def concatenate(a: str, b: str)->str:\n",
    "    \"\"\"Concatenate two strings.\n",
    "    \n",
    "    Examples:\n",
    "        >>> concatenate(\"Hi\", \" there!\")\n",
    "        'Hi there!'\n",
    "        >>> concatenate(\"Hello\", \" here!\")\n",
    "        'Hello here!'\n",
    "    \"\"\""
   ]
  },
  {
   "cell_type": "markdown",
   "metadata": {},
   "source": [
    "ad 4)"
   ]
  },
  {
   "cell_type": "code",
   "execution_count": 9,
   "metadata": {},
   "outputs": [
    {
     "ename": "SyntaxError",
     "evalue": "invalid syntax (1586879393.py, line 10)",
     "output_type": "error",
     "traceback": [
      "\u001b[0;36m  Cell \u001b[0;32mIn[9], line 10\u001b[0;36m\u001b[0m\n\u001b[0;31m    return a ... b\u001b[0m\n\u001b[0m             ^\u001b[0m\n\u001b[0;31mSyntaxError\u001b[0m\u001b[0;31m:\u001b[0m invalid syntax\n"
     ]
    }
   ],
   "source": [
    "def concatenate(a: str, b: str)->str:\n",
    "    \"\"\"Concatenate two strings.\n",
    "    \n",
    "    Examples:\n",
    "        >>> concatenate(\"Hi\", \" there!\")\n",
    "        'Hi there!'\n",
    "        >>> concatenate(\"Hello\", \" here!\")\n",
    "        'Hello here!'\n",
    "    \"\"\"\n",
    "    return a ... b"
   ]
  },
  {
   "cell_type": "markdown",
   "metadata": {},
   "source": [
    "ad 5)"
   ]
  },
  {
   "cell_type": "code",
   "execution_count": 5,
   "metadata": {},
   "outputs": [],
   "source": [
    "def concatenate(a: str, b: str)->str:\n",
    "    \"\"\"Concatenate two strings.\n",
    "    \n",
    "    Examples:\n",
    "        >>> concatenate(\"Hi\", \" there!\")\n",
    "        'Hi there!'       \n",
    "        >>> concatenate(\"Hello\", \" here!\")\n",
    "        'Hello here!'\n",
    "    \"\"\"\n",
    "    return a + b"
   ]
  },
  {
   "cell_type": "markdown",
   "metadata": {},
   "source": [
    "ad 6)\n",
    "\n",
    "Run the code in terminal as \n",
    "```bash\n",
    "python3 -m doctest -v concatenation.py\n",
    "```\n",
    "or within the script as"
   ]
  },
  {
   "cell_type": "code",
   "execution_count": 6,
   "metadata": {},
   "outputs": [
    {
     "data": {
      "text/plain": [
       "TestResults(failed=0, attempted=1)"
      ]
     },
     "execution_count": 6,
     "metadata": {},
     "output_type": "execute_result"
    }
   ],
   "source": [
    "import doctest\n",
    "doctest.testmod() "
   ]
  },
  {
   "cell_type": "markdown",
   "metadata": {},
   "source": [
    "---\n",
    "Lets see this code in a separate python program *concatenation.py*. Running it by itself produces nothing if tests pass. If we want to make sure, run it in *verbosing mode*\n",
    "```bash\n",
    "➜  python3 -m doctest -v concatenation.py\n",
    "Trying:\n",
    "    concatenate(\"Hi\", \" there!\")\n",
    "Expecting:\n",
    "    'Hi there!'\n",
    "ok\n",
    "Trying:\n",
    "    concatenate(\"Hello\", \" here!\")\n",
    "Expecting:\n",
    "    'Hello here!'\n",
    "ok\n",
    "1 items had no tests:\n",
    "    concatenation\n",
    "1 items passed all tests:\n",
    "   2 tests in concatenation.concatenate\n",
    "2 tests in 2 items.\n",
    "2 passed and 0 failed.\n",
    "Test passed.\n",
    "```"
   ]
  },
  {
   "cell_type": "markdown",
   "metadata": {},
   "source": [
    "---\n",
    "## Notes\n",
    "1. For approximate values, we can use `round()`\n",
    "```python\n",
    "def my_sin(x: float) -> float:\n",
    "    \"\"\"...\n",
    "\n",
    "    Examples:\n",
    "        >>> round(my_sin(0.3),4)\n",
    "        0.2955\n",
    "    \"\"\"\n",
    "```\n",
    "or use `...` amd ELLIPSIS functionality. Example:\n",
    "```python\n",
    "def my_sin(x: float) -> float:\n",
    "    \"\"\"...\n",
    "\n",
    "    Examples:\n",
    "        >>> my_sin(0.3) # doctest: +ELLIPSIS\n",
    "        0.2955...\n",
    "    \"\"\"\n",
    "```\n",
    "\n",
    "\n",
    "\n",
    "2. The doctest is sometimes written as\n",
    "```python\n",
    "def my_sin(x: float) -> float:\n",
    "    \"\"\"...\n",
    "\n",
    "    >>> my_sin(0.3) # doctest: +ELLIPSIS\n",
    "    0.2955...\n",
    "    \"\"\"\n",
    "```\n",
    "3. For more complex testing, there are many packages: [unittest](https://docs.python.org/3/library/unittest.html), [pytest](https://docs.pytest.org/en/stable/), ..."
   ]
  },
  {
   "cell_type": "markdown",
   "metadata": {},
   "source": [
    "#### 3. For more complex testing, there are many packages: [unittest](https://docs.python.org/3/library/unittest.html), [pytest](https://docs.pytest.org/en/stable/), ..."
   ]
  },
  {
   "cell_type": "markdown",
   "metadata": {},
   "source": [
    "<table style=\"width: 100%; height: 100%; border-collapse: collapse; border: none; table-layout: fixed; position: relative;\">\n",
    "  <tr style=\"height: 100%; border: none;\">\n",
    "    <td style=\"vertical-align: top; border: none; padding: 0; margin: 0; width: 200px;\">\n",
    "      <img src=\"../grug.jpeg\" alt=\"Grug\" style=\"width: 100%; height: auto; display: block;\">\n",
    "    </td>\n",
    "    <td style=\"vertical-align: top; border: none; padding: 0; margin: 0;\">\n",
    "      <blockquote style=\"height: 100%; display: flex; flex-direction: column; justify-content: center; margin: 0;\">\n",
    "        <p>\"Test save grug many, many uncountable time and grug love and respect test.\"</p>\n",
    "        <p>\"How grug test what grug not even understand domain yet!?\"</p>\n",
    "      </blockquote>\n",
    "    </td>\n",
    "  </tr>\n",
    "</table>\n",
    "<a href=\"https://grugbrain.dev/\" style=\"position: absolute; bottom: 10px; right: 10px;\">GrugBrain.dev</a>"
   ]
  }
 ],
 "metadata": {
  "kernelspec": {
   "display_name": "base",
   "language": "python",
   "name": "python3"
  },
  "language_info": {
   "codemirror_mode": {
    "name": "ipython",
    "version": 3
   },
   "file_extension": ".py",
   "mimetype": "text/x-python",
   "name": "python",
   "nbconvert_exporter": "python",
   "pygments_lexer": "ipython3",
   "version": "3.11.4"
  }
 },
 "nbformat": 4,
 "nbformat_minor": 2
}
