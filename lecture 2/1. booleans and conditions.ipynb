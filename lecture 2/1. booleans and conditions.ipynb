{
 "cells": [
  {
   "cell_type": "markdown",
   "metadata": {},
   "source": [
    "# If statement\n",
    "\n",
    "Some languages use brackets, python uses indentation to define the scope of the code. Either 4 spaces or a tab can be used.\n",
    "\n",
    "```python\n",
    "if condition:\n",
    "    ...\n",
    "```\n",
    "\n",
    "<div class=\"alert alert-warning\">\n",
    "Indentation is important here!\n",
    "</div>"
   ]
  },
  {
   "cell_type": "code",
   "execution_count": 30,
   "metadata": {},
   "outputs": [
    {
     "name": "stdout",
     "output_type": "stream",
     "text": [
      "'a' is greater than 11\n"
     ]
    }
   ],
   "source": [
    "a = 11\n",
    "\n",
    "if a>4:\n",
    "    print(\"'a' is greater than 11\")"
   ]
  },
  {
   "cell_type": "markdown",
   "metadata": {},
   "source": [
    "or more complicated version:\n",
    "```python\n",
    "if condition:\n",
    "    ...\n",
    "elif condition:\n",
    "    ...\n",
    "elif condition:\n",
    "    ...\n",
    "else:\n",
    "    ...\n",
    "```"
   ]
  },
  {
   "cell_type": "code",
   "execution_count": 36,
   "metadata": {},
   "outputs": [
    {
     "ename": "SyntaxError",
     "evalue": "invalid syntax. Maybe you meant '==' or ':=' instead of '='? (4220735024.py, line 3)",
     "output_type": "error",
     "traceback": [
      "\u001b[0;36m  Cell \u001b[0;32mIn[36], line 3\u001b[0;36m\u001b[0m\n\u001b[0;31m    if a=4:\u001b[0m\n\u001b[0m       ^\u001b[0m\n\u001b[0;31mSyntaxError\u001b[0m\u001b[0;31m:\u001b[0m invalid syntax. Maybe you meant '==' or ':=' instead of '='?\n"
     ]
    }
   ],
   "source": [
    "a = 2\n",
    "\n",
    "if a>4:\n",
    "    print(\"'a' is greater than 4\")\n",
    "else:\n",
    "    print(\"'a' is smaller or equal 4\")"
   ]
  },
  {
   "cell_type": "markdown",
   "metadata": {},
   "source": [
    "Condition is tested using `bool()` function, which converts anything to `True` or `False`. Most expressions are `True`, except:\n",
    "- `False`\n",
    "- `None`\n",
    "- `0`\n",
    "- empty string, list, tuple, dictionary, set"
   ]
  },
  {
   "cell_type": "code",
   "execution_count": 35,
   "metadata": {},
   "outputs": [
    {
     "name": "stdout",
     "output_type": "stream",
     "text": [
      "False\n",
      "False\n",
      "False\n",
      "False\n",
      "False\n",
      "True\n",
      "True\n",
      "True\n"
     ]
    }
   ],
   "source": [
    "print(bool(False))\n",
    "print(bool(None))\n",
    "print(bool(0))\n",
    "print(bool(\"\"))\n",
    "print(bool([]))\n",
    "print(bool(1))\n",
    "print(bool(2))\n",
    "print(bool(\"krtek\"))"
   ]
  },
  {
   "cell_type": "code",
   "execution_count": 39,
   "metadata": {},
   "outputs": [
    {
     "name": "stdout",
     "output_type": "stream",
     "text": [
      "This is not printed\n"
     ]
    }
   ],
   "source": [
    "check = \"veverka\"\n",
    "\n",
    "if check:\n",
    "    print('This is printed')\n",
    "elif 10:\n",
    "    print('This will be printed, if check is changed to falsy value')\n",
    "else:\n",
    "    print('This is not printed')"
   ]
  },
  {
   "cell_type": "markdown",
   "metadata": {},
   "source": [
    "### Example:\n",
    "The two codes below are equivalent, the second one is better for potential future changes, but its longer."
   ]
  },
  {
   "cell_type": "code",
   "execution_count": 41,
   "metadata": {},
   "outputs": [
    {
     "name": "stdout",
     "output_type": "stream",
     "text": [
      "User is valid\n"
     ]
    }
   ],
   "source": [
    "name = \"Theodor\"\n",
    "age = 18\n",
    "\n",
    "if len(name)>1 and age>=15:\n",
    "    print('User is valid')\n",
    "elif age<15:\n",
    "    print('The user has to be above 15.')\n",
    "else:\n",
    "    print('Invalid username.')"
   ]
  },
  {
   "cell_type": "code",
   "execution_count": 42,
   "metadata": {},
   "outputs": [
    {
     "name": "stdout",
     "output_type": "stream",
     "text": [
      "The user has to be above 15.\n"
     ]
    }
   ],
   "source": [
    "# define user\n",
    "name = \"Theodor\"\n",
    "age = 12\n",
    "\n",
    "# conditions\n",
    "check_name = len(name)>1\n",
    "check_age = (age >= 15)\n",
    "\n",
    "# check user validity\n",
    "if check_name and check_age:\n",
    "    print('User is valid.')\n",
    "elif not check_age:\n",
    "    print('The user has to be above 15.')\n",
    "else:\n",
    "    print('Invalid username.')"
   ]
  },
  {
   "cell_type": "markdown",
   "metadata": {},
   "source": [
    "<div class=\"alert alert-info\">\n",
    "Programmers usually prefer readibility and customizability over shortness.\n",
    "</div>"
   ]
  },
  {
   "cell_type": "markdown",
   "metadata": {},
   "source": [
    "## While loop\n",
    "\n",
    "```python\n",
    "while condition:\n",
    "    # do something\n",
    "    # update the condition and make sure it returns false at some point\n",
    "```"
   ]
  },
  {
   "cell_type": "code",
   "execution_count": 46,
   "metadata": {},
   "outputs": [
    {
     "name": "stdout",
     "output_type": "stream",
     "text": [
      "0\n",
      "1\n",
      "2\n",
      "3\n",
      "4\n"
     ]
    }
   ],
   "source": [
    "a = 0\n",
    "while a<4:\n",
    "    print(a)\n",
    "    a += 1\n",
    "print(a)\n"
   ]
  },
  {
   "cell_type": "markdown",
   "metadata": {},
   "source": [
    "Or we can manually break out of the cycle using `break` statement\n",
    "\n",
    "```python\n",
    "while condition:\n",
    "    ...\n",
    "    if condition:\n",
    "        break\n",
    "    ...\n",
    "```\n",
    "*Note that this is sometimes considered to be dangerous and should be avoided if possible.*"
   ]
  },
  {
   "cell_type": "code",
   "execution_count": 47,
   "metadata": {},
   "outputs": [
    {
     "name": "stdout",
     "output_type": "stream",
     "text": [
      "0\n",
      "1\n",
      "2\n",
      "3\n"
     ]
    }
   ],
   "source": [
    "a = 0\n",
    "while True:\n",
    "    if a >= 4:\n",
    "        break\n",
    "    print(a)\n",
    "    a += 1"
   ]
  },
  {
   "cell_type": "markdown",
   "metadata": {},
   "source": [
    "### Entering numbers\n",
    "Enter numbers and return their sum. End the loop by entering a negative number."
   ]
  },
  {
   "cell_type": "code",
   "execution_count": 48,
   "metadata": {},
   "outputs": [
    {
     "name": "stdout",
     "output_type": "stream",
     "text": [
      "13\n"
     ]
    }
   ],
   "source": [
    "# user input\n",
    "input_number = int(input(\"Enter a number: \"))\n",
    "\n",
    "# inicialize variables\n",
    "sum = 0\n",
    "\n",
    "# do something with the variables\n",
    "while input_number>0:\n",
    "    sum += input_number%10\n",
    "    input_number = input_number//10\n",
    "\n",
    "# print the result\n",
    "print(sum)"
   ]
  },
  {
   "cell_type": "code",
   "execution_count": null,
   "metadata": {},
   "outputs": [],
   "source": []
  }
 ],
 "metadata": {
  "kernelspec": {
   "display_name": "base",
   "language": "python",
   "name": "python3"
  },
  "language_info": {
   "codemirror_mode": {
    "name": "ipython",
    "version": 3
   },
   "file_extension": ".py",
   "mimetype": "text/x-python",
   "name": "python",
   "nbconvert_exporter": "python",
   "pygments_lexer": "ipython3",
   "version": "3.11.4"
  },
  "orig_nbformat": 4
 },
 "nbformat": 4,
 "nbformat_minor": 2
}
