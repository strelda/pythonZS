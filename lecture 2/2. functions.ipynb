{
 "cells": [
  {
   "cell_type": "markdown",
   "metadata": {},
   "source": [
    "# Avoid spaghetti code\n",
    "\n",
    "Functions are a way to group code and reuse it. Each function should do one job only and should do it well.\n",
    "\n",
    "<div style=\"text-align: center;\">\n",
    "<img src=\"def.jpg\" alt=\"MarineGEO circle logo\" style=\"width:400px;\"/>\n",
    "</div>"
   ]
  },
  {
   "cell_type": "markdown",
   "metadata": {},
   "source": [
    "Hover with the mouse over any function and you see a documentation, which parameters you can use in addition etc. This we will learn today."
   ]
  },
  {
   "cell_type": "code",
   "execution_count": 17,
   "metadata": {},
   "outputs": [
    {
     "data": {
      "text/plain": [
       "['... st', 'yin ', 'live, Feel the city bre', 'kin ', 'nd everybody sh', 'kin']"
      ]
     },
     "execution_count": 17,
     "metadata": {},
     "output_type": "execute_result"
    }
   ],
   "source": [
    "text = \"... stayin alive, Feel the city breakin and everybody shakin\"\n",
    "text.split('a')"
   ]
  },
  {
   "cell_type": "code",
   "execution_count": 18,
   "metadata": {},
   "outputs": [
    {
     "name": "stdout",
     "output_type": "stream",
     "text": [
      "4\n",
      "deer\n"
     ]
    }
   ],
   "source": [
    "def add(a, b):\n",
    "    return a+b\n",
    "\n",
    "print(add(1,3))\n",
    "print(add(\"d\", \"eer\"))"
   ]
  },
  {
   "cell_type": "markdown",
   "metadata": {},
   "source": [
    "Hover with the mouse in VS code over the function above, and you should see\n",
    "```python\n",
    "(function) def add(\n",
    "    a: Any,\n",
    "    b: Any\n",
    ") -> Any\n",
    "```\n",
    "<div class=\"alert alert-block alert-info\">\n",
    "This means the function takes `a,b` of any tipe and returns any. This we can change, but in python (unfortunatelly), these types serve only to the programmer as a documentation. This function is a bit dangerous, because even if you might think you can add anything, you cant.\n",
    "</div>"
   ]
  },
  {
   "cell_type": "code",
   "execution_count": 20,
   "metadata": {},
   "outputs": [],
   "source": [
    "def add(a:float, b:float) -> float:\n",
    "    return a+b"
   ]
  },
  {
   "cell_type": "markdown",
   "metadata": {},
   "source": [
    "What else can we do with functions? We will show more examples in the following lectures."
   ]
  },
  {
   "cell_type": "code",
   "execution_count": 27,
   "metadata": {},
   "outputs": [
    {
     "name": "stdout",
     "output_type": "stream",
     "text": [
      "bee\n",
      "beebeebeebeebee\n"
     ]
    }
   ],
   "source": [
    "def shout(word:str, n=1):\n",
    "    print(n*word)\n",
    "\n",
    "shout(\"bee\")\n",
    "shout(\"bee\", n=5)\n"
   ]
  },
  {
   "cell_type": "markdown",
   "metadata": {},
   "source": [
    "---\n",
    "# Comments\n",
    "Usually there are two types of comments:\n",
    "- for users\n",
    "- and for developers.\n",
    "\n",
    "If you will ever write code for anyone else, or just the code that needs to last, use **docstrings**. Docstrings are a way to document your code. They are written in triple quotes, and can be accessed by `help(function_name)`.\n",
    "\n",
    "In addition add short explanatory comments between the blocks of code. This will help you or developer to understand the code later."
   ]
  },
  {
   "cell_type": "markdown",
   "metadata": {},
   "source": [
    "---\n",
    "## Example: Traffic light\n",
    "Design a `next_light` function which accepts the current light and returns the next light. The order is $red \\rightarrow orange \\rightarrow green \\rightarrow red$. Follow the design recipe, see notebook S01E03. "
   ]
  },
  {
   "cell_type": "markdown",
   "metadata": {},
   "source": [
    "ad 1)"
   ]
  },
  {
   "cell_type": "code",
   "execution_count": null,
   "metadata": {},
   "outputs": [],
   "source": [
    "a = \"red\"\n",
    "b = \"orange\"\n",
    "c = \"green\""
   ]
  },
  {
   "cell_type": "markdown",
   "metadata": {},
   "source": [
    "ad 2)"
   ]
  },
  {
   "cell_type": "code",
   "execution_count": 28,
   "metadata": {},
   "outputs": [],
   "source": [
    "def next_color(col: str)->str:\n",
    "    \"\"\"Takes a light color and returns the next one in a row.\n",
    "    \"red\"->\"orange\"->\"green\"\n",
    "    \"\"\""
   ]
  },
  {
   "cell_type": "markdown",
   "metadata": {},
   "source": [
    "ad 3)"
   ]
  },
  {
   "cell_type": "code",
   "execution_count": 29,
   "metadata": {},
   "outputs": [
    {
     "name": "stdout",
     "output_type": "stream",
     "text": [
      "False\n",
      "False\n",
      "False\n"
     ]
    }
   ],
   "source": [
    "print(next_color(\"red\") == \"orange\")\n",
    "print(next_color(\"orange\") == \"green\")\n",
    "print(next_color(\"green\") == \"red\")"
   ]
  },
  {
   "cell_type": "markdown",
   "metadata": {},
   "source": [
    "ad 4)"
   ]
  },
  {
   "cell_type": "code",
   "execution_count": null,
   "metadata": {},
   "outputs": [],
   "source": [
    "def next_color(col: str)->str:\n",
    "    \"\"\"Takes a light color and returns the next one in a row.\n",
    "    \"red\"->\"orange\"->\"green\"\n",
    "    \"\"\"\n",
    "    if col==\"red\":\n",
    "        return ...\n",
    "    elif col==\"orange\":\n",
    "        return ...\n",
    "    else:\n",
    "        return ..."
   ]
  },
  {
   "cell_type": "markdown",
   "metadata": {},
   "source": [
    "ad 5)"
   ]
  },
  {
   "cell_type": "code",
   "execution_count": 30,
   "metadata": {},
   "outputs": [],
   "source": [
    "def next_color(col: str)->str:\n",
    "    \"\"\"Takes a light color and returns the next one in a row.\n",
    "    \"red\"->\"orange\"->\"green\"\n",
    "    \"\"\"\n",
    "    if col==\"red\":\n",
    "        return \"orange\"\n",
    "    elif col==\"orange\":\n",
    "        return \"green\"\n",
    "    else:\n",
    "        return \"red\""
   ]
  },
  {
   "cell_type": "markdown",
   "metadata": {},
   "source": [
    "ad 6)"
   ]
  },
  {
   "cell_type": "code",
   "execution_count": 33,
   "metadata": {},
   "outputs": [
    {
     "name": "stdout",
     "output_type": "stream",
     "text": [
      "True\n",
      "True\n",
      "True\n"
     ]
    }
   ],
   "source": [
    "print(next_color(\"red\") == \"orange\")\n",
    "print(next_color(\"orange\") == \"green\")\n",
    "print(next_color(\"green\") == \"red\")\n"
   ]
  },
  {
   "cell_type": "markdown",
   "metadata": {},
   "source": [
    "<div class=\"alert alert-block alert-warning\">\n",
    "<ol>\n",
    "    <li>Use while loop to print only even numbers up to 20.</li>\n",
    "</ol>\n",
    "</div>"
   ]
  },
  {
   "cell_type": "markdown",
   "metadata": {},
   "source": [
    "---\n",
    "# Example\n",
    "The owner of a monopolistic movie theater in a small town has complete freedom in setting ticket prices. The more he charges, the fewer people can afford tickets. The less he charges, the more it costs to run a show because attendance goes up. In a recent experiment the owner determined a relationship between the price of a ticket and average attendance. At a price of \\$5.00 per ticket, 120 people attend a performance. For each 10-cent change in the ticket price, the average attendance changes by 15 people. That is, if the owner charges \\$5.10, some 105 people attend on the average; if the price goes down to \\$4.90, average attendance increases to 135. Unfortunately, the increased attendance also comes at an increased cost. Every performance comes at a fixed cost of \\$180 to the owner plus a variable cost of \\$0.04 per attendee. The owner would like to know the exact relationship between profit and ticket price in order to maximize the profit. "
   ]
  },
  {
   "cell_type": "markdown",
   "metadata": {},
   "source": [
    "### Solution\n",
    "1. The attendance formula can be written as \n",
    "$$avg\\_attendance=120 people - \\frac{\\$change\\_in\\_price}{\\$0.10}\\cdot 15 people$$"
   ]
  },
  {
   "cell_type": "markdown",
   "metadata": {},
   "source": [
    "2. It is best to tackle individual dependencies in individual functions"
   ]
  },
  {
   "cell_type": "code",
   "execution_count": 34,
   "metadata": {},
   "outputs": [
    {
     "name": "stdout",
     "output_type": "stream",
     "text": [
      "105.00000000000006\n",
      "351.30000000000024\n"
     ]
    }
   ],
   "source": [
    "def attendees(ticket_price):\n",
    "    \"\"\"How the number of attendees depends on a ticket price.\"\"\"\n",
    "    return 120 - (ticket_price - 5) * 15/0.1\n",
    "\n",
    "def revenue(ticket_price):\n",
    "    \"\"\"Revenue depends only on the ticket-price and number sold.\"\"\"\n",
    "    return ticket_price * attendees(ticket_price)\n",
    "\n",
    "def cost(ticket_price):\n",
    "    \"\"\"Cost consists of the fixed part $180 and a variable part dependent on the number of attendees.\"\"\"\n",
    "    return 180 + 0.04 * attendees(ticket_price)\n",
    "\n",
    "print(attendees(5.1))\n",
    "print(revenue(5.1)-cost(5.1))"
   ]
  },
  {
   "cell_type": "markdown",
   "metadata": {},
   "source": [
    "<div class=\"alert alert-block alert-warning\">\n",
    "<ol>\n",
    "    <li> Make the functions typed: realize what datatype are we dealing with.</li>\n",
    "    <li> Refactoring: define all variables which could change in the future as constants.</li>\n",
    "    <li> Bonus: write tests for attendees function.</li>\n",
    "</ol>\n",
    "    \n",
    "</div>\n"
   ]
  }
 ],
 "metadata": {
  "kernelspec": {
   "display_name": "base",
   "language": "python",
   "name": "python3"
  },
  "language_info": {
   "codemirror_mode": {
    "name": "ipython",
    "version": 3
   },
   "file_extension": ".py",
   "mimetype": "text/x-python",
   "name": "python",
   "nbconvert_exporter": "python",
   "pygments_lexer": "ipython3",
   "version": "3.11.4"
  }
 },
 "nbformat": 4,
 "nbformat_minor": 2
}
