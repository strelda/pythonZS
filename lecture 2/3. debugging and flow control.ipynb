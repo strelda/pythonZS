{
 "cells": [
  {
   "cell_type": "markdown",
   "metadata": {},
   "source": [
    "# Debugging\n",
    "If the problem occurs, one of the following happend:\n",
    "- You miscalculated and determined the wrong expected output for some of the examples.\n",
    "- Alternatively, the function definition computes the wrong result. When this is the case, you have a logical error in your program, also known as a bug.\n",
    "- both are wrong\n",
    "\n",
    "There are a few ways to debug your code:\n",
    "- Print statements: print the intermediate results of your code to find the bug.\n",
    "- Run your code in an interactive mode, where you can test each line of your code separately.\n",
    "- Use a debugger: a tool that allows you to run your code step by step and observe the values of the variables at each step."
   ]
  },
  {
   "cell_type": "code",
   "execution_count": null,
   "metadata": {},
   "outputs": [],
   "source": [
    "# copy this into .py code and try debugger in VS Code\n",
    "def twice(x):\n",
    "    t = 2*x\n",
    "    return t\n",
    "def add_two(x):\n",
    "    a = x+2\n",
    "    return a\n",
    "\n",
    "print(twice(add_two(4)))"
   ]
  },
  {
   "cell_type": "markdown",
   "metadata": {},
   "source": [
    "Tips to understand any algorithm:\n",
    "- take a piece of paper and a pen,\n",
    "- use interactive python mode, or debugging tools, \n",
    "- ask some large language model to explain the code to you and check it afterwards."
   ]
  },
  {
   "cell_type": "markdown",
   "metadata": {},
   "source": [
    "---\n",
    "## Example: Finding the smallest divisor\n",
    "Copy the following heart of a function into a .py file and run it interactively and with debugger.\n",
    "\n",
    "- in VS Code <em>Shift+Enter</em> runs the code\n",
    "- search for <em>Run and Debug</em> tab in VS Code"
   ]
  },
  {
   "cell_type": "code",
   "execution_count": 1,
   "metadata": {},
   "outputs": [
    {
     "name": "stdout",
     "output_type": "stream",
     "text": [
      "36 can be divided by 2\n"
     ]
    }
   ],
   "source": [
    "n = 49\n",
    "\n",
    "# find the smallest divisor of the number n\n",
    "d = 2\n",
    "while d < n:\n",
    "    if n%d == 0:\n",
    "        print(n, \"can be divided by\", d)\n",
    "        break\n",
    "    d += 1  \n",
    "else:\n",
    "    print(n, \"is prime\")"
   ]
  },
  {
   "cell_type": "markdown",
   "metadata": {},
   "source": [
    "---\n",
    "## Example: Finding primes (inefficiently)"
   ]
  },
  {
   "cell_type": "code",
   "execution_count": 2,
   "metadata": {},
   "outputs": [
    {
     "name": "stdout",
     "output_type": "stream",
     "text": [
      "2\n",
      "3\n",
      "5\n",
      "7\n",
      "11\n",
      "13\n"
     ]
    }
   ],
   "source": [
    "n = 14\n",
    "\n",
    "# print all prime numbers up to n\n",
    "x = 2\n",
    "while x <= n:\n",
    "    d = 2\n",
    "    while d < x:\n",
    "        if x%d == 0:\n",
    "            break\n",
    "        d += 1\n",
    "    else:\n",
    "        print(x)\n",
    "\n",
    "    x += 1"
   ]
  },
  {
   "cell_type": "markdown",
   "metadata": {},
   "source": [
    "This is a highly inefficient method and we will learn better method soon."
   ]
  },
  {
   "cell_type": "markdown",
   "metadata": {},
   "source": [
    "---\n",
    "# Multiple inputs"
   ]
  },
  {
   "cell_type": "code",
   "execution_count": 2,
   "metadata": {},
   "outputs": [
    {
     "name": "stdout",
     "output_type": "stream",
     "text": [
      "14\n"
     ]
    }
   ],
   "source": [
    "sum = 0\n",
    "\n",
    "# load numbers from input until 0 is inputed\n",
    "# add numbers to s\n",
    "while True:\n",
    "    n = int(input())\n",
    "    if n == 0:\n",
    "        break\n",
    "    sum += n\n",
    "\n",
    "print(sum)"
   ]
  },
  {
   "cell_type": "code",
   "execution_count": null,
   "metadata": {},
   "outputs": [],
   "source": [
    "# initialize biggest and second biggest number to 0\n",
    "m1 = 0\n",
    "m2 = 0\n",
    "\n",
    "# find the second greatest number\n",
    "while True:\n",
    "    # load numbers until input is 0\n",
    "    n = int(input())\n",
    "    if n == 0:\n",
    "        break\n",
    "    \n",
    "    # update m1 as the biggest and m2 as the second biggest number\n",
    "    if n >= m1:\n",
    "        m1, m2 = n, m1\n",
    "    elif n >= m2:\n",
    "        m2 = n\n",
    "\n",
    "print(m2)"
   ]
  },
  {
   "cell_type": "markdown",
   "metadata": {},
   "source": [
    "---\n",
    "## Example: Euclid algorithm\n",
    "\n",
    "Find the greatest common divisor of two numbers using [Euclid algorithm](https://en.wikipedia.org/wiki/Euclidean_algorithm). Basic thought is that $gcd(a,b)=gcd(b,a\\%b)$."
   ]
  },
  {
   "cell_type": "code",
   "execution_count": null,
   "metadata": {},
   "outputs": [
    {
     "name": "stdout",
     "output_type": "stream",
     "text": [
      "8\n"
     ]
    }
   ],
   "source": [
    "x = 24\n",
    "y = 16\n",
    "\n",
    "# find the greatest common divisor of numbers x, y\n",
    "while x != y:\n",
    "    if x > y:\n",
    "        x -= y\n",
    "    else:\n",
    "        y -= x\n",
    "\n",
    "print(x)"
   ]
  },
  {
   "cell_type": "code",
   "execution_count": null,
   "metadata": {},
   "outputs": [
    {
     "name": "stdout",
     "output_type": "stream",
     "text": [
      "8\n"
     ]
    }
   ],
   "source": [
    "x, y = 24, 16\n",
    "\n",
    "# find the greatest common divisor of numbers x, y\n",
    "while x > 0 and y > 0:\n",
    "    if x > y:\n",
    "        x = x % y\n",
    "    else:\n",
    "        y = y % x\n",
    "\n",
    "# the result is saved in the number which is positive\n",
    "if x > 0:\n",
    "    print(x)\n",
    "else:\n",
    "    print(y)"
   ]
  },
  {
   "cell_type": "code",
   "execution_count": null,
   "metadata": {},
   "outputs": [
    {
     "name": "stdout",
     "output_type": "stream",
     "text": [
      "8\n"
     ]
    }
   ],
   "source": [
    "x, y = 24, 16\n",
    "\n",
    "while y > 0:\n",
    "    x, y = y, x%y\n",
    "\n",
    "print(x)"
   ]
  },
  {
   "cell_type": "markdown",
   "metadata": {},
   "source": [
    "<div class=\"alert alert-block alert-warning\">\n",
    "<ol>\n",
    "<li>Understand the Euclid algorithm and try to write the code on your own.</li>\n",
    "</div>"
   ]
  }
 ],
 "metadata": {
  "kernelspec": {
   "display_name": "base",
   "language": "python",
   "name": "python3"
  },
  "language_info": {
   "codemirror_mode": {
    "name": "ipython",
    "version": 3
   },
   "file_extension": ".py",
   "mimetype": "text/x-python",
   "name": "python",
   "nbconvert_exporter": "python",
   "pygments_lexer": "ipython3",
   "version": "3.11.4"
  }
 },
 "nbformat": 4,
 "nbformat_minor": 2
}
