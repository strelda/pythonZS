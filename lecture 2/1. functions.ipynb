{
 "cells": [
  {
   "cell_type": "markdown",
   "metadata": {},
   "source": [
    "# Avoid spaghetti code\n",
    "\n",
    "Functions are a way to group code and reuse it. Each function should do one job only and should do it well.\n",
    "\n",
    "<div style=\"text-align: center;\">\n",
    "<img src=\"def.jpg\" alt=\"MarineGEO circle logo\" style=\"width:400px;\"/>\n",
    "</div>"
   ]
  },
  {
   "cell_type": "markdown",
   "metadata": {},
   "source": [
    "Hover with the mouse over any function and you see a documentation, which parameters you can use in addition etc. This we will learn today."
   ]
  },
  {
   "cell_type": "code",
   "execution_count": 12,
   "metadata": {},
   "outputs": [
    {
     "data": {
      "text/plain": [
       "['... st', 'yin ', 'live, Feel the city bre', 'kin ', 'nd everybody sh', 'kin']"
      ]
     },
     "execution_count": 12,
     "metadata": {},
     "output_type": "execute_result"
    }
   ],
   "source": [
    "text = \"... stayin alive, Feel the city breakin and everybody shakin\"\n",
    "text.split('a')"
   ]
  },
  {
   "cell_type": "code",
   "execution_count": 13,
   "metadata": {},
   "outputs": [
    {
     "name": "stdout",
     "output_type": "stream",
     "text": [
      "4\n",
      "deer\n"
     ]
    }
   ],
   "source": [
    "def add(a, b):\n",
    "    return a+b\n",
    "\n",
    "print(add(1,3))\n",
    "print(add(\"d\", \"eer\"))"
   ]
  },
  {
   "cell_type": "markdown",
   "metadata": {},
   "source": [
    "Hover with the mouse in VS code over the function above, and you should see\n",
    "```python\n",
    "(function) def add(\n",
    "    a: Any,\n",
    "    b: Any\n",
    ") -> Any\n",
    "```\n",
    "This means the function takes `a,b` of any tipe and returns any. This we can change, but in python (unfortunatelly), these types serve only to the programmer as a documentation. This function is a bit dangerous, because even if you might think you can add anything, you cant."
   ]
  },
  {
   "cell_type": "code",
   "execution_count": 14,
   "metadata": {},
   "outputs": [
    {
     "name": "stdout",
     "output_type": "stream",
     "text": [
      "aa\n"
     ]
    }
   ],
   "source": [
    "print(add(\"a\",\"a\"))"
   ]
  },
  {
   "cell_type": "code",
   "execution_count": 15,
   "metadata": {},
   "outputs": [],
   "source": [
    "def add(a:float, b:float) -> float:\n",
    "    return a+b"
   ]
  },
  {
   "cell_type": "markdown",
   "metadata": {},
   "source": [
    "What else can we do with functions:"
   ]
  },
  {
   "cell_type": "code",
   "execution_count": 16,
   "metadata": {},
   "outputs": [
    {
     "name": "stdout",
     "output_type": "stream",
     "text": [
      "bee\n",
      "beebeebeebeebee\n"
     ]
    }
   ],
   "source": [
    "def repeat(word, n=1): # dont switch the order\n",
    "    print(n*word)\n",
    "\n",
    "repeat(\"bee\")\n",
    "repeat(\"bee\", n=5)\n"
   ]
  },
  {
   "cell_type": "markdown",
   "metadata": {},
   "source": [
    "---\n",
    "# Comments\n",
    "Usually there are two types of comments:\n",
    "- for users\n",
    "- and for developers.\n",
    "\n",
    "If you will ever write code for anyone else, or just the code that needs to last, use **docstrings**. Docstrings are a way to document your code. They are written in triple quotes, and can be accessed by `help(function_name)`.\n",
    "\n",
    "In addition add short explanatory comments between the blocks of code. This will help you or developer to understand the code later."
   ]
  },
  {
   "cell_type": "markdown",
   "metadata": {},
   "source": [
    "---\n",
    "# Example\n",
    "The owner of a monopolistic movie theater in a small town has complete freedom in setting ticket prices. The more he charges, the fewer people can afford tickets. The less he charges, the more it costs to run a show because attendance goes up. In a recent experiment the owner determined a relationship between the price of a ticket and average attendance. At a price of \\$5.00 per ticket, 120 people attend a performance. For each 10-cent change in the ticket price, the average attendance changes by 15 people. That is, if the owner charges \\$5.10, some 105 people attend on the average; if the price goes down to \\$4.90, average attendance increases to 135. Unfortunately, the increased attendance also comes at an increased cost. Every performance comes at a fixed cost of \\$180 to the owner plus a variable cost of \\$0.04 per attendee. The owner would like to know the exact relationship between profit and ticket price in order to maximize the profit. "
   ]
  },
  {
   "cell_type": "markdown",
   "metadata": {},
   "source": [
    "### Solution\n",
    "1. The attendance formula can be written as \n",
    "$$avg\\_attendance=120 people - \\frac{\\$change\\_in\\_price}{\\$0.10}\\cdot 15 people$$"
   ]
  },
  {
   "cell_type": "markdown",
   "metadata": {},
   "source": [
    "2. It is best to tackle individual dependencies in individual functions"
   ]
  },
  {
   "cell_type": "code",
   "execution_count": 17,
   "metadata": {},
   "outputs": [],
   "source": [
    "def attendees(ticket_price):\n",
    "    \"\"\"How the number of attendees depends on a ticket price.\"\"\"\n",
    "    return 120 - (ticket_price - 5) * 15/0.1\n",
    "\n",
    "def revenue(ticket_price):\n",
    "    \"\"\"Revenue depends only on the ticket-price and number sold.\"\"\"\n",
    "    return ticket_price * attendees(ticket_price)\n",
    "\n",
    "def cost(ticket_price):\n",
    "    \"\"\"Cost consists of the fixed part $180 and a variable part dependent on the number of attendees.\"\"\"\n",
    "    return 180 + 0.04 * attendees(ticket_price)"
   ]
  },
  {
   "cell_type": "markdown",
   "metadata": {},
   "source": [
    "<div class=\"alert alert-block alert-warning\">\n",
    "<ol>\n",
    "    <li> Make the functions typed: realize what datatype are we dealing with.</li>\n",
    "    <li> Refactoring: define all variables which could change in the future as constants.</li>\n",
    "</ol>\n",
    "</div>"
   ]
  },
  {
   "cell_type": "markdown",
   "metadata": {},
   "source": [
    "---\n",
    "# Function within a function\n",
    "Example: check if the number is perfect."
   ]
  },
  {
   "cell_type": "code",
   "execution_count": 18,
   "metadata": {},
   "outputs": [
    {
     "name": "stdout",
     "output_type": "stream",
     "text": [
      "[1, 2, 4, 8, 16, 31, 62, 124, 248]\n"
     ]
    }
   ],
   "source": [
    "def is_perfect(a: int)->bool:\n",
    "    \"\"\"Checks if the number is perfect, returns True/False.\"\"\"\n",
    "\n",
    "    def find_divisors(x: int)->list:\n",
    "        \"\"\"Find all divisors of x and return them as a list.\"\"\"    \n",
    "        divisors = []\n",
    "        for i in range(1,x):\n",
    "            if x%i==0:\n",
    "                divisors.append(i)\n",
    "        return divisors\n",
    "    ## a list of divisors of a\n",
    "    divisors = find_divisors(a) \n",
    "\n",
    "    ## for debugging\n",
    "    return divisors\n",
    "\n",
    "    # sum_of_divisors = sum(divisors)\n",
    "    # return sum_of_divisors==a\n",
    "\n",
    "print(is_perfect(496))"
   ]
  },
  {
   "cell_type": "markdown",
   "metadata": {},
   "source": [
    "# Scope\n",
    "\n",
    "Python differentiates between built-in, global, enclosed and local scope. You cant see the object from outside by default."
   ]
  },
  {
   "cell_type": "code",
   "execution_count": 19,
   "metadata": {},
   "outputs": [
    {
     "name": "stdout",
     "output_type": "stream",
     "text": [
      "local global_variable\n",
      "local enclosed_variable\n",
      "local local_variable\n",
      "enclosed global_variable\n"
     ]
    },
    {
     "ename": "NameError",
     "evalue": "name 'local_variable' is not defined",
     "output_type": "error",
     "traceback": [
      "\u001b[0;31m---------------------------------------------------------------------------\u001b[0m",
      "\u001b[0;31mNameError\u001b[0m                                 Traceback (most recent call last)",
      "Cell \u001b[0;32mIn[19], line 19\u001b[0m\n\u001b[1;32m     16\u001b[0m     \u001b[38;5;28mprint\u001b[39m(\u001b[38;5;124m\"\u001b[39m\u001b[38;5;124menclosed\u001b[39m\u001b[38;5;124m\"\u001b[39m, global_variable)\n\u001b[1;32m     17\u001b[0m     \u001b[38;5;28mprint\u001b[39m(\u001b[38;5;124m\"\u001b[39m\u001b[38;5;124menclosed\u001b[39m\u001b[38;5;124m\"\u001b[39m, local_variable) \u001b[38;5;66;03m# local_variable does not exist here\u001b[39;00m\n\u001b[0;32m---> 19\u001b[0m \u001b[43mouter_function\u001b[49m\u001b[43m(\u001b[49m\u001b[43m)\u001b[49m\n",
      "Cell \u001b[0;32mIn[19], line 17\u001b[0m, in \u001b[0;36mouter_function\u001b[0;34m()\u001b[0m\n\u001b[1;32m     15\u001b[0m inner_function()\n\u001b[1;32m     16\u001b[0m \u001b[38;5;28mprint\u001b[39m(\u001b[38;5;124m\"\u001b[39m\u001b[38;5;124menclosed\u001b[39m\u001b[38;5;124m\"\u001b[39m, global_variable)\n\u001b[0;32m---> 17\u001b[0m \u001b[38;5;28mprint\u001b[39m(\u001b[38;5;124m\"\u001b[39m\u001b[38;5;124menclosed\u001b[39m\u001b[38;5;124m\"\u001b[39m, \u001b[43mlocal_variable\u001b[49m)\n",
      "\u001b[0;31mNameError\u001b[0m: name 'local_variable' is not defined"
     ]
    }
   ],
   "source": [
    "# global scope\n",
    "global_variable = \"global_variable\"\n",
    "\n",
    "def outer_function():\n",
    "    # enclosed scope\n",
    "    enclosed_variable = \"enclosed_variable\"\n",
    "\n",
    "    def inner_function():\n",
    "        # local scope\n",
    "        local_variable = \"local_variable\"\n",
    "        print(\"local\", global_variable)\n",
    "        print(\"local\", enclosed_variable)\n",
    "        print(\"local\", local_variable)\n",
    "\n",
    "    inner_function()\n",
    "    print(\"enclosed\", global_variable)\n",
    "    print(\"enclosed\", local_variable) # local_variable does not exist here\n",
    "\n",
    "outer_function()"
   ]
  },
  {
   "cell_type": "code",
   "execution_count": 20,
   "metadata": {},
   "outputs": [
    {
     "ename": "NameError",
     "evalue": "name 'inner_function' is not defined",
     "output_type": "error",
     "traceback": [
      "\u001b[0;31m---------------------------------------------------------------------------\u001b[0m",
      "\u001b[0;31mNameError\u001b[0m                                 Traceback (most recent call last)",
      "Cell \u001b[0;32mIn[20], line 1\u001b[0m\n\u001b[0;32m----> 1\u001b[0m \u001b[43minner_function\u001b[49m() \u001b[38;5;66;03m# inner_function does not exist here\u001b[39;00m\n",
      "\u001b[0;31mNameError\u001b[0m: name 'inner_function' is not defined"
     ]
    }
   ],
   "source": [
    "inner_function() # inner_function does not exist here"
   ]
  },
  {
   "cell_type": "markdown",
   "metadata": {},
   "source": [
    "---\n",
    "# Changing the global variables\n",
    "To see the inner object from outside, you might use a magical words `global`, or `nonlocal`. Usually this is not needed and using function arguments to pass variables is a safer way to do this."
   ]
  },
  {
   "cell_type": "code",
   "execution_count": 21,
   "metadata": {},
   "outputs": [
    {
     "name": "stdout",
     "output_type": "stream",
     "text": [
      "3\n"
     ]
    }
   ],
   "source": [
    "CONST = 3\n",
    "def f():\n",
    "    CONST = 4\n",
    "\n",
    "f()\n",
    "print(CONST)"
   ]
  },
  {
   "cell_type": "code",
   "execution_count": 22,
   "metadata": {},
   "outputs": [
    {
     "name": "stdout",
     "output_type": "stream",
     "text": [
      "4\n"
     ]
    }
   ],
   "source": [
    "def f():\n",
    "    global CONST\n",
    "    CONST = 4\n",
    "    \n",
    "f()\n",
    "print(CONST)"
   ]
  }
 ],
 "metadata": {
  "kernelspec": {
   "display_name": "Python 3",
   "language": "python",
   "name": "python3"
  },
  "language_info": {
   "codemirror_mode": {
    "name": "ipython",
    "version": 3
   },
   "file_extension": ".py",
   "mimetype": "text/x-python",
   "name": "python",
   "nbconvert_exporter": "python",
   "pygments_lexer": "ipython3",
   "version": "3.11.10"
  }
 },
 "nbformat": 4,
 "nbformat_minor": 2
}
