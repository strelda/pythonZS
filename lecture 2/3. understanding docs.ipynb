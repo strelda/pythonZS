{
 "cells": [
  {
   "cell_type": "markdown",
   "metadata": {},
   "source": [
    "# Inside VS Code\n",
    "```python\n",
    "(function) def print(\n",
    "    *values: object,\n",
    "    sep: str | None = \" \",\n",
    "    end: str | None = \"\\n\",\n",
    "    file: SupportsWrite[str] | None = None,\n",
    "    flush: Literal[False] = False\n",
    ") -> None\n",
    "```"
   ]
  },
  {
   "cell_type": "code",
   "execution_count": 1,
   "metadata": {},
   "outputs": [
    {
     "name": "stdout",
     "output_type": "stream",
     "text": [
      "word\n",
      "12\n",
      "12 word 12 12\n",
      "12word\n"
     ]
    }
   ],
   "source": [
    "print('word')\n",
    "print(12)\n",
    "print(12,'word','12',str(12))\n",
    "print(str(12) + 'word')"
   ]
  },
  {
   "cell_type": "code",
   "execution_count": 2,
   "metadata": {},
   "outputs": [
    {
     "name": "stdout",
     "output_type": "stream",
     "text": [
      "12copsjguiweword\n",
      "12 word--...No new line, because the end of previous is not \\n\n"
     ]
    }
   ],
   "source": [
    "print(12, 'word', sep='copsjguiwe') # default sep=' '\n",
    "print(12, 'word', end='--') # default end='\\n'\n",
    "print('...No new line, because the end of previous is not \\\\n')"
   ]
  },
  {
   "cell_type": "markdown",
   "metadata": {},
   "source": [
    "# Python docs\n",
    "For Python 3 the docs can be found at: https://docs.python.org/3/.\n",
    "\n",
    "For example, see the part for [len()](https://docs.python.org/3/library/functions.html#len)."
   ]
  }
 ],
 "metadata": {
  "kernelspec": {
   "display_name": "Python 3",
   "language": "python",
   "name": "python3"
  },
  "language_info": {
   "codemirror_mode": {
    "name": "ipython",
    "version": 3
   },
   "file_extension": ".py",
   "mimetype": "text/x-python",
   "name": "python",
   "nbconvert_exporter": "python",
   "pygments_lexer": "ipython3",
   "version": "3.11.4"
  }
 },
 "nbformat": 4,
 "nbformat_minor": 2
}
