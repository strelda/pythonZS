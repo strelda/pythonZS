{
 "cells": [
  {
   "cell_type": "markdown",
   "metadata": {},
   "source": [
    "# Problems"
   ]
  },
  {
   "cell_type": "markdown",
   "metadata": {},
   "source": [
    "---\n",
    "### Smallest number\n",
    "Finish this function:\n",
    "```python\n",
    "def min3(a:float, b:float, c:float)->float:\n",
    "    \"\"\"Return the smallest number out of 3 input numbers.\n",
    "    \n",
    "    Examples:\n",
    "        >>> min3(1,2,3)\n",
    "        1\n",
    "        >>> min3(-3,-12.5,1)\n",
    "        -12.5\n",
    "    \"\"\"\n",
    "    ...\n",
    "    return ...\n",
    "```\n",
    "There are many ways to do this, which you probably see immeately. You don't have to stick to the following scheme.\n",
    "1. First create the function `min2(a,b)`, which compares just two numbers.\n",
    "2. Use this function inside `min3(a,b,c)`.\n",
    "\n",
    "Remember the lines needed to run the doctests:\n",
    "```python\n",
    "import doctest\n",
    "doctest.testmod()\n",
    "```"
   ]
  },
  {
   "cell_type": "code",
   "execution_count": null,
   "metadata": {},
   "outputs": [],
   "source": [
    "def min2(x: float, y: float)->float:\n",
    "    \"\"\"Return the smaller number.\"\"\"\n",
    "    if x < y:\n",
    "        return x\n",
    "    else:\n",
    "        return y\n",
    "\n",
    "def min3(x: float, y: float, z: float)->float:\n",
    "    \"\"\"Return the smallest number out of 3 input numbers.\n",
    "    \n",
    "    Examples:\n",
    "        >>> min3(1,2,3)\n",
    "        1\n",
    "        >>> min3(-3,-12.5,1)\n",
    "        -12.5\n",
    "    \"\"\"\n",
    "    return min2(min2(x, y), z)\n",
    "\n",
    "a = min2(2,4)\n",
    "print(a)"
   ]
  },
  {
   "cell_type": "markdown",
   "metadata": {},
   "source": [
    "--- \n",
    "### Fibonacci\n",
    "Write a function returning the n-th Fibonacci number. Here is the function signature and doctest:\n",
    "```python\n",
    "def fibonacci(n: int)->int:\n",
    "    \"\"\"Returns the n-th Fibonacci number.\n",
    "    \n",
    "    Examples:\n",
    "        >>> fibonacci(1)\n",
    "        1\n",
    "        >>> fibonacci(18)\n",
    "        2584\n",
    "    \"\"\"\n",
    "```"
   ]
  },
  {
   "cell_type": "code",
   "execution_count": null,
   "metadata": {},
   "outputs": [],
   "source": [
    "def fibonacci(n: int)->int:\n",
    "    \"\"\"Returns the n-th Fibonacci number.\n",
    "    \n",
    "    Examples:\n",
    "        >>> fibonacci(1)\n",
    "        1\n",
    "        >>> fibonacci(18)\n",
    "        2584\n",
    "    \"\"\"\n",
    "    if n <= 1:\n",
    "        return n\n",
    "    a, b = 0, 1\n",
    "    for i in range(2, n+1):\n",
    "        a, b = b, a+b\n",
    "    return b"
   ]
  },
  {
   "cell_type": "markdown",
   "metadata": {},
   "source": [
    "---\n",
    "### Find all divisors\n",
    "Find all divisors of a number using previously written heard of the function.\n",
    "\n",
    "```python \n",
    "# input number\n",
    "n = 33\n",
    "\n",
    "# find the smallest divisor of n\n",
    "d = 2\n",
    "while d < n:\n",
    "    if n%d == 0:\n",
    "        print(n, \"can be divided by\", d)\n",
    "        break\n",
    "    d += 1\n",
    "else:\n",
    "    print(n, \"is prime\")\n",
    "```"
   ]
  },
  {
   "cell_type": "code",
   "execution_count": 7,
   "metadata": {},
   "outputs": [
    {
     "data": {
      "text/plain": [
       "TestResults(failed=0, attempted=3)"
      ]
     },
     "execution_count": 7,
     "metadata": {},
     "output_type": "execute_result"
    }
   ],
   "source": [
    "# the fucntion will accept number, print all divisors to the standard output (std) and return success message (string)\n",
    "\n",
    "def find_divisors(n: int) -> str:\n",
    "    \"\"\"\n",
    "    Finds all divisors of a number and prints them.\n",
    "\n",
    "    Parameters:\n",
    "    n (int): The number to find divisors for.\n",
    "\n",
    "    Returns:\n",
    "    str: A message indicating the operation is complete.\n",
    "\n",
    "    Examples:\n",
    "    >>> find_divisors(33)\n",
    "    1\n",
    "    3\n",
    "    11\n",
    "    33\n",
    "    'found them all'\n",
    "    >>> find_divisors(7)\n",
    "    1\n",
    "    7\n",
    "    'found them all'\n",
    "    >>> find_divisors(12)\n",
    "    1\n",
    "    2\n",
    "    3\n",
    "    4\n",
    "    6\n",
    "    12\n",
    "    'found them all'\n",
    "    \"\"\"\n",
    "    for i in range(1, n + 1):\n",
    "        if n % i == 0:\n",
    "            print(i)\n",
    "    return \"found them all\"\n",
    "\n",
    "\n",
    "import doctest\n",
    "doctest.testmod()\n"
   ]
  },
  {
   "cell_type": "markdown",
   "metadata": {},
   "source": [
    "--- \n",
    "### How many digits in a number?\n",
    "1. Define a function counting the number of digits in a number. The function should get an integer and return an integer.\n",
    "2. Get number from user (get string and convert to int).\n",
    "3. Calculate and print the result.\n",
    "\n",
    "The program can look like this:\n",
    "```python\n",
    "def counter(...):\n",
    "    ...\n",
    "\n",
    "number = # get number from user\n",
    "\n",
    "num_of_digits = counter(number)\n",
    "\n",
    "print(num_of_digits)\n",
    "```\n",
    "\n",
    "*Hint: Initialize counter to 1 for single digin number and add 1 to it for every division by 10 you can do, until the number gets below 10.*"
   ]
  },
  {
   "cell_type": "code",
   "execution_count": null,
   "metadata": {},
   "outputs": [],
   "source": [
    "def counter(num: int)->int:\n",
    "    \"\"\"Counts the number of digits in an integer.\n",
    "    \n",
    "    Examples:\n",
    "        >>> counter(2)\n",
    "        1\n",
    "        >>> counter(1285712231525)\n",
    "        13\n",
    "    \"\"\"\n",
    "    c = 1\n",
    "    while num>10:\n",
    "        num = num//10\n",
    "        c += 1\n",
    "    return c\n",
    "\n",
    "\n",
    "number = int(input(\"enter a number: \"))\n",
    "\n",
    "num_of_digits = counter(number)\n",
    "\n",
    "print(num_of_digits)"
   ]
  },
  {
   "cell_type": "markdown",
   "metadata": {},
   "source": [
    "--- \n",
    "### Divisor of 11...1\n",
    "1. Design a function which finds the smallest number represented only by ones that is divisible by divisor. For example, if divisor is $3$, the function should return $111$, because $1$ and $11$ are not divisible by $3$, but $111$ is. This is the pseudocode you might use:\n",
    "```python\n",
    "# initialize number to 1\n",
    "# while divisor does not divide the number:\n",
    "        # add 1 to the end of the number\n",
    "```\n",
    "2. Get the divisor from user (once again, get string and convert to int).\n",
    "3. print the result\n",
    "\n",
    "\n",
    "Here are some tests:\n",
    "```python\n",
    "\"\"\"\n",
    "Examples:\n",
    "    >>> find_ones(3)\n",
    "    111\n",
    "    >>> find_ones(7)\n",
    "    111111\n",
    "\"\"\"\n",
    "```\n",
    "\n",
    "How to stop a loop, if the number does not exist?"
   ]
  },
  {
   "cell_type": "markdown",
   "metadata": {},
   "source": [
    "#### Simple solution"
   ]
  },
  {
   "cell_type": "code",
   "execution_count": null,
   "metadata": {},
   "outputs": [],
   "source": [
    "def find_ones(divisor: int)->int:\n",
    "    \"\"\"Finds the smallest number of a format 11...1 which can be divided by a number.\n",
    "\n",
    "    Parameters:\n",
    "        divisor (int): The divisor to check divisibility.\n",
    "\n",
    "    Returns:\n",
    "        int: The smallest number of the form 111...1 that is divisible by the divisor.\n",
    "\n",
    "\n",
    "    Examples:\n",
    "        >>> find_ones(3)\n",
    "        111\n",
    "        >>> find_ones(7)\n",
    "        111111\n",
    "    \"\"\"\n",
    "    number = 1\n",
    "    while number % divisor != 0:\n",
    "        number = number * 10 + 1\n",
    "    return number\n",
    "\n",
    "divisor = int(input(\"Enter the divisor: \"))\n",
    "\n",
    "print(find_ones(divisor))"
   ]
  },
  {
   "cell_type": "markdown",
   "metadata": {},
   "source": [
    "#### Complete solution"
   ]
  },
  {
   "cell_type": "code",
   "execution_count": null,
   "metadata": {},
   "outputs": [],
   "source": [
    "MAX_ITER = 1000\n",
    "def find_ones(divisor: int)->int:\n",
    "    \"\"\"Finds the smallest number of a format 11...1 which can be divided by a number.\n",
    "\n",
    "    Parameters:\n",
    "        divisor (int): The divisor to check divisibility.\n",
    "\n",
    "    Returns:\n",
    "        int: The smallest number of the form 111...1 that is divisible by the divisor.\n",
    "\n",
    "    Examples:\n",
    "        >>> find_ones(3)\n",
    "        111\n",
    "        >>> find_ones(7)\n",
    "        111111\n",
    "        >>> find_ones(4)\n",
    "        'No such number found, you may try to increase the number of iterations.'\n",
    "    \"\"\"\n",
    "    number = 1\n",
    "    iteration = 1\n",
    "    while number % divisor != 0:\n",
    "        number = number * 10 + 1\n",
    "        iteration += 1\n",
    "        if iteration>MAX_ITER:\n",
    "            return \"No such number found, you may try to increase the number of iterations.\"\n",
    "    return number\n",
    "\n",
    "\n",
    "divisor = int(input(\"Enter the divisor: \"))\n",
    "find_ones(divisor)"
   ]
  },
  {
   "cell_type": "markdown",
   "metadata": {},
   "source": [
    "---\n",
    "### Maximizing the divisor count\n",
    "Find the number between $1$ and $n$ with the most divisors. If there is more than one with the same number of divisors, print the smallest one."
   ]
  },
  {
   "cell_type": "code",
   "execution_count": 21,
   "metadata": {},
   "outputs": [
    {
     "name": "stdout",
     "output_type": "stream",
     "text": [
      "The number between 1 and 12412 with the most divisors is 10080.\n"
     ]
    }
   ],
   "source": [
    "def number_with_most_divisors(n: int) -> int:\n",
    "    \"\"\"\n",
    "    Finds the number between 1 and n with the most divisors.\n",
    "\n",
    "    Parameters:\n",
    "        n (int): The upper limit of the range to check for divisors.\n",
    "\n",
    "    Returns:\n",
    "        int: The number between 1 and n with the most divisors.\n",
    "\n",
    "    Examples:\n",
    "        >>> number_with_most_divisors(10)\n",
    "        6\n",
    "        >>> number_with_most_divisors(400)\n",
    "        360\n",
    "    \"\"\"\n",
    "    max_divisors = 0\n",
    "    number_with_max_divisors = 0\n",
    "\n",
    "    for i in range(1, n + 1):\n",
    "        divisors = 0\n",
    "        for j in range(1, i + 1):\n",
    "            if i % j == 0:\n",
    "                divisors += 1\n",
    "        if divisors > max_divisors:\n",
    "            max_divisors = divisors\n",
    "            number_with_max_divisors = i\n",
    "\n",
    "    return number_with_max_divisors\n",
    "\n",
    "n = int(input(\"Enter an upper limit: \"))\n",
    "result = number_with_most_divisors(n)\n",
    "print(f\"The number between 1 and {n} with the most divisors is {result}.\")\n"
   ]
  }
 ],
 "metadata": {
  "kernelspec": {
   "display_name": "base",
   "language": "python",
   "name": "python3"
  },
  "language_info": {
   "codemirror_mode": {
    "name": "ipython",
    "version": 3
   },
   "file_extension": ".py",
   "mimetype": "text/x-python",
   "name": "python",
   "nbconvert_exporter": "python",
   "pygments_lexer": "ipython3",
   "version": "3.11.4"
  }
 },
 "nbformat": 4,
 "nbformat_minor": 2
}
