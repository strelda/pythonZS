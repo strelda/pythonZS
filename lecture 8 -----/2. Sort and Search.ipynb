{
 "cells": [
  {
   "cell_type": "markdown",
   "metadata": {},
   "source": [
    "# Sorting and searching\n",
    "\n",
    "Searching of a list has complexity $O(n)$ and sorting has complexity $O(n\\log n)$. In this notebook, we show some more algorithms for them.\n",
    "\n",
    "Python has a build-in function `sorted()` that can sort a list of strings in lexicographical order. Example:"
   ]
  },
  {
   "cell_type": "code",
   "execution_count": 1,
   "metadata": {},
   "outputs": [
    {
     "name": "stdout",
     "output_type": "stream",
     "text": [
      "['apple', 'banana', 'mango']\n"
     ]
    }
   ],
   "source": [
    "fruits = [\"banana\", \"apple\", \"mango\"]\n",
    "print(sorted(fruits))"
   ]
  },
  {
   "cell_type": "markdown",
   "metadata": {},
   "source": [
    "# Algorithms"
   ]
  },
  {
   "cell_type": "markdown",
   "metadata": {},
   "source": [
    "---\n",
    "### Sort with repeated selection of the minimum"
   ]
  },
  {
   "cell_type": "code",
   "execution_count": 8,
   "metadata": {},
   "outputs": [],
   "source": [
    "def selection_sort(arr: list) -> list:\n",
    "    \"\"\"\n",
    "    Sorts a list of integers using the selection sort algorithm.\n",
    "\n",
    "    Selection sort works by repeatedly selecting the minimum element from the unsorted portion and placing it at the beginning of the list.\n",
    "\n",
    "    Args:\n",
    "        arr: The list of integers to be sorted.\n",
    "\n",
    "    Returns:\n",
    "        The sorted list of integers.\n",
    "    \"\"\"\n",
    "    n = len(arr)\n",
    "    for i in range(n):\n",
    "        pmin = i\n",
    "        for j in range(i + 1, n):\n",
    "            if arr[j] < arr[pmin]:\n",
    "                pmin = j\n",
    "        arr[i], arr[pmin] = arr[pmin], arr[i]\n",
    "\n",
    "    return arr"
   ]
  },
  {
   "cell_type": "code",
   "execution_count": 10,
   "metadata": {},
   "outputs": [
    {
     "name": "stdout",
     "output_type": "stream",
     "text": [
      "[-5, 1, 4, 4, 7, 21]\n"
     ]
    }
   ],
   "source": [
    "x = [4, 7, 21, 1, 4, -5]\n",
    "sorted_x = selection_sort(x)\n",
    "print(sorted_x)"
   ]
  },
  {
   "cell_type": "markdown",
   "metadata": {},
   "source": [
    "---\n",
    "### Binary search\n",
    "\n",
    "Binary search is an algorithm used for effitient localization of a target value within a **sorted** collection of elements. It works by repeatedly dividing the search interval in half until the target value is found or the interval is empty."
   ]
  },
  {
   "cell_type": "code",
   "execution_count": 4,
   "metadata": {},
   "outputs": [],
   "source": [
    "from typing import List, Optional\n",
    "\n",
    "def binary_search(sorted_list: list, target: int):\n",
    "    \"\"\"\n",
    "    Perform binary search to find the position of the target number in a sorted list.\n",
    "\n",
    "    Args:\n",
    "        sorted_list: A sorted list of integers to search within.\n",
    "        target: The number to search for within the list.\n",
    "\n",
    "    Returns:\n",
    "        The position of the target number in the list, if found. None if the target is not in the list.\n",
    "    \"\"\"\n",
    "    l = 0\n",
    "    r = len(sorted_list) - 1\n",
    "\n",
    "    while l <= r:\n",
    "        mid = (l + r) // 2\n",
    "        if sorted_list[mid] == target:\n",
    "            return mid\n",
    "        elif sorted_list[mid] < target:\n",
    "            l = mid + 1\n",
    "        else:\n",
    "            r = mid - 1\n",
    "\n",
    "    return None"
   ]
  },
  {
   "cell_type": "code",
   "execution_count": 7,
   "metadata": {},
   "outputs": [
    {
     "name": "stdout",
     "output_type": "stream",
     "text": [
      "Found at position 3.\n"
     ]
    }
   ],
   "source": [
    "# run the function with some sauce around\n",
    "sorted_list = [2,3,5,7,7,8,8,9]\n",
    "num = 7\n",
    "\n",
    "result = binary_search(sorted_list, num)\n",
    "if result is not None:\n",
    "    print(f\"Found at position {result}.\")\n",
    "else:\n",
    "    print(\"Nothing found in the list.\")"
   ]
  }
 ],
 "metadata": {
  "kernelspec": {
   "display_name": "Python 3",
   "language": "python",
   "name": "python3"
  },
  "language_info": {
   "codemirror_mode": {
    "name": "ipython",
    "version": 3
   },
   "file_extension": ".py",
   "mimetype": "text/x-python",
   "name": "python",
   "nbconvert_exporter": "python",
   "pygments_lexer": "ipython3",
   "version": "3.11.9"
  }
 },
 "nbformat": 4,
 "nbformat_minor": 2
}
