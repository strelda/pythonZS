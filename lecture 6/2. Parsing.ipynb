{
 "cells": [
  {
   "cell_type": "markdown",
   "metadata": {},
   "source": [
    "# Parsing\n",
    "Parsing is the process of analyzing a string of symbols, either in natural language or in computer languages, according to the rules of a formal grammar.\n",
    "\n",
    "Useful for that:\n",
    "- `split()`: splits a string into a list of strings\n",
    "- `strip()`: removes leading and trailing whitespace\n",
    "    - `lstrip()`: removes leading whitespace\n",
    "    - `rstrip()`: removes trailing whitespace\n",
    "- `join()`: joins a list of strings into one string\n",
    "- `replace()`: replaces a substring with another substring"
   ]
  },
  {
   "cell_type": "code",
   "execution_count": null,
   "metadata": {},
   "outputs": [
    {
     "name": "stdout",
     "output_type": "stream",
     "text": [
      "[['Zdravím', 'vás'], ['že', 'šouboru'], ['Dobže']]\n"
     ]
    }
   ],
   "source": [
    "l = []\n",
    "for line in open('input.txt'):\n",
    "    l.append(line.strip().replace('.','').split())\n",
    "print(l)"
   ]
  },
  {
   "cell_type": "markdown",
   "metadata": {},
   "source": [
    "<div class=\"alert alert-warning\">\n",
    "1. Use your favorite debugging tool to understand the code above.\n",
    "2. Load the following matrix from file\n",
    "</div>\n",
    "\n",
    "```text\n",
    "1 2 3\n",
    "4 5 -3333\n",
    "2.3 4.5 6\n",
    "```"
   ]
  }
 ],
 "metadata": {
  "kernelspec": {
   "display_name": "base",
   "language": "python",
   "name": "python3"
  },
  "language_info": {
   "codemirror_mode": {
    "name": "ipython",
    "version": 3
   },
   "file_extension": ".py",
   "mimetype": "text/x-python",
   "name": "python",
   "nbconvert_exporter": "python",
   "pygments_lexer": "ipython3",
   "version": "3.11.4"
  }
 },
 "nbformat": 4,
 "nbformat_minor": 2
}
