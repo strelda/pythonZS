{
 "cells": [
  {
   "cell_type": "markdown",
   "metadata": {},
   "source": [
    "# Problems"
   ]
  },
  {
   "cell_type": "markdown",
   "metadata": {},
   "source": [
    "---\n",
    "### String and number reversed\n",
    "1. Design a function, that reverses a string. Such as `reverse(\"dong\")` should return `\"gnod\"`.\n",
    "2. Use the previous function to reverse the number. Such as `reverse_number(123)` should return `321`."
   ]
  },
  {
   "cell_type": "code",
   "execution_count": 3,
   "metadata": {},
   "outputs": [
    {
     "data": {
      "text/plain": [
       "'mab'"
      ]
     },
     "execution_count": 3,
     "metadata": {},
     "output_type": "execute_result"
    }
   ],
   "source": [
    "def reverse(s: str) -> str:\n",
    "    \"\"\"Returns reversed string.\n",
    "    \n",
    "    Examples:\n",
    "        >>> reverse(\"dong\") \n",
    "        'gnod'\n",
    "        >>> reverse(\"3\") \n",
    "        '3'\n",
    "    \"\"\"\n",
    "    return s[::-1]\n",
    "reverse('bam')"
   ]
  },
  {
   "cell_type": "code",
   "execution_count": 53,
   "metadata": {},
   "outputs": [
    {
     "data": {
      "text/plain": [
       "482"
      ]
     },
     "execution_count": 53,
     "metadata": {},
     "output_type": "execute_result"
    }
   ],
   "source": [
    "def reverse_number(n: int) -> int:\n",
    "    \"\"\"Returns reversed number.\"\"\"\n",
    "    return int(reverse(str(n)))\n",
    "reverse_number(284)"
   ]
  },
  {
   "cell_type": "markdown",
   "metadata": {},
   "source": [
    "---\n",
    "### How many words?\n",
    "- Count the number of words in a given text.\n",
    "- Give the function an optional argument, that will make it count the number of unique words instead of the total number of words. Can be used as `count_words(text, unique=True)`. *\n",
    "\n",
    "**Advice: try to split the sentence into words and measure the length of the resulting array. Or the function `set()` might be useful.*"
   ]
  },
  {
   "cell_type": "code",
   "execution_count": null,
   "metadata": {},
   "outputs": [
    {
     "name": "stdout",
     "output_type": "stream",
     "text": [
      "3\n",
      "2\n"
     ]
    }
   ],
   "source": [
    "def count_words(s: str, unique = False)->int:\n",
    "    \"\"\"Returns number of words in string.\"\"\"\n",
    "    if unique:\n",
    "        return len(set(s.split()))\n",
    "    else: \n",
    "        return len(s.split())\n",
    "    \n",
    "print(count_words('bim bam bam'))\n",
    "print(count_words('bim bam bam', unique = True))"
   ]
  },
  {
   "cell_type": "markdown",
   "metadata": {},
   "source": [
    "---\n",
    "### Find smallest pair\n",
    "Find a pair of numbers in a list with the smallest difference. Print the pair in the end. For example, the smallest pair in `[1, 4, 7, 14, 5]` is `[4, 5]`.\n",
    "\n",
    "**Advice: You can use the build in list method* `.sort()`."
   ]
  },
  {
   "cell_type": "code",
   "execution_count": 1,
   "metadata": {},
   "outputs": [
    {
     "name": "stdout",
     "output_type": "stream",
     "text": [
      "[2, 3]\n"
     ]
    }
   ],
   "source": [
    "# we can edit the brute force solution to the previous task,\n",
    "# or more effective way is to sort numbers and then check only between neighbors\n",
    "numbers = [4, 2, 9, 3, 6, 10]\n",
    "numbers.sort()\n",
    "\n",
    "min_diff = 1e50 # set some absurd value to the beginning\n",
    "result_pair = None\n",
    "\n",
    "for i in range(len(numbers) - 1):\n",
    "    diff = numbers[i+1] - numbers[i] # difference between neighbors\n",
    "    if diff < min_diff:\n",
    "        min_diff = diff\n",
    "        result_pair = [numbers[i], numbers[i+1]]\n",
    "\n",
    "print(result_pair)"
   ]
  },
  {
   "cell_type": "markdown",
   "metadata": {},
   "source": [
    "---\n",
    "### Common elements\n",
    "1. Write a function which takes two **ordered** lists as input and returns list containing all elements, which are in both lists. Here is a starting point:\n",
    "```python\n",
    "def lists_intersection(a: list, b: list) -> list:\n",
    "    \"\"\"Finds the intersection of two lists.\n",
    "\n",
    "    Examples:\n",
    "        >> common_elements([1, 2, 3], [2, 3, 4])\n",
    "        [2, 3]\n",
    "    \"\"\"\n",
    "```\n",
    "Bonus tasks:\n",
    "\n",
    "2. Use the fact, that both lists are ordered to make your solution more efficient.\n",
    "3. Write a third function which decides if the lists are ordered and if true, it uses the more efficient algorithm."
   ]
  },
  {
   "cell_type": "code",
   "execution_count": null,
   "metadata": {},
   "outputs": [],
   "source": [
    "def lists_intersection(a: list, b: list) -> list:\n",
    "    \"\"\"Finds the intersection of two lists.\n",
    "\n",
    "    Examples:\n",
    "        >> common_elements([1, 2, 3], [2, 3, 4])\n",
    "        [2, 3]\n",
    "    \"\"\"\n",
    "\n",
    "    output = []\n",
    "    j = 0\n",
    "    for x in a:\n",
    "        while j < len(b) and b[j] < x:\n",
    "            j += 1\n",
    "        if j < len(b) and b[j] == x:\n",
    "            output.append(x)\n",
    "            j += 1\n",
    "    return output"
   ]
  },
  {
   "cell_type": "markdown",
   "metadata": {},
   "source": [
    "---\n",
    "### Quadratic equation\n",
    "Write a function which solves quadratic equation $ax^2+bx+c=0$. Here are tests:\n",
    "```python\n",
    "Examples:\n",
    "    >>> quadratic_solver(4, 0, -64)\n",
    "    [-4.0, 4.0]\n",
    "    >>> quadratic_solver(4, 0, 64)\n",
    "    []\n",
    "    >>> quadratic_solver(1, -2, 1)\n",
    "    [1.0]\n",
    "```\n",
    "The output is an array containing two solutions. If there is only one solution, return it twice. If there are no solutions, return empty list.\n",
    "If $a=0$, return `[]` and a message that this is not a quadratic equation.\n",
    "```"
   ]
  },
  {
   "cell_type": "code",
   "execution_count": 15,
   "metadata": {},
   "outputs": [
    {
     "data": {
      "text/plain": [
       "TestResults(failed=0, attempted=3)"
      ]
     },
     "execution_count": 15,
     "metadata": {},
     "output_type": "execute_result"
    }
   ],
   "source": [
    "from math import sqrt\n",
    "\n",
    "def quadratic_solver(a, b, c):\n",
    "    \"\"\"Solves quadratic equation $ax^2+bx+c=0$ and returns roots as a list.\n",
    "    \n",
    "    Examples:\n",
    "        >>> quadratic_solver(4, 0, -64)\n",
    "        [-4.0, 4.0]\n",
    "        >>> quadratic_solver(4, 0, 64)\n",
    "        []\n",
    "        >>> quadratic_solver(1, -2, 1)\n",
    "        [1.0]\n",
    "    \"\"\"\n",
    "    \n",
    "    if a == 0:\n",
    "        print(\"This is not a quadratic equation!\")\n",
    "        return []\n",
    "    d = b**2 - 4*a*c    # Discriminant\n",
    "    if d < 0:\n",
    "        return []\n",
    "    elif d == 0:\n",
    "        return [-b/(2*a)]\n",
    "    else:\n",
    "        q = sqrt(d)\n",
    "        return [(-b - q) / (2*a), (-b + q) / (2*a)]\n",
    "\n",
    "import doctest\n",
    "doctest.testmod()"
   ]
  },
  {
   "cell_type": "markdown",
   "metadata": {},
   "source": [
    "---\n",
    "### Are all numbers different?\n",
    "You have a `list` of numbers, find out if all of them are different. Print `True` or `False` in the end."
   ]
  },
  {
   "cell_type": "code",
   "execution_count": null,
   "metadata": {},
   "outputs": [
    {
     "name": "stdout",
     "output_type": "stream",
     "text": [
      "False\n"
     ]
    }
   ],
   "source": [
    "# brut force solution using two for loops\n",
    "numbers = [1, 3, 6, 8, 5, 5]\n",
    "\n",
    "l = len(numbers)\n",
    "switch = True # are there any duplicates?\n",
    "for i in range(l):\n",
    "    for j in range(i + 1, l):\n",
    "        if numbers[i] == numbers[j]:\n",
    "            switch = False\n",
    "            break\n",
    "\n",
    "if switch:\n",
    "    print(True)\n",
    "else:\n",
    "    print(False)"
   ]
  },
  {
   "cell_type": "code",
   "execution_count": null,
   "metadata": {},
   "outputs": [
    {
     "name": "stdout",
     "output_type": "stream",
     "text": [
      "False\n"
     ]
    }
   ],
   "source": [
    "# simple solution using function set()\n",
    "if len(numbers) == len(set(numbers)):\n",
    "    print(True)\n",
    "else:\n",
    "    print(False)"
   ]
  },
  {
   "cell_type": "markdown",
   "metadata": {},
   "source": [
    "---\n",
    "### Evaluate a math string\n",
    "- Return a result of a `string`, such as `\"3+6+1\"`. You need to split it, convert numbers and add them.\n",
    "- do the same, but for a string with plus and minus operators. Such as `\"3+6-1\"`.*\n",
    "\n",
    "There is `eval()` function for that. The aim of this excercise is to reproduce its results manually."
   ]
  },
  {
   "cell_type": "code",
   "execution_count": null,
   "metadata": {},
   "outputs": [
    {
     "data": {
      "text/plain": [
       "9"
      ]
     },
     "metadata": {},
     "output_type": "display_data"
    }
   ],
   "source": [
    "def evaluate_plus(s: str) -> int:\n",
    "    \"\"\"Returns result of expression with pluses.\"\"\"\n",
    "    arr = s.split('+')\n",
    "\n",
    "    # this will be easier, once we learn list comprehensions, or functional programming\n",
    "    for i in range(len(arr)):\n",
    "        arr[i] = int(arr[i])\n",
    "\n",
    "    return sum(arr)\n",
    "\n",
    "evaluate_plus('2+3+4')"
   ]
  },
  {
   "cell_type": "code",
   "execution_count": null,
   "metadata": {},
   "outputs": [],
   "source": [
    "'2+3+5-4'\n",
    "l = ['2','+','3',\"+\",\"5\",\"-\",\"4\"]\n",
    "sum = l[0]\n",
    "for i in range(1,len(l),2):\n",
    "    if l[i]=='+':\n",
    "        sum+=l[i+1]\n",
    "    else:\n",
    "        sum-=l[i+1]"
   ]
  },
  {
   "cell_type": "code",
   "execution_count": null,
   "metadata": {},
   "outputs": [
    {
     "data": {
      "text/plain": [
       "126"
      ]
     },
     "metadata": {},
     "output_type": "display_data"
    }
   ],
   "source": [
    "def evaluate_minus(s: str) -> int:\n",
    "    \"\"\"Returns result of expression with minuses.\"\"\"\n",
    "    arr = s.split('-')\n",
    "\n",
    "    subtracted = int(arr[0])\n",
    "    for i in range(1,len(arr)):\n",
    "        subtracted -= int(arr[i])\n",
    "\n",
    "    return subtracted\n",
    "\n",
    "def evaluate(s: str) -> int:\n",
    "    \"\"\"Returns result of expression.\"\"\"\n",
    "    arr = s.split('+')\n",
    "    \n",
    "    sum = 0\n",
    "    for i in arr:\n",
    "        sum += evaluate_minus(i)\n",
    "    \n",
    "    return sum\n",
    "\n",
    "evaluate('2+3+5-4-1+5-6-1+12+111')"
   ]
  },
  {
   "cell_type": "markdown",
   "metadata": {},
   "source": [
    "# Problematic problems"
   ]
  },
  {
   "cell_type": "markdown",
   "metadata": {},
   "source": [
    "---\n",
    "### Matrix inverse\n",
    "Find an inverse of a matrix using Gaussian elimination.\n",
    "- use pivotization to prevent rounding errors\n",
    "- say if the inverse does not exist. Can you find some rules to determine this before you start the algorithm? \n",
    "\n",
    "Here is the docstring:\n",
    "```python\n",
    "def inverse(matrix):\n",
    "    \"\"\"\n",
    "    Finds the inverse of a matrix using Gaussian elimination with pivoting.\n",
    "\n",
    "    Args:\n",
    "        matrix: The input matrix as a list of lists.\n",
    "\n",
    "    Returns:\n",
    "        The inverse of the matrix as a list of lists, or None if the matrix is singular.\n",
    "    \n",
    "    Examples:\n",
    "        >>> matrix = [[1, 2], [3, 4]]\n",
    "        >>> inverse(matrix)\n",
    "        [[-2.0, 1.0], [1.5, -0.5]]\n",
    "        >>> matrix = [[1, 2, 1], [3, 1, 1], [3, 2, 1]]\n",
    "        [[-0.5,  0. ,  0.5],[ 0. , -1. ,  1. ],[ 1.5,  2. , -2.5]]\n",
    "    \"\"\"\n",
    "```\n",
    "You can check any other matrix using\n",
    "```python\n",
    "import numpy as np\n",
    "\n",
    "m = np.array([[1, 2, 1], [3, 1, 1], [3, 2, 1]])\n",
    "np.linalg.inv(m)\n",
    "```"
   ]
  },
  {
   "cell_type": "markdown",
   "metadata": {},
   "source": [
    "---\n",
    "### Špatné básně\n",
    "[Špatné básně](https://spatnebasne.tumblr.com/) is a collection of really bad (good) poems. Imagine they are always in a format below: introduction, poem, signature, footnote (this is not true, but that can be edited easily in the future):\n",
    "\n",
    "--\n",
    "```text\n",
    "Milostná poezie s product placementem\n",
    "\n",
    "Jsi sladká jako Nutella\n",
    "To jakože hodně,\n",
    "docela.\n",
    "\n",
    "(lk)\n",
    "\n",
    "Poznámka: Tato báseň je ukázkou vyspělého komerčního umění. Autor je schopen napsat crossover milostné a gastronomické poezie a ještě za to dostat zaplaceno od skupiny Ferrero.\n",
    "```\n",
    "--\n",
    "1. Parse the poem from the text to recognize individual parts.\n",
    "    - `introduction` is a single string\n",
    "    - `poem` is a list of strings, each string is a line of the poem\n",
    "    - `initials` are just the two initials without bracket\n",
    "    - `footnote` is a single string\n",
    "2. Define a class `Poem` which stores the parts of poem as attributes.\n",
    "3. Define a method `read_poem()` which prints the poem.\n",
    " "
   ]
  },
  {
   "cell_type": "markdown",
   "metadata": {},
   "source": [
    "---\n",
    "### Numbers to words\n",
    "Use czech or english, as you like.\n",
    "Rewrite number in words. Such as `number_to_words(123)` should return `\"one hundred and twenty three\"`, or `\"sto dvacet tři`. \n",
    "- start from integers $<10$, then increase the max possible value. \n",
    "- If the number cannot be rewritten using your function (is not a number, is too big, is float...), return `None`.\n",
    "\n",
    "*If you get stuck, you can find the solution here: https://gitlab.kam.mff.cuni.cz/mj/prm1/raw/master/06-rezy/ceska-cisla.py.*"
   ]
  },
  {
   "cell_type": "markdown",
   "metadata": {},
   "source": [
    "---\n",
    "### Evaluate a math string advanced\n",
    "- Evaluate a math expression as a string. Start with `+` and `-`, `*`, `/`.\n",
    "- Continue with power, sqrt, log, etc. These will be a bit harder due to brackets.*\n",
    "\n",
    "*some understanding of trees and recursion might be useful "
   ]
  }
 ],
 "metadata": {
  "kernelspec": {
   "display_name": "Python 3",
   "language": "python",
   "name": "python3"
  },
  "language_info": {
   "codemirror_mode": {
    "name": "ipython",
    "version": 3
   },
   "file_extension": ".py",
   "mimetype": "text/x-python",
   "name": "python",
   "nbconvert_exporter": "python",
   "pygments_lexer": "ipython3",
   "version": "3.11.10"
  }
 },
 "nbformat": 4,
 "nbformat_minor": 2
}
