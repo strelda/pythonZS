{
 "cells": [
  {
   "cell_type": "markdown",
   "metadata": {},
   "source": [
    "# List of objects\n",
    "- array of any type of objects\n",
    "- mutable and ordered\n",
    "- iterable\n",
    "- indexed from zero, or using negative numbers if we want to start from the end"
   ]
  },
  {
   "cell_type": "markdown",
   "metadata": {},
   "source": [
    "---\n",
    "### Slicing\n",
    "Remember the numbering starts with zero, the last index is not included."
   ]
  },
  {
   "cell_type": "code",
   "execution_count": 40,
   "metadata": {},
   "outputs": [
    {
     "name": "stdout",
     "output_type": "stream",
     "text": [
      "[3, 4]\n",
      "[1, 2, 3]\n",
      "[4, 5, 6]\n",
      "[1, 2, 3, 4, 5, 6]\n"
     ]
    }
   ],
   "source": [
    "x = [1,2,3,4,5,6]\n",
    "print(x[2:4]) # slice, the last element is stop therefore not included\n",
    "print(x[:3])  # prefix\n",
    "print(x[3:])  # suffix\n",
    "print(x[:])   # copy of x"
   ]
  },
  {
   "cell_type": "code",
   "execution_count": null,
   "metadata": {},
   "outputs": [],
   "source": [
    "print(x)\n",
    "print(x[:-1]) # all but the last\n",
    "print(x[-1:]) # the last"
   ]
  },
  {
   "cell_type": "code",
   "execution_count": null,
   "metadata": {},
   "outputs": [],
   "source": [
    "print(x[::2]) # every other element\n",
    "print(x[::-1]) # all elements in reverse order"
   ]
  },
  {
   "cell_type": "code",
   "execution_count": 41,
   "metadata": {},
   "outputs": [
    {
     "name": "stdout",
     "output_type": "stream",
     "text": [
      "True\n",
      "True\n",
      "False\n"
     ]
    }
   ],
   "source": [
    "print(3 in x) # is there 3 in x?\n",
    "print([1, 2, 3] > [1, 2, 2]) # lexicographical comparison: compare first elements, if equal compare second elements, etc.\n",
    "print([1, 2, 2] > [1, 2, 2, 4]) # longer lists can easily win this comparison"
   ]
  },
  {
   "cell_type": "markdown",
   "metadata": {},
   "source": [
    "---\n",
    "### Methods of `list()` class\n",
    "Don't learn them by heart, just know that they exist:\n",
    "\n",
    "- `list.append()` adds an element to the end of a list\n",
    "- `list.insert()` inserts an element at a given index\n",
    "- `list.remove()` removes an element from a list\n",
    "- `list.pop()` removes an element at a given index\n",
    "- `list.index()` returns the index of an element\n",
    "- `list.count()` counts the number of occurrences of an element\n",
    "- `list.sort()` sorts a list\n",
    "- `list.reverse()` reverses a list\n",
    "- `list.copy()` copies a list\n",
    "- `list.clear()` clears a list"
   ]
  },
  {
   "cell_type": "code",
   "execution_count": 44,
   "metadata": {},
   "outputs": [
    {
     "name": "stdout",
     "output_type": "stream",
     "text": [
      "[1, 2, 3, 4, 5, 6]\n",
      "6\n",
      "2\n",
      "None\n",
      "[1, 'here', 3, 4, 5]\n"
     ]
    }
   ],
   "source": [
    "print(x)\n",
    "print(x.pop()) # remove and return the last element, constant time O(1)\n",
    "print(x.pop(1)) # remove and return the first (counting from zero) element, linear time O(n)\n",
    "print(x.insert(1, 'here')) # insert an element at a given position, return None, linear time O(n)\n",
    "\n",
    "print(x)"
   ]
  },
  {
   "cell_type": "code",
   "execution_count": 50,
   "metadata": {},
   "outputs": [
    {
     "name": "stdout",
     "output_type": "stream",
     "text": [
      "[1, 3.0, 'a']\n",
      "[1, 3.0, 'a', 2]\n"
     ]
    }
   ],
   "source": [
    "a = [1, 3.0, 'a']\n",
    "\n",
    "print(a)\n",
    "a.append(2)\n",
    "print(a)"
   ]
  },
  {
   "cell_type": "code",
   "execution_count": 48,
   "metadata": {},
   "outputs": [
    {
     "name": "stdout",
     "output_type": "stream",
     "text": [
      "None\n",
      "[1, 2, 3]\n"
     ]
    }
   ],
   "source": [
    "a = [3, 1, 2]\n",
    "print(a.sort())\n",
    "print(a)"
   ]
  },
  {
   "cell_type": "markdown",
   "metadata": {},
   "source": [
    "<div class=\"alert alert-warning\">\n",
    "Do not name variable as <code>list</code>, because that is a function used for conversions. \n",
    "</div>\n",
    "Similar to conversions between strings, numbers and bools (`str()`, `int()`, `float()`, `bool()`), we can convert something to list. We do not know all the types yet (see for example imutable version of list called tuples), so now we can convert only `range()`"
   ]
  },
  {
   "cell_type": "code",
   "execution_count": 1,
   "metadata": {},
   "outputs": [
    {
     "name": "stdout",
     "output_type": "stream",
     "text": [
      "range(0, 4)\n",
      "[0, 1, 2, 3]\n"
     ]
    }
   ],
   "source": [
    "print(range(4)) # as mentioned in the documentation, range is an object, not a list. \n",
    "print(list(range(4))) # but it's creators programmed a way to convert range into a list and the result is this"
   ]
  },
  {
   "cell_type": "markdown",
   "metadata": {},
   "source": [
    "---\n",
    "## Some examples"
   ]
  },
  {
   "cell_type": "markdown",
   "metadata": {},
   "source": [
    "### Removing and inserting elements\n",
    "Using concatenation, we can substitute pop() and insert() methods:"
   ]
  },
  {
   "cell_type": "code",
   "execution_count": 4,
   "metadata": {},
   "outputs": [
    {
     "name": "stdout",
     "output_type": "stream",
     "text": [
      "['a', 'c', 'd', 'e']\n",
      "['a', 'b', 0, 'c', 'd', 'e']\n"
     ]
    }
   ],
   "source": [
    "s = ['a', 'b', 'c', 'd', 'e']\n",
    "print(s[:1] + s[2:]) # remove the second element\n",
    "print(s[:2] + [0] + s[2:]) # insert 0 as the second element"
   ]
  },
  {
   "cell_type": "code",
   "execution_count": 5,
   "metadata": {},
   "outputs": [
    {
     "name": "stdout",
     "output_type": "stream",
     "text": [
      "['aa', 'bb', 'd', 'e']\n"
     ]
    }
   ],
   "source": [
    "s[0:3] = ['aa','bb'] # exchange the first three elements for the new ones\n",
    "print(s)"
   ]
  },
  {
   "cell_type": "markdown",
   "metadata": {},
   "source": [
    "Now you probably can guess, what this code does:\n",
    "```python\n",
    "x[2:3] = []\n",
    "```"
   ]
  },
  {
   "cell_type": "markdown",
   "metadata": {},
   "source": [
    "### Reversing a list"
   ]
  },
  {
   "cell_type": "code",
   "execution_count": 8,
   "metadata": {},
   "outputs": [
    {
     "name": "stdout",
     "output_type": "stream",
     "text": [
      "ζ\n",
      "τ\n",
      "β\n"
     ]
    }
   ],
   "source": [
    "my_list = ['β','τ','ζ']\n",
    "\n",
    "for i in range(len(my_list)):\n",
    "    print(my_list[-i-1])"
   ]
  },
  {
   "cell_type": "markdown",
   "metadata": {},
   "source": [
    "### Fibonacci sequence"
   ]
  },
  {
   "cell_type": "code",
   "execution_count": null,
   "metadata": {},
   "outputs": [],
   "source": [
    "N = 10 # how many numbers to calculate\n",
    "\n",
    "fib = [0, 1] # initialize the sequence\n",
    "\n",
    "for i in range(N-2):\n",
    "    fib.append(fib[-1] + fib[-2])\n",
    "\n",
    "print(fib)"
   ]
  },
  {
   "cell_type": "markdown",
   "metadata": {},
   "source": [
    "### The Eratosthenes sieve"
   ]
  },
  {
   "cell_type": "code",
   "execution_count": null,
   "metadata": {},
   "outputs": [],
   "source": [
    "N = 30 # up to which number to search for primes\n",
    "A = [True] * (N+1)\n",
    "\n",
    "for i in range(2, N+1):\n",
    "    if A[i]:\n",
    "        print(i)\n",
    "        for j in range(2*i, N+1, i):\n",
    "            A[j] = False"
   ]
  },
  {
   "cell_type": "markdown",
   "metadata": {},
   "source": [
    "---\n",
    "## Matrices\n",
    "Matrices can be represented as a list of lists, where each list in a row has the same length. This is a simple way to represent a matrix, but it is not the most efficient one. For more efficient representation, we can use the `numpy` library, which we will show later in the course.\n",
    "\n",
    "Example: `matrix_multiplication.py`"
   ]
  },
  {
   "cell_type": "code",
   "execution_count": null,
   "metadata": {},
   "outputs": [],
   "source": [
    "matrix1 = [[1,2,3],[3,4,2],[2,2,3]]"
   ]
  },
  {
   "cell_type": "markdown",
   "metadata": {},
   "source": [
    "---\n",
    "## Strings are immutable lists\n",
    "We can iterate over lists, slice them, use the `in` operator to check if a substring is in a string, etc., but we cannot change them as we can change lists."
   ]
  },
  {
   "cell_type": "code",
   "execution_count": 9,
   "metadata": {},
   "outputs": [
    {
     "name": "stdout",
     "output_type": "stream",
     "text": [
      "6\n",
      "ta\n"
     ]
    }
   ],
   "source": [
    "w = \"potato\"\n",
    "# you know these from 3. lecture\n",
    "print(len(w))\n",
    "print(w[2:4])"
   ]
  },
  {
   "cell_type": "code",
   "execution_count": 10,
   "metadata": {},
   "outputs": [
    {
     "ename": "TypeError",
     "evalue": "'str' object does not support item assignment",
     "output_type": "error",
     "traceback": [
      "\u001b[0;31m---------------------------------------------------------------------------\u001b[0m",
      "\u001b[0;31mTypeError\u001b[0m                                 Traceback (most recent call last)",
      "Cell \u001b[0;32mIn[10], line 1\u001b[0m\n\u001b[0;32m----> 1\u001b[0m \u001b[43mw\u001b[49m\u001b[43m[\u001b[49m\u001b[38;5;241;43m2\u001b[39;49m\u001b[43m]\u001b[49m \u001b[38;5;241m=\u001b[39m \u001b[38;5;124m'\u001b[39m\u001b[38;5;124ma\u001b[39m\u001b[38;5;124m'\u001b[39m \u001b[38;5;66;03m# this would work for ordinary lists\u001b[39;00m\n",
      "\u001b[0;31mTypeError\u001b[0m: 'str' object does not support item assignment"
     ]
    }
   ],
   "source": [
    "w[2] = 'a' # this would work for ordinary lists"
   ]
  },
  {
   "cell_type": "markdown",
   "metadata": {},
   "source": [
    "#### What we can't do with numbers but we can do with strings"
   ]
  },
  {
   "cell_type": "code",
   "execution_count": 17,
   "metadata": {},
   "outputs": [
    {
     "name": "stdout",
     "output_type": "stream",
     "text": [
      "TOMATO\n",
      "2\n",
      "-1\n",
      "kromato\n",
      "11\n"
     ]
    }
   ],
   "source": [
    "print(\"tomato\".upper())\n",
    "print(\"tocato\".find('cat'))\n",
    "print(\"sdocato\".find('dog'))\n",
    "print(\"somato\".replace('so', 'kro'))\n",
    "print(\"  11    \".strip())"
   ]
  },
  {
   "cell_type": "code",
   "execution_count": 19,
   "metadata": {},
   "outputs": [
    {
     "name": "stdout",
     "output_type": "stream",
     "text": [
      "[' th', 's sentence  ', 's']\n",
      "['', 'this', 'sentence', '', 'is']\n",
      "this sentence is\n"
     ]
    }
   ],
   "source": [
    "print(\" this sentence  is\".split('i'))\n",
    "print(\" this sentence  is\".split(' '))\n",
    "print(' '.join(['this', 'sentence', 'is']))"
   ]
  },
  {
   "cell_type": "code",
   "execution_count": 21,
   "metadata": {},
   "outputs": [
    {
     "name": "stdout",
     "output_type": "stream",
     "text": [
      "True\n",
      "True\n"
     ]
    }
   ],
   "source": [
    "print('word' < 'work')\n",
    "print('d'>'č')  # uses unicode numbering, so the alphabet is not abcčdď... but abcd...čď"
   ]
  },
  {
   "cell_type": "markdown",
   "metadata": {},
   "source": [
    "---\n",
    "## Iterating over lists\n",
    "\n",
    "### `enumerate()`"
   ]
  },
  {
   "cell_type": "code",
   "execution_count": 22,
   "metadata": {},
   "outputs": [
    {
     "name": "stdout",
     "output_type": "stream",
     "text": [
      "0 has value: 1\n",
      "1 has value: 5\n",
      "2 has value: 112\n",
      "3 has value: 214\n"
     ]
    }
   ],
   "source": [
    "lst = [1,5,112,214]\n",
    "for index, value in enumerate(lst):\n",
    "    print(f\"{index} has value: {value}\")"
   ]
  },
  {
   "cell_type": "markdown",
   "metadata": {},
   "source": [
    "### `zip()`"
   ]
  },
  {
   "cell_type": "code",
   "execution_count": 25,
   "metadata": {},
   "outputs": [
    {
     "name": "stdout",
     "output_type": "stream",
     "text": [
      "<zip object at 0x11117ce00>\n",
      "[(1, 'a'), (2, 'b'), (3, 'c')]\n",
      "a\n",
      "b\n",
      "c\n"
     ]
    }
   ],
   "source": [
    "x = [1,2,3]\n",
    "y = [\"a\", \"b\", \"c\"]\n",
    "\n",
    "print(zip(x,y)) # zip is an object, which can be converted to list and can be iterated over. We know this behaviour from range() function\n",
    "print(list(zip(x,y)))\n",
    "for i,j in zip(x,y):\n",
    "    print(j)"
   ]
  },
  {
   "cell_type": "code",
   "execution_count": null,
   "metadata": {},
   "outputs": [],
   "source": [
    "for i in zip(x,y):\n",
    "    print(i)"
   ]
  },
  {
   "cell_type": "markdown",
   "metadata": {},
   "source": [
    "`zip` can also be unpacked as:"
   ]
  },
  {
   "cell_type": "code",
   "execution_count": 26,
   "metadata": {},
   "outputs": [
    {
     "name": "stdout",
     "output_type": "stream",
     "text": [
      "101 a\n",
      "102 b\n",
      "103 c\n"
     ]
    }
   ],
   "source": [
    "for a,b in zip(x,y):\n",
    "    print(a+100,b)"
   ]
  }
 ],
 "metadata": {
  "kernelspec": {
   "display_name": "base",
   "language": "python",
   "name": "python3"
  },
  "language_info": {
   "codemirror_mode": {
    "name": "ipython",
    "version": 3
   },
   "file_extension": ".py",
   "mimetype": "text/x-python",
   "name": "python",
   "nbconvert_exporter": "python",
   "pygments_lexer": "ipython3",
   "version": "3.11.4"
  }
 },
 "nbformat": 4,
 "nbformat_minor": 2
}
