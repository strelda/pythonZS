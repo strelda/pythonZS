{
 "cells": [
  {
   "cell_type": "markdown",
   "metadata": {},
   "source": [
    "# Problems"
   ]
  },
  {
   "cell_type": "markdown",
   "metadata": {},
   "source": [
    "---\n",
    "### How many words?\n",
    "- Count the number of words in a given text.\n",
    "- Give the function an optional argument, that will make it count the number of unique words instead of the total number of words. Can be used as `count_words(text, unique=True)`. *\n",
    "\n",
    "*The function `set()` might be useful."
   ]
  },
  {
   "cell_type": "code",
   "execution_count": null,
   "metadata": {},
   "outputs": [
    {
     "name": "stdout",
     "output_type": "stream",
     "text": [
      "3\n",
      "2\n"
     ]
    }
   ],
   "source": [
    "def count_words(s: str, unique = False)->int:\n",
    "    \"\"\"Returns number of words in string.\"\"\"\n",
    "    if unique:\n",
    "        return len(set(s.split()))\n",
    "    else: \n",
    "        return len(s.split())\n",
    "    \n",
    "print(count_words('bim bam bam'))\n",
    "print(count_words('bim bam bam', unique = True))"
   ]
  },
  {
   "cell_type": "markdown",
   "metadata": {},
   "source": [
    "---\n",
    "### Find smallest pair\n",
    "Find a pair of numbers in a list with the smallest difference. Print the pair in the end."
   ]
  },
  {
   "cell_type": "code",
   "execution_count": null,
   "metadata": {},
   "outputs": [
    {
     "name": "stdout",
     "output_type": "stream",
     "text": [
      "[2, 3]\n"
     ]
    }
   ],
   "source": [
    "# we can edit the brute force solution to the previous task,\n",
    "# or more effective way is to sort numbers and then check only between neighbors\n",
    "numbers = [4, 2, 9, 3, 6, 10]\n",
    "numbers.sort()\n",
    "\n",
    "min_diff = 1e50 # set some absurd value to the beginning\n",
    "result_pair = None\n",
    "\n",
    "for i in range(len(numbers) - 1):\n",
    "    diff = numbers[i+1] - numbers[i] # difference between neighbors\n",
    "    if diff < min_diff:\n",
    "        min_diff = diff\n",
    "        result_pair = [numbers[i], numbers[i+1]]\n",
    "\n",
    "print(result_pair)"
   ]
  },
  {
   "cell_type": "markdown",
   "metadata": {},
   "source": [
    "<div class=\"alert alert-block alert-info\"> Can you solve the previous problems effectively, if you have some upper bound for the numbers in the list? Lets say, the numbers are between 0 and 100. </div>\n",
    "\n",
    "\n"
   ]
  }
 ],
 "metadata": {
  "kernelspec": {
   "display_name": "Python 3",
   "language": "python",
   "name": "python3"
  },
  "language_info": {
   "codemirror_mode": {
    "name": "ipython",
    "version": 3
   },
   "file_extension": ".py",
   "mimetype": "text/x-python",
   "name": "python",
   "nbconvert_exporter": "python",
   "pygments_lexer": "ipython3",
   "version": "3.11.6"
  }
 },
 "nbformat": 4,
 "nbformat_minor": 2
}
