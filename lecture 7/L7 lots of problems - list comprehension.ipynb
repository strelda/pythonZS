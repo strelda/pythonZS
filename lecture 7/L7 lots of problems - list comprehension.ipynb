{
 "cells": [
  {
   "cell_type": "markdown",
   "metadata": {},
   "source": [
    "# Problems"
   ]
  },
  {
   "cell_type": "markdown",
   "metadata": {},
   "source": [
    "---\n",
    "### Creating matrices\n",
    "Generate $n\\times n$ matrices of a form\n",
    "$$\n",
    "\\begin{pmatrix}\n",
    "1 & 1 & 1 & 1 & 1\\\\\n",
    "0 & 0 & 0 & 0 & 0\\\\\n",
    "1 & 1 & 1 & 1 & 1\\\\\n",
    "0 & 0 & 0 & 0 & 0\\\\\n",
    "1 & 1 & 1 & 1 & 1\n",
    "\\end{pmatrix}\n",
    "$$\n",
    "Here is the docstring:\n",
    "```python\n",
    "def generate(n: int) -> list[list]:\n",
    "    \"\"\"Generates a square matrix of alternating 0s and 1s.\n",
    "\n",
    "    Args:\n",
    "        n (int): The size of the square matrix.\n",
    "\n",
    "    Returns:\n",
    "        list[list[int]]: A square matrix where each row alternates between 0s and 1s,\n",
    "                         starting with the value (row index + 1) % 2.\n",
    "\n",
    "    Examples:\n",
    "        >>> generate(3)\n",
    "        [[1, 1, 1], [0, 0, 0], [1, 1, 1]]\n",
    "        >>> generate(1)\n",
    "        [[1]]\n",
    "        >>> generate(0)\n",
    "        []\n",
    "    \"\"\"\n",
    "```"
   ]
  },
  {
   "cell_type": "code",
   "execution_count": null,
   "metadata": {},
   "outputs": [],
   "source": [
    "def generate(n: int) -> list[list]:\n",
    "    \"\"\"Generates a square matrix of alternating 0s and 1s.\n",
    "\n",
    "    Args:\n",
    "        n (int): The size of the square matrix.\n",
    "\n",
    "    Returns:\n",
    "        list[list[int]]: A square matrix where each row alternates between 0s and 1s,\n",
    "                         starting with the value (row index + 1) % 2.\n",
    "\n",
    "    Examples:\n",
    "        >>> generate(3)\n",
    "        [[1, 1, 1], [0, 0, 0], [1, 1, 1]]\n",
    "        >>> generate(1)\n",
    "        [[1]]\n",
    "        >>> generate(0)\n",
    "        []\n",
    "    \"\"\"\n",
    "    return [[(j+1)%2]*n for j in range(n)]"
   ]
  },
  {
   "cell_type": "markdown",
   "metadata": {},
   "source": [
    "---\n",
    "### Lists intersection\n",
    "Find the intersection of two nonsorted lists. The ordering of resulting list does not matter. Example:\n",
    "```python\n",
    ">>>intersection([4, 2, 3, 1, 5], [3, 4, 5, 6, 7])\n",
    "[4, 3, 5]\n",
    "```"
   ]
  },
  {
   "cell_type": "code",
   "execution_count": 6,
   "metadata": {},
   "outputs": [],
   "source": [
    "def intersection(l1: list, l2: list) -> list:\n",
    "    \"\"\"Finds the intersection of two lists.\n",
    "\n",
    "    Args:\n",
    "        l1 (list): The first list.\n",
    "        l2 (list): The second list.\n",
    "\n",
    "    Returns:\n",
    "        list: A list containing the elements that are common to both l1 and l2.\n",
    "\n",
    "    Examples:\n",
    "        >>> sorted(intersection([4, 2, 3, 1, 5], [3, 4, 5, 6, 7]))\n",
    "        [3, 4, 5]\n",
    "        >>> intersection([1, 2, 3], [4, 5, 6])\n",
    "        []\n",
    "        >>> intersection([], [1, 2, 3])\n",
    "        []\n",
    "    \"\"\"\n",
    "    return [a for a in l1 if a in l2]"
   ]
  },
  {
   "cell_type": "markdown",
   "metadata": {},
   "source": [
    "---\n",
    "### Find palindroms\n",
    "Find all palindromic words in a text. You can consider a single letter words as palindroms. Such as:\n",
    "```python\n",
    ">>> text = \"abba is a palyndromic word, but abcd is not.\"\n",
    ">>> find_pals(text) # the function name is definitely not a reference to \"find some friends\"\n",
    "['abba', 'a']\n",
    "```\n",
    "Hint: `text[::-1]` reverses a string."
   ]
  },
  {
   "cell_type": "code",
   "execution_count": 13,
   "metadata": {},
   "outputs": [],
   "source": [
    "def find_pals(text: str) -> list[str]:\n",
    "    \"\"\"Finds all palindromic words in a given text.\n",
    "\n",
    "    Args:\n",
    "        text (str): The text to search for palindromes.\n",
    "\n",
    "    Returns:\n",
    "        list[str]: A list of palindromic words found in the text.\n",
    "\n",
    "    Examples:\n",
    "        >>> find_pals(\"abba is a palindromic word, but abcd is not.\")\n",
    "        ['abba', 'a']\n",
    "        >>> find_pals(\"level radar kayak\")\n",
    "        ['level', 'radar', 'kayak']\n",
    "        >>> find_pals(\"hello world\")\n",
    "        []\n",
    "    \"\"\"\n",
    "    return [w for w in text.split() if w == w[::-1]]"
   ]
  },
  {
   "cell_type": "markdown",
   "metadata": {},
   "source": [
    "---\n",
    "### Scalar multiplication\n",
    "1. Write a function which takes two vectors and returns their scalar product. Look up the function `sum()`. \n",
    "2. Raise an exception if the vectors are of different lengths.\n",
    "Example:\n",
    "```python\n",
    ">>> dot([1, 2, 3], [4, 5, 6])\n",
    "32\n",
    ">>> dot([1, 2], [1, 2, 3])\n",
    "Traceback (most recent call last):\n",
    "    ...\n",
    "ValueError: Vectors must have the same length for dot product\n",
    "```"
   ]
  },
  {
   "cell_type": "code",
   "execution_count": 29,
   "metadata": {},
   "outputs": [],
   "source": [
    "def dot(l1: list[float], l2: list[float]) -> float:\n",
    "    \"\"\"Calculates the dot product of two lists (vectors).\n",
    "\n",
    "    Args:\n",
    "        l1 (list[float]): The first vector.\n",
    "        l2 (list[float]): The second vector.\n",
    "\n",
    "    Returns:\n",
    "        float: The dot product of l1 and l2.\n",
    "\n",
    "    Raises:\n",
    "        ValueError: If the lengths of l1 and l2 are not equal.\n",
    "\n",
    "    Examples:\n",
    "        >>> dot([1, 2, 3], [4, 5, 6])\n",
    "        32\n",
    "        >>> dot([1, 0], [0, 1])\n",
    "        0\n",
    "        >>> dot([1, 2], [1, 2, 3])\n",
    "        Traceback (most recent call last):\n",
    "            ...\n",
    "        ValueError: Vectors must have the same length for dot product\n",
    "    \"\"\"\n",
    "    if len(l1) != len(l2):\n",
    "        raise ValueError(\"Vectors must have the same length for dot product\")\n",
    "    return sum([i*j for i,j in zip(l1,l2)])"
   ]
  },
  {
   "cell_type": "markdown",
   "metadata": {},
   "source": [
    "---\n",
    "### Matrix multiplication\n",
    "Multiply two matrices, not necessarily square matrices. \n",
    "\n",
    "1. Design the function for transposition and use the `dot()` function from above.\n",
    "2. Raise an exception if the matrices are not compatible. "
   ]
  },
  {
   "cell_type": "code",
   "execution_count": 6,
   "metadata": {},
   "outputs": [
    {
     "data": {
      "text/plain": [
       "TestResults(failed=0, attempted=8)"
      ]
     },
     "execution_count": 6,
     "metadata": {},
     "output_type": "execute_result"
    }
   ],
   "source": [
    "def transpose(x: list[list]) -> list[list]:\n",
    "    \"\"\"Transposes a matrix (list of lists).\n",
    "\n",
    "    Args:\n",
    "        x (list[list]): The matrix to transpose.\n",
    "\n",
    "    Returns:\n",
    "        list[list]: The transposed matrix.\n",
    "\n",
    "    Examples:\n",
    "        >>> transpose([[1, 2, 3], [4, 5, 6]])\n",
    "        [[1, 4], [2, 5], [3, 6]]\n",
    "        >>> transpose([[1]])\n",
    "        [[1]]\n",
    "    \"\"\"\n",
    "    return [[a[i] for a in x] for i in range(len(x[0]))]\n",
    "\n",
    "def dot(row: list[float], col: list[float]) -> float:\n",
    "    \"\"\"Calculates the dot product of two vectors (lists of floats).\"\"\"\n",
    "    return sum(a * b for a, b in zip(row, col))\n",
    "\n",
    "def matrix_multiply(x: list[list[float]], y: list[list[float]]) -> list[list[float]]:\n",
    "    \"\"\"Multiplies two matrices.\n",
    "\n",
    "    Args:\n",
    "        x (list[list[float]]): The first matrix.\n",
    "        y (list[list[float]]): The second matrix.\n",
    "\n",
    "    Returns:\n",
    "        list[list[float]]: The product of x and y.\n",
    "\n",
    "    Examples:\n",
    "        >>> matrix_multiply([[1, 2], [3, 4]], [[5, 6], [7, 8]])\n",
    "        [[19, 22], [43, 50]]\n",
    "        >>> matrix_multiply([[1, 2, 3]], [[4], [5], [6]])\n",
    "        [[32]]\n",
    "        >>> matrix_multiply([[1, 2], [4, 5]], [[1, 2], [3, 4], [5, 6]])\n",
    "        Traceback (most recent call last):\n",
    "            ...\n",
    "        ValueError: Matrix dimensions do not match\n",
    "    \"\"\"\n",
    "    yt = transpose(y)\n",
    "\n",
    "    if len(x[0]) != len(y):\n",
    "        raise ValueError(\"Matrix dimensions do not match\")\n",
    "\n",
    "    return [[dot(x_row, y_col) for y_col in yt] for x_row in x]\n",
    "\n",
    "\n",
    "import doctest\n",
    "doctest.testmod()\n"
   ]
  },
  {
   "cell_type": "markdown",
   "metadata": {},
   "source": [
    "---\n",
    "### Sort words by length\n",
    "Sort words in a list by their length. Writing tests is a bit challenging here, but you can guess the word order and then check if the error is caused by the order, or by the length.\n",
    "\n",
    "Advice: create tuples (length, word) and sort them by length. Then extract only words out of that."
   ]
  },
  {
   "cell_type": "code",
   "execution_count": 39,
   "metadata": {},
   "outputs": [],
   "source": [
    "def words_by_length(words: str) -> list[str]:\n",
    "    \"\"\"Sorts words in a string by their length in ascending order\n",
    "\n",
    "    Args:\n",
    "        words (str): The string containing the words\n",
    "\n",
    "    Returns:\n",
    "        list[str]: A list of words sorted by length\n",
    "\n",
    "    Examples:\n",
    "        >>> words_by_length(\"abba is a palindromic word, but not this one: abcd\")\n",
    "        ['a', 'is', 'but', 'not', 'abba', 'abcd', 'one:', 'this', 'word,', 'palindromic']\n",
    "        >>> words_by_length(\"hello world this is a test\")\n",
    "        ['a', 'is', 'test', 'this', 'hello', 'world']\n",
    "        >>> words_by_length(\"\")\n",
    "        []\n",
    "    \"\"\"\n",
    "    dvojice = [ (len(slovo), slovo) for slovo in words.split() ]\n",
    "    return [ slovo for _, slovo in sorted(dvojice) ]"
   ]
  }
 ],
 "metadata": {
  "kernelspec": {
   "display_name": "Python 3",
   "language": "python",
   "name": "python3"
  },
  "language_info": {
   "codemirror_mode": {
    "name": "ipython",
    "version": 3
   },
   "file_extension": ".py",
   "mimetype": "text/x-python",
   "name": "python",
   "nbconvert_exporter": "python",
   "pygments_lexer": "ipython3",
   "version": "3.11.9"
  }
 },
 "nbformat": 4,
 "nbformat_minor": 2
}
