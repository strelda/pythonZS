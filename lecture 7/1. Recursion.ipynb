{
 "cells": [
  {
   "cell_type": "markdown",
   "metadata": {},
   "source": [
    "# Recursion\n",
    "\n",
    "### Basic Idea\n",
    "Recursion uses the idea of a function calling itself. This is a very powerful idea and allows us to write elegant code. However, it is important to note that recursion can be very inefficient and can cause stack overflow errors. Consider the following example:"
   ]
  },
  {
   "cell_type": "code",
   "execution_count": 30,
   "metadata": {},
   "outputs": [
    {
     "ename": "RecursionError",
     "evalue": "maximum recursion depth exceeded",
     "output_type": "error",
     "traceback": [
      "\u001b[0;31m---------------------------------------------------------------------------\u001b[0m",
      "\u001b[0;31mRecursionError\u001b[0m                            Traceback (most recent call last)",
      "Cell \u001b[0;32mIn[30], line 4\u001b[0m\n\u001b[1;32m      1\u001b[0m \u001b[38;5;28;01mdef\u001b[39;00m \u001b[38;5;21minfinite_recursion\u001b[39m():\n\u001b[1;32m      2\u001b[0m     \u001b[38;5;28;01mreturn\u001b[39;00m infinite_recursion()\n\u001b[0;32m----> 4\u001b[0m \u001b[43minfinite_recursion\u001b[49m\u001b[43m(\u001b[49m\u001b[43m)\u001b[49m\n",
      "Cell \u001b[0;32mIn[30], line 2\u001b[0m, in \u001b[0;36minfinite_recursion\u001b[0;34m()\u001b[0m\n\u001b[1;32m      1\u001b[0m \u001b[38;5;28;01mdef\u001b[39;00m \u001b[38;5;21minfinite_recursion\u001b[39m():\n\u001b[0;32m----> 2\u001b[0m     \u001b[38;5;28;01mreturn\u001b[39;00m \u001b[43minfinite_recursion\u001b[49m\u001b[43m(\u001b[49m\u001b[43m)\u001b[49m\n",
      "Cell \u001b[0;32mIn[30], line 2\u001b[0m, in \u001b[0;36minfinite_recursion\u001b[0;34m()\u001b[0m\n\u001b[1;32m      1\u001b[0m \u001b[38;5;28;01mdef\u001b[39;00m \u001b[38;5;21minfinite_recursion\u001b[39m():\n\u001b[0;32m----> 2\u001b[0m     \u001b[38;5;28;01mreturn\u001b[39;00m \u001b[43minfinite_recursion\u001b[49m\u001b[43m(\u001b[49m\u001b[43m)\u001b[49m\n",
      "    \u001b[0;31m[... skipping similar frames: infinite_recursion at line 2 (2971 times)]\u001b[0m\n",
      "Cell \u001b[0;32mIn[30], line 2\u001b[0m, in \u001b[0;36minfinite_recursion\u001b[0;34m()\u001b[0m\n\u001b[1;32m      1\u001b[0m \u001b[38;5;28;01mdef\u001b[39;00m \u001b[38;5;21minfinite_recursion\u001b[39m():\n\u001b[0;32m----> 2\u001b[0m     \u001b[38;5;28;01mreturn\u001b[39;00m \u001b[43minfinite_recursion\u001b[49m\u001b[43m(\u001b[49m\u001b[43m)\u001b[49m\n",
      "\u001b[0;31mRecursionError\u001b[0m: maximum recursion depth exceeded"
     ]
    }
   ],
   "source": [
    "def infinite_recursion():\n",
    "    return infinite_recursion()\n",
    "\n",
    "infinite_recursion()"
   ]
  },
  {
   "cell_type": "markdown",
   "metadata": {},
   "source": [
    "Python raises `RecursionError: maximum recursion depth exceeded`, if the recursion was called too many times, stack overflows. This usually happens around 1000.\n",
    "\n",
    "This can be dangerous, but you can change the maximmum recursion depth by:\n",
    "```python\n",
    "import sys\n",
    "sys.setrecursionlimit(10000)\n",
    "```\n",
    "Also python is not a functional programming language, so it is not optimized for recursion. In most cases, using loops is more efficient.\n",
    "\n",
    "### Fixed points\n",
    "\n",
    "The fact that recursion works is based on [fixed point theorem](https://en.wikipedia.org/wiki/Kleene_fixed-point_theorem). The idea is that for some functions (works on monotonous functions on a [complete lattice](https://en.wikipedia.org/wiki/Complete_lattice), for details see the theorem), by applying it again and again it eventually leads to the point `f(x) = x`, so-called  **fixed point**.\n",
    "\n",
    "<div class=\"alert alert-block alert-info\">\n",
    "Recursion has two cases: <b>base case</b> and <b>recursive case</b>. \n",
    "<ol>\n",
    "<li> Base case is the <b>fixed point</b> of the function and stops the recursion.</li>\n",
    "<li> Recursive case then composes the result of the function by calling the function itself for parts of this composition.\n",
    "</div>"
   ]
  },
  {
   "cell_type": "markdown",
   "metadata": {},
   "source": [
    "---\n",
    "### Example 1: Searching for a name\n",
    "Does list contain name \"Jasmine\"? We can do this using for loop, but what if we designed the problem as\n",
    "```text\n",
    "look at the first element, \n",
    "is it an empty list---> YES ----> return False\n",
    "                   ---> NO  \n",
    "                        |\n",
    "                        V\n",
    "            is the first element \"Jasmine\"? ----> YES ----> return True\n",
    "                                            ----> NO  \n",
    "                                                  |\n",
    "                                                  V \n",
    "                              look at the rest of the list\n",
    "                        ...\n",
    "```\n",
    "\n",
    "Following our 6 steps of designing the function, we have:"
   ]
  },
  {
   "cell_type": "markdown",
   "metadata": {},
   "source": [
    "ad 1)\n",
    "\n",
    "We are working with lists of strings, no need for special data structures for now.\n",
    "```python\n",
    "l1 = [\"Jasmine\", \"John\", \"Jasnime\", \"Jahnn\"]\n",
    "l2 = [\"Jasmineee\", \"John\", \"Jasnime\", \"Jahnn\"]\n",
    "```\n",
    "\n",
    "ad 2)\n",
    "\n",
    "```python\n",
    "def contains_jasmine(names: list) -> bool:\n",
    "    \"\"\"Checks if the list contains the name 'Jasmine'. \"\"\"\n",
    "    ...\n",
    "```\n",
    "\n",
    "ad 3)\n",
    "```python\n",
    "def contains_jasmine(names: list) -> bool:\n",
    "    \"\"\"Checks if the list contains the name 'Jasmine'.\n",
    "    \n",
    "    Examples:\n",
    "        >>> contains_jasmine([\"Jasmine\", \"John\", \"Jasnime\", \"Jahnn\"])\n",
    "        True\n",
    "        >>> contains_jasmine([\"Jasmineee\", \"John\", \"Jasnime\", \"Jahnn\"])\n",
    "        False\n",
    "        >>> contains_jasmine([])\n",
    "        False\n",
    "    \"\"\"\n",
    "    ...\n",
    "```\n",
    "\n",
    "ad 4) \n",
    "\n",
    "Base case evaluates if the list is empty `len(names) == 0`, or in more python way `not names`. The recursive case should return `True` if the first element is \"Jasmine\", otherwise it should call itself with the rest of the list.\n",
    "```python\n",
    "def contains_jasmine(names: list) -> bool:\n",
    "    \"\"\"Checks if the list contains the name 'Jasmine'.\n",
    "    \n",
    "    Examples:\n",
    "        >>> contains_jasmine([\"Jasmine\", \"John\", \"Jasnime\", \"Jahnn\"])\n",
    "        True\n",
    "        >>> contains_jasmine([\"Jasmineee\", \"John\", \"Jasnime\", \"Jahnn\"])\n",
    "        False\n",
    "        >>> contains_jasmine([])\n",
    "        False\n",
    "    \"\"\"\n",
    "    # base case\n",
    "    if not names: \n",
    "        return False\n",
    "    # recursive case\n",
    "    else:\n",
    "        ... names[0] ... contains_jasmine(names[1:])\n",
    "```\n",
    "\n",
    "See that the base case is trully the fixed point, as `not names` translates to `not False` which is `True`.\n",
    "\n",
    "ad 5)\n"
   ]
  },
  {
   "cell_type": "code",
   "execution_count": 1,
   "metadata": {},
   "outputs": [],
   "source": [
    "def contains_jasmine(names: list) -> bool:\n",
    "    \"\"\"Checks if the list contains the name 'Jasmine'.\n",
    "    \n",
    "    Examples:\n",
    "        >>> contains_jasmine([\"Jasmine\", \"John\", \"Jasnime\", \"Jahnn\"])\n",
    "        True\n",
    "        >>> contains_jasmine([\"Jasmineee\", \"John\", \"Jasnime\", \"Jahnn\"])\n",
    "        False\n",
    "        >>> contains_jasmine([])\n",
    "        False\n",
    "    \"\"\"\n",
    "    # base case\n",
    "    if not names:\n",
    "        return False\n",
    "    # recursive case\n",
    "    else:\n",
    "        if names[0] == \"Jasmine\":\n",
    "            True\n",
    "        else:\n",
    "            return contains_jasmine(names[1:])"
   ]
  },
  {
   "cell_type": "markdown",
   "metadata": {},
   "source": [
    "The recursive case could be as well written as:\n",
    "```python\n",
    "else:\n",
    "    return names[0] == \"Jasmine\" or contains_jasmine(names[1:])\n",
    "```\n",
    "ad 6)"
   ]
  },
  {
   "cell_type": "code",
   "execution_count": 3,
   "metadata": {},
   "outputs": [
    {
     "data": {
      "text/plain": [
       "TestResults(failed=0, attempted=2)"
      ]
     },
     "execution_count": 3,
     "metadata": {},
     "output_type": "execute_result"
    }
   ],
   "source": [
    "import doctest\n",
    "doctest.testmod()"
   ]
  },
  {
   "cell_type": "markdown",
   "metadata": {},
   "source": [
    "---\n",
    "### Example 2: Factorial\n",
    "\n",
    "Fixed point for Factorial is 1, because `1! = 1`, so this will be translated into the base case. The recursive case is `n * factorial(n-1)`. "
   ]
  },
  {
   "cell_type": "code",
   "execution_count": 31,
   "metadata": {},
   "outputs": [
    {
     "name": "stdout",
     "output_type": "stream",
     "text": [
      "120\n"
     ]
    }
   ],
   "source": [
    "def factorial(n: int)->int:\n",
    "    \"\"\"Calculate the factorial of a number.\n",
    "    \n",
    "    Examples:\n",
    "        >>> factorial(5)\n",
    "        120\n",
    "        >>> factorial(1)\n",
    "        1\n",
    "    \"\"\"\n",
    "    # base case\n",
    "    if n == 0 or n == 1:\n",
    "        return 1\n",
    "    # recursive case\n",
    "    else:\n",
    "        return n * factorial(n - 1)\n",
    "\n",
    "# Example usage:\n",
    "result = factorial(5)\n",
    "print(result)"
   ]
  },
  {
   "cell_type": "markdown",
   "metadata": {},
   "source": [
    "---\n",
    "### Example 3: Fibonacci sequence"
   ]
  },
  {
   "cell_type": "markdown",
   "metadata": {},
   "source": [
    "For calculating the Fibonacci sequence, recursion is not the best choice. It is slow and uses a lot of memory. This is because the recursive Fibonacci generator calls itself twice for every number."
   ]
  },
  {
   "cell_type": "code",
   "execution_count": 4,
   "metadata": {},
   "outputs": [
    {
     "name": "stdout",
     "output_type": "stream",
     "text": [
      "6765\n",
      "1.4 ms ± 44.5 µs per loop (mean ± std. dev. of 7 runs, 100 loops each)\n"
     ]
    }
   ],
   "source": [
    "def fibonacci(n: int) -> int:\n",
    "    \"\"\"Calculates n-th Fibonacci number.\n",
    "    \n",
    "    Examples:\n",
    "        >>> fibonacci(20)\n",
    "        6765\n",
    "        >>> fibonacci(1)\n",
    "        1\n",
    "    \"\"\"\n",
    "    # base case\n",
    "    if n==0 or n==1:\n",
    "        return n\n",
    "    # recursive case\n",
    "    else:\n",
    "        return fibonacci(n-1) + fibonacci(n-2)\n",
    "\n",
    "print(fibonacci(20))\n",
    "%timeit -n 100 fibonacci(20)\n"
   ]
  },
  {
   "cell_type": "markdown",
   "metadata": {},
   "source": [
    "This is indeed a bad way to compute the Fibonacci sequence. For comparison, here is a simple and much faster solution:"
   ]
  },
  {
   "cell_type": "code",
   "execution_count": 5,
   "metadata": {},
   "outputs": [
    {
     "name": "stdout",
     "output_type": "stream",
     "text": [
      "6765\n",
      "871 ns ± 124 ns per loop (mean ± std. dev. of 7 runs, 100 loops each)\n"
     ]
    }
   ],
   "source": [
    "def fibonacci_const_memory(n: int) -> int:\n",
    "    \"\"\"Calculates n-th Fibonacci number with constant memory.\"\"\"\n",
    "    if n < 2:\n",
    "        return n\n",
    "    a, b = 0, 1\n",
    "    for i in range(1, n):\n",
    "        a, b = b, a+b\n",
    "    return b\n",
    "\n",
    "print(fibonacci_const_memory(20))\n",
    "%timeit -n 100 fibonacci_const_memory(20)\n"
   ]
  },
  {
   "cell_type": "markdown",
   "metadata": {},
   "source": [
    "# Recursive data\n",
    "We can also define a class, which recursively calls itself. Exactly like the Russian Doll (Matryoshka).\n",
    "\n",
    "### Example: Russian Doll\n",
    "To use RussianDoll as a type inside of RussianDoll, we need to use `from __future__ import annotations`. Otherwise we get an error\n",
    "```python\n",
    "...\n",
    "NameError: name 'RussianDoll' is not defined\n",
    "````"
   ]
  },
  {
   "cell_type": "code",
   "execution_count": null,
   "metadata": {},
   "outputs": [
    {
     "data": {
      "text/plain": [
       "'green'"
      ]
     },
     "metadata": {},
     "output_type": "display_data"
    }
   ],
   "source": [
    "from __future__ import annotations\n",
    "\n",
    "class RussianDoll:\n",
    "    def __init__(self, color: str, innerdoll: RussianDoll = None):\n",
    "        self.color = color\n",
    "        self.innerdoll = innerdoll\n",
    "\n",
    "doll = RussianDoll(\"red\", RussianDoll(\"green\"))\n",
    "doll.innerdoll.color"
   ]
  },
  {
   "cell_type": "markdown",
   "metadata": {},
   "source": [
    "<div class=\"alert alert-block alert-warning\">\n",
    "1. Change the function `contains_jasmine()` to make it search for any name in the list.\n",
    "</div>"
   ]
  }
 ],
 "metadata": {
  "kernelspec": {
   "display_name": "Python 3",
   "language": "python",
   "name": "python3"
  },
  "language_info": {
   "codemirror_mode": {
    "name": "ipython",
    "version": 3
   },
   "file_extension": ".py",
   "mimetype": "text/x-python",
   "name": "python",
   "nbconvert_exporter": "python",
   "pygments_lexer": "ipython3",
   "version": "3.11.9"
  }
 },
 "nbformat": 4,
 "nbformat_minor": 2
}
