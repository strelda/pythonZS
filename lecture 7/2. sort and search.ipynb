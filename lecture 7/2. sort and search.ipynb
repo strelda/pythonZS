{
 "cells": [
  {
   "cell_type": "markdown",
   "metadata": {},
   "source": [
    "Some motivation [here](https://www.youtube.com/watch?v=ig-dtw8Um_k)."
   ]
  },
  {
   "cell_type": "markdown",
   "metadata": {},
   "source": [
    "# Sort and search\n",
    "\n",
    "<div class=\"alert alert-info\">\n",
    "Searching in a list (of length N) has a linear complexity (O(N)), but sorting is numerically more difficult. Even though when we know the list will be searched repeatedly, it is worth sorting it first. The complexities are as follows:\n",
    "</div>\n",
    "\n",
    "<table>\n",
    "  <tr>\n",
    "    <th style=\"text-align: right;\">Operation</th> <th style=\"text-align: left;\">Complexity</th>\n",
    "  </tr>\n",
    "  <tr>\n",
    "    <td style=\"text-align: right;\">Searching a list</td> <td style=\"text-align: left;\">O(n)</td>\n",
    "  </tr>\n",
    "  <tr>\n",
    "    <td style=\"text-align: right;\">Sorting a list</td> <td style=\"text-align: left;\">O(n log n)</td>\n",
    "  </tr>\n",
    "  <tr>\n",
    "    <td style=\"text-align: right;\">Searching a sorted list</td> <td style=\"text-align: left;\">O(log n)</td>\n",
    "  </tr>\n",
    "</table>\n",
    "\n",
    "Python has a build-in function `sorted()` that can sort a list of numbers, or strings (in lexicographical order)."
   ]
  },
  {
   "cell_type": "code",
   "execution_count": 1,
   "metadata": {},
   "outputs": [
    {
     "data": {
      "text/plain": [
       "[-12, -4, 2.3, 5]"
      ]
     },
     "execution_count": 1,
     "metadata": {},
     "output_type": "execute_result"
    }
   ],
   "source": [
    "sorted([-4,-12,2.3,5])"
   ]
  },
  {
   "cell_type": "code",
   "execution_count": 2,
   "metadata": {},
   "outputs": [
    {
     "data": {
      "text/plain": [
       "['apple', 'banana', 'mango']"
      ]
     },
     "execution_count": 2,
     "metadata": {},
     "output_type": "execute_result"
    }
   ],
   "source": [
    "sorted([\"banana\", \"apple\", \"mango\"])"
   ]
  },
  {
   "cell_type": "markdown",
   "metadata": {},
   "source": [
    "# Algorithms"
   ]
  },
  {
   "cell_type": "markdown",
   "metadata": {},
   "source": [
    "---\n",
    "### Sort with repeated selection of the minimum\n",
    "Selection sort works by repeatedly selecting the minimum element from the unsorted portion and placing it at the beginning of the list."
   ]
  },
  {
   "cell_type": "code",
   "execution_count": null,
   "metadata": {},
   "outputs": [],
   "source": [
    "def selection_sort(lst: list) -> list:\n",
    "    \"\"\"\n",
    "    Sorts a list of numbers using the selection sort algorithm.\n",
    "\n",
    "    Returns:\n",
    "        The sorted list of numbers.\n",
    "    \"\"\"\n",
    "    length = len(lst)\n",
    "    for i in range(length):\n",
    "        imin = i\n",
    "        # find the minimum between i-th index to the end\n",
    "        for j in range(i + 1, length):\n",
    "            if lst[j] < lst[imin]:\n",
    "                imin = j\n",
    "        # switch the minimum with the i-th position\n",
    "        lst[i], lst[imin] = lst[imin], lst[i]\n",
    "\n",
    "    return lst"
   ]
  },
  {
   "cell_type": "code",
   "execution_count": null,
   "metadata": {},
   "outputs": [],
   "source": [
    "selection_sort([4, 7, 21, 1, 4, -5])"
   ]
  },
  {
   "cell_type": "markdown",
   "metadata": {},
   "source": [
    "---\n",
    "### Binary search\n",
    "\n",
    "Binary search is an algorithm used for effitient localization of a target value within a **sorted** collection of elements. It works by repeatedly dividing the search interval in half until the target value is found or the interval is empty."
   ]
  },
  {
   "cell_type": "code",
   "execution_count": null,
   "metadata": {},
   "outputs": [
    {
     "name": "stdout",
     "output_type": "stream",
     "text": [
      "Trying:\n",
      "    binary_search([1,2,4,6,7,8,9], 2)\n",
      "Expecting:\n",
      "    1\n",
      "ok\n",
      "Trying:\n",
      "    binary_search([1,2,4,5], 3)\n",
      "Expecting:\n",
      "    None\n",
      "**********************************************************************\n",
      "File \"__main__\", line 15, in __main__.binary_search\n",
      "Failed example:\n",
      "    binary_search([1,2,4,5], 3)\n",
      "Expected:\n",
      "    None\n",
      "Got nothing\n",
      "1 items had no tests:\n",
      "    __main__\n",
      "**********************************************************************\n",
      "1 items had failures:\n",
      "   1 of   2 in __main__.binary_search\n",
      "2 tests in 2 items.\n",
      "1 passed and 1 failed.\n",
      "***Test Failed*** 1 failures.\n"
     ]
    },
    {
     "data": {
      "text/plain": [
       "TestResults(failed=1, attempted=2)"
      ]
     },
     "execution_count": 3,
     "metadata": {},
     "output_type": "execute_result"
    }
   ],
   "source": [
    "def binary_search(sorted_list: list, target: int) -> int:\n",
    "    \"\"\"\n",
    "    Perform binary search to find the position of the target number in a sorted list.\n",
    "\n",
    "    Args:\n",
    "        sorted_list: A sorted list of integers to search within.\n",
    "        target: The number to search for within the list.\n",
    "\n",
    "    Returns:\n",
    "        The position of the target number in the list, if found. None if the target is not in the list.\n",
    "    \n",
    "    Examples:\n",
    "        >>> binary_search([1,2,4,6,7,8,9], 2)\n",
    "        1\n",
    "        >>> binary_search([1,2,4,5], 3) is None\n",
    "        True\n",
    "    \"\"\"\n",
    "    l = 0\n",
    "    r = len(sorted_list) - 1\n",
    "\n",
    "    while l <= r:\n",
    "        mid = (l + r) // 2\n",
    "        if sorted_list[mid] == target:\n",
    "            return mid\n",
    "        elif sorted_list[mid] < target:\n",
    "            l = mid + 1\n",
    "        else:\n",
    "            r = mid - 1\n",
    "\n",
    "    return None\n",
    "import doctest\n",
    "doctest.testmod(verbose=True)"
   ]
  },
  {
   "cell_type": "code",
   "execution_count": null,
   "metadata": {},
   "outputs": [],
   "source": [
    "# run the function with some sauce around\n",
    "sorted_list = [2,3,5,7,7,8,8,9]\n",
    "searched_num = 7\n",
    "\n",
    "result = binary_search(sorted_list, searched_num)\n",
    "if result is not None:\n",
    "    print(f\"Found at position {result}.\")\n",
    "else:\n",
    "    print(\"Nothing found in the list.\")"
   ]
  }
 ],
 "metadata": {
  "kernelspec": {
   "display_name": "base",
   "language": "python",
   "name": "python3"
  },
  "language_info": {
   "codemirror_mode": {
    "name": "ipython",
    "version": 3
   },
   "file_extension": ".py",
   "mimetype": "text/x-python",
   "name": "python",
   "nbconvert_exporter": "python",
   "pygments_lexer": "ipython3",
   "version": "3.11.4"
  }
 },
 "nbformat": 4,
 "nbformat_minor": 2
}
