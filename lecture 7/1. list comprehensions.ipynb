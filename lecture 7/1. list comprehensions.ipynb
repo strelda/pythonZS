{
 "cells": [
  {
   "cell_type": "markdown",
   "metadata": {},
   "source": [
    "# List comprehensions\n",
    "List comprehensions are a more compact way of iterating over lists, resembling mathematical notation $\\{x|x\\in \\N \\wedge x<5<44\\}$. The basic syntax is \n",
    "```python\n",
    "[expression for item in iterable]\n",
    "```"
   ]
  },
  {
   "cell_type": "code",
   "execution_count": 2,
   "metadata": {},
   "outputs": [
    {
     "data": {
      "text/plain": [
       "[0, 1, 2, 3, 4]"
      ]
     },
     "execution_count": 2,
     "metadata": {},
     "output_type": "execute_result"
    }
   ],
   "source": [
    "iters = [1,3,5,7,9]\n",
    "[i for i in range(5)]"
   ]
  },
  {
   "cell_type": "markdown",
   "metadata": {},
   "source": [
    "This can be extended by an optional condition:\n",
    "```python\n",
    "[expression for item in iterable if condition]\n",
    "```\n"
   ]
  },
  {
   "cell_type": "code",
   "execution_count": 3,
   "metadata": {},
   "outputs": [
    {
     "data": {
      "text/plain": [
       "[3, 9]"
      ]
     },
     "execution_count": 3,
     "metadata": {},
     "output_type": "execute_result"
    }
   ],
   "source": [
    "[i for i in iters if i%3==0]"
   ]
  },
  {
   "cell_type": "markdown",
   "metadata": {},
   "source": [
    "Both iteration and condition can be nested:\n",
    "```python\n",
    "[expression for item1 in iterable1 for item2 in iterable2 ... if condition1 if condition2 ...]\n",
    "```"
   ]
  },
  {
   "cell_type": "code",
   "execution_count": null,
   "metadata": {},
   "outputs": [
    {
     "data": {
      "text/plain": [
       "['01', '03', '21', '23', '41', '43']"
      ]
     },
     "execution_count": 6,
     "metadata": {},
     "output_type": "execute_result"
    }
   ],
   "source": [
    "[str(a)+str(b) for a in range(5) for b in range(5) if a%2==0 if b%2==1] # second list is iterated over the first element of iters, then over its second element, etc."
   ]
  },
  {
   "cell_type": "markdown",
   "metadata": {},
   "source": [
    "Here, most programmers would rather write `if a%2==0 and b%2==1`.\n",
    "\n",
    "We can even have a list comprehension inside another one. This creates a matrix."
   ]
  },
  {
   "cell_type": "code",
   "execution_count": null,
   "metadata": {},
   "outputs": [
    {
     "data": {
      "text/plain": [
       "[[0, 0, 0, 0, 0], [0, 1, 2, 3, 4], [0, 2, 4, 6, 8]]"
      ]
     },
     "execution_count": 9,
     "metadata": {},
     "output_type": "execute_result"
    }
   ],
   "source": [
    "[[a*b for a in range(5)] for b in range(3)]"
   ]
  },
  {
   "cell_type": "code",
   "execution_count": 19,
   "metadata": {},
   "outputs": [],
   "source": [
    "lst = [i for i in [1,2,3]]"
   ]
  },
  {
   "cell_type": "code",
   "execution_count": 20,
   "metadata": {},
   "outputs": [
    {
     "data": {
      "text/plain": [
       "[1, 2, 3]"
      ]
     },
     "execution_count": 20,
     "metadata": {},
     "output_type": "execute_result"
    }
   ],
   "source": [
    "[a for a in lst]"
   ]
  },
  {
   "cell_type": "markdown",
   "metadata": {},
   "source": [
    "<div class=\"alert alert-block alert-warning\">\n",
    "Python first generates all elements and then removes those which do not satisfy the condition. This is called <b>filtering</b> and can get really inefficient if the list is long and the number of elements removed is small.\n",
    "</div>"
   ]
  },
  {
   "cell_type": "markdown",
   "metadata": {},
   "source": [
    "---\n",
    "### Examples"
   ]
  },
  {
   "cell_type": "code",
   "execution_count": 24,
   "metadata": {},
   "outputs": [
    {
     "data": {
      "text/plain": [
       "['1', '3', '5']"
      ]
     },
     "execution_count": 24,
     "metadata": {},
     "output_type": "execute_result"
    }
   ],
   "source": [
    "lst = input().split()\n",
    "lst"
   ]
  },
  {
   "cell_type": "code",
   "execution_count": 25,
   "metadata": {},
   "outputs": [
    {
     "name": "stdout",
     "output_type": "stream",
     "text": [
      "[1, 3, 5]\n"
     ]
    }
   ],
   "source": [
    "nums = [int(n) for n in lst] # fast way to input numbers as 3 4 5 6 and make a list of integers [3,4,5,6]\n",
    "print(nums)"
   ]
  },
  {
   "cell_type": "markdown",
   "metadata": {},
   "source": [
    "Remember the problematic example `matrix = [[1]*5]*3` creating 3 references to the same list of 5 ones. Changing one row of such a matrix resulted in changing all other rows. This can be easily avoided using list comprehensions:"
   ]
  },
  {
   "cell_type": "code",
   "execution_count": null,
   "metadata": {},
   "outputs": [
    {
     "name": "stdout",
     "output_type": "stream",
     "text": [
      "[[1, 55, 1, 1, 1], [1, 1, 1, 1, 1], [1, 1, 1, 1, 1]]\n"
     ]
    }
   ],
   "source": [
    "matrix = [[1]*5 for _ in range(3)] # creates a matrix of 3 rows and 5 columns\n",
    "matrix[0][1] = 55\n",
    "print(matrix)"
   ]
  },
  {
   "cell_type": "markdown",
   "metadata": {},
   "source": [
    "#### Matrix transposition"
   ]
  },
  {
   "cell_type": "code",
   "execution_count": 27,
   "metadata": {},
   "outputs": [
    {
     "data": {
      "text/plain": [
       "[[1, 1, 1], [55, 1, 1], [1, 1, 1], [1, 1, 1], [1, 1, 1]]"
      ]
     },
     "execution_count": 27,
     "metadata": {},
     "output_type": "execute_result"
    }
   ],
   "source": [
    "[[row[col] for row in matrix] for col in range(len(matrix[0]))] # iterate the inner number over the "
   ]
  },
  {
   "cell_type": "markdown",
   "metadata": {},
   "source": [
    "#### Evaluate a math string\n",
    "- Return a result of a `string`, such as `\"3+6+11\"`. You need to split it, convert numbers and add them.\n",
    "- do the same, but for a string with plus and minus operators. Such as `\"3+6-1\"`.*\n",
    "\n",
    "There is `eval()` function for that. The aim of this excercise is to reproduce its results manually.\n"
   ]
  },
  {
   "cell_type": "code",
   "execution_count": null,
   "metadata": {},
   "outputs": [
    {
     "data": {
      "text/plain": [
       "[2, 3, 41]"
      ]
     },
     "execution_count": 29,
     "metadata": {},
     "output_type": "execute_result"
    }
   ],
   "source": [
    "def evaluate_plus(s: str) -> int:\n",
    "    \"\"\"Returns result of expression with pluses.\"\"\"\n",
    "    arr = s.split('+')\n",
    "    arr = [int(i) for i in arr]\n",
    "\n",
    "    return sum(arr)\n",
    "\n",
    "evaluate_plus('2+3+41')"
   ]
  },
  {
   "cell_type": "markdown",
   "metadata": {},
   "source": [
    "---\n",
    "### Aggregation functions"
   ]
  },
  {
   "cell_type": "code",
   "execution_count": null,
   "metadata": {},
   "outputs": [],
   "source": [
    "print(all([True, True, True])) # returns True if all elements are True\n",
    "print(any([False, False, True])) # returns True if any elements is True\n",
    "\n",
    "letters = [\"d\", \"a\", \"b\", \"c\", \"q\", \"e\"]\n",
    "print(sorted(letters))\n",
    "print(all([i < \"z\" for i in letters]))\n",
    "print(any([i == \"e\" for i in letters]))"
   ]
  },
  {
   "cell_type": "code",
   "execution_count": null,
   "metadata": {},
   "outputs": [],
   "source": [
    "from random import randint\n",
    "# random gaussian\n",
    "from statistics import mean, median, mode\n",
    "from random import gauss\n",
    "\n",
    "data = [gauss(120,30) for a in range(400)]\n",
    "print(min(data))\n",
    "print(max(data))\n",
    "print(sum(data))\n",
    "\n",
    "print(mean(data))\n",
    "print(median(data))\n",
    "print(mode(data))"
   ]
  },
  {
   "cell_type": "code",
   "execution_count": null,
   "metadata": {},
   "outputs": [],
   "source": [
    "# function round(n,k) rounds n to k decimal places, using k=-1 to nearest 10, k=-2 to the nearest 100, etc.\n",
    "data_rounded = [None]*len(data)\n",
    "\n",
    "for d in range(len(data)):\n",
    "    data_rounded[d] = round(data[d],-1)\n",
    "\n",
    "for i in range(0,230,10):\n",
    "    print('#' * data_rounded.count(i))"
   ]
  },
  {
   "cell_type": "markdown",
   "metadata": {},
   "source": [
    "This can be equivalently written as:"
   ]
  },
  {
   "cell_type": "code",
   "execution_count": null,
   "metadata": {},
   "outputs": [],
   "source": [
    "data_rounded = [round(n,-1) for n in data] \n",
    "hist = [print('#' * data_rounded.count(i)) for i in range(0,230,10)]  # hist now contains list of None, because print() returns None"
   ]
  }
 ],
 "metadata": {
  "kernelspec": {
   "display_name": "base",
   "language": "python",
   "name": "python3"
  },
  "language_info": {
   "codemirror_mode": {
    "name": "ipython",
    "version": 3
   },
   "file_extension": ".py",
   "mimetype": "text/x-python",
   "name": "python",
   "nbconvert_exporter": "python",
   "pygments_lexer": "ipython3",
   "version": "3.11.4"
  }
 },
 "nbformat": 4,
 "nbformat_minor": 2
}
