{
 "cells": [
  {
   "cell_type": "markdown",
   "metadata": {},
   "source": [
    "# Problems\n",
    "\n",
    "---\n",
    "### Greatest common divisors (GCD)\n",
    "\n",
    "Based on the [Euclidean algorithm](https://en.wikipedia.org/wiki/Euclidean_algorithm), derived from the fact that `GCD(a,b)` for some integers `a>b` is the same as `GCD(b, a-b)`. \n",
    "\n",
    "Notes:\n",
    "- This is an example, where we don't have to stick to the fixed point theorem from the syntactical point of view. For the base case we can return just one number (the result), whilst the function always accepts two numbers. It is still a fixed point, but we prefer human readable way.\n",
    "- Instead of checking if `a>b` and then subtracting `a-b`, you can use `(a\\mod b)`.\n",
    "\n"
   ]
  },
  {
   "cell_type": "code",
   "execution_count": 3,
   "metadata": {},
   "outputs": [],
   "source": [
    "def GCD(a: int, b: int) -> int:\n",
    "    \"\"\"\n",
    "    Calculate the Greatest Common Divisor (GCD) of two integers using recursion.\n",
    "\n",
    "    The GCD of two integers is the largest integer that divides both of them without leaving a remainder.\n",
    "\n",
    "    Args:\n",
    "        a (int): The first integer.\n",
    "        b (int): The second integer.\n",
    "\n",
    "    Returns:\n",
    "        int: The GCD of the two integers.\n",
    "\n",
    "    Examples:\n",
    "        >>> GCD(48, 18)\n",
    "        6\n",
    "        >>> GCD(54, 24)\n",
    "        6\n",
    "        >>> GCD(101, 10)\n",
    "        1\n",
    "    \"\"\"\n",
    "    if b == 0:\n",
    "        return a # to make this really a fixed point, we should return (a,0). Here we prefer human readable way.\n",
    "    else:\n",
    "        return GCD(b, a % b)"
   ]
  },
  {
   "cell_type": "markdown",
   "metadata": {},
   "source": [
    "---\n",
    "### Average temperature\n",
    "Compute the average temperature from a list of temperatures. Use the `Temperature` class from previous lectures and assume that all elements have the same unit.\n",
    "1. Solve the problem using for loop.\n",
    "2. Solve the problem using recursion. Here are two possible ways:\n",
    "- Do everything just for the values and at the end convert the result to `Temperature`.\n",
    "- Define some arithmetics for the `Temperature` class, so you can add and divide them easily Look for `__add__` and `__truediv__` methods. Then you can simply use $\\text{average} = \\frac{\\text{sum of elements}}{\\text{number of elements}}$.\n",
    "3. Compare the times using %timeit, for example:\n",
    "    ```python\n",
    "    %timeit average_temp_loop(temperatures)\n",
    "    %timeit average_temp_recursion(temperatures)\n",
    "    ```\n",
    "3. Convert a *list of temperatures* to a *list of temperatures of the same unit*."
   ]
  },
  {
   "cell_type": "code",
   "execution_count": 6,
   "metadata": {},
   "outputs": [],
   "source": [
    "from enum import Enum\n",
    "\n",
    "class Unit(Enum):\n",
    "    \"\"\"Temperature units.\"\"\"\n",
    "    CELSIUS = 0\n",
    "    FAHRENHEIT = 1\n",
    "    KELVIN = 2\n",
    "\n",
    "class Temperature:\n",
    "    \"\"\"\n",
    "    Class representing a temperature with a value and a unit.\n",
    "\n",
    "    Attributes:\n",
    "        value (float): The temperature value.\n",
    "        unit (Unit): The unit of the temperature.\n",
    "    \"\"\"\n",
    "    def __init__(self, value: float, unit: Unit):\n",
    "        self.value = value\n",
    "        self.unit = unit    \n",
    "\n",
    "    def __add__(self, other):\n",
    "        \"\"\"Add two Temperature objects.\"\"\"\n",
    "        if self.unit != other.unit:\n",
    "            raise ValueError(\"Cannot add temperatures with different units\")\n",
    "        return Temperature(self.value + other.value, self.unit)\n",
    "\n",
    "    def __truediv__(self, scalar):\n",
    "        \"\"\"Divide a Temperature object by a scalar.\"\"\"\n",
    "        return Temperature(self.value / scalar, self.unit)\n",
    "\n",
    "temps = [Temperature(20, Unit.CELSIUS), Temperature(35, Unit.CELSIUS), Temperature(2, Unit.CELSIUS), Temperature(41, Unit.CELSIUS)]"
   ]
  },
  {
   "cell_type": "code",
   "execution_count": 15,
   "metadata": {},
   "outputs": [
    {
     "name": "stdout",
     "output_type": "stream",
     "text": [
      "24.5\n",
      "24.5\n"
     ]
    }
   ],
   "source": [
    "def average_temp_loop(temps: list[Temperature]) -> Temperature:\n",
    "    \"\"\"Calculate the average temperature from the list of temperatures. Assume they all have the same unit.\"\"\"\n",
    "    if not temps:\n",
    "        raise ValueError(\"The list of temperatures is empty\")\n",
    "    \n",
    "    total = 0\n",
    "    for t in temps:\n",
    "        total += t.value\n",
    "    return Temperature(total / len(temps), temps[0].unit)\n",
    "\n",
    "def average_temp_recursion(temps: list[Temperature]) -> Temperature:\n",
    "    \"\"\"Calculate the average temperature from the list of temperatures using recursion.\n",
    "    Assume they all have the same unit.\"\"\"\n",
    "    if not temps:\n",
    "        raise ValueError(\"The list of temperatures is empty\")\n",
    "    \n",
    "    return total_temperatures(temps) / len(temps)\n",
    "\n",
    "def total_temperatures(temps: list[Temperature]) -> Temperature:\n",
    "    \"\"\"Calculate the sum of the list of temperatures recursively.\"\"\"\n",
    "    if not temps:\n",
    "        return Temperature(0, Unit.CELSIUS)\n",
    "    else:\n",
    "        return temps[0] + total_temperatures(temps[1:])\n",
    "\n",
    "print(average_temp_loop(temps).value)\n",
    "print(average_temp_recursion(temps).value)"
   ]
  },
  {
   "cell_type": "markdown",
   "metadata": {},
   "source": [
    "---\n",
    "### \"Ententýky 2 špalíky\", but much better\n",
    "*Josephus problem is much more interesting then the childs rule for selecting someone, usually recited as \"ententíky 2 špalíky čert vyletěl z elektriky...\". The reason is that the result can't be determined so easily.*\n",
    "\n",
    "Having `n` people standing in a circle, where the `k`th person is removed, and the `k+1`th person starts counting again, who is the last person left in the circle?\n",
    "\n",
    "You can figure this out by yourself, or see [The General Case section here](https://en.wikipedia.org/wiki/Josephus_problem)."
   ]
  },
  {
   "cell_type": "code",
   "execution_count": 4,
   "metadata": {},
   "outputs": [
    {
     "data": {
      "text/plain": [
       "18"
      ]
     },
     "execution_count": 4,
     "metadata": {},
     "output_type": "execute_result"
    }
   ],
   "source": [
    "def josephus(n: int, k: int) -> int:\n",
    "    \"\"\"\n",
    "    Have n people in the circle, start from 0, kill the k-th person. Who is the last one to survive?\n",
    "\n",
    "    Examples:\n",
    "        >>> josephus(41, 2)\n",
    "        18\n",
    "    \"\"\"\n",
    "    if n == 1:\n",
    "        return 0\n",
    "    else:\n",
    "        return (josephus(n-1, k) + k) % n\n",
    "\n",
    "josephus(41, 2)"
   ]
  },
  {
   "cell_type": "markdown",
   "metadata": {},
   "source": [
    "Towers of hanoi\n",
    "binary search \n",
    "quicksort\n",
    "mergesort"
   ]
  },
  {
   "cell_type": "markdown",
   "metadata": {},
   "source": [
    "# Problematic problems\n",
    "\n",
    "### Folder tree\n",
    "Write out all folders and files in them into the list starting from some subfolder. Or you might try to format it nicely.\n",
    "This mimics the `tree` command in Linux, which outputs something like\n",
    "```\n",
    "├── helper-define-polyfill-provider\n",
    "│   ├── esm\n",
    "│   ├── lib\n",
    "│   │   ├── browser\n",
    "│   │   ├── node\n",
    "│   │   └── visitors\n",
    "│   └── src\n",
    "│       ├── browser\n",
    "│       └── node\n",
    "```\n",
    "You might use the `os` module (`import os`) and its functions `os.listdir` and `os.path.isdir` to list files in folder and find all subfolders of the current folder. Also `os.path.join(path, file)` might be handy."
   ]
  },
  {
   "cell_type": "code",
   "execution_count": null,
   "metadata": {},
   "outputs": [],
   "source": [
    "import os\n",
    "\n",
    "def get_files(path: str) -> list:\n",
    "    \"\"\"Get all files in the folder and subfolders.\n",
    "    \"\"\"\n",
    "    if os.path.isfile(path):\n",
    "        return [path]\n",
    "    else:\n",
    "        files = []\n",
    "        for file in os.listdir(path):\n",
    "            files += get_files(os.path.join(path, file))\n",
    "        return files\n",
    "    \n",
    "get_files('../')"
   ]
  }
 ],
 "metadata": {
  "kernelspec": {
   "display_name": "Python 3",
   "language": "python",
   "name": "python3"
  },
  "language_info": {
   "codemirror_mode": {
    "name": "ipython",
    "version": 3
   },
   "file_extension": ".py",
   "mimetype": "text/x-python",
   "name": "python",
   "nbconvert_exporter": "python",
   "pygments_lexer": "ipython3",
   "version": "3.11.9"
  }
 },
 "nbformat": 4,
 "nbformat_minor": 2
}
