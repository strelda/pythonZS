{
 "cells": [
  {
   "cell_type": "markdown",
   "metadata": {},
   "source": [
    "# Problems\n",
    "### Sort animals 1\n",
    "Sort animals given as tuple by their average life span\n",
    "```python\n",
    "animals = (\n",
    "    ('domestic cat', 15),\n",
    "    ('wild kangaroo', 8),\n",
    "    ('chipmunk', 8),\n",
    "    ('blue whale', 85),\n",
    "    ('chinese hamster', 2.5),\n",
    ")\n",
    "```"
   ]
  },
  {
   "cell_type": "code",
   "execution_count": 3,
   "metadata": {},
   "outputs": [
    {
     "data": {
      "text/plain": [
       "[('chinese hamster', 2.5),\n",
       " ('wild kangaroo', 8),\n",
       " ('chipmunk', 8),\n",
       " ('domestic cat', 15),\n",
       " ('blue whale', 85)]"
      ]
     },
     "execution_count": 3,
     "metadata": {},
     "output_type": "execute_result"
    }
   ],
   "source": [
    "animals = [\n",
    "    ('domestic cat', 15),\n",
    "    ('wild kangaroo', 8),\n",
    "    ('chipmunk', 8),\n",
    "    ('blue whale', 85),\n",
    "    ('chinese hamster', 2.5),\n",
    "]\n",
    "list(sorted(animals, key=lambda x: x[1]))"
   ]
  },
  {
   "cell_type": "markdown",
   "metadata": {},
   "source": [
    "### Sort animals 2\n",
    "Sort animals by their age, print out their names as a list\n",
    "```python\n",
    "animals = [\n",
    "    {'type': 'penguin', 'name': 'Silur', 'age': 8},\n",
    "    {'type': 'elephant', 'name': 'Perm', 'age': 3},\n",
    "    {'type': 'puma', 'name': 'Karbon', 'age': 5},\n",
    "    {'type': 'raccoon', 'name': 'Devon', 'age': 7}\n",
    "]\n",
    "```\n"
   ]
  },
  {
   "cell_type": "code",
   "execution_count": 4,
   "metadata": {},
   "outputs": [
    {
     "data": {
      "text/plain": [
       "['Perm', 'Karbon', 'Devon', 'Silur']"
      ]
     },
     "execution_count": 4,
     "metadata": {},
     "output_type": "execute_result"
    }
   ],
   "source": [
    "animals = [\n",
    "    {'type': 'penguin', 'name': 'Silur', 'age': 8},\n",
    "    {'type': 'elephant', 'name': 'Perm', 'age': 3},\n",
    "    {'type': 'puma', 'name': 'Karbon', 'age': 5},\n",
    "    {'type': 'raccoon', 'name': 'Devon', 'age': 7}\n",
    "]\n",
    "\n",
    "l = sorted(animals, key=lambda animal: animal['age'])\n",
    "list(map(lambda animal: animal[\"name\"], l))"
   ]
  },
  {
   "cell_type": "markdown",
   "metadata": {},
   "source": [
    "### QuickSort\n",
    "\n",
    "- choose pivot (for example the last element) of the list `[1,3,2,7,4,9,`6`]`\n",
    "- rearrange the list in a way `[values smaller than pivot, `pivot`, values larger than pivot]`\n",
    "- do the same independently `left` and `right` parts\n",
    "\n",
    "+ for selection smaller or bigger elements from the list, one might use `lambda` functions."
   ]
  },
  {
   "cell_type": "code",
   "execution_count": null,
   "metadata": {},
   "outputs": [
    {
     "name": "stdout",
     "output_type": "stream",
     "text": [
      "[1, 3, 4, 5, 8]\n"
     ]
    }
   ],
   "source": [
    "def quick_sort(l: list) -> list:\n",
    "    if len(l) <= 1:\n",
    "        return l\n",
    "    else:\n",
    "        pivot = l.pop()\n",
    "        is_smaller = lambda x: x<=pivot\n",
    "        is_bigger = lambda x: x>pivot\n",
    "        left = list(filter(is_smaller, l)) #[x for x in l if x <= pivot]\n",
    "        right = list(filter(is_bigger, l)) #[x for x in l if x > pivot]\n",
    "        return quick_sort(left) + [pivot] + quick_sort(right)\n",
    "\n",
    "\n",
    "l = [1,4,5,3,8]\n",
    "print(quick_sort(l))"
   ]
  },
  {
   "cell_type": "markdown",
   "metadata": {},
   "source": [
    "### Function of a list\n",
    "Define a function `red(s:list, f)` computing the value of `f` for each element of `s` and the previous result. Sequentially:\n",
    "```python\n",
    "x = f(s[0], s[1])\n",
    "x = f(x, s[2])\n",
    "...\n",
    "x = f(x, s[-1])\n",
    "```\n",
    "At the end return the result `x`.\n",
    "\n",
    "Use this function to compute:\n",
    "- sum of elements of a list\n",
    "- minimum of elements of a list\n",
    "- find the first non-zero element of a list"
   ]
  },
  {
   "cell_type": "markdown",
   "metadata": {},
   "source": []
  },
  {
   "cell_type": "code",
   "execution_count": null,
   "metadata": {},
   "outputs": [
    {
     "name": "stdout",
     "output_type": "stream",
     "text": [
      "[1, 3, 4, 5, 8]\n"
     ]
    }
   ],
   "source": []
  },
  {
   "cell_type": "code",
   "execution_count": 2,
   "metadata": {},
   "outputs": [
    {
     "name": "stdout",
     "output_type": "stream",
     "text": [
      "6\n",
      "-2\n",
      "1\n"
     ]
    }
   ],
   "source": [
    "# from functools import reduce \n",
    "\n",
    "def red(s: list, f):\n",
    "    x = s[0]\n",
    "    for i in range(1, len(s)):\n",
    "        x = f(x, s[i])\n",
    "    return x    \n",
    "    # return reduce(f,s)\n",
    "   \n",
    "\n",
    "def s(x, y):\n",
    "    return x + y\n",
    "\n",
    "\n",
    "l = [0, 0, 1, -2, 3, 4]\n",
    "# sum\n",
    "print(red(l, s))\n",
    "# find min\n",
    "print(red(l, min))\n",
    "# find first nonzero element\n",
    "print(red(l, lambda x, y: x if x != 0 else y))"
   ]
  },
  {
   "cell_type": "markdown",
   "metadata": {},
   "source": [
    "### Generator for a cartesian product\n",
    "Define a function `cartesian_product(l1: list, l2: list)` that returns a generator of multiples `x*y` where `x` is an element of `l1` and `y` is an element of `l2`. It should be possible to use it as such:\n",
    "```python\n",
    "for prod in cartesian_product([1, 2, 3], [10, -3, 5]):\n",
    "    print(prod)\n",
    "```"
   ]
  },
  {
   "cell_type": "code",
   "execution_count": 31,
   "metadata": {},
   "outputs": [
    {
     "name": "stdout",
     "output_type": "stream",
     "text": [
      "10\n",
      "-6\n",
      "15\n"
     ]
    }
   ],
   "source": [
    "def cartesian_product(l1: list, l2: list):\n",
    "    if len(l1) != len(l2):\n",
    "        raise ValueError(\"Lists must be of the same length\")\n",
    "    for i in range(len(l1)):\n",
    "        yield l1[i]*l2[i]\n",
    "\n",
    "for prod in cartesian_product([1, 2, 3], [10, -3, 5]):\n",
    "    print(prod)\n"
   ]
  },
  {
   "cell_type": "markdown",
   "metadata": {},
   "source": [
    "### Composition of functions\n",
    "Define a function `compose(f, g) = f(g())`. \n",
    "- Use it to define a function `square_root_of_sum_of_squares` that computes the square root of the sum of squares of all numbers in a list"
   ]
  },
  {
   "cell_type": "code",
   "execution_count": 38,
   "metadata": {},
   "outputs": [
    {
     "data": {
      "text/plain": [
       "5.0"
      ]
     },
     "execution_count": 38,
     "metadata": {},
     "output_type": "execute_result"
    }
   ],
   "source": [
    "import math\n",
    "\n",
    "def compose(f, g):\n",
    "    return lambda x: f(g(x))\n",
    "\n",
    "def g(l: list)->int:\n",
    "    return sum([x**2 for x in l])\n",
    "def f(x: int)->int:\n",
    "    return math.sqrt(x)\n",
    "\n",
    "compose(f, g)([0, 4, 3])"
   ]
  },
  {
   "cell_type": "markdown",
   "metadata": {},
   "source": [
    "# Problematic problems\n",
    "\n",
    "### Demographical data\n",
    "Get gemographical data from some online repository, parse them and create functions which can extract the following information:\n",
    "- 5 biggest countries by population\n",
    "- 5 biggest countries by area\n",
    "- compare countries by population, area, population density, etc."
   ]
  }
 ],
 "metadata": {
  "kernelspec": {
   "display_name": "Python 3",
   "language": "python",
   "name": "python3"
  },
  "language_info": {
   "codemirror_mode": {
    "name": "ipython",
    "version": 3
   },
   "file_extension": ".py",
   "mimetype": "text/x-python",
   "name": "python",
   "nbconvert_exporter": "python",
   "pygments_lexer": "ipython3",
   "version": "3.11.6"
  }
 },
 "nbformat": 4,
 "nbformat_minor": 2
}
