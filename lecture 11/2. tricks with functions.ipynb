{
 "cells": [
  {
   "cell_type": "markdown",
   "metadata": {},
   "source": [
    "# Tricks with functions\n",
    "\n",
    "Functions can be treated as objects (saved into variables, passed as arguments, etc.)"
   ]
  },
  {
   "cell_type": "markdown",
   "metadata": {},
   "source": [
    "### Function as a parameter"
   ]
  },
  {
   "cell_type": "code",
   "execution_count": null,
   "metadata": {},
   "outputs": [],
   "source": [
    "def add(a, b):\n",
    "    return a+b\n",
    "\n",
    "def apply(f, a, b):\n",
    "    return [f(x, y) for x, y in zip(a, b)]"
   ]
  },
  {
   "cell_type": "code",
   "execution_count": 2,
   "metadata": {},
   "outputs": [],
   "source": [
    "from typing import Callable\n",
    "\n",
    "def add(a: int, b: int) -> int:\n",
    "    \"\"\"Return the sum of two numbers.\"\"\"\n",
    "    return a+b\n",
    "\n",
    "def apply(f: Callable[[int, int], int], a: list, b: list): # or just f: callable without the external import\n",
    "    \"\"\"Apply a function to two lists.\"\"\"\n",
    "    return [f(x, y) for x, y in zip(a, b)]"
   ]
  },
  {
   "cell_type": "markdown",
   "metadata": {},
   "source": [
    "We can use every internal operation as an operator using the module `operator`:"
   ]
  },
  {
   "cell_type": "code",
   "execution_count": 6,
   "metadata": {},
   "outputs": [
    {
     "data": {
      "text/plain": [
       "[5, 7, 9]"
      ]
     },
     "execution_count": 6,
     "metadata": {},
     "output_type": "execute_result"
    }
   ],
   "source": [
    "import operator\n",
    "apply(add, [1, 2, 3], [4, 5, 6])"
   ]
  },
  {
   "cell_type": "markdown",
   "metadata": {},
   "source": [
    "### Function as a return value"
   ]
  },
  {
   "cell_type": "code",
   "execution_count": 7,
   "metadata": {},
   "outputs": [],
   "source": [
    "def f():\n",
    "    print(\"nonlocal scope\")\n",
    "    n = 0\n",
    "\n",
    "    def counter():\n",
    "        print(\"local scope\")\n",
    "        nonlocal n\n",
    "        n += 1\n",
    "        return n\n",
    "    return counter"
   ]
  },
  {
   "cell_type": "code",
   "execution_count": 16,
   "metadata": {},
   "outputs": [
    {
     "name": "stdout",
     "output_type": "stream",
     "text": [
      "nonlocal scope\n"
     ]
    }
   ],
   "source": [
    "a = f()\n",
    "# print(a()) # does not call f(), because we returned only the counter function\n",
    "# print(a())\n",
    "# print(a())\n",
    "\n",
    "# b = f()\n",
    "# print(b())"
   ]
  },
  {
   "cell_type": "markdown",
   "metadata": {},
   "source": [
    "### Generators"
   ]
  },
  {
   "cell_type": "code",
   "execution_count": 28,
   "metadata": {},
   "outputs": [
    {
     "name": "stdout",
     "output_type": "stream",
     "text": [
      "10\n",
      "11\n",
      "12\n",
      "13\n",
      "14\n"
     ]
    }
   ],
   "source": [
    "# create an iterator\n",
    "def gen(n:int):\n",
    "    for i in range(n):\n",
    "        yield i+10\n",
    "\n",
    "# iterate over the iterator\n",
    "for i in gen(5):\n",
    "    print(i)"
   ]
  },
  {
   "cell_type": "markdown",
   "metadata": {},
   "source": [
    "Similarly to list comprehensions, or dictionary comprehensions, we can create generators. The difference is that **generators are not evaluated until they are used**. This is useful when we want to create a list of values that we will use only once and we do not want ot save some large list into a memory."
   ]
  },
  {
   "cell_type": "code",
   "execution_count": 14,
   "metadata": {},
   "outputs": [
    {
     "data": {
      "text/plain": [
       "14"
      ]
     },
     "execution_count": 14,
     "metadata": {},
     "output_type": "execute_result"
    }
   ],
   "source": [
    "g = (i+10 for i in range(5))\n",
    "max(g)"
   ]
  },
  {
   "cell_type": "markdown",
   "metadata": {},
   "source": [
    "TSee the 3 orders of magnitude speedup in the following example:"
   ]
  },
  {
   "cell_type": "code",
   "execution_count": 23,
   "metadata": {},
   "outputs": [
    {
     "name": "stdout",
     "output_type": "stream",
     "text": [
      "113 µs ± 515 ns per loop (mean ± std. dev. of 7 runs, 10,000 loops each)\n",
      "245 ns ± 4.48 ns per loop (mean ± std. dev. of 7 runs, 1,000,000 loops each)\n"
     ]
    }
   ],
   "source": [
    "%timeit g = [i+10 for i in range(5000)]\n",
    "%timeit g = (i+10 for i in range(5000))"
   ]
  }
 ],
 "metadata": {
  "kernelspec": {
   "display_name": "Python 3",
   "language": "python",
   "name": "python3"
  },
  "language_info": {
   "codemirror_mode": {
    "name": "ipython",
    "version": 3
   },
   "file_extension": ".py",
   "mimetype": "text/x-python",
   "name": "python",
   "nbconvert_exporter": "python",
   "pygments_lexer": "ipython3",
   "version": "3.11.10"
  }
 },
 "nbformat": 4,
 "nbformat_minor": 2
}
