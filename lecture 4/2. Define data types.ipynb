{
 "cells": [
  {
   "attachments": {},
   "cell_type": "markdown",
   "metadata": {},
   "source": [
    "# Classes\n",
    "You already used classes without even knowing about it. Look for example at the `help(range)`.\n",
    "\n",
    "```python\n",
    "class range(object)\n",
    " |  range(stop) -> range object\n",
    " |  range(start, stop[, step]) -> range object\n",
    "...\n",
    "```"
   ]
  },
  {
   "cell_type": "markdown",
   "metadata": {},
   "source": [
    "---\n",
    "# Example: Temperature"
   ]
  },
  {
   "cell_type": "code",
   "execution_count": 1,
   "metadata": {},
   "outputs": [
    {
     "name": "stdout",
     "output_type": "stream",
     "text": [
      "<__main__.Temperature object at 0x10d59db90>\n"
     ]
    }
   ],
   "source": [
    "class Temperature:\n",
    "    pass\n",
    "\n",
    "t1 = Temperature()\n",
    "print(t1)"
   ]
  },
  {
   "cell_type": "code",
   "execution_count": 14,
   "metadata": {},
   "outputs": [
    {
     "name": "stdout",
     "output_type": "stream",
     "text": [
      "3\n",
      "C\n"
     ]
    }
   ],
   "source": [
    "t1.value = 3\n",
    "t1.unit = \"C\"\n",
    "print(t1.value)\n",
    "print(t1.unit)"
   ]
  },
  {
   "cell_type": "code",
   "execution_count": 5,
   "metadata": {},
   "outputs": [
    {
     "ename": "AttributeError",
     "evalue": "'Temperature' object has no attribute 'num'",
     "output_type": "error",
     "traceback": [
      "\u001b[0;31m---------------------------------------------------------------------------\u001b[0m",
      "\u001b[0;31mAttributeError\u001b[0m                            Traceback (most recent call last)",
      "Cell \u001b[0;32mIn[5], line 1\u001b[0m\n\u001b[0;32m----> 1\u001b[0m \u001b[43mt1\u001b[49m\u001b[38;5;241;43m.\u001b[39;49m\u001b[43mnum\u001b[49m\n",
      "\u001b[0;31mAttributeError\u001b[0m: 'Temperature' object has no attribute 'num'"
     ]
    }
   ],
   "source": [
    "t1.num"
   ]
  },
  {
   "attachments": {},
   "cell_type": "markdown",
   "metadata": {},
   "source": [
    "This can be done, but does not use the power of classes. This power lies in the fact that every temperature has the same two fields: `value` and `unit`. To define this, one of the so-called magic methods is used."
   ]
  },
  {
   "cell_type": "code",
   "execution_count": 26,
   "metadata": {},
   "outputs": [
    {
     "name": "stdout",
     "output_type": "stream",
     "text": [
      "The temperature is 20 degrees C\n",
      "The temperature is 120 degrees F\n"
     ]
    }
   ],
   "source": [
    "class Temperature:\n",
    "    def __init__(self, valuee: float, unitt: int): # usually the same name is used, the extra letter just shows where it is passed\n",
    "        self.value = valuee\n",
    "        self.unit = unitt\n",
    "\n",
    "t1= Temperature(20, \"C\")\n",
    "t2= Temperature(120, \"F\")\n",
    "\n",
    "print(\"The temperature is\",str(t1.value),\"degrees\",t1.unit)\n",
    "print(\"The temperature is\",str(t2.value),\"degrees\",t2.unit)"
   ]
  },
  {
   "cell_type": "markdown",
   "metadata": {},
   "source": [
    "How to make sure that the unit is always \"Celsius\", \"Fahrenheit\" or \"Kelvin\"? We can 'inherit' some properties of Enumerations and define:"
   ]
  },
  {
   "cell_type": "code",
   "execution_count": 2,
   "metadata": {},
   "outputs": [
    {
     "name": "stdout",
     "output_type": "stream",
     "text": [
      "Unit.CELSIUS Unit.CELSIUS\n"
     ]
    }
   ],
   "source": [
    "from enum import Enum\n",
    "\n",
    "class Unit(Enum):\n",
    "    CELSIUS = 0\n",
    "    FAHRENHEIT = 1\n",
    "    KELVIN = 2\n",
    "\n",
    "# two equivalent definitions\n",
    "a = Unit.CELSIUS\n",
    "b = Unit(0)\n",
    "print(a,b)"
   ]
  },
  {
   "cell_type": "markdown",
   "metadata": {},
   "source": [
    "To make it clear, we might define the Unit as"
   ]
  },
  {
   "cell_type": "code",
   "execution_count": 11,
   "metadata": {},
   "outputs": [
    {
     "name": "stdout",
     "output_type": "stream",
     "text": [
      "Unit.FAHRENHEIT\n"
     ]
    }
   ],
   "source": [
    "class Unit(Enum):\n",
    "    \"\"\"Temperature units.\"\"\"\n",
    "    CELSIUS = \"C\"\n",
    "    FAHRENHEIT = \"F\"\n",
    "    KELVIN = \"K\"\n",
    "\n",
    "a = Unit(\"F\")\n",
    "print(a)"
   ]
  },
  {
   "cell_type": "markdown",
   "metadata": {},
   "source": [
    "This can be used in the `Temperature` class as"
   ]
  },
  {
   "cell_type": "code",
   "execution_count": 12,
   "metadata": {},
   "outputs": [
    {
     "name": "stdout",
     "output_type": "stream",
     "text": [
      "Unit.CELSIUS\n"
     ]
    }
   ],
   "source": [
    "class Temperature:\n",
    "    \"\"\"\n",
    "    Class representing a temperature with a value and a unit.\n",
    "\n",
    "    Attributes:\n",
    "        value (float): The temperature value.\n",
    "        unit (Unit): The unit of the temperature.\n",
    "    \"\"\"\n",
    "    def __init__(self, value: float, unit: Unit):\n",
    "        self.value = value\n",
    "        self.unit = unit    \n",
    "\n",
    "t1= Temperature(20, Unit(\"C\"))\n",
    "# attributes can be passed as keyword arguments\n",
    "t2 = Temperature(value=23, unit=Unit.FAHRENHEIT)\n",
    "print(t1.unit)"
   ]
  },
  {
   "cell_type": "markdown",
   "metadata": {},
   "source": [
    "Recommended usage for Enumerations is the first one: with number on right, and initialization in a style of `Unit.FAHRENHEIT` instead of `Unit(\"C\")`."
   ]
  }
 ],
 "metadata": {
  "kernelspec": {
   "display_name": "Python 3",
   "language": "python",
   "name": "python3"
  },
  "language_info": {
   "codemirror_mode": {
    "name": "ipython",
    "version": 3
   },
   "file_extension": ".py",
   "mimetype": "text/x-python",
   "name": "python",
   "nbconvert_exporter": "python",
   "pygments_lexer": "ipython3",
   "version": "3.11.4"
  },
  "orig_nbformat": 4,
  "vscode": {
   "interpreter": {
    "hash": "e7370f93d1d0cde622a1f8e1c04877d8463912d04d973331ad4851f04de6915a"
   }
  }
 },
 "nbformat": 4,
 "nbformat_minor": 2
}
