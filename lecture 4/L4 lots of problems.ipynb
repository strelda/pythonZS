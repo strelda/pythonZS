{
 "cells": [
  {
   "cell_type": "markdown",
   "metadata": {},
   "source": [
    "# Problems\n",
    "\n",
    "---\n",
    "### Temperature\n",
    "1. Use the Temperature class defined in `2. Define data types.ipynb` and design a function which can add two temperatures together. The fucntion should return a new Temperature object or error message, if the two temperatures are in different units.\n",
    "2. Add an optional parameter `convert: bool=False` to the add function, which will allow the user to convert the temperature to Celsius.\n",
    "\n",
    "*You can ignore the Kelvin unit possibility.*"
   ]
  },
  {
   "cell_type": "code",
   "execution_count": 19,
   "metadata": {},
   "outputs": [
    {
     "data": {
      "text/plain": [
       "31.444444444444443"
      ]
     },
     "execution_count": 19,
     "metadata": {},
     "output_type": "execute_result"
    }
   ],
   "source": [
    "from enum import Enum\n",
    "\n",
    "class Unit(Enum):\n",
    "    CELSIUS = 1\n",
    "    FAHRENHEIT = 2\n",
    "\n",
    "class Temperature:\n",
    "    def __init__(self, value: float, unit: Unit):\n",
    "        self.value = value\n",
    "        self.unit = unit\n",
    "\n",
    "def f_to_c(f: float)->float:\n",
    "    \"\"\"Convert number representing the temperature in Fahrenheit to Celsius.\"\"\"\n",
    "    return (f-32) * 5/9\n",
    "\n",
    "def add_temperatures(t1: Temperature, t2: Temperature, convert: bool = False) -> Temperature:\n",
    "    \"\"\"Add two temperatures, convert them into the same unit if needed.\"\"\"\n",
    "    if t1.unit==t2.unit:\n",
    "        return Temperature(t1.value+t2.value, t1.unit)\n",
    "    elif convert:\n",
    "        if t1.unit==Unit.FAHRENHEIT:\n",
    "            t1c = f_to_c(t1.value)\n",
    "        else:\n",
    "            t1c = t1.value\n",
    "        if t2.unit==Unit.FAHRENHEIT:\n",
    "            t2c = f_to_c(t2.value)\n",
    "        else:\n",
    "            t2c = t2.value\n",
    "\n",
    "        return Temperature(t1c+t2c, Unit.CELSIUS)\n",
    "    else:\n",
    "        return Temperature(None,Unit.CELSIUS)\n",
    "\n",
    "\n",
    "t1 = Temperature(32, Unit.CELSIUS)\n",
    "t2 = Temperature(31, Unit.FAHRENHEIT)\n",
    "t = add_temperatures(t1,t2,convert=True)\n",
    "t.value"
   ]
  },
  {
   "cell_type": "markdown",
   "metadata": {},
   "source": [
    "---\n",
    "### Coordinates\n",
    "1. Define a class named `XYZ` representing the coordinate in the 2D Euclidean space. The class should have\n",
    "`XYZ.x` and `XYZ.y` as attributes.\n",
    "2. Define a function named `norm` that calculates the distance of the point from the origin.\n",
    "3. Define a function named `distance` that calculates the distance between two points.\n",
    "\n",
    "*Don't use lists in this task.*"
   ]
  },
  {
   "cell_type": "code",
   "execution_count": 1,
   "metadata": {},
   "outputs": [
    {
     "data": {
      "text/plain": [
       "TestResults(failed=0, attempted=2)"
      ]
     },
     "execution_count": 1,
     "metadata": {},
     "output_type": "execute_result"
    }
   ],
   "source": [
    "import math\n",
    "\n",
    "class XYZ():\n",
    "    \"\"\"Represent the coordinates of an object in 3D.\n",
    "    \"\"\"\n",
    "    def __init__(self, x:float, y:float,z:float) -> None:\n",
    "        self.x = x\n",
    "        self.y = y\n",
    "        self.z = z\n",
    "\n",
    "\n",
    "def norm(coord:XYZ):\n",
    "    \"\"\"Calculates the norm of the vector.\n",
    "    Examples:\n",
    "        >>> norm(XYZ(0,4,3))\n",
    "        5.0\n",
    "        >>> norm(XYZ(-1,0,0))\n",
    "        1.0\n",
    "    \"\"\"\n",
    "    return math.sqrt(coord.x**2 + coord.y**2 + coord.z**2)\n",
    "\n",
    "import doctest\n",
    "doctest.testmod()"
   ]
  },
  {
   "cell_type": "markdown",
   "metadata": {},
   "source": [
    "---\n",
    "### Person\n",
    "1. Define a class named `Person` with the following attributes:\n",
    "    - `name`\n",
    "    - `age`\n",
    "    - `phone number`\n",
    "    - `email address`\n",
    "2. For the phone number, check if it has the length of 9 numbers. IF not, return an error message.\n"
   ]
  },
  {
   "cell_type": "code",
   "execution_count": 33,
   "metadata": {},
   "outputs": [
    {
     "data": {
      "text/plain": [
       "'Donk'"
      ]
     },
     "execution_count": 33,
     "metadata": {},
     "output_type": "execute_result"
    }
   ],
   "source": [
    "class Phone:\n",
    "    \"\"\"Phone number data type. If the Phone is initialized as invalid, return an Error message.\"\"\"\n",
    "    def __init__(self, phone: int):\n",
    "        if isinstance(phone, int) and len(str(phone))==9:\n",
    "            self.phone = phone\n",
    "        else:\n",
    "            self.phone = \"Invalid\"\n",
    "\n",
    "class Person:\n",
    "    def __init__(self, name: str, age: int, phone: Phone, email: str):\n",
    "        self.name = name\n",
    "        self.age = age\n",
    "        self.phone = phone\n",
    "        self.email = email\n",
    "\n",
    "p = Person(name=\"Donk\", age=42, phone=Phone(123222332), email=\"donk@dong.com\")\n",
    "p.name"
   ]
  },
  {
   "cell_type": "markdown",
   "metadata": {},
   "source": [
    "# Problematic problems\n",
    "---\n",
    "### Regular expressions\n",
    "Learn about regular expressions and how to use them to formulate a specific datatype for strings. How to recognize email? phone number?"
   ]
  }
 ],
 "metadata": {
  "kernelspec": {
   "display_name": "base",
   "language": "python",
   "name": "python3"
  },
  "language_info": {
   "codemirror_mode": {
    "name": "ipython",
    "version": 3
   },
   "file_extension": ".py",
   "mimetype": "text/x-python",
   "name": "python",
   "nbconvert_exporter": "python",
   "pygments_lexer": "ipython3",
   "version": "3.11.4"
  }
 },
 "nbformat": 4,
 "nbformat_minor": 2
}
