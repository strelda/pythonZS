{
 "cells": [
  {
   "cell_type": "markdown",
   "metadata": {},
   "source": [
    "# How to design functions\n",
    "Some small changes for the function design are now needed:\n",
    "<div class=\"alert alert-block alert-info\">\n",
    "<ol>\n",
    "    <li>\n",
    "        <strong>From Problem Analysis to Data Definitions</strong>\n",
    "        <ul>\n",
    "            <li>When a problem calls for the representation of pieces of information that belong together or describe a natural whole, you need a structure type definition. It requires as many fields as there are relevant properties.</li>\n",
    "            <li>When do you need this new way of defining data? You already know that the need for itemizations is due to distinctions among different classes of information in the problem statement. Similarly, the need for structure-based data definitions is due to the demand to group several different pieces of information.</li>\n",
    "        </ul>\n",
    "    </li>\n",
    "    <li>\n",
    "        <strong>Signature, Purpose Statement</strong>\n",
    "    </li>\n",
    "    <li>\n",
    "        <strong>Functional Examples</strong>\n",
    "        <ul>\n",
    "            <li>Choose example in each interval or enumeration.</li>\n",
    "        </ul>\n",
    "    </li>\n",
    "    <li>\n",
    "        <strong>Function Template</strong>\n",
    "        <ul>\n",
    "            <li>A function that consumes structures usually—though not always—extracts the values from the various fields in the structure. To remind yourself of this possibility, write them somewhere into the template as `...Class.item`.</li>\n",
    "        </ul>\n",
    "    </li>\n",
    "    <li>\n",
    "        <strong>Function Definition</strong>\n",
    "        <ul>\n",
    "            <li>Note that you may not need all the variables. That's fine.</li>\n",
    "        </ul>\n",
    "    </li>\n",
    "    <li>\n",
    "        <strong>Testing</strong>\n",
    "    </li>\n",
    "</ol>\n",
    "\n",
    "</div>"
   ]
  },
  {
   "cell_type": "markdown",
   "metadata": {},
   "source": [
    "Summary of how we write code\n",
    "- design programs, don't just write something and then tinker\n",
    "- we need to design \n",
    "    - the computation itself,\n",
    "    - how data are represented, which influences the computation design\n",
    "- program usually consists of \n",
    "    - constant definitions\n",
    "    - custom type definitions\n",
    "    - data definitions\n",
    "    - function definitions\n",
    "    - some main procedure to run it all\n",
    "\n",
    "These do not have to be in the same file, we will show later how to manage complex tasks.\n",
    "\n",
    "Every language comes with the vocabulary and grammar (syntax) \"The weather is nice.\" is a meaningful sentence, but \"The weather is table.\" is not. In programming this is called *semantics*.\n",
    "\n",
    "Languages usually come with many libraries, so we dont have to reinvent the wheel if we search well enough"
   ]
  },
  {
   "cell_type": "markdown",
   "metadata": {},
   "source": [
    "---\n",
    "### Example: Sales tax\n",
    "The state of Tax Land has created a three-stage sales tax to cope with its budget deficit. Inexpensive items, those costing less than $1,000, are not taxed. Luxury items, with a price of more than $10,000, are taxed at the rate of eight percent (8.00%). Everything in between comes with a five percent (5.00%) markup. Design a function for a cash register that, given the price of an item, computes the sales tax."
   ]
  },
  {
   "cell_type": "markdown",
   "metadata": {},
   "source": [
    "ad 1)\n",
    "```python\n",
    "\"\"\" Price falls into one of three intervals\n",
    "0 <= x < 1000\n",
    "1000 <= x < 10000\n",
    "10000 <= x\n",
    "\"\"\"\n",
    "```"
   ]
  },
  {
   "cell_type": "markdown",
   "metadata": {},
   "source": [
    "ad 2)"
   ]
  },
  {
   "cell_type": "code",
   "execution_count": null,
   "metadata": {},
   "outputs": [],
   "source": [
    "def sales_tax(price: float)->float:\n",
    "\t\"\"\"Compute the amount of tax charge at some price.\n",
    "    \"\"\"\t\t"
   ]
  },
  {
   "cell_type": "markdown",
   "metadata": {},
   "source": [
    "ad 3)"
   ]
  },
  {
   "cell_type": "code",
   "execution_count": null,
   "metadata": {},
   "outputs": [],
   "source": [
    "def sales_tax(price: float)->float:\n",
    "\t\"\"\"Compute the amount of tax charge at some price.\n",
    "    \n",
    "    Examples:\n",
    "    \t>>> sales_tax(400)\n",
    "        0\n",
    "        >>> sales_tax(1000)\n",
    "        0.05\n",
    "        >>> sales_tax(2400.)\n",
    "        0.05\n",
    "        >>> sales_tax(10000)\n",
    "        0.08\n",
    "        >>> sales_tax(2930000)\n",
    "        0.08\n",
    "    \"\"\""
   ]
  },
  {
   "cell_type": "markdown",
   "metadata": {},
   "source": [
    "ad 4)"
   ]
  },
  {
   "cell_type": "code",
   "execution_count": null,
   "metadata": {},
   "outputs": [],
   "source": [
    "def sales_tax(price: float)->float:\n",
    "\t\"\"\"Compute the amount of tax charge at some price.\n",
    "    \n",
    "    Examples:\n",
    "    \t>>> sales_tax(400)\n",
    "        0\n",
    "        >>> sales_tax(1000)\n",
    "        0.05\n",
    "        >>> sales_tax(2400.)\n",
    "        0.05\n",
    "        >>> sales_tax(10000)\n",
    "        0.08\n",
    "        >>> sales_tax(2930000)\n",
    "        0.08\n",
    "    \"\"\"\n",
    "\tif price<1000:\n",
    "      return ...\n",
    "    elif price<10000:\n",
    "      return ...\n",
    "    else:\n",
    "      return ..."
   ]
  },
  {
   "cell_type": "markdown",
   "metadata": {},
   "source": [
    "ad 5)"
   ]
  },
  {
   "cell_type": "code",
   "execution_count": 1,
   "metadata": {},
   "outputs": [],
   "source": [
    "def sales_tax(price: float)->float:\n",
    "    \"\"\"Compute the amount of tax charge at some price.\n",
    "    \n",
    "    Examples:\n",
    "        >>> sales_tax(400)\n",
    "        0\n",
    "        >>> sales_tax(1000)\n",
    "        0.05\n",
    "        >>> sales_tax(2400.)\n",
    "        0.05\n",
    "        >>> sales_tax(10000)\n",
    "        0.08\n",
    "        >>> sales_tax(2930000)\n",
    "        0.08\n",
    "    \"\"\"\n",
    "    if price<1000:\n",
    "        return 0\n",
    "    elif price<10000:\n",
    "        return 0.05\n",
    "    else:\n",
    "        return 0.08"
   ]
  },
  {
   "cell_type": "markdown",
   "metadata": {},
   "source": [
    "ad 6)"
   ]
  },
  {
   "cell_type": "code",
   "execution_count": 2,
   "metadata": {},
   "outputs": [
    {
     "data": {
      "text/plain": [
       "TestResults(failed=0, attempted=5)"
      ]
     },
     "execution_count": 2,
     "metadata": {},
     "output_type": "execute_result"
    }
   ],
   "source": [
    "import doctest\n",
    "doctest.testmod()"
   ]
  },
  {
   "cell_type": "markdown",
   "metadata": {},
   "source": [
    "<div class=\"alert alert-block alert-warning\">\n",
    "1. Design a function which decides if the price belongs to `Tax.LOW`, `Tax.MEDIUM` or `Tax.HIGH` category. Here is some advice:\n",
    "</div>"
   ]
  },
  {
   "cell_type": "code",
   "execution_count": null,
   "metadata": {},
   "outputs": [],
   "source": [
    "class Tax:\n",
    "    ...\n",
    "    \n",
    "def tax_category(value: float)->Tax:\n",
    "    \"\"\"Decides into which tax category the value belongs.\"\"\""
   ]
  }
 ],
 "metadata": {
  "kernelspec": {
   "display_name": "base",
   "language": "python",
   "name": "python3"
  },
  "language_info": {
   "codemirror_mode": {
    "name": "ipython",
    "version": 3
   },
   "file_extension": ".py",
   "mimetype": "text/x-python",
   "name": "python",
   "nbconvert_exporter": "python",
   "pygments_lexer": "ipython3",
   "version": "3.11.4"
  }
 },
 "nbformat": 4,
 "nbformat_minor": 2
}
