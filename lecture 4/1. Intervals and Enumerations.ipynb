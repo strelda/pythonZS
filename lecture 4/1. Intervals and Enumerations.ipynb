{
 "cells": [
  {
   "cell_type": "markdown",
   "metadata": {},
   "source": [
    "# Universe of data\n",
    "We usually use only a small part of the *universe of data*. Fior example for the color, we use only three colors:\n",
    "\n",
    "<div style=\"text-align: center;\">\n",
    "<svg width=\"700\" height=\"250\" xmlns=\"http://www.w3.org/2000/svg\">\n",
    "  \n",
    "  <!-- Outer ellipse -->\n",
    "  <ellipse cx=\"350\" cy=\"125\" rx=\"280\" ry=\"120\" fill=\"none\" stroke=\"gray\" stroke-width=\"2\"/>\n",
    "  \n",
    "  <!-- Inner ellipse -->\n",
    "  <ellipse cx=\"325\" cy=\"95\" rx=\"40\" ry=\"60\" fill=\"brown\" stroke=\"gray\" stroke-width=\"2\"/>\n",
    "  \n",
    "  <!-- Input Box -->\n",
    "  <text x=\"230\" y=\"50\" font-family=\"Arial\" font-size=\"16\" fill=\"gray\" text-anchor=\"middle\" alignment-baseline=\"middle\">\n",
    "  0,1,2,3,...\n",
    "  </text>\n",
    "  <text x=\"160\" y=\"80\" font-family=\"Arial\" font-size=\"16\" fill=\"gray\">\n",
    "  ...,-3,-2,-1\n",
    "  </text>\n",
    "  <text x=\"300\" y=\"80\" font-family=\"Arial\" font-size=\"16\" fill=\"gray\">\n",
    "  \"red\"\n",
    "  </text>\n",
    "  <text x=\"300\" y=\"100\" font-family=\"Arial\" font-size=\"16\" fill=\"gray\">\n",
    "  \"green\"\n",
    "  </text>\n",
    "  <text x=\"300\" y=\"120\" font-family=\"Arial\" font-size=\"16\" fill=\"gray\">\n",
    "  \"yellow\"\n",
    "  </text>\n",
    "  <text x=\"320\" y=\"180\" font-family=\"Arial\" font-size=\"16\" fill=\"gray\">\n",
    "  \"blue\"\n",
    "  </text>\n",
    "  <text x=\"400\" y=\"160\" font-family=\"Arial\" font-size=\"16\" fill=\"gray\">\n",
    "  \"hellooo\"\n",
    "  </text>\n",
    "  <text x=\"500\" y=\"100\" font-family=\"Arial\" font-size=\"16\" fill=\"gray\">\n",
    "  i\n",
    "  </text>\n",
    "</svg>\n",
    "</div>"
   ]
  },
  {
   "cell_type": "markdown",
   "metadata": {},
   "source": [
    "# Constraints on variables\n",
    "We saw intervals in the check for the temperature (that $temperature\\_in\\_c > -273.15$). In addition we require the temperature to be a number (`int` or `float`). Here is an extended version of the check for the temperature:"
   ]
  },
  {
   "cell_type": "code",
   "execution_count": 1,
   "metadata": {},
   "outputs": [
    {
     "data": {
      "text/plain": [
       "TestResults(failed=0, attempted=3)"
      ]
     },
     "execution_count": 1,
     "metadata": {},
     "output_type": "execute_result"
    }
   ],
   "source": [
    "def is_temp_c(temperature_in_c: float)->bool:\n",
    "    \"\"\"Checks if the number can be interpreted as a temperature.\n",
    "    \n",
    "    Examples: \n",
    "        >>> is_temp_c('cold')\n",
    "        False\n",
    "        >>> is_temp_c(-500)\n",
    "        False\n",
    "        >>> is_temp_c(3.223)\n",
    "        True\n",
    "    \"\"\"\n",
    "    # check if the input is numeric, i.e. belongs to the set containing int, float\n",
    "    is_num = isinstance(temperature_in_c,(float,int))\n",
    "    # check if it is valid celsius temperature\n",
    "    if is_num:\n",
    "        is_higher = temperature_in_c > -273.15\n",
    "\n",
    "    return is_num and is_higher\n",
    "\n",
    "import doctest\n",
    "doctest.testmod()"
   ]
  },
  {
   "cell_type": "markdown",
   "metadata": {},
   "source": [
    "We need the `if is_num:` condition, otherwise python would complain\n",
    "```python\n",
    "...\n",
    "TypeError: '>' not supported between instances of 'str' and 'float'\n",
    "```\n",
    "\n",
    "\n",
    "**Second option:** In python the condition is evaluated sequentially, so this: \n",
    "```python\n",
    "    return isinstance(temperature_in_c,(float,int)) and temperature_in_c > -273.15\n",
    "```\n",
    "does not produce `TypeError`."
   ]
  },
  {
   "cell_type": "markdown",
   "metadata": {},
   "source": [
    "---\n",
    "# Enumerations\n",
    "When the value belongs only to the finite set of options, we utilize `emnumerations`. We can demonstrate this on the traffic light problem."
   ]
  },
  {
   "cell_type": "code",
   "execution_count": 1,
   "metadata": {},
   "outputs": [],
   "source": [
    "# Simple enumeration for traffic light states\n",
    "RED = 0\n",
    "ORANGE = 1\n",
    "GREEN = 2\n",
    "\n",
    "def next_light(current_light):\n",
    "    \"\"\"Takes a light color and returns the next on in a row.\n",
    "    \"red\"->\"orange\"->\"green\" \"\"\"\n",
    "    if current_light == RED:\n",
    "        return GREEN\n",
    "    elif current_light == ORANGE:\n",
    "        return RED\n",
    "    elif current_light == GREEN:\n",
    "        return ORANGE\n",
    "    else:\n",
    "        raise ValueError(\"Invalid light state\")"
   ]
  },
  {
   "cell_type": "markdown",
   "metadata": {},
   "source": [
    "We can make this more rigid by using [enum](https://docs.python.org/3/library/enum.html) module and `classes`. \n",
    "<div class=\"alert alert-block alert-info\">\n",
    "`Class` is a way to define a new data type. We know `int, float, str, bool, ...` so this is analogous, but usually more specific and taylored to our problem. \n",
    "</div>\n",
    "\n",
    "We can define a class for the traffic light:"
   ]
  },
  {
   "cell_type": "code",
   "execution_count": 2,
   "metadata": {},
   "outputs": [
    {
     "name": "stdout",
     "output_type": "stream",
     "text": [
      "TrafficLight.ORANGE\n"
     ]
    }
   ],
   "source": [
    "from enum import Enum\n",
    "\n",
    "class TrafficLight(Enum):\n",
    "    RED = 1\n",
    "    ORANGE = 2\n",
    "    GREEN = 3\n",
    "\n",
    "def next_light(current_light:TrafficLight)->TrafficLight:\n",
    "    if current_light == TrafficLight.RED:\n",
    "        return TrafficLight.ORANGE\n",
    "    elif current_light == TrafficLight.ORANGE:\n",
    "        return TrafficLight.GREEN\n",
    "    else:\n",
    "        return TrafficLight.RED\n",
    "\n",
    "current = TrafficLight.RED # same as TrafficLight(1)\n",
    "print(next_light(current))"
   ]
  }
 ],
 "metadata": {
  "kernelspec": {
   "display_name": "base",
   "language": "python",
   "name": "python3"
  },
  "language_info": {
   "codemirror_mode": {
    "name": "ipython",
    "version": 3
   },
   "file_extension": ".py",
   "mimetype": "text/x-python",
   "name": "python",
   "nbconvert_exporter": "python",
   "pygments_lexer": "ipython3",
   "version": "3.11.4"
  }
 },
 "nbformat": 4,
 "nbformat_minor": 2
}
