{
 "cells": [
  {
   "cell_type": "markdown",
   "metadata": {},
   "source": [
    "# Universe of data\n",
    "We usually use only a small part of the *universe of data*. For example for the traffic light, we used only three colors:\n",
    "\n",
    "<div style=\"text-align: center; max-width: 100%; height: auto;\">\n",
    "<svg width=\"60%\" height=\"100%\" viewBox=\"0 0 700 250\" xmlns=\"http://www.w3.org/2000/svg\" preserveAspectRatio=\"xMidYMid meet\">\n",
    "  \n",
    "  <!-- Outer ellipse -->\n",
    "  <ellipse cx=\"350\" cy=\"125\" rx=\"280\" ry=\"120\" fill=\"none\" stroke=\"gray\" stroke-width=\"2\"/>\n",
    "  \n",
    "  <!-- Inner ellipse -->\n",
    "  <ellipse cx=\"325\" cy=\"95\" rx=\"40\" ry=\"60\" fill=\"brown\" stroke=\"gray\" stroke-width=\"2\"/>\n",
    "  \n",
    "  <!-- Input Box -->\n",
    "  <text x=\"230\" y=\"50\" font-family=\"Arial\" font-size=\"16\" fill=\"gray\" text-anchor=\"middle\" alignment-baseline=\"middle\">\n",
    "  0,1,2,3,...\n",
    "  </text>\n",
    "  <text x=\"160\" y=\"80\" font-family=\"Arial\" font-size=\"16\" fill=\"gray\">\n",
    "  ...,-3,-2,-1\n",
    "  </text>\n",
    "  <text x=\"300\" y=\"80\" font-family=\"Arial\" font-size=\"16\" fill=\"gray\">\n",
    "  \"red\"\n",
    "  </text>\n",
    "  <text x=\"300\" y=\"100\" font-family=\"Arial\" font-size=\"16\" fill=\"gray\">\n",
    "  \"green\"\n",
    "  </text>\n",
    "  <text x=\"300\" y=\"120\" font-family=\"Arial\" font-size=\"16\" fill=\"gray\">\n",
    "  \"orange\"\n",
    "  </text>\n",
    "  <text x=\"320\" y=\"180\" font-family=\"Arial\" font-size=\"16\" fill=\"gray\">\n",
    "  \"blue\"\n",
    "  </text>\n",
    "  <text x=\"400\" y=\"160\" font-family=\"Arial\" font-size=\"16\" fill=\"gray\">\n",
    "  \"hellooo\"\n",
    "  </text>\n",
    "  <text x=\"500\" y=\"100\" font-family=\"Arial\" font-size=\"16\" fill=\"gray\">\n",
    "  i\n",
    "  </text>\n",
    "</svg>\n",
    "</div>"
   ]
  },
  {
   "cell_type": "markdown",
   "metadata": {},
   "source": [
    "# Constraints on variables\n",
    "We saw intervals in the check for the temperature (that $temperature\\_in\\_c > -273.15$). In addition we require the temperature to be a number (`int` or `float`). Here is an extended version of the check for the temperature:"
   ]
  },
  {
   "cell_type": "code",
   "execution_count": 2,
   "metadata": {},
   "outputs": [
    {
     "data": {
      "text/plain": [
       "TestResults(failed=0, attempted=3)"
      ]
     },
     "execution_count": 2,
     "metadata": {},
     "output_type": "execute_result"
    }
   ],
   "source": [
    "def is_temp_c(temperature_in_c: float)->bool:\n",
    "    \"\"\"Checks if the number can be interpreted as a temperature.\n",
    "    \n",
    "    Examples: \n",
    "        >>> is_temp_c('cold')\n",
    "        False\n",
    "        >>> is_temp_c(-500)\n",
    "        False\n",
    "        >>> is_temp_c(3.223)\n",
    "        True\n",
    "    \"\"\"\n",
    "    # check if the input is numeric, i.e. belongs to the set containing int, float\n",
    "    is_num = isinstance(temperature_in_c,(float,int))\n",
    "    # check if it is valid celsius temperature\n",
    "    if is_num:\n",
    "        is_higher = temperature_in_c > -273.15\n",
    "\n",
    "    return is_num and is_higher\n",
    "\n",
    "import doctest\n",
    "doctest.testmod()"
   ]
  },
  {
   "cell_type": "markdown",
   "metadata": {},
   "source": [
    "We need the `if is_num:` condition, otherwise python would complain\n",
    "```python\n",
    "...\n",
    "TypeError: '>' not supported between instances of 'str' and 'float'\n",
    "```\n",
    "\n",
    "\n",
    "**Second option:** In python the condition is evaluated sequentially, so this: \n",
    "```python\n",
    "    return isinstance(temperature_in_c,(float,int)) and temperature_in_c > -273.15\n",
    "```\n",
    "does not produce `TypeError`."
   ]
  },
  {
   "cell_type": "markdown",
   "metadata": {},
   "source": [
    "---\n",
    "# Enumerations\n",
    "When the value belongs only to the finite set of options, we utilize `enumerations`. We can demonstrate this on the traffic light problem."
   ]
  },
  {
   "cell_type": "code",
   "execution_count": 23,
   "metadata": {},
   "outputs": [
    {
     "data": {
      "text/plain": [
       "TestResults(failed=0, attempted=6)"
      ]
     },
     "execution_count": 23,
     "metadata": {},
     "output_type": "execute_result"
    }
   ],
   "source": [
    "# Simple enumeration for traffic light states\n",
    "RED = 0\n",
    "ORANGE = 1\n",
    "GREEN = 2\n",
    "\n",
    "def next_light(current_light):\n",
    "    \"\"\"Takes a light color and returns the next on in a row.\n",
    "    \"red\"->\"orange\"->\"green\" \"\"\"\n",
    "    if current_light == RED:\n",
    "        return ORANGE\n",
    "    elif current_light == ORANGE:\n",
    "        return GREEN\n",
    "    elif current_light == GREEN:\n",
    "        return RED\n",
    "    else:\n",
    "        raise ValueError(\"Invalid light state\")\n",
    "    \n",
    "def next_light_numbers(current_light):\n",
    "    \"\"\"Takes a light color and returns the next on in a row.\n",
    "    \"red\"->\"orange\"->\"green\" \n",
    "    >>> next_light_numbers(0)\n",
    "    1\n",
    "    >>> next_light_numbers(1)\n",
    "    2\n",
    "    >>> next_light_numbers(2)\n",
    "    0\n",
    "    \"\"\"\n",
    "    if current_light in [RED,ORANGE,GREEN]:\n",
    "        return (current_light+1) % 3\n",
    "    else:\n",
    "        raise ValueError(\"Invalid light state\")\n",
    "\n",
    "import doctest\n",
    "doctest.testmod()"
   ]
  },
  {
   "cell_type": "markdown",
   "metadata": {},
   "source": [
    "We can make this more rigid by using [enum](https://docs.python.org/3/library/enum.html) module and `classes`. \n",
    "<div class=\"alert alert-block alert-info\">\n",
    "`Class` is a way to define a new data type. We know `int, float, str, bool, ...` so this is analogous, but usually more specific and taylored to our problem. \n",
    "</div>\n",
    "\n",
    "We can define a class for the traffic light:"
   ]
  },
  {
   "cell_type": "code",
   "execution_count": 39,
   "metadata": {},
   "outputs": [
    {
     "name": "stdout",
     "output_type": "stream",
     "text": [
      "TrafficLight.RED\n",
      "RED\n",
      "0\n"
     ]
    },
    {
     "data": {
      "text/plain": [
       "<TrafficLight.RED: 0>"
      ]
     },
     "execution_count": 39,
     "metadata": {},
     "output_type": "execute_result"
    }
   ],
   "source": [
    "from enum import Enum\n",
    "\n",
    "class TrafficLight(Enum):\n",
    "    RED = 0\n",
    "    ORANGE = 1\n",
    "    GREEN = 2\n",
    "\n",
    "col = TrafficLight.RED\n",
    "print(col)\n",
    "print(col.name)\n",
    "print(col.value)\n",
    "col # Jupyter notebooks return something else then print, so you clearly see the name and value"
   ]
  },
  {
   "cell_type": "markdown",
   "metadata": {},
   "source": [
    "We can write the code as above, except now it will be safer:"
   ]
  },
  {
   "cell_type": "code",
   "execution_count": 34,
   "metadata": {},
   "outputs": [
    {
     "data": {
      "text/plain": [
       "TestResults(failed=0, attempted=6)"
      ]
     },
     "execution_count": 34,
     "metadata": {},
     "output_type": "execute_result"
    }
   ],
   "source": [
    "def next_light(current_light:TrafficLight)->TrafficLight:\n",
    "    \"\"\"Takes a light color and returns the next on in a row.\n",
    "    \"red\"->\"orange\"->\"green\" \n",
    "    >>> next_light(TrafficLight.RED)\n",
    "    <TrafficLight.ORANGE: 1>\n",
    "    >>> next_light(TrafficLight.ORANGE)\n",
    "    <TrafficLight.GREEN: 2>\n",
    "    >>> next_light(TrafficLight.GREEN)\n",
    "    <TrafficLight.RED: 0>\n",
    "    \"\"\"\n",
    "    if current_light == TrafficLight.RED:\n",
    "        return TrafficLight.ORANGE\n",
    "    elif current_light == TrafficLight.ORANGE:\n",
    "        return TrafficLight.GREEN\n",
    "    else:\n",
    "        return TrafficLight.RED\n",
    "\n",
    "doctest.testmod()"
   ]
  },
  {
   "cell_type": "markdown",
   "metadata": {},
   "source": [
    "This however does not use the power of enumeration. Let's do better:"
   ]
  },
  {
   "cell_type": "code",
   "execution_count": 31,
   "metadata": {},
   "outputs": [
    {
     "data": {
      "text/plain": [
       "TestResults(failed=0, attempted=6)"
      ]
     },
     "execution_count": 31,
     "metadata": {},
     "output_type": "execute_result"
    }
   ],
   "source": [
    "def next_light(current_light: TrafficLight) -> TrafficLight:\n",
    "    \"\"\"Takes a light color and returns the next one in a row.\n",
    "    \"red\"->\"orange\"->\"green\" \n",
    "    >>> next_light(TrafficLight.RED)\n",
    "    <TrafficLight.ORANGE: 1>\n",
    "    >>> next_light(TrafficLight.ORANGE)\n",
    "    <TrafficLight.GREEN: 2>\n",
    "    >>> next_light(TrafficLight.GREEN)\n",
    "    <TrafficLight.RED: 0>\n",
    "    \"\"\"\n",
    "    return TrafficLight((current_light.value + 1) % 3)\n",
    "\n",
    "doctest.testmod()"
   ]
  },
  {
   "cell_type": "markdown",
   "metadata": {},
   "source": [
    "Now we have code that is safe and easy to read :)"
   ]
  }
 ],
 "metadata": {
  "kernelspec": {
   "display_name": "base",
   "language": "python",
   "name": "python3"
  },
  "language_info": {
   "codemirror_mode": {
    "name": "ipython",
    "version": 3
   },
   "file_extension": ".py",
   "mimetype": "text/x-python",
   "name": "python",
   "nbconvert_exporter": "python",
   "pygments_lexer": "ipython3",
   "version": "3.11.4"
  }
 },
 "nbformat": 4,
 "nbformat_minor": 2
}
