{
 "cells": [
  {
   "cell_type": "markdown",
   "metadata": {},
   "source": [
    "# Problems\n",
    "### Dice rolling\n",
    "Simulate 1000 dice rolls (you can increase the number of sides) and plot the distribution of the results. Use count the number of times each number is rolled and plot the results using a bar chart.\n",
    "```python\n",
    "from matplotlib import pyplot as plt\n",
    "\n",
    "plt.bar(range(6), 1000) # for 6 sided dice and 1000 rolls\n",
    "plt.show()\n",
    "```"
   ]
  },
  {
   "cell_type": "markdown",
   "metadata": {},
   "source": [
    "### Monte Carlo\n",
    "Generate many random points in square 1x1 and count how many of them are inside the circle inscribed in the square. Use this to estimate the value of pi."
   ]
  },
  {
   "cell_type": "markdown",
   "metadata": {},
   "source": [
    "# Problematic problems\n",
    "### Fermat's little theorem\n",
    "Using Fermat's little theorem check if a number is probably prime. \n",
    "\n",
    "It says that if $p$ is prime, then for **any** integer $a$ it holds $$a^{p-1} \\equiv 1 \\pmod p$$"
   ]
  }
 ],
 "metadata": {
  "kernelspec": {
   "display_name": "Python 3",
   "language": "python",
   "name": "python3"
  },
  "language_info": {
   "codemirror_mode": {
    "name": "ipython",
    "version": 3
   },
   "file_extension": ".py",
   "mimetype": "text/x-python",
   "name": "python",
   "nbconvert_exporter": "python",
   "pygments_lexer": "ipython3",
   "version": "3.11.6"
  }
 },
 "nbformat": 4,
 "nbformat_minor": 2
}
