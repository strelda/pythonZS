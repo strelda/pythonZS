{
 "cells": [
  {
   "cell_type": "markdown",
   "metadata": {},
   "source": [
    "# Problems\n",
    "### Dice rolling\n",
    "Simulate 1000 dice rolls (you can increase the number of sides) and plot the distribution of the results. Use count the number of times each number is rolled and plot the results using a bar chart.\n",
    "```python\n",
    "from matplotlib import pyplot as plt\n",
    "\n",
    "plt.bar(range(6), 1000) # for 6 sided dice and 1000 rolls\n",
    "plt.show()\n",
    "```"
   ]
  },
  {
   "cell_type": "code",
   "execution_count": 1,
   "metadata": {},
   "outputs": [],
   "source": [
    "import random\n",
    "import matplotlib.pyplot as plt\n",
    "\n",
    "n = 1000  # number of rolls\n",
    "sides = 6 # number of sides\n",
    "\n",
    "throws = [random.randrange(sides) for _ in range(n)]\n",
    "nums = [throws.count(k) for k in range(sides)]"
   ]
  },
  {
   "cell_type": "code",
   "execution_count": 111,
   "metadata": {},
   "outputs": [
    {
     "data": {
      "image/png": "[encoded data removed]",
      "text/plain": [
       "<Figure size 640x480 with 1 Axes>"
      ]
     },
     "metadata": {},
     "output_type": "display_data"
    }
   ],
   "source": [
    "plt.bar(range(sides), nums)\n",
    "plt.show()"
   ]
  },
  {
   "cell_type": "markdown",
   "metadata": {},
   "source": [
    "### Monte Carlo\n",
    "Generate many random points in square 1x1 and count how many of them are inside the circle inscribed in the square. Use this to estimate the value of pi."
   ]
  },
  {
   "cell_type": "code",
   "execution_count": 35,
   "metadata": {},
   "outputs": [
    {
     "name": "stdout",
     "output_type": "stream",
     "text": [
      "3.14252\n"
     ]
    }
   ],
   "source": [
    "import random\n",
    "\n",
    "n = int(1e5)\n",
    "\n",
    "\n",
    "num_inside = 0 # number of points inside the circle\n",
    "for _ in range(n):\n",
    "    x, y = random.uniform(-1, 1), random.uniform(-1, 1)\n",
    "    if x**2 + y**2 <= 1:\n",
    "        num_inside += 1\n",
    "\n",
    "print(4*num_inside/n)"
   ]
  },
  {
   "cell_type": "markdown",
   "metadata": {},
   "source": [
    "# Problematic problems\n",
    "### Fermat's little theorem\n",
    "Using Fermat's little theorem check if a number is probably prime. \n",
    "\n",
    "It says that if $p$ is prime, then for **any** integer $a$ it holds $$a^{p-1} \\equiv 1 \\pmod p$$"
   ]
  },
  {
   "cell_type": "code",
   "execution_count": 29,
   "metadata": {},
   "outputs": [
    {
     "name": "stdout",
     "output_type": "stream",
     "text": [
      "False\n",
      "True\n"
     ]
    }
   ],
   "source": [
    "import random\n",
    "\n",
    "def little_fermat(n:int, k=4):\n",
    "    # testing the divisor n\n",
    "    def fermat_test(a, n):\n",
    "        if pow(a, n - 1, n) != 1:\n",
    "            return False\n",
    "        return True\n",
    "\n",
    "    # try the test k times for random integers\n",
    "    for _ in range(k):\n",
    "        a = random.randint(2, n - 2)\n",
    "        if not fermat_test(a, n):\n",
    "            return False\n",
    "\n",
    "    return True\n",
    "\n",
    "print(little_fermat(263130836933693530167218012159999999-2))\n",
    "print(little_fermat(8683317618811886495518194401279999999))"
   ]
  }
 ],
 "metadata": {
  "kernelspec": {
   "display_name": "Python 3",
   "language": "python",
   "name": "python3"
  },
  "language_info": {
   "codemirror_mode": {
    "name": "ipython",
    "version": 3
   },
   "file_extension": ".py",
   "mimetype": "text/x-python",
   "name": "python",
   "nbconvert_exporter": "python",
   "pygments_lexer": "ipython3",
   "version": "3.11.6"
  }
 },
 "nbformat": 4,
 "nbformat_minor": 2
}
