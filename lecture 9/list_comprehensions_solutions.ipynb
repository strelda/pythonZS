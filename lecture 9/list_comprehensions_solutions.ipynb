{
 "cells": [
  {
   "cell_type": "markdown",
   "metadata": {},
   "source": [
    "# Problems"
   ]
  },
  {
   "cell_type": "markdown",
   "metadata": {},
   "source": [
    "### Creating matrices\n",
    "Generate $n\\times n$ matrices of a form\n",
    "$$\n",
    "\\begin{pmatrix}\n",
    "1 & 1 & 1 & 1 & 1\\\\\n",
    "0 & 0 & 0 & 0 & 0\\\\\n",
    "1 & 1 & 1 & 1 & 1\\\\\n",
    "0 & 0 & 0 & 0 & 0\\\\\n",
    "1 & 1 & 1 & 1 & 1\n",
    "\\end{pmatrix}\n",
    "$$"
   ]
  },
  {
   "cell_type": "code",
   "execution_count": 36,
   "metadata": {},
   "outputs": [
    {
     "data": {
      "text/plain": [
       "[[1, 1, 1, 1, 1, 1, 1, 1, 1, 1],\n",
       " [0, 0, 0, 0, 0, 0, 0, 0, 0, 0],\n",
       " [1, 1, 1, 1, 1, 1, 1, 1, 1, 1],\n",
       " [0, 0, 0, 0, 0, 0, 0, 0, 0, 0],\n",
       " [1, 1, 1, 1, 1, 1, 1, 1, 1, 1],\n",
       " [0, 0, 0, 0, 0, 0, 0, 0, 0, 0],\n",
       " [1, 1, 1, 1, 1, 1, 1, 1, 1, 1],\n",
       " [0, 0, 0, 0, 0, 0, 0, 0, 0, 0],\n",
       " [1, 1, 1, 1, 1, 1, 1, 1, 1, 1],\n",
       " [0, 0, 0, 0, 0, 0, 0, 0, 0, 0]]"
      ]
     },
     "execution_count": 36,
     "metadata": {},
     "output_type": "execute_result"
    }
   ],
   "source": [
    "def generate(n):\n",
    "    return[[(j+1)%2]*n for j in range(n)]\n",
    "generate(10)"
   ]
  },
  {
   "cell_type": "markdown",
   "metadata": {},
   "source": [
    "#### Lists intersection\n",
    "Find the intersection of two nonsorted lists. It should work like this (the ordering of resulting list does not matter):\n",
    "```python\n",
    "intersection([4, 2, 3, 1, 5], [3, 4, 5, 6, 7])\n",
    ">> [4, 3, 5]\n",
    "```"
   ]
  },
  {
   "cell_type": "code",
   "execution_count": 6,
   "metadata": {},
   "outputs": [
    {
     "data": {
      "text/plain": [
       "[4, 3, 5]"
      ]
     },
     "execution_count": 6,
     "metadata": {},
     "output_type": "execute_result"
    }
   ],
   "source": [
    "def intersection(l1: list, l2: list) -> list:\n",
    "    return [a for a in l1 if a in l2]\n",
    "\n",
    "intersection([4, 2, 3, 1, 5], [3, 4, 5, 6, 7])"
   ]
  },
  {
   "cell_type": "markdown",
   "metadata": {},
   "source": [
    "### Find palindroms\n",
    "Find all palindromic words in a text. Such as:\n",
    "```python\n",
    "text = \"abba is a palyndromic word, but abcd is not.\"\n",
    "find_pals(text) # the function name is definitely not a reference to \"find some friends\"\n",
    ">> ['abba', 'a']\n",
    "```"
   ]
  },
  {
   "cell_type": "code",
   "execution_count": 38,
   "metadata": {},
   "outputs": [
    {
     "data": {
      "text/plain": [
       "['abba', 'a']"
      ]
     },
     "execution_count": 38,
     "metadata": {},
     "output_type": "execute_result"
    }
   ],
   "source": [
    "def find_pals(text: str) -> list:\n",
    "    return [w for w in text.split() if w == w[::-1]]\n",
    "    \n",
    "\n",
    "find_pals(\"abba is a palyndromic word, but abcd is not.\")"
   ]
  },
  {
   "cell_type": "markdown",
   "metadata": {},
   "source": [
    "### Scalar multiplication\n",
    "Write a function taking two vectors and returning their scalar product. It should work like this:\n",
    "```python\n",
    "dot([1, 2, 3], [4, 5, 6])\n",
    ">> 32\n",
    "```"
   ]
  },
  {
   "cell_type": "code",
   "execution_count": 40,
   "metadata": {},
   "outputs": [
    {
     "data": {
      "text/plain": [
       "32"
      ]
     },
     "execution_count": 40,
     "metadata": {},
     "output_type": "execute_result"
    }
   ],
   "source": [
    "def dot(l1: list, l2: list) -> float:\n",
    "    return sum([i*j for i,j in zip(l1,l2)])\n",
    "\n",
    "dot([1, 2, 3], [4, 5, 6])"
   ]
  },
  {
   "cell_type": "markdown",
   "metadata": {},
   "source": [
    "### Matrix multiplication\n",
    "Multiply two matrices, not necessarily square. \n",
    "\n",
    "- You might first want to write the function for transposition and use the `dot()` function from above.\n",
    "- Return `None` or raise an error `raise ValueError(\"Matrix dimensions do not match\")` if they are not compatible. "
   ]
  },
  {
   "cell_type": "code",
   "execution_count": 26,
   "metadata": {},
   "outputs": [],
   "source": [
    "def transpose(x: list[list]):\n",
    "    return [[a[i] for a in x] for i in range(len(x[0]))]\n",
    "\n",
    "def matrix_multiply(x: list[list], y: list[list]) -> list[list]:\n",
    "    yt = transpose(y)\n",
    "\n",
    "    if len(x[0]) != len(y):\n",
    "        raise ValueError(\"Matrix dimensions do not match\")\n",
    "\n",
    "    return [[dot(x_row, y_col) for y_col in yt] for x_row in x]"
   ]
  },
  {
   "cell_type": "code",
   "execution_count": 29,
   "metadata": {},
   "outputs": [
    {
     "data": {
      "text/plain": [
       "[[22, 28], [49, 64]]"
      ]
     },
     "execution_count": 29,
     "metadata": {},
     "output_type": "execute_result"
    }
   ],
   "source": [
    "matrix_multiply([[1, 2, 3], [4, 5, 6]], [[1, 2], [3, 4], [5, 6]])"
   ]
  },
  {
   "cell_type": "code",
   "execution_count": 27,
   "metadata": {},
   "outputs": [
    {
     "ename": "ValueError",
     "evalue": "Matrix dimensions do not match",
     "output_type": "error",
     "traceback": [
      "\u001b[0;31m---------------------------------------------------------------------------\u001b[0m",
      "\u001b[0;31mValueError\u001b[0m                                Traceback (most recent call last)",
      "\u001b[1;32m/Users/strelda/Library/Mobile Documents/com~apple~CloudDocs/Files/synced Documents/lecturing/python_23ZS/lecture 7/list_comprehensions_solutions.ipynb Cell 11\u001b[0m line \u001b[0;36m1\n\u001b[0;32m----> <a href='vscode-notebook-cell:/Users/strelda/Library/Mobile%20Documents/com~apple~CloudDocs/Files/synced%20Documents/lecturing/python_23ZS/lecture%207/list_comprehensions_solutions.ipynb#X20sZmlsZQ%3D%3D?line=0'>1</a>\u001b[0m matrix_multiply([[\u001b[39m1\u001b[39;49m, \u001b[39m2\u001b[39;49m], [\u001b[39m4\u001b[39;49m, \u001b[39m5\u001b[39;49m]], [[\u001b[39m1\u001b[39;49m, \u001b[39m2\u001b[39;49m], [\u001b[39m3\u001b[39;49m, \u001b[39m4\u001b[39;49m], [\u001b[39m5\u001b[39;49m, \u001b[39m6\u001b[39;49m]])\n",
      "\u001b[1;32m/Users/strelda/Library/Mobile Documents/com~apple~CloudDocs/Files/synced Documents/lecturing/python_23ZS/lecture 7/list_comprehensions_solutions.ipynb Cell 11\u001b[0m line \u001b[0;36m8\n\u001b[1;32m      <a href='vscode-notebook-cell:/Users/strelda/Library/Mobile%20Documents/com~apple~CloudDocs/Files/synced%20Documents/lecturing/python_23ZS/lecture%207/list_comprehensions_solutions.ipynb#X20sZmlsZQ%3D%3D?line=4'>5</a>\u001b[0m yt \u001b[39m=\u001b[39m transpose(y)\n\u001b[1;32m      <a href='vscode-notebook-cell:/Users/strelda/Library/Mobile%20Documents/com~apple~CloudDocs/Files/synced%20Documents/lecturing/python_23ZS/lecture%207/list_comprehensions_solutions.ipynb#X20sZmlsZQ%3D%3D?line=6'>7</a>\u001b[0m \u001b[39mif\u001b[39;00m \u001b[39mlen\u001b[39m(x[\u001b[39m0\u001b[39m]) \u001b[39m!=\u001b[39m \u001b[39mlen\u001b[39m(y):\n\u001b[0;32m----> <a href='vscode-notebook-cell:/Users/strelda/Library/Mobile%20Documents/com~apple~CloudDocs/Files/synced%20Documents/lecturing/python_23ZS/lecture%207/list_comprehensions_solutions.ipynb#X20sZmlsZQ%3D%3D?line=7'>8</a>\u001b[0m     \u001b[39mraise\u001b[39;00m \u001b[39mValueError\u001b[39;00m(\u001b[39m\"\u001b[39m\u001b[39mMatrix dimensions do not match\u001b[39m\u001b[39m\"\u001b[39m)\n\u001b[1;32m     <a href='vscode-notebook-cell:/Users/strelda/Library/Mobile%20Documents/com~apple~CloudDocs/Files/synced%20Documents/lecturing/python_23ZS/lecture%207/list_comprehensions_solutions.ipynb#X20sZmlsZQ%3D%3D?line=9'>10</a>\u001b[0m \u001b[39mreturn\u001b[39;00m [[dot(x_row, y_col) \u001b[39mfor\u001b[39;00m y_col \u001b[39min\u001b[39;00m yt] \u001b[39mfor\u001b[39;00m x_row \u001b[39min\u001b[39;00m x]\n",
      "\u001b[0;31mValueError\u001b[0m: Matrix dimensions do not match"
     ]
    }
   ],
   "source": [
    "matrix_multiply([[1, 2], [4, 5]], [[1, 2], [3, 4], [5, 6]])"
   ]
  },
  {
   "cell_type": "markdown",
   "metadata": {},
   "source": [
    "### Sort words by length\n",
    "Sort words in a list by their length. \n",
    "\n",
    "Advice: create tuples (length, word) and sort them by length. Then extract only words out of that."
   ]
  },
  {
   "cell_type": "code",
   "execution_count": 19,
   "metadata": {},
   "outputs": [
    {
     "data": {
      "text/plain": [
       "['a',\n",
       " 'is',\n",
       " 'but',\n",
       " 'not',\n",
       " 'abba',\n",
       " 'abcd',\n",
       " 'one:',\n",
       " 'this',\n",
       " 'word,',\n",
       " 'palyndromic']"
      ]
     },
     "execution_count": 19,
     "metadata": {},
     "output_type": "execute_result"
    }
   ],
   "source": [
    "\n",
    "def words_by_length(words: list[str]) -> list[str]:\n",
    "    dvojice = [ (len(slovo), slovo) for slovo in words.split() ]\n",
    "    return [ slovo for _, slovo in sorted(dvojice) ]\n",
    "\n",
    "words_by_length(\"abba is a palyndromic word, but not this one: abcd\")"
   ]
  }
 ],
 "metadata": {
  "kernelspec": {
   "display_name": "Python 3",
   "language": "python",
   "name": "python3"
  },
  "language_info": {
   "codemirror_mode": {
    "name": "ipython",
    "version": 3
   },
   "file_extension": ".py",
   "mimetype": "text/x-python",
   "name": "python",
   "nbconvert_exporter": "python",
   "pygments_lexer": "ipython3",
   "version": "3.11.5"
  }
 },
 "nbformat": 4,
 "nbformat_minor": 2
}
