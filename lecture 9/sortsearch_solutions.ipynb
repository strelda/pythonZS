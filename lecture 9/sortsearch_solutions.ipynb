{
 "cells": [
  {
   "cell_type": "markdown",
   "metadata": {},
   "source": [
    "# Problems"
   ]
  },
  {
   "cell_type": "markdown",
   "metadata": {},
   "source": [
    "### Square root\n",
    "1. Write a function calculating the square root of a number. Assume that it is an integer.\n",
    "*Divide the interval between `0` and the `number` by 2, and check if that is the square root. If not, search in the new interval between the `number//2` and `number`, or `0` and `number//2`.*\n",
    "\n",
    "2. Take care of the problems, such as:\n",
    "- what if the output is not an integer?\n",
    "- what if the input is a negative number? \n",
    "- What if the input is not a number? \n",
    "\n",
    "You can just use print() to show the error message, or if you want to be fancy, you can use the [raise](https://docs.python.org/3/tutorial/errors.html) keyword to raise an error. But that is not needed for now.\n",
    "\n",
    "You can simply check if the function works using for example\n",
    "```python\n",
    "x = [56, 100, \"hamster\", -1, [22,3]]\n",
    "for i in x:\n",
    "    print(sqrt_whole(i))\n",
    "```\n",
    "which should return only None, except for 100, where the result is 10."
   ]
  },
  {
   "cell_type": "code",
   "execution_count": 15,
   "metadata": {},
   "outputs": [
    {
     "name": "stdout",
     "output_type": "stream",
     "text": [
      "None\n",
      "10\n",
      "None\n",
      "None\n",
      "None\n"
     ]
    }
   ],
   "source": [
    "def sqrt_whole(n: int) -> int:\n",
    "    \"\"\"Return an integer square root of a number, if it exists. Otherwise return None.\"\"\"\n",
    "    \n",
    "    # beware the order of the conditions, the other way around will cause an error for string as an input\n",
    "    if type(n) != int or n < 0: \n",
    "        return None\n",
    "\n",
    "    # the left and right boundaries of the search interval\n",
    "    l = 0\n",
    "    p = n\n",
    "\n",
    "    while l <= p:\n",
    "        mid = (l+p) // 2\n",
    "        guess = mid**2\n",
    "        if guess == n:\n",
    "            return mid\n",
    "            break\n",
    "        elif guess < n:\n",
    "            l = mid + 1\n",
    "        else:\n",
    "            p = mid - 1\n",
    "    else:\n",
    "        return None\n",
    "    \n",
    "x = [56, 100, \"hamster\", -1, [22,3]]\n",
    "for i in x:\n",
    "    print(sqrt_whole(i))"
   ]
  },
  {
   "cell_type": "markdown",
   "metadata": {},
   "source": [
    "### Solving non-linear equation\n",
    "Similar algorithm as above can be used for finding the solution to $x=\\cos(x)$ using the binary search.\n",
    "\n",
    "*Function $\\cos$ can be imported as `from math import cos`*"
   ]
  },
  {
   "cell_type": "code",
   "execution_count": 17,
   "metadata": {},
   "outputs": [
    {
     "name": "stdout",
     "output_type": "stream",
     "text": [
      "0.7390851332456805\n"
     ]
    }
   ],
   "source": [
    "from math import cos\n",
    "\n",
    "def solveCos(x):\n",
    "    # left and right boundaries of the search interval\n",
    "    l = 0\n",
    "    r = 1\n",
    "\n",
    "    # until the interval is small enough, we search for the root of \n",
    "    while r-l > 1e-10:\n",
    "        mid = (l+r) / 2\n",
    "        if mid-cos(mid) < 0:\n",
    "            l = mid\n",
    "        else:\n",
    "            r = mid\n",
    "    return mid\n",
    "\n",
    "print(solveCos(0.5))"
   ]
  },
  {
   "cell_type": "markdown",
   "metadata": {},
   "source": [
    "### Bubble sort\n",
    "Sort the list of numbers using the bubble sort algorithm. This means, \"until exists `x[i]>x[i+1]` swap `x[i]` and `x[i+1]`\"."
   ]
  },
  {
   "cell_type": "code",
   "execution_count": 20,
   "metadata": {},
   "outputs": [
    {
     "name": "stdout",
     "output_type": "stream",
     "text": [
      "[26, 31, 41, 53, 58, 59, 97]\n"
     ]
    }
   ],
   "source": [
    "def bubbleSort(x: list)->list:\n",
    "    \"\"\"Uses bubble sort to sort a list of numbers of a list in ascending order.\"\"\"\n",
    "    n = len(x)\n",
    "\n",
    "    for i in range(n):\n",
    "        for j in range(n-1):\n",
    "            if x[j] > x[j+1]:\n",
    "                x[j], x[j+1] = x[j+1], x[j]\n",
    "\n",
    "    return x\n",
    "\n",
    "x = [31, 41, 59, 26, 53, 58, 97]\n",
    "print(bubbleSort(x))"
   ]
  }
 ],
 "metadata": {
  "kernelspec": {
   "display_name": "Python 3",
   "language": "python",
   "name": "python3"
  },
  "language_info": {
   "codemirror_mode": {
    "name": "ipython",
    "version": 3
   },
   "file_extension": ".py",
   "mimetype": "text/x-python",
   "name": "python",
   "nbconvert_exporter": "python",
   "pygments_lexer": "ipython3",
   "version": "3.11.5"
  }
 },
 "nbformat": 4,
 "nbformat_minor": 2
}
