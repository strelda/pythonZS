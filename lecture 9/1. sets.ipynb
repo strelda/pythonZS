{
 "cells": [
  {
   "cell_type": "markdown",
   "metadata": {},
   "source": [
    "# Why more data structures?\n",
    "\n",
    "While lists are widely used, they can be inefficient for certain tasks, particularly when searching for specific elements. This inefficiency arises from the linear nature of lists, where accessing an element requires iterating through the list from the beginning until the desired element is found. To address these limitations and optimize data organization and retrieval, Python offers specialized data structures like sets, dictionaries, and tuples. Here we will learn to distinguish between these data structures:\n",
    "```python\n",
    "list  = [1,2,3] # mutable\n",
    "set   = {1,2,3} # unique elements\n",
    "dict  = {\"first\":1, \"second\":2, \"third\":3} # key-value pairs\n",
    "tuple = (1,2,3) # immutable\n",
    "```"
   ]
  },
  {
   "cell_type": "markdown",
   "metadata": {},
   "source": [
    "---\n",
    "# Set\n",
    "\n",
    "### Motivation\n",
    "Look at the following problem. We do not care where in the list the element is. If we sorted it somehow, we could find the element faster. We could also reduce the list to remove duplicates. This is where sets come in."
   ]
  },
  {
   "cell_type": "code",
   "execution_count": 1,
   "metadata": {},
   "outputs": [
    {
     "name": "stdout",
     "output_type": "stream",
     "text": [
      "wheeee\n"
     ]
    }
   ],
   "source": [
    "favorite_colors = [\"blue\", \"green\", \"red\", \"blue\"]\n",
    "x = \"blue\"\n",
    "if x in favorite_colors:\n",
    "    print(\"wheeee\")"
   ]
  },
  {
   "cell_type": "markdown",
   "metadata": {},
   "source": [
    "### Introduction\n",
    "<div class=\"alert alert-block alert-info\">\n",
    "<ol>\n",
    "<li> sets are defined by curly braces {}</li>\n",
    "<li> sets automatically eliminate duplicates, ensuring each element appears only once</li>\n",
    "<li> time complexity for searching in a list is O(n) while for a set it is O(1) due to <a href=https://en.wikipedia.org/wiki/Hash_function>hashing</a> </li>\n",
    "</div>"
   ]
  },
  {
   "cell_type": "code",
   "execution_count": 2,
   "metadata": {},
   "outputs": [
    {
     "name": "stdout",
     "output_type": "stream",
     "text": [
      "{'red', 'green', 'blue'}\n"
     ]
    }
   ],
   "source": [
    "s = {\"blue\", \"green\", \"red\", \"blue\"}\n",
    "print(s)"
   ]
  },
  {
   "cell_type": "code",
   "execution_count": 3,
   "metadata": {},
   "outputs": [
    {
     "data": {
      "text/plain": [
       "True"
      ]
     },
     "execution_count": 3,
     "metadata": {},
     "output_type": "execute_result"
    }
   ],
   "source": [
    "\"red\" in s"
   ]
  },
  {
   "cell_type": "code",
   "execution_count": 4,
   "metadata": {},
   "outputs": [
    {
     "name": "stdout",
     "output_type": "stream",
     "text": [
      "{'b', 'a', 'c'}\n",
      "{'red', 'green', 'blue'}\n"
     ]
    }
   ],
   "source": [
    "print(set(\"abca\"))\n",
    "print(set([\"blue\", \"green\", \"red\", \"blue\"]))\n"
   ]
  },
  {
   "cell_type": "code",
   "execution_count": 6,
   "metadata": {},
   "outputs": [
    {
     "data": {
      "text/plain": [
       "['blue', 'green', 'red']"
      ]
     },
     "execution_count": 6,
     "metadata": {},
     "output_type": "execute_result"
    }
   ],
   "source": [
    "sorted(s)"
   ]
  },
  {
   "cell_type": "code",
   "execution_count": 7,
   "metadata": {},
   "outputs": [],
   "source": [
    "s1 = {\"blue\", \"green\", \"red\"}\n",
    "s2 = {\"black\", \"red\"}"
   ]
  },
  {
   "cell_type": "code",
   "execution_count": 8,
   "metadata": {},
   "outputs": [
    {
     "name": "stdout",
     "output_type": "stream",
     "text": [
      "{'red', 'black', 'green', 'blue'}\n",
      "{'red'}\n",
      "{'green', 'blue'}\n",
      "{'black', 'green', 'blue'}\n",
      "False\n",
      "False\n",
      "True\n"
     ]
    }
   ],
   "source": [
    "print(s1 | s2)  # s1.union(s2)\n",
    "print(s1 & s2)  # s1.intersection(s2)\n",
    "print(s1 - s2)  # s1.difference(s2)\n",
    "print(s1 ^ s2)  # s1.symmetric_difference(s2)\n",
    "\n",
    "print(s1 <= s2) # s1.issubset(s2)\n",
    "print(s1 >= {\"a\"}) # s1.issuperset(s2) \n",
    "print(s2=={\"red\",\"black\"})"
   ]
  },
  {
   "cell_type": "code",
   "execution_count": 9,
   "metadata": {},
   "outputs": [
    {
     "name": "stdout",
     "output_type": "stream",
     "text": [
      "{'red', 'green', 'blue'}\n",
      "{'purple', 'green', 'blue'}\n"
     ]
    }
   ],
   "source": [
    "print(s1)\n",
    "s1.add(\"purple\")\n",
    "s1.remove(\"red\")\n",
    "print(s1)"
   ]
  },
  {
   "cell_type": "markdown",
   "metadata": {},
   "source": [
    "Now there is no \"red\" in the set, so we get `KeyError`. This is because the elements are called `keys` in a `set`."
   ]
  },
  {
   "cell_type": "code",
   "execution_count": 10,
   "metadata": {},
   "outputs": [
    {
     "ename": "KeyError",
     "evalue": "'red'",
     "output_type": "error",
     "traceback": [
      "\u001b[0;31m---------------------------------------------------------------------------\u001b[0m",
      "\u001b[0;31mKeyError\u001b[0m                                  Traceback (most recent call last)",
      "Cell \u001b[0;32mIn[10], line 1\u001b[0m\n\u001b[0;32m----> 1\u001b[0m \u001b[43ms1\u001b[49m\u001b[38;5;241;43m.\u001b[39;49m\u001b[43mremove\u001b[49m\u001b[43m(\u001b[49m\u001b[38;5;124;43m\"\u001b[39;49m\u001b[38;5;124;43mred\u001b[39;49m\u001b[38;5;124;43m\"\u001b[39;49m\u001b[43m)\u001b[49m\n",
      "\u001b[0;31mKeyError\u001b[0m: 'red'"
     ]
    }
   ],
   "source": [
    "s1.remove(\"red\")"
   ]
  }
 ],
 "metadata": {
  "kernelspec": {
   "display_name": "base",
   "language": "python",
   "name": "python3"
  },
  "language_info": {
   "codemirror_mode": {
    "name": "ipython",
    "version": 3
   },
   "file_extension": ".py",
   "mimetype": "text/x-python",
   "name": "python",
   "nbconvert_exporter": "python",
   "pygments_lexer": "ipython3",
   "version": "3.11.4"
  }
 },
 "nbformat": 4,
 "nbformat_minor": 2
}
