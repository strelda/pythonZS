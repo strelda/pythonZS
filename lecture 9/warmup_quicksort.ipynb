{
 "cells": [
  {
   "cell_type": "markdown",
   "metadata": {},
   "source": [
    "## Quick Sort Algorithm in Python\n",
    "\n",
    "Quick Sort is a highly efficient sorting algorithm that works on the divide-and-conquer principle. \n",
    "\n",
    "### Algorithm Explanation:\n",
    "1. **Base case**: If the input array contains fewer than two elements, return the array.\n",
    "\n",
    "2. **Choose a Pivot**: Select an element from the array as the pivot. The choice of the pivot can affect performance (depends on the data):\n",
    "   - First element\n",
    "   - Last element\n",
    "   - Random element\n",
    "   - Median. \n",
    "   \n",
    "3. **Partitioning**: Rearrange the array so that elements smaller than the pivot are on the left and elements larger than the pivot are on the right.\n",
    "\n",
    "4. **Recursively Apply**: Apply the above steps to the subarrays of elements less than the pivot and greater than the pivot."
   ]
  },
  {
   "cell_type": "markdown",
   "metadata": {},
   "source": [
    "#### Lets follow the design principle, if you are stuck you can look below at the point where you got stuck.\n",
    "<div class=\"alert alert-block alert-info\">\n",
    "<ol>\n",
    "    <li>\n",
    "        <strong>From Problem Analysis to Data Definitions</strong>\n",
    "        <ul>\n",
    "            <li>Identify which data must be represented and how to represent them in the chosen programming language.</li>\n",
    "            <li>Formulate data definitions and write some examples for them.</li>\n",
    "        </ul>\n",
    "    </li>\n",
    "    <li>\n",
    "        <strong>Signature, Purpose Statement</strong>\n",
    "        <ul>\n",
    "            <li>State the input and output of the function.</li>\n",
    "            <li>Formulate properly \"what the function computes\".</li>\n",
    "        </ul>\n",
    "    </li>\n",
    "    <li>\n",
    "        <strong>Functional Examples</strong>\n",
    "        <ul>\n",
    "            <li>Write examples to illustrate the function purpose. Write them directly as doctest.</li>\n",
    "        </ul>\n",
    "    </li>\n",
    "    <li>\n",
    "        <strong>Function Template</strong>\n",
    "        <ul>\n",
    "            <li>Create an outline of the function.</li>\n",
    "        </ul>\n",
    "    </li>\n",
    "    <li>\n",
    "        <strong>Function Definition</strong>\n",
    "        <ul>\n",
    "            <li>Fill in the gaps of the template.</li>\n",
    "        </ul>\n",
    "    </li>\n",
    "    <li>\n",
    "        <strong>Testing</strong>\n",
    "        <ul>\n",
    "            <li>Run the tests, make sure they all pass.</li>\n",
    "        </ul>\n",
    "    </li>\n",
    "</ol>\n",
    "\n",
    "</div>"
   ]
  },
  {
   "cell_type": "markdown",
   "metadata": {},
   "source": [
    "#### 1. We are working with lists of integers. No need for special classes."
   ]
  },
  {
   "cell_type": "markdown",
   "metadata": {},
   "source": [
    "#### 2. Signature, Purpose Statement:"
   ]
  },
  {
   "cell_type": "code",
   "execution_count": null,
   "metadata": {},
   "outputs": [],
   "source": [
    "def quick_sort(arr: list) -> list:\n",
    "    \"\"\"\n",
    "    Sorts an array in ascending order using the Quick Sort algorithm.\n",
    "    \n",
    "    Parameters:\n",
    "    arr (list): The list to be sorted.\n",
    "    \n",
    "    Returns:\n",
    "    list: A new sorted list.\n",
    "    \"\"\""
   ]
  },
  {
   "cell_type": "markdown",
   "metadata": {},
   "source": [
    "#### 3. Functional Examples:"
   ]
  },
  {
   "cell_type": "code",
   "execution_count": null,
   "metadata": {},
   "outputs": [],
   "source": [
    "def quick_sort(arr: list) -> list:\n",
    "    \"\"\"\n",
    "    Sorts an array in ascending order using the Quick Sort algorithm.\n",
    "    \n",
    "    Parameters:\n",
    "    arr (list): The list to be sorted.\n",
    "    \n",
    "    Returns:\n",
    "    list: A new sorted list.\n",
    "\n",
    "    Examples:\n",
    "    >>> quick_sort([10, 7, 8, 9, 1, 5])\n",
    "    [1, 5, 7, 8, 9, 10]\n",
    "    >>> quick_sort([3, 6, 8, 10, 1, 2, 1])\n",
    "    [1, 1, 2, 3, 6, 8, 10]\n",
    "    >>> quick_sort([])\n",
    "    []\n",
    "    >>> quick_sort([1])\n",
    "    [1]\n",
    "    >>> quick_sort([2, 1])\n",
    "    [1, 2]\n",
    "    \"\"\""
   ]
  },
  {
   "cell_type": "markdown",
   "metadata": {},
   "source": [
    "#### 4. Function Template:"
   ]
  },
  {
   "cell_type": "code",
   "execution_count": null,
   "metadata": {},
   "outputs": [],
   "source": [
    "def quick_sort(arr: list) -> list:\n",
    "    \"\"\"\n",
    "    Sorts an array in ascending order using the Quick Sort algorithm.\n",
    "    \n",
    "    Parameters:\n",
    "    arr (list): The list to be sorted.\n",
    "    \n",
    "    Returns:\n",
    "    list: A new sorted list.\n",
    "\n",
    "    Examples:\n",
    "    >>> quick_sort([10, 7, 8, 9, 1, 5])\n",
    "    [1, 5, 7, 8, 9, 10]\n",
    "    >>> quick_sort([3, 6, 8, 10, 1, 2, 1])\n",
    "    [1, 1, 2, 3, 6, 8, 10]\n",
    "    >>> quick_sort([])\n",
    "    []\n",
    "    >>> quick_sort([1])\n",
    "    [1]\n",
    "    >>> quick_sort([2, 1])\n",
    "    [1, 2]\n",
    "    \"\"\"\n",
    "    # Base case: If the array has 0 or 1 elements, it is already sorted\n",
    "    if len(arr) <= 1:\n",
    "        ...\n",
    "\n",
    "    # Recursive case:\n",
    "    # Choose the last element as the pivot\n",
    "    pivot = ...\n",
    "    \n",
    "    # Partition the array into two subarrays\n",
    "    # Elements less than pivot\n",
    "    less_than_pivot = ... elem <= pivot\n",
    "    # Elements greater than pivot\n",
    "    greater_than_pivot = ... elem > pivot\n",
    "    \n",
    "    # Recursively sort the subarrays and combine with the pivot\n",
    "    return quick_sort(less_than_pivot) ... quick_sort(greater_than_pivot)"
   ]
  },
  {
   "cell_type": "markdown",
   "metadata": {},
   "source": [
    "#### 5. Function definition"
   ]
  },
  {
   "cell_type": "code",
   "execution_count": 6,
   "metadata": {},
   "outputs": [],
   "source": [
    "def quick_sort(arr: list) -> list:\n",
    "    \"\"\"\n",
    "    Sorts an array in ascending order using the Quick Sort algorithm.\n",
    "    \n",
    "    Parameters:\n",
    "    arr (list): The list to be sorted.\n",
    "    \n",
    "    Returns:\n",
    "    list: A new sorted list.\n",
    "\n",
    "    Examples:\n",
    "    >>> quick_sort([10, 7, 8, 9, 1, 5])\n",
    "    [1, 5, 7, 8, 9, 10]\n",
    "    >>> quick_sort([3, 6, 8, 10, 1, 2, 1])\n",
    "    [1, 1, 2, 3, 6, 8, 10]\n",
    "    >>> quick_sort([])\n",
    "    []\n",
    "    >>> quick_sort([1])\n",
    "    [1]\n",
    "    >>> quick_sort([2, 1])\n",
    "    [1, 2]\n",
    "    \"\"\"\n",
    "    # Base case: If the array has 0 or 1 elements, it is already sorted\n",
    "    if len(arr) <= 1:\n",
    "        return arr\n",
    "\n",
    "    # Recursive case:\n",
    "    # Choose the last element as the pivot\n",
    "    pivot = arr[-1]\n",
    "    \n",
    "    # Partition the array into two subarrays\n",
    "    # Elements less than pivot\n",
    "    less_than_pivot = [x for x in arr[:-1] if x <= pivot]\n",
    "    # Elements greater than pivot\n",
    "    greater_than_pivot = [x for x in arr[:-1] if x > pivot]\n",
    "    \n",
    "    # Recursively sort the subarrays and combine with the pivot\n",
    "    return quick_sort(less_than_pivot) + [pivot] + quick_sort(greater_than_pivot)"
   ]
  },
  {
   "cell_type": "markdown",
   "metadata": {},
   "source": [
    "#### 6. Run the tests, make sure they all pass."
   ]
  },
  {
   "cell_type": "code",
   "execution_count": 8,
   "metadata": {},
   "outputs": [
    {
     "data": {
      "text/plain": [
       "TestResults(failed=0, attempted=5)"
      ]
     },
     "execution_count": 8,
     "metadata": {},
     "output_type": "execute_result"
    }
   ],
   "source": [
    "import doctest\n",
    "doctest.testmod()"
   ]
  },
  {
   "cell_type": "code",
   "execution_count": null,
   "metadata": {},
   "outputs": [],
   "source": []
  }
 ],
 "metadata": {
  "kernelspec": {
   "display_name": "base",
   "language": "python",
   "name": "python3"
  },
  "language_info": {
   "codemirror_mode": {
    "name": "ipython",
    "version": 3
   },
   "file_extension": ".py",
   "mimetype": "text/x-python",
   "name": "python",
   "nbconvert_exporter": "python",
   "pygments_lexer": "ipython3",
   "version": "3.11.4"
  }
 },
 "nbformat": 4,
 "nbformat_minor": 2
}
