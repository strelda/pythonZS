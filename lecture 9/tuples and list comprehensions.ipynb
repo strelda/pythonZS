{
 "cells": [
  {
   "cell_type": "markdown",
   "metadata": {},
   "source": [
    "# Tuples\n",
    "Similar to lists, but they are immutable. Usually used to simplyfy code and make it more readable."
   ]
  },
  {
   "cell_type": "code",
   "execution_count": null,
   "metadata": {},
   "outputs": [],
   "source": [
    "t = (1,2,3) # equivalent to t = 1,2,3\n",
    "print(t)"
   ]
  },
  {
   "cell_type": "code",
   "execution_count": null,
   "metadata": {},
   "outputs": [],
   "source": [
    "t[1] = 2 # this works for lists, but tuples are immutable"
   ]
  },
  {
   "cell_type": "markdown",
   "metadata": {},
   "source": [
    "This can be used for saving more variables at once, switching them..."
   ]
  },
  {
   "cell_type": "code",
   "execution_count": null,
   "metadata": {},
   "outputs": [],
   "source": [
    "a,b = 1,2\n",
    "a,b = b,a # swap values\n",
    "print(a)\n",
    "print(b)"
   ]
  },
  {
   "cell_type": "code",
   "execution_count": null,
   "metadata": {},
   "outputs": [],
   "source": [
    "print(t)\n",
    "a,b,c = t # unpacking tuple t to a,b,c\n",
    "print(a)"
   ]
  },
  {
   "cell_type": "markdown",
   "metadata": {},
   "source": [
    "Also can be used inside functions for returning more than one value:"
   ]
  },
  {
   "cell_type": "code",
   "execution_count": null,
   "metadata": {},
   "outputs": [],
   "source": [
    "def complex(real: float, imag: float) -> tuple:\n",
    "    return real, imag\n",
    "\n",
    "print(complex(1,2))"
   ]
  },
  {
   "cell_type": "markdown",
   "metadata": {},
   "source": [
    "Conversions between lists and tuples are done using `list()` and `tuple()`:"
   ]
  },
  {
   "cell_type": "code",
   "execution_count": null,
   "metadata": {},
   "outputs": [],
   "source": [
    "print(t)\n",
    "print(list(t))\n",
    "print(tuple(list(t)))"
   ]
  },
  {
   "cell_type": "markdown",
   "metadata": {},
   "source": [
    "## Zip"
   ]
  },
  {
   "cell_type": "code",
   "execution_count": null,
   "metadata": {},
   "outputs": [],
   "source": [
    "x = [1,2,3]\n",
    "y = [\"a\", \"b\", \"c\"]\n",
    "\n",
    "print(zip(x,y)) # zip is an object, which can be converted to list and can be iterated over. We know this behaviour from range() function\n",
    "\n",
    "print(list(zip(x,y)))\n",
    "for i in zip(x,y):\n",
    "    print(i)"
   ]
  },
  {
   "cell_type": "markdown",
   "metadata": {},
   "source": [
    "zip can also be unpacked directly in loops:"
   ]
  },
  {
   "cell_type": "code",
   "execution_count": null,
   "metadata": {},
   "outputs": [],
   "source": [
    "for a,b in zip(x,y):\n",
    "    print(a+100,b)"
   ]
  },
  {
   "cell_type": "markdown",
   "metadata": {},
   "source": [
    "## List comprehensions\n",
    "Having a more compact way of creating lists from other lists, resembling mathematical notation $\\{x|x\\in \\N \\wedge x<5<44\\}$"
   ]
  },
  {
   "cell_type": "code",
   "execution_count": null,
   "metadata": {},
   "outputs": [],
   "source": [
    "iters = [1,3,5,7]\n",
    "[a+4 for a in iters]"
   ]
  },
  {
   "cell_type": "code",
   "execution_count": null,
   "metadata": {},
   "outputs": [],
   "source": [
    "[a*b for a in iters for b in range(3)] # second list is iterated over the first element of iters, then over its second element, etc."
   ]
  },
  {
   "cell_type": "code",
   "execution_count": null,
   "metadata": {},
   "outputs": [],
   "source": [
    "[[a*b for a in range(5)] for b in range(3)] # this creates a matrix"
   ]
  },
  {
   "cell_type": "markdown",
   "metadata": {},
   "source": [
    "We can add additional conditions, but beware: **Python first generates all elements and then removes those who do not satisfy the condition.**\n",
    "\n",
    "$\\rightarrow$ even though it is usually easily readable, it can be really inefficient if lot of the elements are thrown away. "
   ]
  },
  {
   "cell_type": "code",
   "execution_count": null,
   "metadata": {},
   "outputs": [],
   "source": [
    "[a for a in range(10) if a%2==0] # this creates a list of tuples with an additional condition, again recall the mathematical notation we mentioned"
   ]
  },
  {
   "cell_type": "markdown",
   "metadata": {},
   "source": [
    "## Practical examples"
   ]
  },
  {
   "cell_type": "code",
   "execution_count": null,
   "metadata": {},
   "outputs": [],
   "source": [
    "nums = [int(n) for n in input().split()] # fast way to input numbers as 3 4 5 6 and make a list of integers [3,4,5,6]\n",
    "print(nums)"
   ]
  },
  {
   "cell_type": "markdown",
   "metadata": {},
   "source": [
    "Remember the problematic example `matrix = [[1]*5]*3` creating 3 references to the same list of 5 ones. Changing one row of such a matrix resulted in changing all other rows. This can be easily avoided using list comprehensions:"
   ]
  },
  {
   "cell_type": "code",
   "execution_count": null,
   "metadata": {},
   "outputs": [],
   "source": [
    "matrix = [[1]*5 for _ in range(3)] # creates a matrix of 3 rows and 5 columns\n",
    "matrix[0][1] = 55\n",
    "print(matrix)"
   ]
  },
  {
   "cell_type": "markdown",
   "metadata": {},
   "source": [
    "#### Matrix transposition"
   ]
  },
  {
   "cell_type": "code",
   "execution_count": null,
   "metadata": {},
   "outputs": [],
   "source": [
    "[[row[col] for row in matrix] for col in range(len(matrix[0]))] # iterate the inner number over the "
   ]
  },
  {
   "cell_type": "markdown",
   "metadata": {},
   "source": [
    "## Aggregation functions"
   ]
  },
  {
   "cell_type": "code",
   "execution_count": null,
   "metadata": {},
   "outputs": [],
   "source": [
    "print(all([True, True, True])) # returns True if all elements are True\n",
    "print(any([False, False, True])) # returns True if any elements is True\n",
    "\n",
    "letters = [\"d\", \"a\", \"b\", \"c\", \"q\", \"e\"]\n",
    "print(sorted(letters))\n",
    "print(all([i < \"z\" for i in letters]))\n",
    "print(any([i == \"e\" for i in letters]))"
   ]
  },
  {
   "cell_type": "code",
   "execution_count": null,
   "metadata": {},
   "outputs": [],
   "source": [
    "from random import randint\n",
    "# random gaussian\n",
    "from statistics import mean, median, mode\n",
    "from random import gauss\n",
    "\n",
    "data = [gauss(120,30) for a in range(400)]\n",
    "print(min(data))\n",
    "print(max(data))\n",
    "print(sum(data))\n",
    "\n",
    "print(mean(data))\n",
    "print(median(data))\n",
    "print(mode(data))"
   ]
  },
  {
   "cell_type": "code",
   "execution_count": null,
   "metadata": {},
   "outputs": [],
   "source": [
    "# function round(n,k) rounds n to k decimal places, using k=-1 to nearest 10, k=-2 to the nearest 100, etc.\n",
    "data_rounded = [None]*len(data)\n",
    "\n",
    "for d in range(len(data)):\n",
    "    data_rounded[d] = round(data[d],-1)\n",
    "\n",
    "for i in range(0,230,10):\n",
    "    print('#' * data_rounded.count(i))"
   ]
  },
  {
   "cell_type": "markdown",
   "metadata": {},
   "source": [
    "This can be equivalently written as:"
   ]
  },
  {
   "cell_type": "code",
   "execution_count": null,
   "metadata": {},
   "outputs": [],
   "source": [
    "data_rounded = [round(n,-1) for n in data] \n",
    "hist = [print('#' * data_rounded.count(i)) for i in range(0,230,10)]  # hist now contains list of None, because print() returns None"
   ]
  }
 ],
 "metadata": {
  "kernelspec": {
   "display_name": "Python 3",
   "language": "python",
   "name": "python3"
  },
  "language_info": {
   "codemirror_mode": {
    "name": "ipython",
    "version": 3
   },
   "file_extension": ".py",
   "mimetype": "text/x-python",
   "name": "python",
   "nbconvert_exporter": "python",
   "pygments_lexer": "ipython3",
   "version": "3.11.6"
  }
 },
 "nbformat": 4,
 "nbformat_minor": 2
}
