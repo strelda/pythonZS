{
 "cells": [
  {
   "cell_type": "markdown",
   "metadata": {},
   "source": [
    "# Problems"
   ]
  },
  {
   "cell_type": "markdown",
   "metadata": {},
   "source": [
    "### Comparing lists\n",
    "Write a function, returning True (False) if two lists do (do not) contain the same elements.\n",
    "\n",
    "- First imagine that elements in the list do not repeat,\n",
    "```python\n",
    "# these lists are now considered the same\n",
    "a = [1, 2, 3, 1]\n",
    "b = [3, 2, 1]\n",
    "```\n",
    "- then if some elements can repeat.\n",
    "```python\n",
    "# now these lists are are not considered the same\n",
    "a = [1, 2, 3, 1]\n",
    "b = [3, 2, 1]\n",
    "```\n",
    "\n"
   ]
  },
  {
   "cell_type": "code",
   "execution_count": 6,
   "metadata": {},
   "outputs": [
    {
     "data": {
      "text/plain": [
       "True"
      ]
     },
     "execution_count": 6,
     "metadata": {},
     "output_type": "execute_result"
    }
   ],
   "source": [
    "def compare(x: list, y: list) -> bool:\n",
    "    return set(x) == set(y)\n",
    "\n",
    "compare([1, 2, 3], [3, 2,2, 1])"
   ]
  },
  {
   "cell_type": "code",
   "execution_count": 9,
   "metadata": {},
   "outputs": [
    {
     "data": {
      "text/plain": [
       "False"
      ]
     },
     "execution_count": 9,
     "metadata": {},
     "output_type": "execute_result"
    }
   ],
   "source": [
    "def compareD(x: list, y: list) -> bool:\n",
    "    \"\"\"Compare two lists.\n",
    "     The algorithm is O(n*log(n)) due to sorting algorithm, comparison is only O(n).\"\"\"\n",
    "    return sorted(x) == sorted(y)\n",
    "\n",
    "compareD([1, 2, 3], [3, 2, 2, 1])"
   ]
  },
  {
   "cell_type": "code",
   "execution_count": 7,
   "metadata": {},
   "outputs": [
    {
     "data": {
      "text/plain": [
       "False"
      ]
     },
     "execution_count": 7,
     "metadata": {},
     "output_type": "execute_result"
    }
   ],
   "source": [
    "from collections import defaultdict\n",
    "\n",
    "def count(x: list) -> dict:\n",
    "    \"\"\"Count the number of occurrences of each element in the list.\n",
    "    The algorithm is O(n).\"\"\"\n",
    "    cetnosti = defaultdict(int)\n",
    "    for a in x:\n",
    "        cetnosti[a] += 1\n",
    "    return cetnosti\n",
    "\n",
    "def compareEffective(x: list, y: list) -> bool:\n",
    "    \"\"\"Compare two lists.\n",
    "    The algorithm is O(n).\"\"\"\n",
    "    return count(x) == count(y)\n",
    "\n",
    "compareEffective([1, 2, 3], [3, 2, 2, 1])"
   ]
  },
  {
   "cell_type": "code",
   "execution_count": 12,
   "metadata": {},
   "outputs": [
    {
     "name": "stdout",
     "output_type": "stream",
     "text": [
      "13.9 ms ± 91.6 µs per loop (mean ± std. dev. of 7 runs, 100 loops each)\n",
      "8.13 ms ± 99.2 µs per loop (mean ± std. dev. of 7 runs, 100 loops each)\n"
     ]
    }
   ],
   "source": [
    "from random import randint\n",
    "import timeit\n",
    "\n",
    "l1 = [randint(1, 100) for _ in range(int(1e5))]\n",
    "l2 = [randint(1, 100) for _ in range(int(1e5))]\n",
    "\n",
    "# do 100 iterations for each function and compare the time\n",
    "%timeit -n 100 compareD(l1, l2)\n",
    "%timeit -n 100 compareEffective(l1, l2)"
   ]
  },
  {
   "cell_type": "markdown",
   "metadata": {},
   "source": [
    "### n-grams\n",
    "Count the number of [n-grams](https://en.wikipedia.org/wiki/N-gram) in a text. Sort them by frequency.\n",
    "- for each n-gram find which letters follow it.\n",
    "\n",
    "You can use for example the text [here](https://ipnp.cz/strelecek/supplementary/23ZS/poe.txt) and read it by lines:\n",
    "\n",
    "```python\n",
    "# create empty dictionary using defaultdict\n",
    "\n",
    "for row in open('poe.txt'):\n",
    "    # save n-grams from line into dictionary \n",
    "```"
   ]
  },
  {
   "cell_type": "code",
   "execution_count": null,
   "metadata": {},
   "outputs": [],
   "source": [
    "from collections import defaultdict\n",
    "\n",
    "n = 3\n",
    "kgrams = defaultdict(int)\n",
    "\n",
    "for row in open('poe.txt'):\n",
    "    # separate the line to n-grams\n",
    "    for i in range(len(row)-n):\n",
    "        kgrams[row[i:i+n]] += 1\n",
    "\n",
    "# create pairs (frequency, n-gram)\n",
    "pairs = [ (frequency, gram) for gram, frequency in kgrams.items() ]\n",
    "\n",
    "# sort the pairs and print them\n",
    "for frequency, gram in reversed(sorted(pairs)):\n",
    "    print(frequency, gram)"
   ]
  },
  {
   "cell_type": "markdown",
   "metadata": {},
   "source": [
    "### Parsing the input\n",
    "Parse the following input\n",
    "```\n",
    "first line: 3 blue, 4 red; 1 red, 2 green, 6 blue; 2 green\n",
    "second line: 1 blue, 2 green; 3 green, 4 blue, 1 red; 1 green, 1 blue\n",
    "third line: 8 green, 6 blue, 20 red; 5 blue, 4 red, 13 green; 5 green, 1 red\n",
    "```\n",
    "as a list of lists of dictionary. Elements of the outer list are the rounds, the inner list elements are separated by semicolon, and the dictionary consists of colors.\n",
    "The resulting object should look like\n",
    "```python\n",
    "[\n",
    "    [{'blue': 3, 'red': 4}, \n",
    "     {'blue': 6, 'red': 1, 'green': 2}, \n",
    "     {'green': 2}],\n",
    "    ...\n",
    " ]\n",
    "```"
   ]
  },
  {
   "cell_type": "code",
   "execution_count": null,
   "metadata": {},
   "outputs": [
    {
     "name": "stdout",
     "output_type": "stream",
     "text": [
      "[defaultdict(<class 'int'>, {'blue': '3', 'red': '4'}), defaultdict(<class 'int'>, {'red': '1', 'green': '2', 'blue': '6'}), defaultdict(<class 'int'>, {'green': '2'})]\n"
     ]
    }
   ],
   "source": [
    "from collections import defaultdict\n",
    "colors=[]\n",
    "for l in open(\"colors.txt\"):\n",
    "    line = l.split(\":\")[1].rstrip(\"\\n\").split(\";\")\n",
    "    linelist = []\n",
    "    for i in line:\n",
    "        d = i.split(\",\")\n",
    "        \n",
    "        linedict = defaultdict(int)\n",
    "        for elem in d:\n",
    "            num,col = elem.split()\n",
    "            linedict[col]=num\n",
    "        linelist.append(linedict)\n",
    "    colors.append(linelist)\n",
    "\n",
    "print(colors[0])"
   ]
  },
  {
   "cell_type": "code",
   "execution_count": null,
   "metadata": {},
   "outputs": [],
   "source": [
    "def reverse_lines(filename: str, outputname: str)->None:\n",
    "    \"\"\"Prints the lines of a file in reverse order into outputname.\"\"\"\n",
    "    with open(outputname, 'w') as outfile:\n",
    "        f = list(open(filename))\n",
    "        # the last line doesn't have a newline character\n",
    "        outfile.write(f[-1]+'\\n') \n",
    "        for line in reversed(f[1::-2]):\n",
    "            outfile.write(line) \n",
    "        outfile.write(f[0].rstrip())\n",
    "\n",
    "def reverse_lines_and_words(filename: str, outputname: str)->None:\n",
    "    \"\"\"Prints the lines of a file in reverse order into outputname. \n",
    "    Now reverse even the words in lines.\"\"\"\n",
    "    def reverse_line(line: str)->str:\n",
    "        return ' '.join(reversed(line.split()))\n",
    "\n",
    "    with open(outputname, 'w') as outfile:\n",
    "        f = list(open(filename))\n",
    "        # the last line doesn't have a newline character\n",
    "        outfile.write(reverse_line(f[-1])+'\\n')\n",
    "        for line in reversed(f[1::-2]):\n",
    "            outfile.write(reverse_line(line)+'\\n') \n",
    "        outfile.write(reverse_line(f[0].rstrip()))\n",
    "\n",
    "reverse_lines('input.txt', 'output.txt')\n",
    "reverse_lines_and_words('input.txt', 'output2.txt')"
   ]
  },
  {
   "cell_type": "markdown",
   "metadata": {},
   "source": [
    "# Problematic problems"
   ]
  },
  {
   "cell_type": "markdown",
   "metadata": {},
   "source": [
    "### Generating some nonsense\n",
    "Use the previous code for generating text. *Choose the first n-gram randomly, then randomly choose the next letter from the list of letters that follow the n-gram. For random selection, you can use*\n",
    "```python\n",
    "import random\n",
    "random.choice(your_list_of_letters)\n",
    "```"
   ]
  },
  {
   "cell_type": "code",
   "execution_count": null,
   "metadata": {},
   "outputs": [],
   "source": [
    "from collections import defaultdict\n",
    "import random\n",
    "\n",
    "n = 3\n",
    "\n",
    "text = \"\"\n",
    "for row in open('poe.txt'):\n",
    "    text += row[:-1] + ' '\n",
    "\n",
    "# create a dictionary of continuations\n",
    "continuation = defaultdict(list)\n",
    "for i in range(len(text)-n-1):\n",
    "    continuation[text[i:i+n]] += text[i+n]\n",
    "\n",
    "# start from random n-gram\n",
    "gen = random.choice(list(continuation))\n",
    "\n",
    "# append random continuations, from the most probable ones\n",
    "while len(gen) < 300:\n",
    "    p = continuation[gen[-n:]]\n",
    "    if p:\n",
    "        gen += random.choice(p)\n",
    "    # if the n-gram is not in the dictionary, choose another random one\n",
    "    else:\n",
    "        gen += '/' + random.choice(list(continuation))\n",
    "\n",
    "print(gen)\n"
   ]
  }
 ],
 "metadata": {
  "kernelspec": {
   "display_name": "Python 3",
   "language": "python",
   "name": "python3"
  },
  "language_info": {
   "codemirror_mode": {
    "name": "ipython",
    "version": 3
   },
   "file_extension": ".py",
   "mimetype": "text/x-python",
   "name": "python",
   "nbconvert_exporter": "python",
   "pygments_lexer": "ipython3",
   "version": "3.11.6"
  }
 },
 "nbformat": 4,
 "nbformat_minor": 2
}
