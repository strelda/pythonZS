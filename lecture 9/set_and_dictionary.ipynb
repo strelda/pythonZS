{
 "cells": [
  {
   "cell_type": "code",
   "execution_count": null,
   "metadata": {},
   "outputs": [],
   "source": [
    "list  = [1,2,3]\n",
    "tuple = (1,2,3)\n",
    "set   = {1,2,3}\n",
    "dict  = {\"first\":1, \"second\":2, \"third\":3}"
   ]
  },
  {
   "cell_type": "markdown",
   "metadata": {},
   "source": [
    "# Sets and Dictionaries\n",
    "\n",
    "Searching data in a list is inefficient, so here we introduce some other data structures that are more efficient for searching and organizing data."
   ]
  },
  {
   "cell_type": "markdown",
   "metadata": {},
   "source": [
    "## Set\n",
    "\n",
    "- python rearranges elements\n",
    "- removes duplicates"
   ]
  },
  {
   "cell_type": "code",
   "execution_count": 10,
   "metadata": {},
   "outputs": [
    {
     "name": "stdout",
     "output_type": "stream",
     "text": [
      "{'a', 'c', 'b'}\n"
     ]
    }
   ],
   "source": [
    "s = {\"a\", \"c\", \"b\",  \"c\"}\n",
    "print(s)"
   ]
  },
  {
   "cell_type": "code",
   "execution_count": 11,
   "metadata": {},
   "outputs": [
    {
     "data": {
      "text/plain": [
       "True"
      ]
     },
     "execution_count": 11,
     "metadata": {},
     "output_type": "execute_result"
    }
   ],
   "source": [
    "\"a\" in s"
   ]
  },
  {
   "cell_type": "code",
   "execution_count": 13,
   "metadata": {},
   "outputs": [
    {
     "name": "stdout",
     "output_type": "stream",
     "text": [
      "{'a', 'c', 'b'}\n",
      "{'a', 'c', 'b'}\n"
     ]
    }
   ],
   "source": [
    "print(set(\"abca\"))\n",
    "print(set([\"a\", \"c\", \"b\"]))\n"
   ]
  },
  {
   "cell_type": "code",
   "execution_count": 14,
   "metadata": {},
   "outputs": [
    {
     "data": {
      "text/plain": [
       "set()"
      ]
     },
     "execution_count": 14,
     "metadata": {},
     "output_type": "execute_result"
    }
   ],
   "source": [
    "set() # is not {} because {} is a so called dictionary, see below"
   ]
  },
  {
   "cell_type": "code",
   "execution_count": 15,
   "metadata": {},
   "outputs": [
    {
     "data": {
      "text/plain": [
       "['a', 'b', 'c']"
      ]
     },
     "execution_count": 15,
     "metadata": {},
     "output_type": "execute_result"
    }
   ],
   "source": [
    "sorted(s)"
   ]
  },
  {
   "cell_type": "code",
   "execution_count": 56,
   "metadata": {},
   "outputs": [],
   "source": [
    "s1 = {\"a\", \"b\", \"c\", \"d\"}\n",
    "s2 = {\"c\", \"d\", \"r\"}"
   ]
  },
  {
   "cell_type": "code",
   "execution_count": 57,
   "metadata": {},
   "outputs": [
    {
     "name": "stdout",
     "output_type": "stream",
     "text": [
      "{'c', 'b', 'd', 'a', 'r'}\n",
      "{'d', 'c'}\n",
      "{'a', 'b'}\n",
      "{'b', 'r', 'a'}\n",
      "False\n",
      "True\n",
      "True\n"
     ]
    }
   ],
   "source": [
    "print(s1 | s2)  # s1.union(s2)\n",
    "print(s1 & s2)  # s1.intersection(s2)\n",
    "print(s1 - s2)  # s1.difference(s2)\n",
    "print(s1 ^ s2)  # s1.symmetric_difference(s2)\n",
    "\n",
    "print(s1 <= s2) # s1.issubset(s2)\n",
    "print(s1 >= {\"a\"}) # s1.issuperset(s2) \n",
    "print(s1=={\"c\",\"d\",\"a\",\"b\"})"
   ]
  },
  {
   "cell_type": "code",
   "execution_count": 18,
   "metadata": {},
   "outputs": [
    {
     "name": "stdout",
     "output_type": "stream",
     "text": [
      "{'d', 'a', 'c', 'b'}\n",
      "{'e', 'c', 'b', 'd'}\n"
     ]
    }
   ],
   "source": [
    "print(s1)\n",
    "s1.add(\"e\")\n",
    "s1.remove(\"a\")\n",
    "print(s1)"
   ]
  },
  {
   "cell_type": "markdown",
   "metadata": {},
   "source": [
    "Now there is no \"a\" in the set, so we get `KeyError`:"
   ]
  },
  {
   "cell_type": "code",
   "execution_count": 19,
   "metadata": {},
   "outputs": [
    {
     "ename": "KeyError",
     "evalue": "'a'",
     "output_type": "error",
     "traceback": [
      "\u001b[0;31m---------------------------------------------------------------------------\u001b[0m",
      "\u001b[0;31mKeyError\u001b[0m                                  Traceback (most recent call last)",
      "\u001b[1;32m/Users/strelda/Library/Mobile Documents/com~apple~CloudDocs/Files/synced Documents/lecturing/python_23ZS/lecture 8/set_and_dictionary.ipynb Cell 13\u001b[0m line \u001b[0;36m1\n\u001b[0;32m----> <a href='vscode-notebook-cell:/Users/strelda/Library/Mobile%20Documents/com~apple~CloudDocs/Files/synced%20Documents/lecturing/python_23ZS/lecture%208/set_and_dictionary.ipynb#X14sZmlsZQ%3D%3D?line=0'>1</a>\u001b[0m s1\u001b[39m.\u001b[39;49mremove(\u001b[39m\"\u001b[39;49m\u001b[39ma\u001b[39;49m\u001b[39m\"\u001b[39;49m)\n",
      "\u001b[0;31mKeyError\u001b[0m: 'a'"
     ]
    }
   ],
   "source": [
    "s1.remove(\"a\")"
   ]
  },
  {
   "cell_type": "markdown",
   "metadata": {},
   "source": [
    "## Dictionary\n",
    "- data of a form `key: value`\n",
    "    - keys are unique, can be any immutable type\n",
    "    - values can be any type\n",
    "\n",
    "\n",
    "- operations with elements run in constant time (computer knows where to find the element)\n",
    "- operations with the whole dictionary runs in linear time (computer still needs to iterate over all elements)"
   ]
  },
  {
   "cell_type": "code",
   "execution_count": 25,
   "metadata": {},
   "outputs": [
    {
     "data": {
      "text/plain": [
       "11"
      ]
     },
     "execution_count": 25,
     "metadata": {},
     "output_type": "execute_result"
    }
   ],
   "source": [
    "# dictionary of countries and their population in millions\n",
    "countries = {\n",
    "    \"Czechia\": 11, \n",
    "    \"Italy\": 59,\n",
    "     \"Turkey\": 85, \n",
    "    \"Poland\": 38\n",
    "      }\n",
    "countries[\"Czechia\"] # value for key \"Czechia\""
   ]
  },
  {
   "cell_type": "code",
   "execution_count": 26,
   "metadata": {},
   "outputs": [
    {
     "data": {
      "text/plain": [
       "False"
      ]
     },
     "execution_count": 26,
     "metadata": {},
     "output_type": "execute_result"
    }
   ],
   "source": [
    "\"Uzbekistan\" in countries"
   ]
  },
  {
   "cell_type": "markdown",
   "metadata": {},
   "source": [
    "Now when we try to obtain the value of a key that does not exist, we get a KeyError:"
   ]
  },
  {
   "cell_type": "code",
   "execution_count": 27,
   "metadata": {},
   "outputs": [
    {
     "ename": "KeyError",
     "evalue": "'Uzbekistan'",
     "output_type": "error",
     "traceback": [
      "\u001b[0;31m---------------------------------------------------------------------------\u001b[0m",
      "\u001b[0;31mKeyError\u001b[0m                                  Traceback (most recent call last)",
      "\u001b[1;32m/Users/strelda/Library/Mobile Documents/com~apple~CloudDocs/Files/synced Documents/lecturing/python_23ZS/lecture 8/set_and_dictionary.ipynb Cell 18\u001b[0m line \u001b[0;36m1\n\u001b[0;32m----> <a href='vscode-notebook-cell:/Users/strelda/Library/Mobile%20Documents/com~apple~CloudDocs/Files/synced%20Documents/lecturing/python_23ZS/lecture%208/set_and_dictionary.ipynb#X22sZmlsZQ%3D%3D?line=0'>1</a>\u001b[0m countries[\u001b[39m\"\u001b[39;49m\u001b[39mUzbekistan\u001b[39;49m\u001b[39m\"\u001b[39;49m]\n",
      "\u001b[0;31mKeyError\u001b[0m: 'Uzbekistan'"
     ]
    }
   ],
   "source": [
    "countries[\"Uzbekistan\"]"
   ]
  },
  {
   "cell_type": "markdown",
   "metadata": {},
   "source": [
    "Or we can ask nicely and obtain None instead of an error:"
   ]
  },
  {
   "cell_type": "code",
   "execution_count": 28,
   "metadata": {},
   "outputs": [
    {
     "name": "stdout",
     "output_type": "stream",
     "text": [
      "None\n",
      "did not find\n"
     ]
    }
   ],
   "source": [
    "a = countries.get(\"Uzbekistan\")\n",
    "b = countries.get(\"Uzbekistan\", \"did not find\")\n",
    "print(a)\n",
    "print(b)"
   ]
  },
  {
   "cell_type": "code",
   "execution_count": 29,
   "metadata": {},
   "outputs": [
    {
     "data": {
      "text/plain": [
       "35"
      ]
     },
     "execution_count": 29,
     "metadata": {},
     "output_type": "execute_result"
    }
   ],
   "source": [
    "countries[\"Uzbekistan\"] = 35\n",
    "countries[\"Uzbekistan\"]"
   ]
  },
  {
   "cell_type": "code",
   "execution_count": 35,
   "metadata": {},
   "outputs": [
    {
     "data": {
      "text/plain": [
       "dict_items([('Czechia', 11), ('Italy', 59), ('Turkey', 85), ('Poland', 38), ('Uzbekistan', 35)])"
      ]
     },
     "execution_count": 35,
     "metadata": {},
     "output_type": "execute_result"
    }
   ],
   "source": [
    "countries.items()"
   ]
  },
  {
   "cell_type": "markdown",
   "metadata": {},
   "source": [
    "#### Iterating over dictionaries"
   ]
  },
  {
   "cell_type": "code",
   "execution_count": 32,
   "metadata": {},
   "outputs": [
    {
     "data": {
      "text/plain": [
       "['Czechia', 'Italy', 'Turkey', 'Poland', 'Uzbekistan']"
      ]
     },
     "execution_count": 32,
     "metadata": {},
     "output_type": "execute_result"
    }
   ],
   "source": [
    "[k for k in countries.keys()]"
   ]
  },
  {
   "cell_type": "code",
   "execution_count": 33,
   "metadata": {},
   "outputs": [
    {
     "data": {
      "text/plain": [
       "[11, 59, 85, 38, 35]"
      ]
     },
     "execution_count": 33,
     "metadata": {},
     "output_type": "execute_result"
    }
   ],
   "source": [
    "[v for v in countries.values()]"
   ]
  },
  {
   "cell_type": "code",
   "execution_count": 36,
   "metadata": {},
   "outputs": [
    {
     "name": "stdout",
     "output_type": "stream",
     "text": [
      "Czechia has about 11 million people\n",
      "Italy has about 59 million people\n",
      "Turkey has about 85 million people\n",
      "Poland has about 38 million people\n",
      "Uzbekistan has about 35 million people\n",
      "[None, None, None, None, None]\n"
     ]
    }
   ],
   "source": [
    "a = [print(k,\"has about\", v, \"million people\") for k,v in countries.items()]\n",
    "print(a)"
   ]
  },
  {
   "cell_type": "markdown",
   "metadata": {},
   "source": [
    "#### Creating lists using comprehensions"
   ]
  },
  {
   "cell_type": "code",
   "execution_count": 37,
   "metadata": {},
   "outputs": [
    {
     "data": {
      "text/plain": [
       "{0, 1, 2, 3, 4}"
      ]
     },
     "execution_count": 37,
     "metadata": {},
     "output_type": "execute_result"
    }
   ],
   "source": [
    "{k for k in range(5)}"
   ]
  },
  {
   "cell_type": "code",
   "execution_count": 41,
   "metadata": {},
   "outputs": [
    {
     "data": {
      "text/plain": [
       "27"
      ]
     },
     "execution_count": 41,
     "metadata": {},
     "output_type": "execute_result"
    }
   ],
   "source": [
    "powers = {x: x**3 for x in range(5)}\n",
    "powers[3]"
   ]
  },
  {
   "cell_type": "code",
   "execution_count": null,
   "metadata": {},
   "outputs": [],
   "source": [
    "powers[3]"
   ]
  },
  {
   "cell_type": "markdown",
   "metadata": {},
   "source": [
    "#### Initializing dictionaries\n",
    "For computing the frequency of words in a text, we can use a dictionary to store the words and their counts `{word: count}`.\n",
    "- If the word is not in the dictionary, we add it with a count of 1. If it is already in the dictionary, we increment its count.\n",
    "- this can be achieved using a `defaultdict` from the `collections` module."
   ]
  },
  {
   "cell_type": "code",
   "execution_count": 45,
   "metadata": {},
   "outputs": [
    {
     "name": "stdout",
     "output_type": "stream",
     "text": [
      "defaultdict(<class 'int'>, {})\n"
     ]
    },
    {
     "data": {
      "text/plain": [
       "0"
      ]
     },
     "execution_count": 45,
     "metadata": {},
     "output_type": "execute_result"
    }
   ],
   "source": [
    "from collections import defaultdict\n",
    "d = defaultdict(int) # which function should be called empty to obtain a default value? int()=0\n",
    "print(d)\n",
    "d[\"something\"] # returns 0, because we set the default type to int"
   ]
  },
  {
   "cell_type": "markdown",
   "metadata": {},
   "source": [
    "If we choose different type, another typical choice is list, we get"
   ]
  },
  {
   "cell_type": "code",
   "execution_count": 43,
   "metadata": {},
   "outputs": [
    {
     "data": {
      "text/plain": [
       "[]"
      ]
     },
     "execution_count": 43,
     "metadata": {},
     "output_type": "execute_result"
    }
   ],
   "source": [
    "l = defaultdict(list)\n",
    "l[\"a\"]"
   ]
  },
  {
   "cell_type": "code",
   "execution_count": 44,
   "metadata": {},
   "outputs": [
    {
     "name": "stdout",
     "output_type": "stream",
     "text": [
      "defaultdict(<class 'int'>, {'something': 0, 'a': 1, 'd': 2})\n",
      "['something', 'a', 'd']\n",
      "[('something', 0), ('a', 1), ('d', 2)]\n"
     ]
    }
   ],
   "source": [
    "d[\"a\"] += 1\n",
    "d[\"d\"] += 2\n",
    "print(d)\n",
    "print(list(d))\n",
    "print(list(d.items()))"
   ]
  },
  {
   "cell_type": "code",
   "execution_count": 46,
   "metadata": {},
   "outputs": [
    {
     "data": {
      "text/plain": [
       "dict_items([('hello', 2), ('world', 2), ('worldy', 1)])"
      ]
     },
     "execution_count": 46,
     "metadata": {},
     "output_type": "execute_result"
    }
   ],
   "source": [
    "word_occurencies = defaultdict(int)\n",
    "for w in \"hello hello world worldy world\".split():\n",
    "    word_occurencies[w] += 1 # without default dict, this could be written as d[w] = d.get(w, 0) + 1\n",
    "word_occurencies.items()"
   ]
  },
  {
   "cell_type": "code",
   "execution_count": 48,
   "metadata": {},
   "outputs": [
    {
     "data": {
      "text/plain": [
       "['hello', 'hello', 'world']"
      ]
     },
     "execution_count": 48,
     "metadata": {},
     "output_type": "execute_result"
    }
   ],
   "source": [
    "word_lengths = defaultdict(list)\n",
    "for word in \"hello hello my something world\".split():\n",
    "    word_lengths[len(word)].append(word)\n",
    "\n",
    "word_lengths.items()\n",
    "word_lengths[5]"
   ]
  },
  {
   "cell_type": "markdown",
   "metadata": {},
   "source": [
    "#### Complicated example of a dictionary"
   ]
  },
  {
   "cell_type": "code",
   "execution_count": 51,
   "metadata": {},
   "outputs": [
    {
     "name": "stdout",
     "output_type": "stream",
     "text": [
      "john666@de.com\n",
      "Somewhere\n"
     ]
    }
   ],
   "source": [
    "contacts = [\n",
    "    {\n",
    "        \"name\": \"John\",\n",
    "        \"email\": [\"john123@seznam.cz\", \"john666@de.com\"],\n",
    "        \"adress\": {\n",
    "            \"street\": \"Karlovo namesti\",\n",
    "            \"number\": 1\n",
    "        }\n",
    "    },\n",
    "    {\n",
    "        \"name\": \"Dohn\",\n",
    "        \"email\": [\"do@h.n\"],\n",
    "        \"adress\": {\n",
    "            \"street\": \"Somewhere\",\n",
    "            \"number\": 11\n",
    "        }\n",
    "    }\n",
    "]\n",
    "print(contacts[0][\"email\"][1])\n",
    "print(contacts[1][\"adress\"][\"street\"])"
   ]
  },
  {
   "cell_type": "code",
   "execution_count": 52,
   "metadata": {},
   "outputs": [
    {
     "name": "stdout",
     "output_type": "stream",
     "text": [
      "['do@h.n']\n"
     ]
    },
    {
     "data": {
      "text/plain": [
       "[['do@h.n']]"
      ]
     },
     "execution_count": 52,
     "metadata": {},
     "output_type": "execute_result"
    }
   ],
   "source": [
    "# find Jane in contacts and print her email, without knowing the index of Jane\n",
    "for contact in contacts:\n",
    "    if contact[\"name\"] == \"Dohn\":\n",
    "        print(contact[\"email\"])\n",
    "        break\n",
    "    \n",
    "# and using list comprehension\n",
    "[contact[\"email\"] for contact in contacts if contact[\"name\"] == \"Dohn\"]"
   ]
  },
  {
   "cell_type": "markdown",
   "metadata": {},
   "source": [
    "### Choose function based on a string"
   ]
  },
  {
   "cell_type": "code",
   "execution_count": 53,
   "metadata": {},
   "outputs": [
    {
     "name": "stdout",
     "output_type": "stream",
     "text": [
      "25\n",
      "125\n",
      "125\n",
      "25\n"
     ]
    }
   ],
   "source": [
    "def f2():\n",
    "    print(5**2)\n",
    "def f3():\n",
    "    print(5**3)\n",
    "\n",
    "function_choice = {\n",
    "    \"s\": f2,\n",
    "    \"t\": f3\n",
    "}\n",
    "\n",
    "def execute(order: str):\n",
    "    if order in function_choice:\n",
    "        function_choice[order]()\n",
    "    else:\n",
    "        print(\"I do not know this order!\")\n",
    "\n",
    "\n",
    "while True:\n",
    "    order = input(\"order: \")\n",
    "    if order == \"end\":\n",
    "        break\n",
    "    execute(order)"
   ]
  },
  {
   "cell_type": "code",
   "execution_count": null,
   "metadata": {},
   "outputs": [],
   "source": []
  }
 ],
 "metadata": {
  "kernelspec": {
   "display_name": "Python 3",
   "language": "python",
   "name": "python3"
  },
  "language_info": {
   "codemirror_mode": {
    "name": "ipython",
    "version": 3
   },
   "file_extension": ".py",
   "mimetype": "text/x-python",
   "name": "python",
   "nbconvert_exporter": "python",
   "pygments_lexer": "ipython3",
   "version": "3.11.6"
  }
 },
 "nbformat": 4,
 "nbformat_minor": 2
}
