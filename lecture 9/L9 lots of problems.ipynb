{
 "cells": [
  {
   "cell_type": "markdown",
   "metadata": {},
   "source": [
    "# Problems"
   ]
  },
  {
   "cell_type": "markdown",
   "metadata": {},
   "source": [
    "---\n",
    "### Comparing lists\n",
    "Write a function, returning True (False) if two lists do (do not) contain the same elements.\n",
    "\n",
    "1. First imagine that elements in the list do not repeat, for example the following two lists are considered the same\n",
    "```python\n",
    "a = [1, 2, 3, 1]\n",
    "b = [3, 2, 1]\n",
    "```\n",
    "2. The lists are no longer the same, if some elements repeat. For example, the lists above are no longer the same.\n",
    "3. Design a third program, which first counts the number of occurences of each element in the list, and then compares the two lists. \n",
    "    - You might use `defaultdict` from the `collections` module and \n",
    "    - implement two separate functions: count_elements and compare_lists. Here is the docstring for the first one.\n",
    "\n",
    "```python\n",
    "def count_elements(x: list) -> dict:\n",
    "    \"\"\"Count the number of occurrences of each element in the list.\n",
    "    The algorithm is O(n).\n",
    "\n",
    "    Examples:\n",
    "        >>> count_elements([1, 2, 1, 3, 2])\n",
    "        defaultdict(<class 'int'>, {1: 2, 2: 2, 3: 1})\n",
    "\n",
    "        >>> count_elements([])\n",
    "        defaultdict(<class 'int'>, {})\n",
    "\n",
    "        >>> count_elements([\"a\", \"b\", \"a\", \"c\"])\n",
    "        defaultdict(<class 'int'>, {'a': 2, 'b': 1, 'c': 1})\n",
    "    \"\"\"\n",
    "```"
   ]
  },
  {
   "cell_type": "code",
   "execution_count": 3,
   "metadata": {},
   "outputs": [],
   "source": [
    "def compare(x: list, y: list) -> bool:\n",
    "    \"\"\"Checks if the lists the same.\n",
    "    \n",
    "    Examples:\n",
    "        >>> compare([], [])\n",
    "        True\n",
    "        >>> compare([1, 2, 3], [3, 2, 2, 1])\n",
    "        True\n",
    "        >>> compare([1, 2, 3], [3, 2, 5, 1])\n",
    "        False\n",
    "    \"\"\"\n",
    "    return set(x) == set(y)"
   ]
  },
  {
   "cell_type": "code",
   "execution_count": 10,
   "metadata": {},
   "outputs": [
    {
     "data": {
      "text/plain": [
       "False"
      ]
     },
     "execution_count": 10,
     "metadata": {},
     "output_type": "execute_result"
    }
   ],
   "source": [
    "def compare2(x: list, y: list) -> bool:\n",
    "    \"\"\"Compare two lists.\n",
    "    The algorithm is O(n*log(n)) due to sorting algorithm, comparison is only O(n).\n",
    "\n",
    "    Examples:\n",
    "        >>> compare2([], [])\n",
    "        True\n",
    "        >>> compare2([1, 2, 3], [3, 2, 1])\n",
    "        True\n",
    "        >>> compare2([1, 2, 3], [3, 2, 2, 1])\n",
    "        False\n",
    "    \"\"\"\n",
    "    return sorted(x) == sorted(y)\n"
   ]
  },
  {
   "cell_type": "code",
   "execution_count": 15,
   "metadata": {},
   "outputs": [],
   "source": [
    "from collections import defaultdict\n",
    "\n",
    "def count_elements(x: list) -> dict:\n",
    "    \"\"\"Count the number of occurrences of each element in the list.\n",
    "    The algorithm is O(n).\n",
    "\n",
    "    Examples:\n",
    "        >>> count_elements([1, 2, 1, 3, 2])\n",
    "        defaultdict(<class 'int'>, {1: 2, 2: 2, 3: 1})\n",
    "\n",
    "        >>> count_elements([])\n",
    "        defaultdict(<class 'int'>, {})\n",
    "\n",
    "        >>> count_elements([\"a\", \"b\", \"a\", \"c\"])\n",
    "        defaultdict(<class 'int'>, {'a': 2, 'b': 1, 'c': 1})\n",
    "    \"\"\"\n",
    "    cetnosti = defaultdict(int)\n",
    "    for a in x:\n",
    "        cetnosti[a] += 1\n",
    "    return cetnosti\n",
    "\n",
    "def compare_lists(x: list, y: list) -> bool:\n",
    "    \"\"\"Compare two lists based on the counts of their elements.\n",
    "    The algorithm is O(n).\n",
    "\n",
    "    Examples:\n",
    "        >>> compare_lists([1, 2, 1], [2, 1, 1])\n",
    "        True\n",
    "        >>> compare_lists([1, 2, 1], [1, 2, 2])\n",
    "        False\n",
    "        >>> compare_lists([], [])\n",
    "        True\n",
    "        >>> compare_lists([\"apple\", \"banana\", \"apple\"], [\"banana\", \"apple\", \"apple\"])\n",
    "        True\n",
    "    \"\"\"\n",
    "    return count_elements(x) == count_elements(y)"
   ]
  },
  {
   "cell_type": "markdown",
   "metadata": {},
   "source": [
    "To compare the performance, we can randomly generaly two large lists of integers and time the two functions."
   ]
  },
  {
   "cell_type": "code",
   "execution_count": 19,
   "metadata": {},
   "outputs": [
    {
     "name": "stdout",
     "output_type": "stream",
     "text": [
      "13.9 ms ± 265 µs per loop (mean ± std. dev. of 7 runs, 100 loops each)\n",
      "8.28 ms ± 67.1 µs per loop (mean ± std. dev. of 7 runs, 100 loops each)\n"
     ]
    }
   ],
   "source": [
    "from random import randint\n",
    "import timeit\n",
    "\n",
    "l1 = [randint(1, 100) for _ in range(int(1e5))]\n",
    "l2 = [randint(1, 100) for _ in range(int(1e5))]\n",
    "\n",
    "# do 100 iterations for each function and compare the time\n",
    "%timeit -n 100 compare2(l1, l2)\n",
    "%timeit -n 100 compare_lists(l1, l2)"
   ]
  },
  {
   "cell_type": "markdown",
   "metadata": {},
   "source": [
    "---\n",
    "### Creating a text with a great Poe-ness\n",
    "An [n-gram](https://en.wikipedia.org/wiki/N-gram) is a contiguous sequence of n items from a given sample of text or speech. Here as items we choose characters.\n",
    "1. Count the number of n-grams in a text. Here is an outline:\n",
    "```python\n",
    "# create empty dictionary using defaultdict\n",
    "\n",
    "for row in open('poe.txt'):\n",
    "    # save n-grams from line into dictionary \n",
    "```\n",
    "2. Sort them by frequency.\n",
    "\n",
    "You can use for example the text [here](https://ipnp.cz/strelecek/supplementary/23ZS/poe.txt) and read it by lines:"
   ]
  },
  {
   "cell_type": "code",
   "execution_count": null,
   "metadata": {},
   "outputs": [],
   "source": [
    "from collections import defaultdict\n",
    "\n",
    "n = 3\n",
    "kgrams = defaultdict(int)\n",
    "\n",
    "for row in open('poe.txt'):\n",
    "    # separate the line to n-grams\n",
    "    for i in range(len(row)-n):\n",
    "        kgrams[row[i:i+n]] += 1\n",
    "\n",
    "# create pairs (frequency, n-gram)\n",
    "pairs = [ (frequency, gram) for gram, frequency in kgrams.items() ]\n",
    "\n",
    "# sort the pairs and print them\n",
    "for frequency, gram in reversed(sorted(pairs)):\n",
    "    print(frequency, gram)"
   ]
  },
  {
   "cell_type": "markdown",
   "metadata": {},
   "source": [
    "---\n",
    "### Parsing the input\n",
    "Parse the input below as a list of lists of dictionary. Elements of the outer list are the rounds, the inner list elements are separated by semicolon, and the dictionary consists of colors.\n",
    "```\n",
    "first line: 3 blue, 4 red; 1 red, 2 green, 6 blue; 2 green\n",
    "second line: 1 blue, 2 green; 3 green, 4 blue, 1 red; 1 green, 1 blue\n",
    "third line: 8 green, 6 blue, 20 red; 5 blue, 4 red, 13 green; 5 green, 1 red\n",
    "```\n",
    "\n",
    "The resulting object should look like\n",
    "```python\n",
    "[\n",
    "    [{'blue': 3, 'red': 4}, \n",
    "     {'blue': 6, 'red': 1, 'green': 2}, \n",
    "     {'green': 2}],\n",
    "    ...\n",
    " ]\n",
    "```"
   ]
  },
  {
   "cell_type": "code",
   "execution_count": null,
   "metadata": {},
   "outputs": [
    {
     "name": "stdout",
     "output_type": "stream",
     "text": [
      "[defaultdict(<class 'int'>, {'blue': '3', 'red': '4'}), defaultdict(<class 'int'>, {'red': '1', 'green': '2', 'blue': '6'}), defaultdict(<class 'int'>, {'green': '2'})]\n"
     ]
    }
   ],
   "source": [
    "from collections import defaultdict\n",
    "colors=[]\n",
    "for l in open(\"colors.txt\"):\n",
    "    line = l.split(\":\")[1].rstrip(\"\\n\").split(\";\")\n",
    "    linelist = []\n",
    "    for i in line:\n",
    "        d = i.split(\",\")\n",
    "        \n",
    "        linedict = defaultdict(int)\n",
    "        for elem in d:\n",
    "            num,col = elem.split()\n",
    "            linedict[col]=num\n",
    "        linelist.append(linedict)\n",
    "    colors.append(linelist)\n",
    "\n",
    "print(colors[0])"
   ]
  },
  {
   "cell_type": "code",
   "execution_count": null,
   "metadata": {},
   "outputs": [],
   "source": [
    "def reverse_lines(filename: str, outputname: str)->None:\n",
    "    \"\"\"Prints the lines of a file in reverse order into outputname.\"\"\"\n",
    "    with open(outputname, 'w') as outfile:\n",
    "        f = list(open(filename))\n",
    "        # the last line doesn't have a newline character\n",
    "        outfile.write(f[-1]+'\\n') \n",
    "        for line in reversed(f[1::-2]):\n",
    "            outfile.write(line) \n",
    "        outfile.write(f[0].rstrip())\n",
    "\n",
    "def reverse_lines_and_words(filename: str, outputname: str)->None:\n",
    "    \"\"\"Prints the lines of a file in reverse order into outputname. \n",
    "    Now reverse even the words in lines.\"\"\"\n",
    "    def reverse_line(line: str)->str:\n",
    "        return ' '.join(reversed(line.split()))\n",
    "\n",
    "    with open(outputname, 'w') as outfile:\n",
    "        f = list(open(filename))\n",
    "        # the last line doesn't have a newline character\n",
    "        outfile.write(reverse_line(f[-1])+'\\n')\n",
    "        for line in reversed(f[1::-2]):\n",
    "            outfile.write(reverse_line(line)+'\\n') \n",
    "        outfile.write(reverse_line(f[0].rstrip()))\n",
    "\n",
    "reverse_lines('input.txt', 'output.txt')\n",
    "reverse_lines_and_words('input.txt', 'output2.txt')"
   ]
  },
  {
   "cell_type": "markdown",
   "metadata": {},
   "source": [
    "# Problematic problems"
   ]
  },
  {
   "cell_type": "markdown",
   "metadata": {},
   "source": [
    "---\n",
    "### Generating some nonsense\n",
    "Use the previous code for generating text. *Choose the first n-gram randomly, then randomly choose the next letter from the list of letters that follow the n-gram. For random selection, you can use*\n",
    "```python\n",
    "import random\n",
    "random.choice(your_list_of_letters)\n",
    "```"
   ]
  },
  {
   "cell_type": "code",
   "execution_count": 26,
   "metadata": {},
   "outputs": [
    {
     "name": "stdout",
     "output_type": "stream",
     "text": [
      "Poznávrhnu vzpouzen, zakládal výpočínala, že zvran 72 prosi to jsem a pocitlitelné očívají dušil dávka, kterozumokrajem na pohli –\" ,,Ledek, ó jakov. Pootevřeligránovalo hled. B. Cítil. Třebaženujícímu z Rozbolehlo napodním a znikdo do počáte na zepři teď nemocně úzko víc ji než na nedů ještěně ztrá\n"
     ]
    }
   ],
   "source": [
    "from collections import defaultdict\n",
    "import random\n",
    "\n",
    "def build_continuation_model(text: str, n: int) -> defaultdict:\n",
    "    \"\"\"\n",
    "    Creates a dictionary where keys are n-grams (sequences of n characters)\n",
    "    and values are lists of characters that follow those n-grams in the text.\n",
    "\n",
    "    Args:\n",
    "        text (str): The text to build the model from.\n",
    "        n (int): The length of the n-grams.\n",
    "\n",
    "    Returns:\n",
    "        defaultdict(list): The continuation model dictionary.\n",
    "    \"\"\"\n",
    "    model = defaultdict(list)\n",
    "    for i in range(len(text) - n):\n",
    "        ngram = text[i : i + n]\n",
    "        following_char = text[i + n]\n",
    "        model[ngram].append(following_char)\n",
    "    return model\n",
    "\n",
    "def generate_text(model: defaultdict, seed_length: int=3, length: int =300) -> str:\n",
    "    \"\"\"\n",
    "    Generates text using the continuation model.\n",
    "\n",
    "    Args:\n",
    "        model (defaultdict(list)): The continuation model.\n",
    "        seed_length (int, optional): The length of the initial seed n-gram. Defaults to 3.\n",
    "        length (int, optional): The desired length of the generated text. Defaults to 300.\n",
    "\n",
    "    Returns:\n",
    "        str: The generated text.\n",
    "    \"\"\"\n",
    "    seed = random.choice(list(model))  \n",
    "    generated_text = seed\n",
    "\n",
    "    while len(generated_text) < length:\n",
    "        ngram = generated_text[-seed_length:]\n",
    "        possible_continuations = model.get(ngram)\n",
    "\n",
    "        if possible_continuations:\n",
    "            next_char = random.choice(possible_continuations)\n",
    "            generated_text += next_char\n",
    "        else:  \n",
    "            generated_text += '/' + random.choice(list(model)) \n",
    "\n",
    "    return generated_text\n",
    "\n",
    "# Load and preprocess text\n",
    "with open(\"poe.txt\", \"r\") as file:\n",
    "    text = file.read().replace(\"\\n\", \" \")  # Remove newlines\n",
    "\n",
    "# Main execution\n",
    "n_gram_size = 3\n",
    "model = build_continuation_model(text, n_gram_size)\n",
    "generated_poem = generate_text(model)\n",
    "print(generated_poem)"
   ]
  }
 ],
 "metadata": {
  "kernelspec": {
   "display_name": "Python 3",
   "language": "python",
   "name": "python3"
  },
  "language_info": {
   "codemirror_mode": {
    "name": "ipython",
    "version": 3
   },
   "file_extension": ".py",
   "mimetype": "text/x-python",
   "name": "python",
   "nbconvert_exporter": "python",
   "pygments_lexer": "ipython3",
   "version": "3.11.9"
  }
 },
 "nbformat": 4,
 "nbformat_minor": 2
}
