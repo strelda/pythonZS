{
 "cells": [
  {
   "cell_type": "markdown",
   "metadata": {},
   "source": [
    "# Dictionary\n",
    "### Motivation\n",
    "Look at the following structure\n",
    "```python\n",
    "book = [\"The Lord of the Rings\", \"J.R.R. Tolkien\", 1954]\n",
    "```\n",
    "When saving books as lists, one needs to remember that the first element is the book name, second is the author, and third is the year. One way is to design a `class Book`, as we know. Dictionaries offer similar functionality in many ways, without the need of creating complicated classes.\n",
    "\n",
    "### Introduction\n",
    "<div class=\"alert alert-block alert-info\">\n",
    "    <ol>\n",
    "        <li>data are of a form `{key1: value1, key2: value2, ...}`</li>\n",
    "        <li>keys are unique, can be any immutable type (for example list would not work)</li>\n",
    "        <li>values can be any type</li>\n",
    "    </ol>\n",
    "</div>\n",
    "\n",
    "**Complexity:**\n",
    "- operations with elements are O(1) (computer knows where to find the element)\n",
    "- operations with the whole dictionary runs in linear time O(n) (computer still needs to iterate over all elements)"
   ]
  },
  {
   "cell_type": "code",
   "execution_count": 36,
   "metadata": {},
   "outputs": [
    {
     "data": {
      "text/plain": [
       "11"
      ]
     },
     "execution_count": 36,
     "metadata": {},
     "output_type": "execute_result"
    }
   ],
   "source": [
    "# dictionary of countries and their population in millions\n",
    "countries = {\n",
    "    \"Czechia\": 11, \n",
    "    \"Italy\": 59,\n",
    "    \"Turkey\": 85, \n",
    "    \"Poland\": 38\n",
    "      }\n",
    "countries[\"Czechia\"] # value for key \"Czechia\""
   ]
  },
  {
   "cell_type": "code",
   "execution_count": 2,
   "metadata": {},
   "outputs": [
    {
     "data": {
      "text/plain": [
       "False"
      ]
     },
     "execution_count": 2,
     "metadata": {},
     "output_type": "execute_result"
    }
   ],
   "source": [
    "\"Uzbekistan\" in countries"
   ]
  },
  {
   "cell_type": "markdown",
   "metadata": {},
   "source": [
    "Now when we try to obtain the value of a key that does not exist, we get a KeyError:"
   ]
  },
  {
   "cell_type": "code",
   "execution_count": 6,
   "metadata": {},
   "outputs": [
    {
     "ename": "KeyError",
     "evalue": "'Uzbekistan'",
     "output_type": "error",
     "traceback": [
      "\u001b[0;31m---------------------------------------------------------------------------\u001b[0m",
      "\u001b[0;31mKeyError\u001b[0m                                  Traceback (most recent call last)",
      "Cell \u001b[0;32mIn[6], line 1\u001b[0m\n\u001b[0;32m----> 1\u001b[0m \u001b[43mcountries\u001b[49m\u001b[43m[\u001b[49m\u001b[38;5;124;43m\"\u001b[39;49m\u001b[38;5;124;43mUzbekistan\u001b[39;49m\u001b[38;5;124;43m\"\u001b[39;49m\u001b[43m]\u001b[49m\n",
      "\u001b[0;31mKeyError\u001b[0m: 'Uzbekistan'"
     ]
    }
   ],
   "source": [
    "countries[\"Uzbekistan\"]"
   ]
  },
  {
   "cell_type": "markdown",
   "metadata": {},
   "source": [
    "Or we can ask nicely and obtain None instead of an error:"
   ]
  },
  {
   "cell_type": "code",
   "execution_count": null,
   "metadata": {},
   "outputs": [
    {
     "name": "stdout",
     "output_type": "stream",
     "text": [
      "None\n",
      "did not find\n"
     ]
    }
   ],
   "source": [
    "a = countries.get(\"Uzbekistan\")\n",
    "b = countries.get(\"Uzbekistan\", \"did not find\")\n",
    "print(a)\n",
    "print(b)"
   ]
  },
  {
   "cell_type": "code",
   "execution_count": 7,
   "metadata": {},
   "outputs": [
    {
     "data": {
      "text/plain": [
       "35"
      ]
     },
     "execution_count": 7,
     "metadata": {},
     "output_type": "execute_result"
    }
   ],
   "source": [
    "countries[\"Uzbekistan\"] = 35\n",
    "countries[\"Uzbekistan\"]"
   ]
  },
  {
   "cell_type": "code",
   "execution_count": 11,
   "metadata": {},
   "outputs": [
    {
     "data": {
      "text/plain": [
       "dict_items([('Czechia', 11), ('Italy', 59), ('Turkey', 85), ('Poland', 38), ('Uzbekistan', 35)])"
      ]
     },
     "execution_count": 11,
     "metadata": {},
     "output_type": "execute_result"
    }
   ],
   "source": [
    "countries.items()"
   ]
  },
  {
   "cell_type": "markdown",
   "metadata": {},
   "source": [
    "#### Example: traffic light\n",
    "Let's try to implement `next_color` function using dictionaries. The construction using classes was really safe and good, but there are cases where this can get handy. Especially when comunicating between more programming languages.\n",
    "```python\n",
    "def next_color(col: str)->str:\n",
    "    \"\"\"Takes a light color and returns the next one in a row.\n",
    "    \"red\"->\"orange\"->\"green\"\n",
    "    \"\"\"\n",
    "    if col==\"red\":\n",
    "        return \"orange\"\n",
    "    elif col==\"orange\":\n",
    "        return \"green\"\n",
    "    else:\n",
    "        return \"red\"\n",
    "```\n",
    "What changes needs to be done in the following code to add another color to the traffic light?\n",
    "\n",
    "<div class=\"alert alert-block alert-info\">\n",
    "Notice that the dictionary is easily accessible by key, not by value. Look at the cumbersome structure for returning the color from value.\n",
    "</div>"
   ]
  },
  {
   "cell_type": "code",
   "execution_count": null,
   "metadata": {},
   "outputs": [],
   "source": [
    "colors = {\n",
    "    \"red\": 1,\n",
    "    \"orange\": 2,\n",
    "    \"green\": 3\n",
    "    }\n",
    "\n",
    "def next_color(col: str)->str:\n",
    "    \"\"\"Takes a light color and returns the next on in a row.\n",
    "    \"red\"->\"orange\"->\"green\"\n",
    "\n",
    "    Examples:\n",
    "        >>> next_color(\"red\")\n",
    "        'orange'\n",
    "        >>> next_color(\"orange\")\n",
    "        'green'\n",
    "        >>> next_color(\"green\")\n",
    "        'red'\n",
    "    \"\"\"\n",
    "    if col not in colors:\n",
    "        raise ValueError(\"Invalid color\")\n",
    "    \n",
    "    next_value = (colors[col] % len(colors)) + 1\n",
    "    \n",
    "    return color_from_value(next_value)\n",
    "\n",
    "def color_from_value(val: int) -> str:\n",
    "    \"\"\"Returns color corresponding to the value in colors.\n",
    "    \n",
    "    Examples:\n",
    "        >>> color_from_value(1)\n",
    "        'red'\n",
    "        >>> color_from_value(2)\n",
    "        'orange'\n",
    "        >>> color_from_value(3)\n",
    "        'green'\n",
    "    \"\"\"\n",
    "    return [col for col, v in colors.items() if v == val][0]\n",
    "\n",
    "import doctest\n",
    "doctest.testmod()"
   ]
  },
  {
   "cell_type": "markdown",
   "metadata": {},
   "source": [
    "#### Iterating over dictionaries"
   ]
  },
  {
   "cell_type": "code",
   "execution_count": 15,
   "metadata": {},
   "outputs": [
    {
     "data": {
      "text/plain": [
       "['Czechia', 'Italy', 'Turkey', 'Poland', 'Uzbekistan']"
      ]
     },
     "execution_count": 15,
     "metadata": {},
     "output_type": "execute_result"
    }
   ],
   "source": [
    "[k for k in countries.keys()]"
   ]
  },
  {
   "cell_type": "code",
   "execution_count": 16,
   "metadata": {},
   "outputs": [
    {
     "data": {
      "text/plain": [
       "[11, 59, 85, 38, 35]"
      ]
     },
     "execution_count": 16,
     "metadata": {},
     "output_type": "execute_result"
    }
   ],
   "source": [
    "[v for v in countries.values()]"
   ]
  },
  {
   "cell_type": "code",
   "execution_count": 24,
   "metadata": {},
   "outputs": [
    {
     "name": "stdout",
     "output_type": "stream",
     "text": [
      "Czechia has about 11 million people\n",
      "Italy has about 59 million people\n",
      "Turkey has about 85 million people\n",
      "Poland has about 38 million people\n",
      "Uzbekistan has about 35 million people\n",
      "[None, None, None, None, None]\n"
     ]
    }
   ],
   "source": [
    "a = [print(k,\"has about\", v, \"million people\") for k,v in countries.items()]\n",
    "print(a)"
   ]
  },
  {
   "cell_type": "markdown",
   "metadata": {},
   "source": [
    "#### Creating lists using comprehensions"
   ]
  },
  {
   "cell_type": "code",
   "execution_count": 27,
   "metadata": {},
   "outputs": [
    {
     "data": {
      "text/plain": [
       "{range(0, 5)}"
      ]
     },
     "execution_count": 27,
     "metadata": {},
     "output_type": "execute_result"
    }
   ],
   "source": [
    "{k for k in [range(5)]}"
   ]
  },
  {
   "cell_type": "code",
   "execution_count": 34,
   "metadata": {},
   "outputs": [
    {
     "data": {
      "text/plain": [
       "{0: 0, 1: 1, 2: 8, 3: 27, 4: 64}"
      ]
     },
     "execution_count": 34,
     "metadata": {},
     "output_type": "execute_result"
    }
   ],
   "source": [
    "powers = {x: x**3 for x in range(5)}\n",
    "powers"
   ]
  },
  {
   "cell_type": "code",
   "execution_count": 30,
   "metadata": {},
   "outputs": [
    {
     "data": {
      "text/plain": [
       "27"
      ]
     },
     "execution_count": 30,
     "metadata": {},
     "output_type": "execute_result"
    }
   ],
   "source": [
    "powers[3]"
   ]
  },
  {
   "cell_type": "markdown",
   "metadata": {},
   "source": [
    "#### Initializing dictionaries\n",
    "For computing the frequency of words in a text, we can use a dictionary to store the words and their counts `{word: count}`. If the word is not in the dictionary, we add it with a count of 1. If it is already in the dictionary, we increment its count.\n",
    "\n",
    "<div class=\"alert alert-block alert-info\">\n",
    "Adding new keys into the dictionary when needed can be achieved using a `defaultdict` from the `collections` module.\n",
    "</div>"
   ]
  },
  {
   "cell_type": "code",
   "execution_count": 35,
   "metadata": {},
   "outputs": [
    {
     "name": "stdout",
     "output_type": "stream",
     "text": [
      "defaultdict(<class 'int'>, {})\n"
     ]
    },
    {
     "data": {
      "text/plain": [
       "0"
      ]
     },
     "execution_count": 35,
     "metadata": {},
     "output_type": "execute_result"
    }
   ],
   "source": [
    "from collections import defaultdict\n",
    "d = defaultdict(int) # which function should be called empty to obtain a default value? int()=0\n",
    "print(d)\n",
    "d[\"something\"] # returns 0, because we set the default type to int"
   ]
  },
  {
   "cell_type": "code",
   "execution_count": 37,
   "metadata": {},
   "outputs": [
    {
     "data": {
      "text/plain": [
       "defaultdict(int, {'something': 0})"
      ]
     },
     "execution_count": 37,
     "metadata": {},
     "output_type": "execute_result"
    }
   ],
   "source": [
    "d"
   ]
  },
  {
   "cell_type": "markdown",
   "metadata": {},
   "source": [
    "If we choose different type, another typical choice is list, we get"
   ]
  },
  {
   "cell_type": "code",
   "execution_count": 39,
   "metadata": {},
   "outputs": [
    {
     "name": "stdout",
     "output_type": "stream",
     "text": [
      "defaultdict(<class 'list'>, {})\n",
      "defaultdict(<class 'list'>, {'a': []})\n"
     ]
    }
   ],
   "source": [
    "l = defaultdict(list)\n",
    "print(l)\n",
    "l[\"a\"]\n",
    "print(l)"
   ]
  },
  {
   "cell_type": "code",
   "execution_count": 40,
   "metadata": {},
   "outputs": [
    {
     "name": "stdout",
     "output_type": "stream",
     "text": [
      "defaultdict(<class 'int'>, {'something': 0, 'a': 1, 'd': 2})\n",
      "['something', 'a', 'd']\n",
      "[('something', 0), ('a', 1), ('d', 2)]\n"
     ]
    }
   ],
   "source": [
    "d[\"a\"] += 1\n",
    "d[\"d\"] += 2\n",
    "print(d)\n",
    "print(list(d))\n",
    "print(list(d.items()))"
   ]
  },
  {
   "cell_type": "code",
   "execution_count": null,
   "metadata": {},
   "outputs": [
    {
     "data": {
      "text/plain": [
       "dict_items([('a', 5)])"
      ]
     },
     "execution_count": 44,
     "metadata": {},
     "output_type": "execute_result"
    }
   ],
   "source": [
    "word_occurencies = defaultdict(int)\n",
    "for w in \"hello hello world worldy world\".split():\n",
    "    word_occurencies[w] += 1 # without default dict, this could be written as d[w] = d.get(w, 0) + 1\n",
    "word_occurencies.items()"
   ]
  },
  {
   "cell_type": "code",
   "execution_count": 54,
   "metadata": {},
   "outputs": [
    {
     "name": "stdout",
     "output_type": "stream",
     "text": [
      "defaultdict(<class 'list'>, {})\n",
      "defaultdict(<class 'list'>, {5: ['hello', 'hwllo', 'worll'], 2: ['my'], 9: ['something']})\n"
     ]
    },
    {
     "data": {
      "text/plain": [
       "[]"
      ]
     },
     "execution_count": 54,
     "metadata": {},
     "output_type": "execute_result"
    }
   ],
   "source": [
    "word_lengths = defaultdict(list)\n",
    "print(word_lengths)\n",
    "for word in \"hello hwllo my something worll\".split():\n",
    "    word_lengths[len(word)].append(word)\n",
    "print(word_lengths)\n",
    "\n",
    "word_lengths[3]"
   ]
  },
  {
   "cell_type": "markdown",
   "metadata": {},
   "source": [
    "---\n",
    "# Examples\n",
    "#### Complicated example of a dictionary"
   ]
  },
  {
   "cell_type": "code",
   "execution_count": null,
   "metadata": {},
   "outputs": [
    {
     "name": "stdout",
     "output_type": "stream",
     "text": [
      "john666@de.com\n",
      "Somewhere\n"
     ]
    }
   ],
   "source": [
    "contacts = [\n",
    "    {\n",
    "        \"name\": \"John\",\n",
    "        \"email\": [\"john123@seznam.cz\", \"john666@de.com\"],\n",
    "        \"adress\": {\n",
    "            \"street\": \"Karlovo namesti\",\n",
    "            \"number\": 1\n",
    "        }\n",
    "    },\n",
    "    {\n",
    "        \"name\": \"Dohn\",\n",
    "        \"email\": [\"do@h.n\"],\n",
    "        \"adress\": {\n",
    "            \"street\": \"Somewhere\",\n",
    "            \"number\": 11\n",
    "        }\n",
    "    }\n",
    "]\n",
    "print(contacts[0][\"email\"][1])\n",
    "print(contacts[1][\"adress\"][\"street\"])"
   ]
  },
  {
   "cell_type": "code",
   "execution_count": 61,
   "metadata": {},
   "outputs": [
    {
     "name": "stdout",
     "output_type": "stream",
     "text": [
      "['do@h.n']\n"
     ]
    },
    {
     "data": {
      "text/plain": [
       "[['do@h.n']]"
      ]
     },
     "execution_count": 61,
     "metadata": {},
     "output_type": "execute_result"
    }
   ],
   "source": [
    "# find Jane in contacts and print her email, without knowing the index of Jane\n",
    "for contact in contacts:\n",
    "    if contact[\"name\"] == \"Dohn\":\n",
    "        print(contact[\"email\"])\n",
    "        break\n",
    "    \n",
    "# and using list comprehension\n",
    "[contact[\"email\"] for contact in contacts if contact[\"name\"] == \"Dohn\"]"
   ]
  },
  {
   "cell_type": "markdown",
   "metadata": {},
   "source": [
    "### Choose function based on a string\n",
    "When we know that new functionalities will be added, we can use a dictionary to store the functions and call them based on a string. Another usage is for creating games, where we can store the functions for moving the player etc. in a dictionary."
   ]
  },
  {
   "cell_type": "code",
   "execution_count": null,
   "metadata": {},
   "outputs": [
    {
     "name": "stdout",
     "output_type": "stream",
     "text": [
      "25\n",
      "125\n",
      "25\n",
      "25\n",
      "I do not know this order!\n"
     ]
    }
   ],
   "source": [
    "def f2():\n",
    "    print(5**2)\n",
    "def f3():\n",
    "    print(5**3)\n",
    "\n",
    "function_choice = {\n",
    "    \"s\": f2,\n",
    "    \"t\": f3\n",
    "}\n",
    "\n",
    "def execute(order: str):\n",
    "    if order in function_choice:\n",
    "        function_choice[order]()\n",
    "    else:\n",
    "        print(\"I do not know this order!\")\n",
    "\n",
    "\n",
    "while True:\n",
    "    order = input(\"order: \")\n",
    "    if order == \"end\":\n",
    "        break\n",
    "    execute(order)"
   ]
  }
 ],
 "metadata": {
  "kernelspec": {
   "display_name": "Python 3",
   "language": "python",
   "name": "python3"
  },
  "language_info": {
   "codemirror_mode": {
    "name": "ipython",
    "version": 3
   },
   "file_extension": ".py",
   "mimetype": "text/x-python",
   "name": "python",
   "nbconvert_exporter": "python",
   "pygments_lexer": "ipython3",
   "version": "3.11.10"
  }
 },
 "nbformat": 4,
 "nbformat_minor": 2
}
