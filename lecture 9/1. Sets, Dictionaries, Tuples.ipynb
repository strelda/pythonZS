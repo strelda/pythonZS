{
 "cells": [
  {
   "cell_type": "code",
   "execution_count": 3,
   "metadata": {},
   "outputs": [],
   "source": [
    "list  = [1,2,3]\n",
    "tuple = (1,2,3)\n",
    "set   = {1,2,3}\n",
    "dict  = {\"first\":1, \"second\":2, \"third\":3}"
   ]
  },
  {
   "cell_type": "markdown",
   "metadata": {},
   "source": [
    "# Why more data structures?\n",
    "\n",
    "While lists are widely used, they can be inefficient for certain tasks, particularly when searching for specific elements. This inefficiency arises from the linear nature of lists, where accessing an element requires iterating through the list from the beginning until the desired element is found. To address these limitations and optimize data organization and retrieval, Python offers specialized data structures like sets, dictionaries, and tuples."
   ]
  },
  {
   "cell_type": "markdown",
   "metadata": {},
   "source": [
    "---\n",
    "# Set\n",
    "\n",
    "### Motivation\n",
    "Look at the following problem. We do not care where in the list the element is. If we sorted it somehow, we could find the element faster. We could also reduce the list to remove duplicates. This is where sets come in."
   ]
  },
  {
   "cell_type": "code",
   "execution_count": 4,
   "metadata": {},
   "outputs": [
    {
     "name": "stdout",
     "output_type": "stream",
     "text": [
      "wheeee\n"
     ]
    }
   ],
   "source": [
    "favorite_colors = [\"blue\", \"green\", \"red\", \"blue\"]\n",
    "x = \"blue\"\n",
    "if x in favorite_colors:\n",
    "    print(\"wheeee\")"
   ]
  },
  {
   "cell_type": "markdown",
   "metadata": {},
   "source": [
    "## Introduction\n",
    "<div class=\"alert alert-block alert-info\">\n",
    "<ol>\n",
    "<li>Unique Elements: Sets automatically eliminate duplicates, ensuring each element appears only once.</li>\n",
    "<li> Efficient Membership Testing: Time complexity for searching for an element in a list is O(n) while for a set it is O(1) due to <a href=https://en.wikipedia.org/wiki/Hash_function>hashing</a>. </li>\n",
    "</div>"
   ]
  },
  {
   "cell_type": "code",
   "execution_count": 5,
   "metadata": {},
   "outputs": [
    {
     "name": "stdout",
     "output_type": "stream",
     "text": [
      "{'green', 'red', 'blue'}\n"
     ]
    }
   ],
   "source": [
    "s = {\"blue\", \"green\", \"red\", \"blue\"}\n",
    "print(s)"
   ]
  },
  {
   "cell_type": "code",
   "execution_count": 6,
   "metadata": {},
   "outputs": [
    {
     "data": {
      "text/plain": [
       "True"
      ]
     },
     "execution_count": 6,
     "metadata": {},
     "output_type": "execute_result"
    }
   ],
   "source": [
    "\"red\" in s"
   ]
  },
  {
   "cell_type": "code",
   "execution_count": 7,
   "metadata": {},
   "outputs": [
    {
     "ename": "TypeError",
     "evalue": "'set' object is not callable",
     "output_type": "error",
     "traceback": [
      "\u001b[0;31m---------------------------------------------------------------------------\u001b[0m",
      "\u001b[0;31mTypeError\u001b[0m                                 Traceback (most recent call last)",
      "Cell \u001b[0;32mIn[7], line 1\u001b[0m\n\u001b[0;32m----> 1\u001b[0m \u001b[38;5;28mprint\u001b[39m(\u001b[38;5;28;43mset\u001b[39;49m\u001b[43m(\u001b[49m\u001b[38;5;124;43m\"\u001b[39;49m\u001b[38;5;124;43mabca\u001b[39;49m\u001b[38;5;124;43m\"\u001b[39;49m\u001b[43m)\u001b[49m)\n\u001b[1;32m      2\u001b[0m \u001b[38;5;28mprint\u001b[39m(\u001b[38;5;28mset\u001b[39m([\u001b[38;5;124m\"\u001b[39m\u001b[38;5;124mblue\u001b[39m\u001b[38;5;124m\"\u001b[39m, \u001b[38;5;124m\"\u001b[39m\u001b[38;5;124mgreen\u001b[39m\u001b[38;5;124m\"\u001b[39m, \u001b[38;5;124m\"\u001b[39m\u001b[38;5;124mred\u001b[39m\u001b[38;5;124m\"\u001b[39m, \u001b[38;5;124m\"\u001b[39m\u001b[38;5;124mblue\u001b[39m\u001b[38;5;124m\"\u001b[39m]))\n",
      "\u001b[0;31mTypeError\u001b[0m: 'set' object is not callable"
     ]
    }
   ],
   "source": [
    "print(set(\"abca\"))\n",
    "print(set([\"blue\", \"green\", \"red\", \"blue\"]))\n"
   ]
  },
  {
   "cell_type": "code",
   "execution_count": null,
   "metadata": {},
   "outputs": [
    {
     "data": {
      "text/plain": [
       "set()"
      ]
     },
     "execution_count": 14,
     "metadata": {},
     "output_type": "execute_result"
    }
   ],
   "source": [
    "set() # is not {} because {} is a so called dictionary, see below"
   ]
  },
  {
   "cell_type": "code",
   "execution_count": null,
   "metadata": {},
   "outputs": [
    {
     "data": {
      "text/plain": [
       "['blue', 'green', 'red']"
      ]
     },
     "execution_count": 5,
     "metadata": {},
     "output_type": "execute_result"
    }
   ],
   "source": [
    "sorted(s)"
   ]
  },
  {
   "cell_type": "code",
   "execution_count": null,
   "metadata": {},
   "outputs": [],
   "source": [
    "s1 = {\"blue\", \"green\", \"red\"}\n",
    "s2 = {\"black\", \"red\"}"
   ]
  },
  {
   "cell_type": "code",
   "execution_count": null,
   "metadata": {},
   "outputs": [
    {
     "name": "stdout",
     "output_type": "stream",
     "text": [
      "{'red', 'black', 'green', 'blue'}\n",
      "{'red'}\n",
      "{'green', 'blue'}\n",
      "{'green', 'black', 'blue'}\n",
      "False\n",
      "False\n",
      "True\n"
     ]
    }
   ],
   "source": [
    "print(s1 | s2)  # s1.union(s2)\n",
    "print(s1 & s2)  # s1.intersection(s2)\n",
    "print(s1 - s2)  # s1.difference(s2)\n",
    "print(s1 ^ s2)  # s1.symmetric_difference(s2)\n",
    "\n",
    "print(s1 <= s2) # s1.issubset(s2)\n",
    "print(s1 >= {\"a\"}) # s1.issuperset(s2) \n",
    "print(s2=={\"red\",\"black\"})"
   ]
  },
  {
   "cell_type": "code",
   "execution_count": null,
   "metadata": {},
   "outputs": [
    {
     "name": "stdout",
     "output_type": "stream",
     "text": [
      "{'green', 'red', 'blue'}\n",
      "{'green', 'purple', 'blue'}\n"
     ]
    }
   ],
   "source": [
    "print(s1)\n",
    "s1.add(\"purple\")\n",
    "s1.remove(\"red\")\n",
    "print(s1)"
   ]
  },
  {
   "cell_type": "markdown",
   "metadata": {},
   "source": [
    "Now there is no \"red\" in the set, so we get `KeyError`. This is because the elements are called `keys` in a `set`."
   ]
  },
  {
   "cell_type": "code",
   "execution_count": null,
   "metadata": {},
   "outputs": [
    {
     "ename": "KeyError",
     "evalue": "'red'",
     "output_type": "error",
     "traceback": [
      "\u001b[0;31m---------------------------------------------------------------------------\u001b[0m",
      "\u001b[0;31mKeyError\u001b[0m                                  Traceback (most recent call last)",
      "Cell \u001b[0;32mIn[17], line 1\u001b[0m\n\u001b[0;32m----> 1\u001b[0m \u001b[43ms1\u001b[49m\u001b[38;5;241;43m.\u001b[39;49m\u001b[43mremove\u001b[49m\u001b[43m(\u001b[49m\u001b[38;5;124;43m\"\u001b[39;49m\u001b[38;5;124;43mred\u001b[39;49m\u001b[38;5;124;43m\"\u001b[39;49m\u001b[43m)\u001b[49m\n",
      "\u001b[0;31mKeyError\u001b[0m: 'red'"
     ]
    }
   ],
   "source": [
    "s1.remove(\"red\")"
   ]
  },
  {
   "cell_type": "markdown",
   "metadata": {},
   "source": [
    "---\n",
    "# Dictionary\n",
    "### Motivation\n",
    "Look at the following structure\n",
    "```python\n",
    "book = [\"The Lord of the Rings\", \"J.R.R. Tolkien\", 1954]\n",
    "```\n",
    "One needs to remember that the first element is the book name, second is the author, and third is the year. One way is to design a `class Book`, as we know. Dictionaries offer similar functionality in many ways, without the need of creating complicated classes.\n",
    "\n",
    "### Introduction\n",
    "<div class=\"alert alert-block alert-info\">\n",
    "    <ol>\n",
    "        <li>data are of a form `{key1: value1, key2: value2, ...}`</li>\n",
    "        <li>keys are unique, can be any immutable type (for example list would not work)</li>\n",
    "        <li>values can be any type</li>\n",
    "    </ol>\n",
    "</div>\n",
    "\n",
    "**Complexity:**\n",
    "- operations with elements are O(1) (computer knows where to find the element)\n",
    "- operations with the whole dictionary runs in linear time O(n) (computer still needs to iterate over all elements)"
   ]
  },
  {
   "cell_type": "code",
   "execution_count": null,
   "metadata": {},
   "outputs": [
    {
     "data": {
      "text/plain": [
       "11"
      ]
     },
     "execution_count": 25,
     "metadata": {},
     "output_type": "execute_result"
    }
   ],
   "source": [
    "# dictionary of countries and their population in millions\n",
    "countries = {\n",
    "    \"Czechia\": 11, \n",
    "    \"Italy\": 59,\n",
    "    \"Turkey\": 85, \n",
    "    \"Poland\": 38\n",
    "      }\n",
    "countries[\"Czechia\"] # value for key \"Czechia\""
   ]
  },
  {
   "cell_type": "code",
   "execution_count": null,
   "metadata": {},
   "outputs": [
    {
     "data": {
      "text/plain": [
       "False"
      ]
     },
     "execution_count": 26,
     "metadata": {},
     "output_type": "execute_result"
    }
   ],
   "source": [
    "\"Uzbekistan\" in countries"
   ]
  },
  {
   "cell_type": "markdown",
   "metadata": {},
   "source": [
    "Now when we try to obtain the value of a key that does not exist, we get a KeyError:"
   ]
  },
  {
   "cell_type": "code",
   "execution_count": null,
   "metadata": {},
   "outputs": [
    {
     "ename": "KeyError",
     "evalue": "'Uzbekistan'",
     "output_type": "error",
     "traceback": [
      "\u001b[0;31m---------------------------------------------------------------------------\u001b[0m",
      "\u001b[0;31mKeyError\u001b[0m                                  Traceback (most recent call last)",
      "\u001b[1;32m/Users/strelda/Library/Mobile Documents/com~apple~CloudDocs/Files/synced Documents/lecturing/python_23ZS/lecture 8/set_and_dictionary.ipynb Cell 18\u001b[0m line \u001b[0;36m1\n\u001b[0;32m----> <a href='vscode-notebook-cell:/Users/strelda/Library/Mobile%20Documents/com~apple~CloudDocs/Files/synced%20Documents/lecturing/python_23ZS/lecture%208/set_and_dictionary.ipynb#X22sZmlsZQ%3D%3D?line=0'>1</a>\u001b[0m countries[\u001b[39m\"\u001b[39;49m\u001b[39mUzbekistan\u001b[39;49m\u001b[39m\"\u001b[39;49m]\n",
      "\u001b[0;31mKeyError\u001b[0m: 'Uzbekistan'"
     ]
    }
   ],
   "source": [
    "countries[\"Uzbekistan\"]"
   ]
  },
  {
   "cell_type": "markdown",
   "metadata": {},
   "source": [
    "Or we can ask nicely and obtain None instead of an error:"
   ]
  },
  {
   "cell_type": "code",
   "execution_count": null,
   "metadata": {},
   "outputs": [
    {
     "name": "stdout",
     "output_type": "stream",
     "text": [
      "None\n",
      "did not find\n"
     ]
    }
   ],
   "source": [
    "a = countries.get(\"Uzbekistan\")\n",
    "b = countries.get(\"Uzbekistan\", \"did not find\")\n",
    "print(a)\n",
    "print(b)"
   ]
  },
  {
   "cell_type": "code",
   "execution_count": null,
   "metadata": {},
   "outputs": [
    {
     "data": {
      "text/plain": [
       "35"
      ]
     },
     "execution_count": 29,
     "metadata": {},
     "output_type": "execute_result"
    }
   ],
   "source": [
    "countries[\"Uzbekistan\"] = 35\n",
    "countries[\"Uzbekistan\"]"
   ]
  },
  {
   "cell_type": "code",
   "execution_count": null,
   "metadata": {},
   "outputs": [
    {
     "data": {
      "text/plain": [
       "dict_items([('Czechia', 11), ('Italy', 59), ('Turkey', 85), ('Poland', 38), ('Uzbekistan', 35)])"
      ]
     },
     "execution_count": 35,
     "metadata": {},
     "output_type": "execute_result"
    }
   ],
   "source": [
    "countries.items()"
   ]
  },
  {
   "cell_type": "markdown",
   "metadata": {},
   "source": [
    "#### Example: traffic light\n",
    "Let's try to implement `next_color` function using dictionaries. The construction using classes was really safe and good, but there are cases where this can get handy. Especially when comunicating between more programming languages.\n",
    "```python\n",
    "def next_color(col: str)->str:\n",
    "    \"\"\"Takes a light color and returns the next on in a row.\n",
    "    \"red\"->\"orange\"->\"green\"\n",
    "    \"\"\"\n",
    "    if col==\"red\":\n",
    "        return \"orange\"\n",
    "    elif col==\"orange\":\n",
    "        return \"green\"\n",
    "    else:\n",
    "        return \"red\"\n",
    "```\n",
    "1. What changes needs to be done in the following code to add another color to the traffic light?"
   ]
  },
  {
   "cell_type": "code",
   "execution_count": 15,
   "metadata": {},
   "outputs": [
    {
     "data": {
      "text/plain": [
       "TestResults(failed=0, attempted=6)"
      ]
     },
     "execution_count": 15,
     "metadata": {},
     "output_type": "execute_result"
    }
   ],
   "source": [
    "colors = {\n",
    "    \"red\": 1,\n",
    "    \"orange\": 2,\n",
    "    \"green\": 3\n",
    "    }\n",
    "\n",
    "def next_color(col: str)->str:\n",
    "    \"\"\"Takes a light color and returns the next on in a row.\n",
    "    \"red\"->\"orange\"->\"green\"\n",
    "\n",
    "    Examples:\n",
    "        >>> next_color(\"red\")\n",
    "        'orange'\n",
    "        >>> next_color(\"orange\")\n",
    "        'green'\n",
    "        >>> next_color(\"green\")\n",
    "        'red'\n",
    "    \"\"\"\n",
    "    if col not in colors:\n",
    "        raise ValueError(\"Invalid color\")\n",
    "    \n",
    "    next_value = (colors[col] % len(colors)) + 1\n",
    "    \n",
    "    return color_from_value(next_value)\n",
    "\n",
    "def color_from_value(val: int) -> str:\n",
    "    \"\"\"Returns color corresponding to the value in colors.\n",
    "    \n",
    "    Examples:\n",
    "        >>> color_from_value(1)\n",
    "        'red'\n",
    "        >>> color_from_value(2)\n",
    "        'orange'\n",
    "        >>> color_from_value(3)\n",
    "        'green'\n",
    "    \"\"\"\n",
    "    return [col for col, v in colors.items() if v == val][0]\n",
    "\n",
    "import doctest\n",
    "doctest.testmod()"
   ]
  },
  {
   "cell_type": "markdown",
   "metadata": {},
   "source": [
    "#### Iterating over dictionaries"
   ]
  },
  {
   "cell_type": "code",
   "execution_count": null,
   "metadata": {},
   "outputs": [
    {
     "data": {
      "text/plain": [
       "['Czechia', 'Italy', 'Turkey', 'Poland', 'Uzbekistan']"
      ]
     },
     "execution_count": 32,
     "metadata": {},
     "output_type": "execute_result"
    }
   ],
   "source": [
    "[k for k in countries.keys()]"
   ]
  },
  {
   "cell_type": "code",
   "execution_count": null,
   "metadata": {},
   "outputs": [
    {
     "data": {
      "text/plain": [
       "[11, 59, 85, 38, 35]"
      ]
     },
     "execution_count": 33,
     "metadata": {},
     "output_type": "execute_result"
    }
   ],
   "source": [
    "[v for v in countries.values()]"
   ]
  },
  {
   "cell_type": "code",
   "execution_count": null,
   "metadata": {},
   "outputs": [
    {
     "name": "stdout",
     "output_type": "stream",
     "text": [
      "Czechia has about 11 million people\n",
      "Italy has about 59 million people\n",
      "Turkey has about 85 million people\n",
      "Poland has about 38 million people\n",
      "Uzbekistan has about 35 million people\n",
      "[None, None, None, None, None]\n"
     ]
    }
   ],
   "source": [
    "a = [print(k,\"has about\", v, \"million people\") for k,v in countries.items()]\n",
    "print(a)"
   ]
  },
  {
   "cell_type": "markdown",
   "metadata": {},
   "source": [
    "#### Creating lists using comprehensions"
   ]
  },
  {
   "cell_type": "code",
   "execution_count": null,
   "metadata": {},
   "outputs": [
    {
     "data": {
      "text/plain": [
       "{0, 1, 2, 3, 4}"
      ]
     },
     "execution_count": 37,
     "metadata": {},
     "output_type": "execute_result"
    }
   ],
   "source": [
    "{k for k in range(5)}"
   ]
  },
  {
   "cell_type": "code",
   "execution_count": null,
   "metadata": {},
   "outputs": [
    {
     "data": {
      "text/plain": [
       "27"
      ]
     },
     "execution_count": 41,
     "metadata": {},
     "output_type": "execute_result"
    }
   ],
   "source": [
    "powers = {x: x**3 for x in range(5)}\n",
    "powers[3]"
   ]
  },
  {
   "cell_type": "code",
   "execution_count": null,
   "metadata": {},
   "outputs": [],
   "source": [
    "powers[3]"
   ]
  },
  {
   "cell_type": "markdown",
   "metadata": {},
   "source": [
    "#### Initializing dictionaries\n",
    "For computing the frequency of words in a text, we can use a dictionary to store the words and their counts `{word: count}`. If the word is not in the dictionary, we add it with a count of 1. If it is already in the dictionary, we increment its count.\n",
    "\n",
    "<div class=\"alert alert-block alert-info\">\n",
    "Adding new keys into the dictionary when needed can be achieved using a `defaultdict` from the `collections` module.\n",
    "</div>"
   ]
  },
  {
   "cell_type": "code",
   "execution_count": null,
   "metadata": {},
   "outputs": [
    {
     "name": "stdout",
     "output_type": "stream",
     "text": [
      "defaultdict(<class 'int'>, {})\n"
     ]
    },
    {
     "data": {
      "text/plain": [
       "0"
      ]
     },
     "execution_count": 45,
     "metadata": {},
     "output_type": "execute_result"
    }
   ],
   "source": [
    "from collections import defaultdict\n",
    "d = defaultdict(int) # which function should be called empty to obtain a default value? int()=0\n",
    "print(d)\n",
    "d[\"something\"] # returns 0, because we set the default type to int"
   ]
  },
  {
   "cell_type": "markdown",
   "metadata": {},
   "source": [
    "If we choose different type, another typical choice is list, we get"
   ]
  },
  {
   "cell_type": "code",
   "execution_count": null,
   "metadata": {},
   "outputs": [
    {
     "data": {
      "text/plain": [
       "[]"
      ]
     },
     "execution_count": 43,
     "metadata": {},
     "output_type": "execute_result"
    }
   ],
   "source": [
    "l = defaultdict(list)\n",
    "l[\"a\"]"
   ]
  },
  {
   "cell_type": "code",
   "execution_count": null,
   "metadata": {},
   "outputs": [
    {
     "name": "stdout",
     "output_type": "stream",
     "text": [
      "defaultdict(<class 'int'>, {'something': 0, 'a': 1, 'd': 2})\n",
      "['something', 'a', 'd']\n",
      "[('something', 0), ('a', 1), ('d', 2)]\n"
     ]
    }
   ],
   "source": [
    "d[\"a\"] += 1\n",
    "d[\"d\"] += 2\n",
    "print(d)\n",
    "print(list(d))\n",
    "print(list(d.items()))"
   ]
  },
  {
   "cell_type": "code",
   "execution_count": null,
   "metadata": {},
   "outputs": [
    {
     "data": {
      "text/plain": [
       "dict_items([('hello', 2), ('world', 2), ('worldy', 1)])"
      ]
     },
     "execution_count": 46,
     "metadata": {},
     "output_type": "execute_result"
    }
   ],
   "source": [
    "word_occurencies = defaultdict(int)\n",
    "for w in \"hello hello world worldy world\".split():\n",
    "    word_occurencies[w] += 1 # without default dict, this could be written as d[w] = d.get(w, 0) + 1\n",
    "word_occurencies.items()"
   ]
  },
  {
   "cell_type": "code",
   "execution_count": null,
   "metadata": {},
   "outputs": [
    {
     "data": {
      "text/plain": [
       "['hello', 'hello', 'world']"
      ]
     },
     "execution_count": 48,
     "metadata": {},
     "output_type": "execute_result"
    }
   ],
   "source": [
    "word_lengths = defaultdict(list)\n",
    "for word in \"hello hello my something world\".split():\n",
    "    word_lengths[len(word)].append(word)\n",
    "\n",
    "word_lengths.items()\n",
    "word_lengths[5]"
   ]
  },
  {
   "cell_type": "markdown",
   "metadata": {},
   "source": [
    "#### Complicated example of a dictionary"
   ]
  },
  {
   "cell_type": "code",
   "execution_count": null,
   "metadata": {},
   "outputs": [
    {
     "name": "stdout",
     "output_type": "stream",
     "text": [
      "john666@de.com\n",
      "Somewhere\n"
     ]
    }
   ],
   "source": [
    "contacts = [\n",
    "    {\n",
    "        \"name\": \"John\",\n",
    "        \"email\": [\"john123@seznam.cz\", \"john666@de.com\"],\n",
    "        \"adress\": {\n",
    "            \"street\": \"Karlovo namesti\",\n",
    "            \"number\": 1\n",
    "        }\n",
    "    },\n",
    "    {\n",
    "        \"name\": \"Dohn\",\n",
    "        \"email\": [\"do@h.n\"],\n",
    "        \"adress\": {\n",
    "            \"street\": \"Somewhere\",\n",
    "            \"number\": 11\n",
    "        }\n",
    "    }\n",
    "]\n",
    "print(contacts[0][\"email\"][1])\n",
    "print(contacts[1][\"adress\"][\"street\"])"
   ]
  },
  {
   "cell_type": "code",
   "execution_count": null,
   "metadata": {},
   "outputs": [
    {
     "name": "stdout",
     "output_type": "stream",
     "text": [
      "['do@h.n']\n"
     ]
    },
    {
     "data": {
      "text/plain": [
       "[['do@h.n']]"
      ]
     },
     "execution_count": 52,
     "metadata": {},
     "output_type": "execute_result"
    }
   ],
   "source": [
    "# find Jane in contacts and print her email, without knowing the index of Jane\n",
    "for contact in contacts:\n",
    "    if contact[\"name\"] == \"Dohn\":\n",
    "        print(contact[\"email\"])\n",
    "        break\n",
    "    \n",
    "# and using list comprehension\n",
    "[contact[\"email\"] for contact in contacts if contact[\"name\"] == \"Dohn\"]"
   ]
  },
  {
   "cell_type": "markdown",
   "metadata": {},
   "source": [
    "### Choose function based on a string\n",
    "When we know that new functionalities will be added, we can use a dictionary to store the functions and call them based on a string. Another usage is for creating games, where we can store the functions for moving the player etc. in a dictionary."
   ]
  },
  {
   "cell_type": "code",
   "execution_count": null,
   "metadata": {},
   "outputs": [
    {
     "name": "stdout",
     "output_type": "stream",
     "text": [
      "25\n",
      "125\n",
      "125\n",
      "25\n"
     ]
    }
   ],
   "source": [
    "def f2():\n",
    "    print(5**2)\n",
    "def f3():\n",
    "    print(5**3)\n",
    "\n",
    "function_choice = {\n",
    "    \"s\": f2,\n",
    "    \"t\": f3\n",
    "}\n",
    "\n",
    "def execute(order: str):\n",
    "    if order in function_choice:\n",
    "        function_choice[order]()\n",
    "    else:\n",
    "        print(\"I do not know this order!\")\n",
    "\n",
    "\n",
    "while True:\n",
    "    order = input(\"order: \")\n",
    "    if order == \"end\":\n",
    "        break\n",
    "    execute(order)"
   ]
  },
  {
   "cell_type": "markdown",
   "metadata": {},
   "source": [
    "---\n",
    "# Tuples\n",
    "\n",
    "### Motivation\n",
    "Tuples are used when we want to group elements together, but we do not want to change them. This can be useful when we want to ensure that the data is not changed by accident."
   ]
  },
  {
   "cell_type": "code",
   "execution_count": null,
   "metadata": {},
   "outputs": [
    {
     "ename": "TypeError",
     "evalue": "'tuple' object does not support item assignment",
     "output_type": "error",
     "traceback": [
      "\u001b[0;31m---------------------------------------------------------------------------\u001b[0m",
      "\u001b[0;31mTypeError\u001b[0m                                 Traceback (most recent call last)",
      "Cell \u001b[0;32mIn[2], line 2\u001b[0m\n\u001b[1;32m      1\u001b[0m immortal_coordinate \u001b[38;5;241m=\u001b[39m  (\u001b[38;5;241m4\u001b[39m,\u001b[38;5;241m5\u001b[39m,\u001b[38;5;241m1\u001b[39m)\n\u001b[0;32m----> 2\u001b[0m \u001b[43mimmortal_coordinate\u001b[49m\u001b[43m[\u001b[49m\u001b[38;5;241;43m1\u001b[39;49m\u001b[43m]\u001b[49m \u001b[38;5;241m=\u001b[39m \u001b[38;5;241m3\u001b[39m\n",
      "\u001b[0;31mTypeError\u001b[0m: 'tuple' object does not support item assignment"
     ]
    }
   ],
   "source": [
    "immortal_coordinate =  (4,5,1)\n",
    "immortal_coordinate[1] = 3"
   ]
  },
  {
   "cell_type": "code",
   "execution_count": null,
   "metadata": {},
   "outputs": [
    {
     "data": {
      "text/plain": [
       "'you are at the origin'"
      ]
     },
     "execution_count": 1,
     "metadata": {},
     "output_type": "execute_result"
    }
   ],
   "source": [
    "# in a snake game, we have obstacles and a list of messages that appear at each of them\n",
    "obstacles = {\n",
    "    (0,0): \"you are at the origin\",\n",
    "    (3,1): \"You like stones\",\n",
    "    (4,1): \"You like stones\"\n",
    "}\n",
    "obstacles[(0,0)]"
   ]
  },
  {
   "cell_type": "markdown",
   "metadata": {},
   "source": [
    "### Introduction\n",
    "<div class=\"alert alert-block alert-info\">\n",
    "    <ol>\n",
    "        <li>immutable</li>\n",
    "        <li>can be used as keys in dictionaries</li>\n",
    "    </ol>"
   ]
  },
  {
   "cell_type": "code",
   "execution_count": null,
   "metadata": {},
   "outputs": [],
   "source": [
    "t = (1,2,3) # equivalent to t = 1,2,3\n",
    "print(t)"
   ]
  },
  {
   "cell_type": "markdown",
   "metadata": {},
   "source": [
    "This can be used for saving more variables at once, switching them..."
   ]
  },
  {
   "cell_type": "code",
   "execution_count": null,
   "metadata": {},
   "outputs": [],
   "source": [
    "a,b = 1,2\n",
    "a,b = b,a # swap values\n",
    "print(a)\n",
    "print(b)"
   ]
  },
  {
   "cell_type": "code",
   "execution_count": null,
   "metadata": {},
   "outputs": [],
   "source": [
    "print(t)\n",
    "a,b,c = t # unpacking tuple t to a,b,c\n",
    "print(a)"
   ]
  },
  {
   "cell_type": "markdown",
   "metadata": {},
   "source": [
    "Also can be used inside functions for returning more than one value:"
   ]
  },
  {
   "cell_type": "code",
   "execution_count": null,
   "metadata": {},
   "outputs": [],
   "source": [
    "def complex(real: float, imag: float) -> (int,int):\n",
    "    return real, imag\n",
    "\n",
    "print(complex(1,2))"
   ]
  },
  {
   "cell_type": "markdown",
   "metadata": {},
   "source": [
    "Conversions between lists and tuples are done using `list()` and `tuple()`:"
   ]
  },
  {
   "cell_type": "code",
   "execution_count": null,
   "metadata": {},
   "outputs": [],
   "source": [
    "print(t)\n",
    "print(list(t))\n",
    "print(tuple(list(t)))"
   ]
  },
  {
   "cell_type": "markdown",
   "metadata": {},
   "source": [
    "### Unpacking \n",
    "We can even put more variables into one cell using `*args`. Here we can pass as many arguments as we want to the function. They are acceptes as tuple."
   ]
  },
  {
   "cell_type": "code",
   "execution_count": 22,
   "metadata": {},
   "outputs": [
    {
     "name": "stdout",
     "output_type": "stream",
     "text": [
      "1\n"
     ]
    }
   ],
   "source": [
    "def f_args(*a):\n",
    "    return a[0]\n",
    "print(f_args(1,2,3))"
   ]
  },
  {
   "cell_type": "markdown",
   "metadata": {},
   "source": [
    "Using double star as `**kwargs`, we pass the arguments as a dictionary."
   ]
  },
  {
   "cell_type": "code",
   "execution_count": 30,
   "metadata": {},
   "outputs": [
    {
     "name": "stdout",
     "output_type": "stream",
     "text": [
      "{'a': 1, 'b': 2, 'c': 3}\n",
      "{'a': 1, 'b': 2, 'c': 3}\n"
     ]
    }
   ],
   "source": [
    "def f_kwargs(**kwargs):\n",
    "    return kwargs\n",
    "print(f_kwargs(a=1,b=2,c=3))\n",
    "print(f_kwargs(**{'a':1,'b':2,'c':3}))"
   ]
  },
  {
   "cell_type": "markdown",
   "metadata": {},
   "source": [
    "Unpacking can be used even for lists, as shown below. This can be handy for example for going through a list using recursion."
   ]
  },
  {
   "cell_type": "code",
   "execution_count": null,
   "metadata": {},
   "outputs": [
    {
     "name": "stdout",
     "output_type": "stream",
     "text": [
      "1\n",
      "[2, 3, 4, 5]\n"
     ]
    }
   ],
   "source": [
    "lst = [1, 2, 3, 4, 5]\n",
    "first, *rest = lst\n",
    "print(first)\n",
    "print(rest)"
   ]
  },
  {
   "cell_type": "markdown",
   "metadata": {},
   "source": [
    "#### Example:\n",
    "Imagine you're building a simple pricing calculator for a product. The base price is fixed, but you might add some extras. Adding only one is for free, but adding both costs extra."
   ]
  },
  {
   "cell_type": "code",
   "execution_count": 42,
   "metadata": {},
   "outputs": [
    {
     "name": "stdout",
     "output_type": "stream",
     "text": [
      "600\n",
      "500\n",
      "500\n"
     ]
    }
   ],
   "source": [
    "def calculate_price(base_price, **options):\n",
    "    try:\n",
    "        return base_price + max(options[\"extra_storage\"],options[\"extended_warranty\"])\n",
    "    except KeyError:\n",
    "        return base_price\n",
    "\n",
    "# base model\n",
    "total_cost3 = calculate_price(500)\n",
    "print(total_cost3)\n",
    "\n",
    "# customer gets charged only for extra_storage\n",
    "total_cost1 = calculate_price(500, extra_storage=100, extended_warranty=50)\n",
    "print(total_cost1)\n",
    "\n",
    "# one extra is for free\n",
    "total_cost2 = calculate_price(500, extra_storage=100)\n",
    "print(total_cost2)\n",
    "\n"
   ]
  }
 ],
 "metadata": {
  "kernelspec": {
   "display_name": "Python 3",
   "language": "python",
   "name": "python3"
  },
  "language_info": {
   "codemirror_mode": {
    "name": "ipython",
    "version": 3
   },
   "file_extension": ".py",
   "mimetype": "text/x-python",
   "name": "python",
   "nbconvert_exporter": "python",
   "pygments_lexer": "ipython3",
   "version": "3.11.9"
  }
 },
 "nbformat": 4,
 "nbformat_minor": 2
}
