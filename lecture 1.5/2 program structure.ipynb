{
 "cells": [
  {
   "cell_type": "markdown",
   "metadata": {},
   "source": [
    "# How to code\n",
    "\n",
    "If your program consists of many function definitions, their order doesn’t matter either, though it is good to introduce all constant definitions first, followed by the definitions of functions in decreasing order of importance."
   ]
  },
  {
   "cell_type": "markdown",
   "metadata": {},
   "source": [
    "### Necessary practices\n",
    "Before writing the code, you should answer the following questions:\n",
    "- What is the input?\n",
    "- What is the output?\n",
    "- What is the best algorithm for the problem?\n",
    "\n",
    "\n",
    "### Good practices\n",
    "- use comments\n",
    "- use meaningful variable names\n",
    "- use indentation\n",
    "- use blank lines\n",
    "- use name conventions (snake_case, long_variable_names, english is better...)\n",
    "\n",
    "Sometimes we need to reorganize the program to prepare it for future changes. This is called **refactoring**.\n",
    "\n",
    "<div class=\"alert alert-block alert-warning\">\n",
    "    Small change in the task should lead to small change in the program.\n",
    "</div>"
   ]
  },
  {
   "cell_type": "markdown",
   "metadata": {},
   "source": [
    "---\n",
    "For example lets extend the traffic light program with another function checking if the color is valid. Don't forget the function design recipe. See 'traffic_light.py' if you are stuck."
   ]
  }
 ],
 "metadata": {
  "kernelspec": {
   "display_name": "base",
   "language": "python",
   "name": "python3"
  },
  "language_info": {
   "codemirror_mode": {
    "name": "ipython",
    "version": 3
   },
   "file_extension": ".py",
   "mimetype": "text/x-python",
   "name": "python",
   "nbconvert_exporter": "python",
   "pygments_lexer": "ipython3",
   "version": "3.11.4"
  }
 },
 "nbformat": 4,
 "nbformat_minor": 2
}
