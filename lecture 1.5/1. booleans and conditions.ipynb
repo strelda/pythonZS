{
 "cells": [
  {
   "cell_type": "markdown",
   "metadata": {},
   "source": [
    "# If statement\n",
    "\n",
    "Some languages use brackets, python uses indentation to define the scope of the code. Either 4 spaces or a tab can be used.\n",
    "\n",
    "```python\n",
    "if condition:\n",
    "    ...\n",
    "```"
   ]
  },
  {
   "cell_type": "code",
   "execution_count": 3,
   "metadata": {},
   "outputs": [
    {
     "name": "stdout",
     "output_type": "stream",
     "text": [
      "a is greater than 1\n"
     ]
    }
   ],
   "source": [
    "a = 11\n",
    "\n",
    "if a>4:\n",
    "    print(\"a is greater than 1\")"
   ]
  },
  {
   "cell_type": "markdown",
   "metadata": {},
   "source": [
    "or more complicated version:\n",
    "```python\n",
    "if condition:\n",
    "    ...\n",
    "elif condition:\n",
    "    ...\n",
    "elif condition:\n",
    "    ...\n",
    "else:\n",
    "    ...\n",
    "```"
   ]
  },
  {
   "cell_type": "code",
   "execution_count": 5,
   "metadata": {},
   "outputs": [
    {
     "name": "stdout",
     "output_type": "stream",
     "text": [
      "a is smaller than 1\n"
     ]
    }
   ],
   "source": [
    "a = 2\n",
    "\n",
    "if a>4:\n",
    "    print(\"a is greater than 1\")\n",
    "else:\n",
    "    print(\"a is smaller than 1\")"
   ]
  },
  {
   "cell_type": "markdown",
   "metadata": {},
   "source": [
    "Condition is tested using `bool()` function, which converts anything to `True` or `False`. Most expressions are `True`, except:\n",
    "- `False`\n",
    "- `None`\n",
    "- `0`\n",
    "- empty string, list, tuple, dictionary, set"
   ]
  },
  {
   "cell_type": "code",
   "execution_count": 4,
   "metadata": {},
   "outputs": [
    {
     "name": "stdout",
     "output_type": "stream",
     "text": [
      "False\n",
      "False\n",
      "False\n",
      "False\n",
      "True\n",
      "True\n",
      "True\n"
     ]
    }
   ],
   "source": [
    "print(bool(0))\n",
    "print(bool(None))\n",
    "print(bool(\"\"))\n",
    "print(bool([]))\n",
    "print(bool(1))\n",
    "print(bool(2))\n",
    "print(bool(\"krtek\"))"
   ]
  },
  {
   "cell_type": "code",
   "execution_count": null,
   "metadata": {},
   "outputs": [],
   "source": [
    "if 5:\n",
    "    print('This is printed')\n",
    "else:\n",
    "    print('This is not printed')"
   ]
  },
  {
   "cell_type": "markdown",
   "metadata": {},
   "source": [
    "## While loop\n",
    "\n",
    "```python\n",
    "while condition:\n",
    "    # do something\n",
    "    # update the condition and make sure it returns false at some point\n",
    "```"
   ]
  },
  {
   "cell_type": "code",
   "execution_count": 5,
   "metadata": {},
   "outputs": [
    {
     "name": "stdout",
     "output_type": "stream",
     "text": [
      "0\n",
      "1\n",
      "2\n",
      "3\n"
     ]
    }
   ],
   "source": [
    "a = 0\n",
    "while a<4:\n",
    "    print(a)\n",
    "    a += 1"
   ]
  },
  {
   "cell_type": "markdown",
   "metadata": {},
   "source": [
    "Or we can manually break out of the cycle using `break` statement\n",
    "\n",
    "```python\n",
    "while condition:\n",
    "    ...\n",
    "    if condition:\n",
    "        break\n",
    "    ...\n",
    "```\n",
    "*Note that this is sometimes considered to be dangerous and should be avoided if possible.*"
   ]
  },
  {
   "cell_type": "code",
   "execution_count": 6,
   "metadata": {},
   "outputs": [
    {
     "name": "stdout",
     "output_type": "stream",
     "text": [
      "0\n",
      "1\n",
      "2\n",
      "3\n"
     ]
    }
   ],
   "source": [
    "a = 0\n",
    "while True:\n",
    "    if a >= 4:\n",
    "        break\n",
    "    print(a)\n",
    "    a += 1"
   ]
  },
  {
   "cell_type": "markdown",
   "metadata": {},
   "source": [
    "### Entering numbers\n",
    "Enter numbers and return their sum. End the loop by entering a negative number."
   ]
  },
  {
   "cell_type": "code",
   "execution_count": null,
   "metadata": {},
   "outputs": [],
   "source": [
    "# user input\n",
    "input_number = int(input(\"Enter a number: \"))\n",
    "\n",
    "# calculate the sum of digits\n",
    "sum = 0\n",
    "while input_number>0:\n",
    "    sum += input_number%10\n",
    "    input_number = input_number//10\n",
    "\n",
    "# print the result\n",
    "print(sum)"
   ]
  },
  {
   "cell_type": "markdown",
   "metadata": {},
   "source": [
    "---\n",
    "## Example: Traffic light\n",
    "Design a `next_light` function which accepts the current light and returns the next light. The order is $red \\rightarrow orange \\rightarrow green \\rightarrow red$. Follow the design recipe. "
   ]
  },
  {
   "cell_type": "markdown",
   "metadata": {},
   "source": [
    "ad 1)"
   ]
  },
  {
   "cell_type": "code",
   "execution_count": 6,
   "metadata": {},
   "outputs": [],
   "source": [
    "a = \"red\"\n",
    "b = \"orange\"\n",
    "c = \"green\""
   ]
  },
  {
   "cell_type": "markdown",
   "metadata": {},
   "source": [
    "ad 2)"
   ]
  },
  {
   "cell_type": "code",
   "execution_count": 7,
   "metadata": {},
   "outputs": [],
   "source": [
    "def next_color(col: str)->str:\n",
    "    \"\"\"Takes a light color and returns the next on in a row.\n",
    "    \"red\"->\"orange\"->\"green\"\n",
    "    \"\"\""
   ]
  },
  {
   "cell_type": "markdown",
   "metadata": {},
   "source": [
    "ad 3)"
   ]
  },
  {
   "cell_type": "code",
   "execution_count": null,
   "metadata": {},
   "outputs": [],
   "source": [
    "next_color(\"red\") == \"orange\"\n",
    "next_color(\"orange\") == \"green\"\n",
    "next_color(\"green\") == \"red\""
   ]
  },
  {
   "cell_type": "markdown",
   "metadata": {},
   "source": [
    "ad 4)"
   ]
  },
  {
   "cell_type": "code",
   "execution_count": 14,
   "metadata": {},
   "outputs": [],
   "source": [
    "def next_color(col: str)->str:\n",
    "    \"\"\"Takes a light color and returns the next on in a row.\n",
    "    \"red\"->\"orange\"->\"green\"\n",
    "    \"\"\"\n",
    "    if col==\"red\":\n",
    "        return ...\n",
    "    elif col==\"orange\":\n",
    "        return ...\n",
    "    else:\n",
    "        return ..."
   ]
  },
  {
   "cell_type": "markdown",
   "metadata": {},
   "source": [
    "ad 5)"
   ]
  },
  {
   "cell_type": "code",
   "execution_count": 12,
   "metadata": {},
   "outputs": [],
   "source": [
    "def next_color(col: str)->str:\n",
    "    \"\"\"Takes a light color and returns the next on in a row.\n",
    "    \"red\"->\"orange\"->\"green\"\n",
    "    \"\"\"\n",
    "    if col==\"red\":\n",
    "        return \"orange\"\n",
    "    elif col==\"orange\":\n",
    "        return \"green\"\n",
    "    else:\n",
    "        return \"red\""
   ]
  },
  {
   "cell_type": "markdown",
   "metadata": {},
   "source": [
    "ad 6)"
   ]
  },
  {
   "cell_type": "code",
   "execution_count": 13,
   "metadata": {},
   "outputs": [
    {
     "name": "stdout",
     "output_type": "stream",
     "text": [
      "True\n",
      "True\n",
      "True\n"
     ]
    }
   ],
   "source": [
    "print(next_color(\"red\") == \"orange\")\n",
    "print(next_color(\"orange\") == \"green\")\n",
    "print(next_color(\"green\") == \"red\")"
   ]
  },
  {
   "cell_type": "markdown",
   "metadata": {},
   "source": [
    "<div class=\"alert alert-block alert-warning\">\n",
    "<ol>\n",
    "    <li>Use while loop to print only even numbers up to 20.</li>\n",
    "</ol>\n",
    "</div>"
   ]
  }
 ],
 "metadata": {
  "kernelspec": {
   "display_name": "Python 3",
   "language": "python",
   "name": "python3"
  },
  "language_info": {
   "codemirror_mode": {
    "name": "ipython",
    "version": 3
   },
   "file_extension": ".py",
   "mimetype": "text/x-python",
   "name": "python",
   "nbconvert_exporter": "python",
   "pygments_lexer": "ipython3",
   "version": "3.11.4"
  },
  "orig_nbformat": 4
 },
 "nbformat": 4,
 "nbformat_minor": 2
}
