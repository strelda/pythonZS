{
 "cells": [
  {
   "cell_type": "markdown",
   "metadata": {},
   "source": [
    "# How to code\n",
    "\n",
    "If your program consists of many function definitions, their order doesn’t matter either, though it is good to introduce all constant definitions first, followed by the definitions of functions in decreasing order of importance."
   ]
  },
  {
   "cell_type": "markdown",
   "metadata": {},
   "source": [
    "### Necessary practices\n",
    "Before writing the code, you should answer the following questions:\n",
    "- What is the input?\n",
    "- What is the output?\n",
    "- What is the best algorithm for the problem?\n",
    "\n",
    "\n",
    "### Good practices\n",
    "- use comments\n",
    "- use meaningful variable names\n",
    "- use indentation\n",
    "- use blank lines\n",
    "- use name conventions (snake_case, long_variable_names, english is better...)\n",
    "\n",
    "<div class=\"alert alert-block alert-info\">\n",
    "Sometimes we need to reorganize the program to prepare it for future changes. This is called <b>refactoring</b>.\n",
    "</div>\n",
    "\n",
    "<div class=\"alert alert-block alert-warning\">\n",
    "    <b>Small change</b> in the task should lead to small change in the program.\n",
    "</div>"
   ]
  },
  {
   "cell_type": "markdown",
   "metadata": {},
   "source": [
    "<table style=\"width: 100%; height: 100%; border-collapse: collapse; border: none; table-layout: fixed;\">\n",
    "  <tr style=\"height: 100%; border: none;\">\n",
    "    <td style=\"vertical-align: top; border: none; padding: 0; margin: 0; width: 200px;\">\n",
    "      <img src=\"../grug.jpeg\" alt=\"Grug\" style=\"width: 100%; height: auto; display: block;\">\n",
    "    </td>\n",
    "    <td style=\"vertical-align: top; border: none; padding: 0; margin: 0;\">\n",
    "      <blockquote style=\"height: 100%; display: flex; flex-direction: column; justify-content: center; margin: 0;\">\n",
    "        <p>\"Complexity very, very bad.\"</p>\n",
    "        <p>\"The apex predator of grug is complexity.\"</p>\n",
    "        <p>\"Complexity is a spirit demon that enters codebase through well-meaning but ultimately very clubbable non grug-brain developers and project managers.\"</p>\n",
    "      </blockquote>\n",
    "    </td>\n",
    "  </tr>\n",
    "</table>\n",
    "<a href=\"https://grugbrain.dev/\" style=\"position: absolute; bottom: 10px; right: 10px;\">GrugBrain.dev</a>"
   ]
  },
  {
   "cell_type": "markdown",
   "metadata": {},
   "source": [
    "---\n",
    "For example lets extend the traffic light program with another function checking if the color is valid. Don't forget the function design recipe. See 'traffic_light.py' if you are stuck."
   ]
  }
 ],
 "metadata": {
  "kernelspec": {
   "display_name": "base",
   "language": "python",
   "name": "python3"
  },
  "language_info": {
   "codemirror_mode": {
    "name": "ipython",
    "version": 3
   },
   "file_extension": ".py",
   "mimetype": "text/x-python",
   "name": "python",
   "nbconvert_exporter": "python",
   "pygments_lexer": "ipython3",
   "version": "3.11.4"
  }
 },
 "nbformat": 4,
 "nbformat_minor": 2
}
