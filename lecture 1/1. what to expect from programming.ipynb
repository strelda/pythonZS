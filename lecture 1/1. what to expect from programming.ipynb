{
 "cells": [
  {
   "cell_type": "markdown",
   "metadata": {},
   "source": [
    "# What is a Program\n",
    "When designing a program, you should see some structure like the one below before you start writing the code.\n",
    "\n",
    "<svg width=\"600\" height=\"200\" xmlns=\"http://www.w3.org/2000/svg\">\n",
    "  <!-- Input Box -->\n",
    "  <rect x=\"10\" y=\"5\" width=\"150\" height=\"180\" rx=\"20\" ry=\"20\" fill=\"none\" stroke=\"white\" stroke-width=\"2\"/>\n",
    "  <text x=\"80\" y=\"30\" font-family=\"Arial\" font-size=\"16\" fill=\"white\" font-weight=\"bold\">In</text>\n",
    "  <text x=\"20\" y=\"60\" font-family=\"Arial\" font-size=\"14\" fill=\"white\">text</text>\n",
    "  <text x=\"20\" y=\"80\" font-family=\"Arial\" font-size=\"14\" fill=\"white\">images</text>\n",
    "  <text x=\"20\" y=\"100\" font-family=\"Arial\" font-size=\"14\" fill=\"white\">keyboard</text>\n",
    "  <text x=\"20\" y=\"120\" font-family=\"Arial\" font-size=\"14\" fill=\"white\">mouse</text>\n",
    "  <text x=\"20\" y=\"140\" font-family=\"Arial\" font-size=\"14\" fill=\"white\">other program output</text>\n",
    "  <text x=\"20\" y=\"160\" font-family=\"Arial\" font-size=\"14\" fill=\"white\">...</text>\n",
    "  <!-- Arrow -->\n",
    "  <line x1=\"160\" y1=\"100\" x2=\"210\" y2=\"100\" stroke=\"white\" stroke-width=\"2\" marker-end=\"url(#arrowhead)\"/>\n",
    "  <!-- Program Box -->\n",
    "  <rect x=\"230\" y=\"5\" width=\"150\" height=\"180\" rx=\"20\" ry=\"20\" fill=\"none\" stroke=\"white\" stroke-width=\"2\"/>\n",
    "  <text x=\"280\" y=\"30\" font-family=\"Arial\" font-size=\"16\" fill=\"white\" font-weight=\"bold\">Program</text>\n",
    "  <text x=\"250\" y=\"60\" font-family=\"Arial\" font-size=\"14\" fill=\"white\">libraries</text>\n",
    "  <text x=\"250\" y=\"80\" font-family=\"Arial\" font-size=\"14\" fill=\"white\">definitions</text>\n",
    "  <text x=\"250\" y=\"100\" font-family=\"Arial\" font-size=\"14\" fill=\"white\">functions</text>\n",
    "  <text x=\"250\" y=\"120\" font-family=\"Arial\" font-size=\"14\" fill=\"white\">main part</text>\n",
    "  <!-- footnote -->\n",
    "  <text x=\"250\" y=\"150\" font-family=\"Arial\" font-size=\"14\" fill=\"grey\">multiple files</text>\n",
    "  <text x=\"250\" y=\"170\" font-family=\"Arial\" font-size=\"14\" fill=\"gray\">multiple languages</text>\n",
    "  <!-- Arrow -->\n",
    "  <line x1=\"380\" y1=\"100\" x2=\"430\" y2=\"100\" stroke=\"white\" stroke-width=\"2\" marker-end=\"url(#arrowhead)\"/>\n",
    "  <!-- Output Box -->\n",
    "  <rect x=\"450\" y=\"5\" width=\"140\" height=\"180\" rx=\"20\" ry=\"20\" fill=\"none\" stroke=\"white\" stroke-width=\"2\"/>\n",
    "  <text x=\"505\" y=\"30\" font-family=\"Arial\" font-size=\"16\" fill=\"white\" font-weight=\"bold\">Out</text>\n",
    "  <text x=\"460\" y=\"60\" font-family=\"Arial\" font-size=\"14\" fill=\"white\">text</text>\n",
    "  <text x=\"460\" y=\"80\" font-family=\"Arial\" font-size=\"14\" fill=\"white\">images</text>\n",
    "  <text x=\"460\" y=\"100\" font-family=\"Arial\" font-size=\"14\" fill=\"white\">other program input</text>\n",
    "  <text x=\"460\" y=\"120\" font-family=\"Arial\" font-size=\"14\" fill=\"white\">...</text>\n",
    "  <!-- Arrowhead definition -->\n",
    "  <defs>\n",
    "    <marker id=\"arrowhead\" markerWidth=\"10\" markerHeight=\"7\" refX=\"0\" refY=\"3.5\" orient=\"auto\">\n",
    "      <polygon points=\"0 0, 10 3.5, 0 7\" fill=\"white\"/>\n",
    "    </marker>\n",
    "  </defs>\n",
    "</svg>\n",
    "\n",
    "Because every programming languages has its advantages and disadvantages for specific tasks, we need to <div class=\"alert alert-block alert-info\">learn how to design programs, not how to \"use some programming language\".</div>\n",
    "\n",
    "# Why python?\n",
    "\n",
    "- python is interpreted (executed line by line at runtime)\n",
    "    - easy to learn and use\n",
    "    - very slow\n",
    "- python is dynamically typed\n",
    "    - easy to learn and use\n",
    "    - very dangerous\n",
    "- python is both object oriented and functional language\n",
    "- python is a scripting language"
   ]
  },
  {
   "cell_type": "markdown",
   "metadata": {},
   "source": [
    "How to design programs book"
   ]
  }
 ],
 "metadata": {
  "language_info": {
   "name": "python"
  }
 },
 "nbformat": 4,
 "nbformat_minor": 2
}
