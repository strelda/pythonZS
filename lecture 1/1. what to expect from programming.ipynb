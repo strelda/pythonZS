{
 "cells": [
  {
   "cell_type": "markdown",
   "metadata": {},
   "source": [
    "# What is a Program\n",
    "When designing a program, you should see some structure like the one below before you start writing the code.\n",
    "\n",
    "<div style=\"text-align: center; max-width: 100%; height: auto;\">\n",
    "<svg width=\"60%\" height=\"100%\" viewBox=\"0 0 600 200\" xmlns=\"http://www.w3.org/2000/svg\" preserveAspectRatio=\"xMidYMid meet\">\n",
    "  <!-- Input Box -->\n",
    "  <rect x=\"10\" y=\"5\" width=\"150\" height=\"180\" rx=\"20\" ry=\"20\" fill=\"none\" stroke=\"gray\" stroke-width=\"2\"/>\n",
    "  <text x=\"80\" y=\"30\" font-family=\"Arial\" font-size=\"16\" fill=\"gray\" font-weight=\"bold\">In</text>\n",
    "  <text x=\"20\" y=\"60\" font-family=\"Arial\" font-size=\"14\" fill=\"gray\">text</text>\n",
    "  <text x=\"20\" y=\"80\" font-family=\"Arial\" font-size=\"14\" fill=\"gray\">images</text>\n",
    "  <text x=\"20\" y=\"100\" font-family=\"Arial\" font-size=\"14\" fill=\"gray\">keyboard</text>\n",
    "  <text x=\"20\" y=\"120\" font-family=\"Arial\" font-size=\"14\" fill=\"gray\">mouse</text>\n",
    "  <text x=\"20\" y=\"140\" font-family=\"Arial\" font-size=\"14\" fill=\"gray\">other program output</text>\n",
    "  <text x=\"20\" y=\"160\" font-family=\"Arial\" font-size=\"14\" fill=\"gray\">...</text>\n",
    "  <!-- Arrow -->\n",
    "  <line x1=\"160\" y1=\"100\" x2=\"210\" y2=\"100\" stroke=\"gray\" stroke-width=\"2\" marker-end=\"url(#arrowhead)\"/>\n",
    "  <!-- Program Box -->\n",
    "  <rect x=\"230\" y=\"5\" width=\"150\" height=\"180\" rx=\"20\" ry=\"20\" fill=\"none\" stroke=\"gray\" stroke-width=\"2\"/>\n",
    "  <text x=\"280\" y=\"30\" font-family=\"Arial\" font-size=\"16\" fill=\"gray\" font-weight=\"bold\">Program</text>\n",
    "  <text x=\"250\" y=\"60\" font-family=\"Arial\" font-size=\"14\" fill=\"gray\">libraries</text>\n",
    "  <text x=\"250\" y=\"80\" font-family=\"Arial\" font-size=\"14\" fill=\"gray\">definitions</text>\n",
    "  <text x=\"250\" y=\"100\" font-family=\"Arial\" font-size=\"14\" fill=\"gray\">functions</text>\n",
    "  <text x=\"250\" y=\"120\" font-family=\"Arial\" font-size=\"14\" fill=\"gray\">main part</text>\n",
    "  <!-- footnote -->\n",
    "  <text x=\"250\" y=\"150\" font-family=\"Arial\" font-size=\"14\" fill=#666666>multiple files</text>\n",
    "  <text x=\"250\" y=\"170\" font-family=\"Arial\" font-size=\"14\" fill=\"#666666\">multiple languages</text>\n",
    "  <!-- Arrow -->\n",
    "  <line x1=\"380\" y1=\"100\" x2=\"430\" y2=\"100\" stroke=\"gray\" stroke-width=\"2\" marker-end=\"url(#arrowhead)\"/>\n",
    "  <!-- Output Box -->\n",
    "  <rect x=\"450\" y=\"5\" width=\"140\" height=\"180\" rx=\"20\" ry=\"20\" fill=\"none\" stroke=\"gray\" stroke-width=\"2\"/>\n",
    "  <text x=\"505\" y=\"30\" font-family=\"Arial\" font-size=\"16\" fill=\"gray\" font-weight=\"bold\">Out</text>\n",
    "  <text x=\"460\" y=\"60\" font-family=\"Arial\" font-size=\"14\" fill=\"gray\">text</text>\n",
    "  <text x=\"460\" y=\"80\" font-family=\"Arial\" font-size=\"14\" fill=\"gray\">images</text>\n",
    "  <text x=\"460\" y=\"100\" font-family=\"Arial\" font-size=\"14\" fill=\"gray\">other program input</text>\n",
    "  <text x=\"460\" y=\"120\" font-family=\"Arial\" font-size=\"14\" fill=\"gray\">...</text>\n",
    "  <!-- Arrowhead definition -->\n",
    "  <defs>\n",
    "    <marker id=\"arrowhead\" markerWidth=\"10\" markerHeight=\"7\" refX=\"0\" refY=\"3.5\" orient=\"auto\">\n",
    "      <polygon points=\"0 0, 10 3.5, 0 7\" fill=\"gray\"/>\n",
    "    </marker>\n",
    "  </defs>\n",
    "</svg>\n",
    "</div>\n",
    "Because every programming languages has its advantages and disadvantages for specific tasks, we need to <div class=\"alert alert-block alert-info\">learn how to design programs, not how to \"use some programming language\".</div>\n",
    "\n",
    "---\n",
    "# Why python?\n",
    "\n",
    "- python is interpreted (executed line by line at runtime)\n",
    "    - easy to learn and use\n",
    "    - very slow\n",
    "- python is dynamically typed\n",
    "    - easy to learn and use\n",
    "    - very dangerous\n",
    "- python is both object oriented and functional language\n",
    "- python is a scripting language"
   ]
  },
  {
   "cell_type": "markdown",
   "metadata": {},
   "source": [
    "---\n",
    "# HTDP\n",
    "This course is strongly inspired by the book [How to design programs](https://htdp.org/). This is the best resource I will provide for learning the programming. It is thought in Racket, which is better suited for teaching programming than python. But the principles are the same in every language. I encourage you to read it in parallel with these lectures.\n",
    "\n",
    "Here is an article about why this approach is superior:\n",
    "\n",
    "*Bieniusa, A., Degen, M., Heidegger, P., Thiemann, P., Wehr, S., Gasbichler, M., Sperber, M., Crestani, M., Klaeren, H. and Knauel, E.,* [Htdp and dmda in the battlefield: a case study in first-year programming instruction](https://dl.acm.org/doi/10.1145/1411260.1411262#), *In Proceedings of the 2008 international workshop on Functional and declarative programming in education (pp. 1-12), (2008).*"
   ]
  },
  {
   "cell_type": "markdown",
   "metadata": {},
   "source": [
    "<table style=\"width: 100%; height: 100%; border-collapse: collapse; border: none; table-layout: fixed; position: relative;\">\n",
    "  <tr style=\"height: 100%; border: none;\">\n",
    "    <td style=\"vertical-align: top; border: none; padding: 0; margin: 0; width: 200px;\">\n",
    "      <img src=\"../grug.jpeg\" alt=\"Grug\" style=\"width: 100%; height: auto; display: block;\">\n",
    "    </td>\n",
    "    <td style=\"vertical-align: top; border: none; padding: 0; margin: 0;\">\n",
    "      <blockquote style=\"height: 100%; display: flex; flex-direction: column; justify-content: center; margin: 0;\">\n",
    "        <p>\"No FOLD!\" (Fear of Looking Dumb)</p>\n",
    "        <p>\"Nobody imposter if everybody imposter.\"</p>\n",
    "      </blockquote>\n",
    "    </td>\n",
    "  </tr>\n",
    "</table>\n",
    "<a href=\"https://grugbrain.dev/\" style=\"position: absolute; bottom: 10px; right: 10px;\">GrugBrain.dev</a>"
   ]
  }
 ],
 "metadata": {
  "language_info": {
   "name": "python"
  }
 },
 "nbformat": 4,
 "nbformat_minor": 2
}
