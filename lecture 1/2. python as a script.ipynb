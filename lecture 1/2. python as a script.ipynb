{
 "cells": [
  {
   "cell_type": "markdown",
   "metadata": {},
   "source": [
    "# Python as a script\n",
    "\n",
    "Until now, we only used interactive python environtment. Now, we will use a python script. Create a file named `program.py` and write the following code in it:\n",
    "\n",
    "```python\n",
    "print(\"I like hedgehogs!\")\n",
    "```\n",
    "\n",
    "Now, run the following command in the terminal:\n",
    "\n",
    "```bash\n",
    "python program.py\n",
    "```\n",
    "or sometimes you need to call for python3 specifically. You should see the following output:\n",
    "\n",
    "```\n",
    "I love hedgehogs!\n",
    "```"
   ]
  },
  {
   "cell_type": "markdown",
   "metadata": {},
   "source": [
    "## Input\n",
    "Bot now, we need the program to accept some input. We will use `input()` function for that. Modify the `program.py` file as follows:\n",
    "```python\n",
    "name = input(\"What is your favorite animal? \")\n",
    "print(name + \", ...hmmmm, fascinating!\")\n",
    "```\n",
    "\n",
    "## Inputing numbers\n",
    "Function input returns a string. To perform some arithmetic on it, we need to convert it to a number. \n",
    "\n",
    "Generally we can use\n",
    "- `int()` function to convert to integer\n",
    "- `float()` function to convert to float\n",
    "- `complex()` function to convert to complex number\n",
    "- `str()` function to convert to string\n",
    "\n",
    "The procedure can be drawn as\n",
    "<div style=\"text-align: center; max-width: 100%; height: auto;\">\n",
    "<svg width=\"60%\" height=\"100%\" viewBox=\"0 0 600 80\" xmlns=\"http://www.w3.org/2000/svg\" preserveAspectRatio=\"xMidYMid meet\">\n",
    "  <!-- Input Box -->\n",
    "  <rect x=\"10\" y=\"5\" width=\"150\" height=\"70\" rx=\"20\" ry=\"20\" fill=\"none\" stroke=\"gray\" stroke-width=\"2\"/>\n",
    "  <text x=\"80\" y=\"30\" font-family=\"Arial\" font-size=\"16\" fill=\"gray\" font-weight=\"bold\">In</text>\n",
    "  <text x=\"77\" y=\"60\" font-family=\"Arial\" font-size=\"14\" fill=\"gray\">text</text>\n",
    "  <!-- Arrow -->\n",
    "  <line x1=\"160\" y1=\"35\" x2=\"210\" y2=\"35\" stroke=\"gray\" stroke-width=\"2\" marker-end=\"url(#arrowhead)\"/>\n",
    "  <!-- Program Box -->\n",
    "  <rect x=\"230\" y=\"5\" width=\"150\" height=\"70\" rx=\"20\" ry=\"20\" fill=\"none\" stroke=\"gray\" stroke-width=\"2\"/>\n",
    "  <text x=\"280\" y=\"30\" font-family=\"Arial\" font-size=\"16\" fill=\"gray\" font-weight=\"bold\">Program</text>\n",
    "  <text x=\"282\" y=\"60\" font-family=\"Arial\" font-size=\"14\" fill=\"gray\">main part</text>\n",
    "  <!-- Arrow -->\n",
    "  <line x1=\"380\" y1=\"35\" x2=\"430\" y2=\"35\" stroke=\"gray\" stroke-width=\"2\" marker-end=\"url(#arrowhead)\"/>\n",
    "  <!-- Output Box -->\n",
    "  <rect x=\"450\" y=\"5\" width=\"140\" height=\"70\" rx=\"20\" ry=\"20\" fill=\"none\" stroke=\"gray\" stroke-width=\"2\"/>\n",
    "  <text x=\"505\" y=\"30\" font-family=\"Arial\" font-size=\"16\" fill=\"gray\" font-weight=\"bold\">Out</text>\n",
    "  <text x=\"508\" y=\"60\" font-family=\"Arial\" font-size=\"14\" fill=\"gray\">text</text>\n",
    "  <!-- Arrowhead definition -->\n",
    "  <defs>\n",
    "    <marker id=\"arrowhead\" markerWidth=\"10\" markerHeight=\"7\" refX=\"0\" refY=\"3.5\" orient=\"auto\">\n",
    "      <polygon points=\"0 0, 10 3.5, 0 7\" fill=\"gray\"/>\n",
    "    </marker>\n",
    "  </defs>\n",
    "</svg>\n",
    "</div>"
   ]
  },
  {
   "cell_type": "markdown",
   "metadata": {},
   "source": [
    "- **spaces do not matter in python, but indentation does**\n",
    "- **python is case sensitive**"
   ]
  },
  {
   "cell_type": "markdown",
   "metadata": {},
   "source": [
    "Don't learn programming by reading. Learn by doing. First you should install some environment.\n",
    "<div class=\"alert alert-block alert-warning\">\n",
    "<ol>\n",
    "    <li>Download <strong>VS Code</strong>, use the official Microsoft or Mac store, for Linux use your favorite package manager.</li>\n",
    "    <li>Run the code above.</li>\n",
    "</ol>\n",
    "</div>\n",
    "\n",
    "Now do some minor edits to the code. Try to use the intuition and try to read the error messages.\n",
    "<div class=\"alert alert-block alert-warning\">\n",
    "<ol start=\"3\">\n",
    "    <li>Input number and add 1 to it. You will need to convert strings to numbers and vice versa to fix errors.</li>\n",
    "</ol>\n",
    "</div>"
   ]
  },
  {
   "cell_type": "markdown",
   "metadata": {},
   "source": [
    "<table style=\"width: 100%; height: 100%; border-collapse: collapse; border: none; table-layout: fixed; position: relative;\">\n",
    "  <tr style=\"height: 100%; border: none;\">\n",
    "    <td style=\"vertical-align: top; border: none; padding: 0; margin: 0; width: 200px;\">\n",
    "      <img src=\"../grug.jpeg\" alt=\"Grug\" style=\"width: 100%; height: auto; display: block;\">\n",
    "    </td>\n",
    "    <td style=\"vertical-align: top; border: none; padding: 0; margin: 0;\">\n",
    "      <blockquote style=\"height: 100%; display: flex; flex-direction: column; justify-content: center; margin: 0;\">\n",
    "        <p>\"Tool and control passion what separate grug from dinosaurs!\"</p>\n",
    "        <p>\"Grug say never be not improving tooling.\"</p>\n",
    "      </blockquote>\n",
    "    </td>\n",
    "  </tr>\n",
    "</table>\n",
    "<a href=\"https://grugbrain.dev/\" style=\"position: absolute; bottom: 10px; right: 10px;\">GrugBrain.dev</a>"
   ]
  },
  {
   "cell_type": "markdown",
   "metadata": {},
   "source": [
    "# Jupyter notebooks\n",
    "\n",
    "Jupyter notebooks are great for learning, so I use them. Therefore you should understand how they work.\n",
    "<div class=\"alert alert-block alert-warning\">\n",
    "<ol start=\"4\">\n",
    "    <li>Create .ipynb file and try to combine markdown with python blocks, so you understand how it works.</li>\n",
    "</ol>\n",
    "</div>"
   ]
  }
 ],
 "metadata": {
  "kernelspec": {
   "display_name": "Python 3",
   "language": "python",
   "name": "python3"
  },
  "language_info": {
   "codemirror_mode": {
    "name": "ipython",
    "version": 3
   },
   "file_extension": ".py",
   "mimetype": "text/x-python",
   "name": "python",
   "nbconvert_exporter": "python",
   "pygments_lexer": "ipython3",
   "version": "3.11.5"
  },
  "orig_nbformat": 4
 },
 "nbformat": 4,
 "nbformat_minor": 2
}
