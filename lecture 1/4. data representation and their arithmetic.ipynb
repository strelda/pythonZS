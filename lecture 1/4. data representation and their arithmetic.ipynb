{
 "cells": [
  {
   "cell_type": "markdown",
   "metadata": {},
   "source": [
    "# Arithmetic of numbers\n",
    "Floating point arithmetics, see [IEEE standard](https://docs.python.org/3/tutorial/floatingpoint.html) for details. We will discuss this later.\n",
    "\n",
    "- operations you know from calculators: +, -, *, /\n",
    "- power: **, pow (`2**3 = 8`, `pow(2,3) = 8`)\n",
    "- integer division: // (`5//2 = 2`)\n",
    "- modulo: % (`5%2 = 1`)\n",
    "- absolute value: abs()"
   ]
  },
  {
   "cell_type": "code",
   "execution_count": 3,
   "metadata": {},
   "outputs": [
    {
     "data": {
      "text/plain": [
       "0.3333333333333333"
      ]
     },
     "execution_count": 3,
     "metadata": {},
     "output_type": "execute_result"
    }
   ],
   "source": [
    "# numbers are stored only approximately\n",
    "1/3"
   ]
  },
  {
   "cell_type": "code",
   "execution_count": 1,
   "metadata": {},
   "outputs": [
    {
     "name": "stdout",
     "output_type": "stream",
     "text": [
      "-3\n",
      "-2\n"
     ]
    }
   ],
   "source": [
    "# beware the order of operations\n",
    "print( -7//3 )\n",
    "print(-(7//3))"
   ]
  },
  {
   "cell_type": "markdown",
   "metadata": {},
   "source": [
    "# Arithmetic of booleans\n",
    "There are two boolean values: `True` and `False`. You can combine them using **logical operators**:\n",
    "\n",
    "- and: and (`True and False = False`)\n",
    "- or: or (`True or False = True`)\n",
    "- not: not (`not True = False`)\n",
    "- equality: == (`True == False = False`)\n",
    "- inequality: != (`True != False = True`)"
   ]
  },
  {
   "cell_type": "code",
   "execution_count": 2,
   "metadata": {},
   "outputs": [
    {
     "data": {
      "text/plain": [
       "False"
      ]
     },
     "execution_count": 2,
     "metadata": {},
     "output_type": "execute_result"
    }
   ],
   "source": [
    "True and False"
   ]
  },
  {
   "cell_type": "markdown",
   "metadata": {},
   "source": [
    "# Arithmetic of strings\n",
    "- concatenation: + (`\"hello\" + \"world\" = \"helloworld\"`)\n",
    "- repetition: * (`\"hello\" * 3 = \"hellohellohello\"`)\n",
    "- slicing: [] (`\"hello\"[1:3] = \"el\"`)"
   ]
  },
  {
   "cell_type": "code",
   "execution_count": 5,
   "metadata": {},
   "outputs": [
    {
     "data": {
      "text/plain": [
       "'helloworld'"
      ]
     },
     "execution_count": 5,
     "metadata": {},
     "output_type": "execute_result"
    }
   ],
   "source": [
    "# type of quotes doesn't matter\n",
    "\"hello\" + 'world'"
   ]
  },
  {
   "cell_type": "markdown",
   "metadata": {},
   "source": [
    "---\n",
    "# Information and Data\n",
    "\n",
    "Information comes in all shapes and forms: colours, names, business letters, or conversations between people. Even though we could encode this kind of information as numbers, it would be a horrible idea. Just imagine remembering large tables of codes, such as 0 means “red” and 1 means “hello,” and the like. \n",
    "\n",
    "<div class=\"alert alert-block alert-info\">All programming languages comes with some build-in data types. </div>\n",
    "\n",
    "In Python these are\n",
    "- numbers\n",
    "    - int\n",
    "    - float\n",
    "    - complex\n",
    "- booleans\n",
    "- dictionaries\n",
    "- sets\n",
    "- sequence types\n",
    "    - lists\n",
    "    - tuples\n",
    "    - strings\n",
    "\n",
    "...and many more in another libraries. \n",
    "\n",
    "\n",
    "The true power will be unlocked, once we learn to create our own data types. \n",
    "\n",
    "<div class=\"alert alert-block alert-info\">\n",
    "Most programming languages provide at least one kind of data that deals with such symbolic information. In python we use *classes*. We will show how to do this soon.\n",
    "</div>\n",
    "\n"
   ]
  },
  {
   "cell_type": "markdown",
   "metadata": {},
   "source": [
    "---\n",
    "# Saving to variables\n",
    "- `a = 5`\n",
    "- `b = \"hello\"`\n",
    "- `c = True`"
   ]
  },
  {
   "cell_type": "code",
   "execution_count": 3,
   "metadata": {},
   "outputs": [
    {
     "name": "stdout",
     "output_type": "stream",
     "text": [
      "6\n"
     ]
    }
   ],
   "source": [
    "a=5\n",
    "b=a+1\n",
    "print(b)"
   ]
  },
  {
   "cell_type": "markdown",
   "metadata": {},
   "source": [
    "# Libraries\n",
    "- `import math`\n",
    "- `import math as m`\n",
    "- `from math import sqrt`\n",
    "- `from math import sqrt as s`\n",
    "- `from math import *` (not recommended for big projects!)"
   ]
  },
  {
   "cell_type": "code",
   "execution_count": 9,
   "metadata": {},
   "outputs": [
    {
     "name": "stdout",
     "output_type": "stream",
     "text": [
      "1.7320508075688772\n"
     ]
    }
   ],
   "source": [
    "import math\n",
    "print(math.sqrt(3))"
   ]
  },
  {
   "cell_type": "code",
   "execution_count": 10,
   "metadata": {},
   "outputs": [
    {
     "name": "stdout",
     "output_type": "stream",
     "text": [
      "Help on built-in function sin in module math:\n",
      "\n",
      "sin(x, /)\n",
      "    Return the sine of x (measured in radians).\n",
      "\n"
     ]
    }
   ],
   "source": [
    "help(math.sin)"
   ]
  },
  {
   "cell_type": "markdown",
   "metadata": {},
   "source": [
    "Or in VS code and other programs you can just hover your mouse over the function name. We will look into this the next lecture."
   ]
  },
  {
   "cell_type": "markdown",
   "metadata": {},
   "source": [
    "# Questions"
   ]
  },
  {
   "cell_type": "code",
   "execution_count": 11,
   "metadata": {},
   "outputs": [
    {
     "name": "stdout",
     "output_type": "stream",
     "text": [
      "False\n",
      "True\n",
      "True\n",
      "True\n",
      "True\n"
     ]
    }
   ],
   "source": [
    "x = math.pi\n",
    "\n",
    "print(x==3)\n",
    "print(x!=3)\n",
    "print(1 < x)\n",
    "print(1 < x < 4)\n",
    "print(1 < x and x < 4)"
   ]
  },
  {
   "cell_type": "markdown",
   "metadata": {},
   "source": [
    "Similarly, we can compare strings:"
   ]
  },
  {
   "cell_type": "code",
   "execution_count": 12,
   "metadata": {},
   "outputs": [
    {
     "name": "stdout",
     "output_type": "stream",
     "text": [
      "True\n",
      "True\n"
     ]
    }
   ],
   "source": [
    "print(\"hello\" != \"goodbye\")\n",
    "print(\"hello\" == \"hello\")"
   ]
  },
  {
   "cell_type": "code",
   "execution_count": 14,
   "metadata": {},
   "outputs": [
    {
     "name": "stdout",
     "output_type": "stream",
     "text": [
      "True\n",
      "False\n"
     ]
    }
   ],
   "source": [
    "print(isinstance(3, int))\n",
    "print(isinstance(3, float))"
   ]
  },
  {
   "cell_type": "markdown",
   "metadata": {},
   "source": [
    "## Example"
   ]
  },
  {
   "cell_type": "code",
   "execution_count": null,
   "metadata": {},
   "outputs": [],
   "source": [
    "# read two numbers from the user\n",
    "a = int(input())\n",
    "b = int(input())\n",
    "\n",
    "# print their sum\n",
    "print(a+b)"
   ]
  },
  {
   "cell_type": "markdown",
   "metadata": {},
   "source": [
    "<div class=\"alert alert-block alert-warning\">\n",
    " <ol>\n",
    "    <li>Use Python as a calculator, see what errors can you produce (divide by zero, use three arguments for `pow()` function,...)</li>\n",
    "    <li>Understand the asociativity (test it with power and multiplication).</li>\n",
    "    <li>Add strings with numbers, multiply strings with numbers...</li>\n",
    " </ol>\n",
    "</div>"
   ]
  },
  {
   "cell_type": "markdown",
   "metadata": {},
   "source": [
    "<div class=\"alert alert-block alert-warning\">\n",
    "<ol start=4>\n",
    "    <li> Go to <a href=\"https://recodex.mff.cuni.cz/\">ReCodEx</a> and submit your first assignment.</li>\n",
    "</ol>\n",
    "</div>"
   ]
  }
 ],
 "metadata": {
  "kernelspec": {
   "display_name": "Python 3",
   "language": "python",
   "name": "python3"
  },
  "language_info": {
   "codemirror_mode": {
    "name": "ipython",
    "version": 3
   },
   "file_extension": ".py",
   "mimetype": "text/x-python",
   "name": "python",
   "nbconvert_exporter": "python",
   "pygments_lexer": "ipython3",
   "version": "3.11.4"
  },
  "orig_nbformat": 4
 },
 "nbformat": 4,
 "nbformat_minor": 2
}
